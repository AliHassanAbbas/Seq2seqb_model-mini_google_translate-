{
  "nbformat": 4,
  "nbformat_minor": 0,
  "metadata": {
    "colab": {
      "provenance": [],
      "gpuType": "T4"
    },
    "kernelspec": {
      "name": "python3",
      "display_name": "Python 3"
    },
    "language_info": {
      "name": "python"
    },
    "widgets": {
      "application/vnd.jupyter.widget-state+json": {
        "be1dcfbe26264b78bfb217f2983c4881": {
          "model_module": "@jupyter-widgets/controls",
          "model_name": "HBoxModel",
          "model_module_version": "1.5.0",
          "state": {
            "_dom_classes": [],
            "_model_module": "@jupyter-widgets/controls",
            "_model_module_version": "1.5.0",
            "_model_name": "HBoxModel",
            "_view_count": null,
            "_view_module": "@jupyter-widgets/controls",
            "_view_module_version": "1.5.0",
            "_view_name": "HBoxView",
            "box_style": "",
            "children": [
              "IPY_MODEL_f7f5a73869154f6a84ff089fba11f714",
              "IPY_MODEL_04198d37522d425eabad618618c1c83e",
              "IPY_MODEL_9a026967093a49b8a3ce6d2e1bdc91f2"
            ],
            "layout": "IPY_MODEL_c9243e0c70f24a47a7034cf80da25c7e"
          }
        },
        "f7f5a73869154f6a84ff089fba11f714": {
          "model_module": "@jupyter-widgets/controls",
          "model_name": "HTMLModel",
          "model_module_version": "1.5.0",
          "state": {
            "_dom_classes": [],
            "_model_module": "@jupyter-widgets/controls",
            "_model_module_version": "1.5.0",
            "_model_name": "HTMLModel",
            "_view_count": null,
            "_view_module": "@jupyter-widgets/controls",
            "_view_module_version": "1.5.0",
            "_view_name": "HTMLView",
            "description": "",
            "description_tooltip": null,
            "layout": "IPY_MODEL_8e15fd065df749e5b995aaddb60e5ba7",
            "placeholder": "​",
            "style": "IPY_MODEL_9dd62e89d7694e509d843ed42d2a8814",
            "value": "Downloading readme: 100%"
          }
        },
        "04198d37522d425eabad618618c1c83e": {
          "model_module": "@jupyter-widgets/controls",
          "model_name": "FloatProgressModel",
          "model_module_version": "1.5.0",
          "state": {
            "_dom_classes": [],
            "_model_module": "@jupyter-widgets/controls",
            "_model_module_version": "1.5.0",
            "_model_name": "FloatProgressModel",
            "_view_count": null,
            "_view_module": "@jupyter-widgets/controls",
            "_view_module_version": "1.5.0",
            "_view_name": "ProgressView",
            "bar_style": "success",
            "description": "",
            "description_tooltip": null,
            "layout": "IPY_MODEL_f084aefac89746058cdaf8cfe8016129",
            "max": 1149,
            "min": 0,
            "orientation": "horizontal",
            "style": "IPY_MODEL_214099bfa9df4254953213732f30ac78",
            "value": 1149
          }
        },
        "9a026967093a49b8a3ce6d2e1bdc91f2": {
          "model_module": "@jupyter-widgets/controls",
          "model_name": "HTMLModel",
          "model_module_version": "1.5.0",
          "state": {
            "_dom_classes": [],
            "_model_module": "@jupyter-widgets/controls",
            "_model_module_version": "1.5.0",
            "_model_name": "HTMLModel",
            "_view_count": null,
            "_view_module": "@jupyter-widgets/controls",
            "_view_module_version": "1.5.0",
            "_view_name": "HTMLView",
            "description": "",
            "description_tooltip": null,
            "layout": "IPY_MODEL_9adac9c049a746d9aab41854226ebf6c",
            "placeholder": "​",
            "style": "IPY_MODEL_4c07cd7c11804a8a9dc063c04be84c87",
            "value": " 1.15k/1.15k [00:00&lt;00:00, 58.2kB/s]"
          }
        },
        "c9243e0c70f24a47a7034cf80da25c7e": {
          "model_module": "@jupyter-widgets/base",
          "model_name": "LayoutModel",
          "model_module_version": "1.2.0",
          "state": {
            "_model_module": "@jupyter-widgets/base",
            "_model_module_version": "1.2.0",
            "_model_name": "LayoutModel",
            "_view_count": null,
            "_view_module": "@jupyter-widgets/base",
            "_view_module_version": "1.2.0",
            "_view_name": "LayoutView",
            "align_content": null,
            "align_items": null,
            "align_self": null,
            "border": null,
            "bottom": null,
            "display": null,
            "flex": null,
            "flex_flow": null,
            "grid_area": null,
            "grid_auto_columns": null,
            "grid_auto_flow": null,
            "grid_auto_rows": null,
            "grid_column": null,
            "grid_gap": null,
            "grid_row": null,
            "grid_template_areas": null,
            "grid_template_columns": null,
            "grid_template_rows": null,
            "height": null,
            "justify_content": null,
            "justify_items": null,
            "left": null,
            "margin": null,
            "max_height": null,
            "max_width": null,
            "min_height": null,
            "min_width": null,
            "object_fit": null,
            "object_position": null,
            "order": null,
            "overflow": null,
            "overflow_x": null,
            "overflow_y": null,
            "padding": null,
            "right": null,
            "top": null,
            "visibility": null,
            "width": null
          }
        },
        "8e15fd065df749e5b995aaddb60e5ba7": {
          "model_module": "@jupyter-widgets/base",
          "model_name": "LayoutModel",
          "model_module_version": "1.2.0",
          "state": {
            "_model_module": "@jupyter-widgets/base",
            "_model_module_version": "1.2.0",
            "_model_name": "LayoutModel",
            "_view_count": null,
            "_view_module": "@jupyter-widgets/base",
            "_view_module_version": "1.2.0",
            "_view_name": "LayoutView",
            "align_content": null,
            "align_items": null,
            "align_self": null,
            "border": null,
            "bottom": null,
            "display": null,
            "flex": null,
            "flex_flow": null,
            "grid_area": null,
            "grid_auto_columns": null,
            "grid_auto_flow": null,
            "grid_auto_rows": null,
            "grid_column": null,
            "grid_gap": null,
            "grid_row": null,
            "grid_template_areas": null,
            "grid_template_columns": null,
            "grid_template_rows": null,
            "height": null,
            "justify_content": null,
            "justify_items": null,
            "left": null,
            "margin": null,
            "max_height": null,
            "max_width": null,
            "min_height": null,
            "min_width": null,
            "object_fit": null,
            "object_position": null,
            "order": null,
            "overflow": null,
            "overflow_x": null,
            "overflow_y": null,
            "padding": null,
            "right": null,
            "top": null,
            "visibility": null,
            "width": null
          }
        },
        "9dd62e89d7694e509d843ed42d2a8814": {
          "model_module": "@jupyter-widgets/controls",
          "model_name": "DescriptionStyleModel",
          "model_module_version": "1.5.0",
          "state": {
            "_model_module": "@jupyter-widgets/controls",
            "_model_module_version": "1.5.0",
            "_model_name": "DescriptionStyleModel",
            "_view_count": null,
            "_view_module": "@jupyter-widgets/base",
            "_view_module_version": "1.2.0",
            "_view_name": "StyleView",
            "description_width": ""
          }
        },
        "f084aefac89746058cdaf8cfe8016129": {
          "model_module": "@jupyter-widgets/base",
          "model_name": "LayoutModel",
          "model_module_version": "1.2.0",
          "state": {
            "_model_module": "@jupyter-widgets/base",
            "_model_module_version": "1.2.0",
            "_model_name": "LayoutModel",
            "_view_count": null,
            "_view_module": "@jupyter-widgets/base",
            "_view_module_version": "1.2.0",
            "_view_name": "LayoutView",
            "align_content": null,
            "align_items": null,
            "align_self": null,
            "border": null,
            "bottom": null,
            "display": null,
            "flex": null,
            "flex_flow": null,
            "grid_area": null,
            "grid_auto_columns": null,
            "grid_auto_flow": null,
            "grid_auto_rows": null,
            "grid_column": null,
            "grid_gap": null,
            "grid_row": null,
            "grid_template_areas": null,
            "grid_template_columns": null,
            "grid_template_rows": null,
            "height": null,
            "justify_content": null,
            "justify_items": null,
            "left": null,
            "margin": null,
            "max_height": null,
            "max_width": null,
            "min_height": null,
            "min_width": null,
            "object_fit": null,
            "object_position": null,
            "order": null,
            "overflow": null,
            "overflow_x": null,
            "overflow_y": null,
            "padding": null,
            "right": null,
            "top": null,
            "visibility": null,
            "width": null
          }
        },
        "214099bfa9df4254953213732f30ac78": {
          "model_module": "@jupyter-widgets/controls",
          "model_name": "ProgressStyleModel",
          "model_module_version": "1.5.0",
          "state": {
            "_model_module": "@jupyter-widgets/controls",
            "_model_module_version": "1.5.0",
            "_model_name": "ProgressStyleModel",
            "_view_count": null,
            "_view_module": "@jupyter-widgets/base",
            "_view_module_version": "1.2.0",
            "_view_name": "StyleView",
            "bar_color": null,
            "description_width": ""
          }
        },
        "9adac9c049a746d9aab41854226ebf6c": {
          "model_module": "@jupyter-widgets/base",
          "model_name": "LayoutModel",
          "model_module_version": "1.2.0",
          "state": {
            "_model_module": "@jupyter-widgets/base",
            "_model_module_version": "1.2.0",
            "_model_name": "LayoutModel",
            "_view_count": null,
            "_view_module": "@jupyter-widgets/base",
            "_view_module_version": "1.2.0",
            "_view_name": "LayoutView",
            "align_content": null,
            "align_items": null,
            "align_self": null,
            "border": null,
            "bottom": null,
            "display": null,
            "flex": null,
            "flex_flow": null,
            "grid_area": null,
            "grid_auto_columns": null,
            "grid_auto_flow": null,
            "grid_auto_rows": null,
            "grid_column": null,
            "grid_gap": null,
            "grid_row": null,
            "grid_template_areas": null,
            "grid_template_columns": null,
            "grid_template_rows": null,
            "height": null,
            "justify_content": null,
            "justify_items": null,
            "left": null,
            "margin": null,
            "max_height": null,
            "max_width": null,
            "min_height": null,
            "min_width": null,
            "object_fit": null,
            "object_position": null,
            "order": null,
            "overflow": null,
            "overflow_x": null,
            "overflow_y": null,
            "padding": null,
            "right": null,
            "top": null,
            "visibility": null,
            "width": null
          }
        },
        "4c07cd7c11804a8a9dc063c04be84c87": {
          "model_module": "@jupyter-widgets/controls",
          "model_name": "DescriptionStyleModel",
          "model_module_version": "1.5.0",
          "state": {
            "_model_module": "@jupyter-widgets/controls",
            "_model_module_version": "1.5.0",
            "_model_name": "DescriptionStyleModel",
            "_view_count": null,
            "_view_module": "@jupyter-widgets/base",
            "_view_module_version": "1.2.0",
            "_view_name": "StyleView",
            "description_width": ""
          }
        },
        "e4a1232c99b2430493aa01bfeae4da70": {
          "model_module": "@jupyter-widgets/controls",
          "model_name": "HBoxModel",
          "model_module_version": "1.5.0",
          "state": {
            "_dom_classes": [],
            "_model_module": "@jupyter-widgets/controls",
            "_model_module_version": "1.5.0",
            "_model_name": "HBoxModel",
            "_view_count": null,
            "_view_module": "@jupyter-widgets/controls",
            "_view_module_version": "1.5.0",
            "_view_name": "HBoxView",
            "box_style": "",
            "children": [
              "IPY_MODEL_76c2fbb3ba14442f95387443d29e9ef8",
              "IPY_MODEL_59de271d0da24da490e1f2604c8b9d49",
              "IPY_MODEL_f7eff97f274f4f1ead40d080121e86a6"
            ],
            "layout": "IPY_MODEL_43d02d10281749a7bdeb3ac221016b59"
          }
        },
        "76c2fbb3ba14442f95387443d29e9ef8": {
          "model_module": "@jupyter-widgets/controls",
          "model_name": "HTMLModel",
          "model_module_version": "1.5.0",
          "state": {
            "_dom_classes": [],
            "_model_module": "@jupyter-widgets/controls",
            "_model_module_version": "1.5.0",
            "_model_name": "HTMLModel",
            "_view_count": null,
            "_view_module": "@jupyter-widgets/controls",
            "_view_module_version": "1.5.0",
            "_view_name": "HTMLView",
            "description": "",
            "description_tooltip": null,
            "layout": "IPY_MODEL_753e0399d68545bbbd14460a7f227412",
            "placeholder": "​",
            "style": "IPY_MODEL_2de9f4af811f440887f0b0f259ff1120",
            "value": "Downloading data: 100%"
          }
        },
        "59de271d0da24da490e1f2604c8b9d49": {
          "model_module": "@jupyter-widgets/controls",
          "model_name": "FloatProgressModel",
          "model_module_version": "1.5.0",
          "state": {
            "_dom_classes": [],
            "_model_module": "@jupyter-widgets/controls",
            "_model_module_version": "1.5.0",
            "_model_name": "FloatProgressModel",
            "_view_count": null,
            "_view_module": "@jupyter-widgets/controls",
            "_view_module_version": "1.5.0",
            "_view_name": "ProgressView",
            "bar_style": "success",
            "description": "",
            "description_tooltip": null,
            "layout": "IPY_MODEL_f9cc7a37b4a549679f8aa7734fec664f",
            "max": 4598515,
            "min": 0,
            "orientation": "horizontal",
            "style": "IPY_MODEL_f571b64dad3f45a4b5d5f089571d396a",
            "value": 4598515
          }
        },
        "f7eff97f274f4f1ead40d080121e86a6": {
          "model_module": "@jupyter-widgets/controls",
          "model_name": "HTMLModel",
          "model_module_version": "1.5.0",
          "state": {
            "_dom_classes": [],
            "_model_module": "@jupyter-widgets/controls",
            "_model_module_version": "1.5.0",
            "_model_name": "HTMLModel",
            "_view_count": null,
            "_view_module": "@jupyter-widgets/controls",
            "_view_module_version": "1.5.0",
            "_view_name": "HTMLView",
            "description": "",
            "description_tooltip": null,
            "layout": "IPY_MODEL_cd4b2f5d62f8440cbb43fc08ae23373e",
            "placeholder": "​",
            "style": "IPY_MODEL_975fde06103f4ddbb1b6b4bcb0b7f499",
            "value": " 4.60M/4.60M [00:00&lt;00:00, 4.77MB/s]"
          }
        },
        "43d02d10281749a7bdeb3ac221016b59": {
          "model_module": "@jupyter-widgets/base",
          "model_name": "LayoutModel",
          "model_module_version": "1.2.0",
          "state": {
            "_model_module": "@jupyter-widgets/base",
            "_model_module_version": "1.2.0",
            "_model_name": "LayoutModel",
            "_view_count": null,
            "_view_module": "@jupyter-widgets/base",
            "_view_module_version": "1.2.0",
            "_view_name": "LayoutView",
            "align_content": null,
            "align_items": null,
            "align_self": null,
            "border": null,
            "bottom": null,
            "display": null,
            "flex": null,
            "flex_flow": null,
            "grid_area": null,
            "grid_auto_columns": null,
            "grid_auto_flow": null,
            "grid_auto_rows": null,
            "grid_column": null,
            "grid_gap": null,
            "grid_row": null,
            "grid_template_areas": null,
            "grid_template_columns": null,
            "grid_template_rows": null,
            "height": null,
            "justify_content": null,
            "justify_items": null,
            "left": null,
            "margin": null,
            "max_height": null,
            "max_width": null,
            "min_height": null,
            "min_width": null,
            "object_fit": null,
            "object_position": null,
            "order": null,
            "overflow": null,
            "overflow_x": null,
            "overflow_y": null,
            "padding": null,
            "right": null,
            "top": null,
            "visibility": null,
            "width": null
          }
        },
        "753e0399d68545bbbd14460a7f227412": {
          "model_module": "@jupyter-widgets/base",
          "model_name": "LayoutModel",
          "model_module_version": "1.2.0",
          "state": {
            "_model_module": "@jupyter-widgets/base",
            "_model_module_version": "1.2.0",
            "_model_name": "LayoutModel",
            "_view_count": null,
            "_view_module": "@jupyter-widgets/base",
            "_view_module_version": "1.2.0",
            "_view_name": "LayoutView",
            "align_content": null,
            "align_items": null,
            "align_self": null,
            "border": null,
            "bottom": null,
            "display": null,
            "flex": null,
            "flex_flow": null,
            "grid_area": null,
            "grid_auto_columns": null,
            "grid_auto_flow": null,
            "grid_auto_rows": null,
            "grid_column": null,
            "grid_gap": null,
            "grid_row": null,
            "grid_template_areas": null,
            "grid_template_columns": null,
            "grid_template_rows": null,
            "height": null,
            "justify_content": null,
            "justify_items": null,
            "left": null,
            "margin": null,
            "max_height": null,
            "max_width": null,
            "min_height": null,
            "min_width": null,
            "object_fit": null,
            "object_position": null,
            "order": null,
            "overflow": null,
            "overflow_x": null,
            "overflow_y": null,
            "padding": null,
            "right": null,
            "top": null,
            "visibility": null,
            "width": null
          }
        },
        "2de9f4af811f440887f0b0f259ff1120": {
          "model_module": "@jupyter-widgets/controls",
          "model_name": "DescriptionStyleModel",
          "model_module_version": "1.5.0",
          "state": {
            "_model_module": "@jupyter-widgets/controls",
            "_model_module_version": "1.5.0",
            "_model_name": "DescriptionStyleModel",
            "_view_count": null,
            "_view_module": "@jupyter-widgets/base",
            "_view_module_version": "1.2.0",
            "_view_name": "StyleView",
            "description_width": ""
          }
        },
        "f9cc7a37b4a549679f8aa7734fec664f": {
          "model_module": "@jupyter-widgets/base",
          "model_name": "LayoutModel",
          "model_module_version": "1.2.0",
          "state": {
            "_model_module": "@jupyter-widgets/base",
            "_model_module_version": "1.2.0",
            "_model_name": "LayoutModel",
            "_view_count": null,
            "_view_module": "@jupyter-widgets/base",
            "_view_module_version": "1.2.0",
            "_view_name": "LayoutView",
            "align_content": null,
            "align_items": null,
            "align_self": null,
            "border": null,
            "bottom": null,
            "display": null,
            "flex": null,
            "flex_flow": null,
            "grid_area": null,
            "grid_auto_columns": null,
            "grid_auto_flow": null,
            "grid_auto_rows": null,
            "grid_column": null,
            "grid_gap": null,
            "grid_row": null,
            "grid_template_areas": null,
            "grid_template_columns": null,
            "grid_template_rows": null,
            "height": null,
            "justify_content": null,
            "justify_items": null,
            "left": null,
            "margin": null,
            "max_height": null,
            "max_width": null,
            "min_height": null,
            "min_width": null,
            "object_fit": null,
            "object_position": null,
            "order": null,
            "overflow": null,
            "overflow_x": null,
            "overflow_y": null,
            "padding": null,
            "right": null,
            "top": null,
            "visibility": null,
            "width": null
          }
        },
        "f571b64dad3f45a4b5d5f089571d396a": {
          "model_module": "@jupyter-widgets/controls",
          "model_name": "ProgressStyleModel",
          "model_module_version": "1.5.0",
          "state": {
            "_model_module": "@jupyter-widgets/controls",
            "_model_module_version": "1.5.0",
            "_model_name": "ProgressStyleModel",
            "_view_count": null,
            "_view_module": "@jupyter-widgets/base",
            "_view_module_version": "1.2.0",
            "_view_name": "StyleView",
            "bar_color": null,
            "description_width": ""
          }
        },
        "cd4b2f5d62f8440cbb43fc08ae23373e": {
          "model_module": "@jupyter-widgets/base",
          "model_name": "LayoutModel",
          "model_module_version": "1.2.0",
          "state": {
            "_model_module": "@jupyter-widgets/base",
            "_model_module_version": "1.2.0",
            "_model_name": "LayoutModel",
            "_view_count": null,
            "_view_module": "@jupyter-widgets/base",
            "_view_module_version": "1.2.0",
            "_view_name": "LayoutView",
            "align_content": null,
            "align_items": null,
            "align_self": null,
            "border": null,
            "bottom": null,
            "display": null,
            "flex": null,
            "flex_flow": null,
            "grid_area": null,
            "grid_auto_columns": null,
            "grid_auto_flow": null,
            "grid_auto_rows": null,
            "grid_column": null,
            "grid_gap": null,
            "grid_row": null,
            "grid_template_areas": null,
            "grid_template_columns": null,
            "grid_template_rows": null,
            "height": null,
            "justify_content": null,
            "justify_items": null,
            "left": null,
            "margin": null,
            "max_height": null,
            "max_width": null,
            "min_height": null,
            "min_width": null,
            "object_fit": null,
            "object_position": null,
            "order": null,
            "overflow": null,
            "overflow_x": null,
            "overflow_y": null,
            "padding": null,
            "right": null,
            "top": null,
            "visibility": null,
            "width": null
          }
        },
        "975fde06103f4ddbb1b6b4bcb0b7f499": {
          "model_module": "@jupyter-widgets/controls",
          "model_name": "DescriptionStyleModel",
          "model_module_version": "1.5.0",
          "state": {
            "_model_module": "@jupyter-widgets/controls",
            "_model_module_version": "1.5.0",
            "_model_name": "DescriptionStyleModel",
            "_view_count": null,
            "_view_module": "@jupyter-widgets/base",
            "_view_module_version": "1.2.0",
            "_view_name": "StyleView",
            "description_width": ""
          }
        },
        "c6d6c5635f8646d1b928de1a99803116": {
          "model_module": "@jupyter-widgets/controls",
          "model_name": "HBoxModel",
          "model_module_version": "1.5.0",
          "state": {
            "_dom_classes": [],
            "_model_module": "@jupyter-widgets/controls",
            "_model_module_version": "1.5.0",
            "_model_name": "HBoxModel",
            "_view_count": null,
            "_view_module": "@jupyter-widgets/controls",
            "_view_module_version": "1.5.0",
            "_view_name": "HBoxView",
            "box_style": "",
            "children": [
              "IPY_MODEL_c92abb113a2245e3aba2c7f189f04fb6",
              "IPY_MODEL_cf295f78fe2a4a859f9e85bd30a8fc87",
              "IPY_MODEL_a1fe34b80d6b4a23baa319e679890b4c"
            ],
            "layout": "IPY_MODEL_2475cf804bd144d7ae9a16536946e0fd"
          }
        },
        "c92abb113a2245e3aba2c7f189f04fb6": {
          "model_module": "@jupyter-widgets/controls",
          "model_name": "HTMLModel",
          "model_module_version": "1.5.0",
          "state": {
            "_dom_classes": [],
            "_model_module": "@jupyter-widgets/controls",
            "_model_module_version": "1.5.0",
            "_model_name": "HTMLModel",
            "_view_count": null,
            "_view_module": "@jupyter-widgets/controls",
            "_view_module_version": "1.5.0",
            "_view_name": "HTMLView",
            "description": "",
            "description_tooltip": null,
            "layout": "IPY_MODEL_ff9e8252e6ab4a6096c27c2194a5d707",
            "placeholder": "​",
            "style": "IPY_MODEL_b912b0f24f2e45bab4d89156d517f97b",
            "value": "Downloading data: 100%"
          }
        },
        "cf295f78fe2a4a859f9e85bd30a8fc87": {
          "model_module": "@jupyter-widgets/controls",
          "model_name": "FloatProgressModel",
          "model_module_version": "1.5.0",
          "state": {
            "_dom_classes": [],
            "_model_module": "@jupyter-widgets/controls",
            "_model_module_version": "1.5.0",
            "_model_name": "FloatProgressModel",
            "_view_count": null,
            "_view_module": "@jupyter-widgets/controls",
            "_view_module_version": "1.5.0",
            "_view_name": "ProgressView",
            "bar_style": "success",
            "description": "",
            "description_tooltip": null,
            "layout": "IPY_MODEL_3f141a50d9a1493faf6af9f6bbc30990",
            "max": 163562,
            "min": 0,
            "orientation": "horizontal",
            "style": "IPY_MODEL_e7b8aa3671884dea9ab196d4e14cc8c5",
            "value": 163562
          }
        },
        "a1fe34b80d6b4a23baa319e679890b4c": {
          "model_module": "@jupyter-widgets/controls",
          "model_name": "HTMLModel",
          "model_module_version": "1.5.0",
          "state": {
            "_dom_classes": [],
            "_model_module": "@jupyter-widgets/controls",
            "_model_module_version": "1.5.0",
            "_model_name": "HTMLModel",
            "_view_count": null,
            "_view_module": "@jupyter-widgets/controls",
            "_view_module_version": "1.5.0",
            "_view_name": "HTMLView",
            "description": "",
            "description_tooltip": null,
            "layout": "IPY_MODEL_32bf5a849b2b44ce98ef91b294329ca5",
            "placeholder": "​",
            "style": "IPY_MODEL_857a0e762221437f9391ffdc24471ec2",
            "value": " 164k/164k [00:00&lt;00:00, 607kB/s]"
          }
        },
        "2475cf804bd144d7ae9a16536946e0fd": {
          "model_module": "@jupyter-widgets/base",
          "model_name": "LayoutModel",
          "model_module_version": "1.2.0",
          "state": {
            "_model_module": "@jupyter-widgets/base",
            "_model_module_version": "1.2.0",
            "_model_name": "LayoutModel",
            "_view_count": null,
            "_view_module": "@jupyter-widgets/base",
            "_view_module_version": "1.2.0",
            "_view_name": "LayoutView",
            "align_content": null,
            "align_items": null,
            "align_self": null,
            "border": null,
            "bottom": null,
            "display": null,
            "flex": null,
            "flex_flow": null,
            "grid_area": null,
            "grid_auto_columns": null,
            "grid_auto_flow": null,
            "grid_auto_rows": null,
            "grid_column": null,
            "grid_gap": null,
            "grid_row": null,
            "grid_template_areas": null,
            "grid_template_columns": null,
            "grid_template_rows": null,
            "height": null,
            "justify_content": null,
            "justify_items": null,
            "left": null,
            "margin": null,
            "max_height": null,
            "max_width": null,
            "min_height": null,
            "min_width": null,
            "object_fit": null,
            "object_position": null,
            "order": null,
            "overflow": null,
            "overflow_x": null,
            "overflow_y": null,
            "padding": null,
            "right": null,
            "top": null,
            "visibility": null,
            "width": null
          }
        },
        "ff9e8252e6ab4a6096c27c2194a5d707": {
          "model_module": "@jupyter-widgets/base",
          "model_name": "LayoutModel",
          "model_module_version": "1.2.0",
          "state": {
            "_model_module": "@jupyter-widgets/base",
            "_model_module_version": "1.2.0",
            "_model_name": "LayoutModel",
            "_view_count": null,
            "_view_module": "@jupyter-widgets/base",
            "_view_module_version": "1.2.0",
            "_view_name": "LayoutView",
            "align_content": null,
            "align_items": null,
            "align_self": null,
            "border": null,
            "bottom": null,
            "display": null,
            "flex": null,
            "flex_flow": null,
            "grid_area": null,
            "grid_auto_columns": null,
            "grid_auto_flow": null,
            "grid_auto_rows": null,
            "grid_column": null,
            "grid_gap": null,
            "grid_row": null,
            "grid_template_areas": null,
            "grid_template_columns": null,
            "grid_template_rows": null,
            "height": null,
            "justify_content": null,
            "justify_items": null,
            "left": null,
            "margin": null,
            "max_height": null,
            "max_width": null,
            "min_height": null,
            "min_width": null,
            "object_fit": null,
            "object_position": null,
            "order": null,
            "overflow": null,
            "overflow_x": null,
            "overflow_y": null,
            "padding": null,
            "right": null,
            "top": null,
            "visibility": null,
            "width": null
          }
        },
        "b912b0f24f2e45bab4d89156d517f97b": {
          "model_module": "@jupyter-widgets/controls",
          "model_name": "DescriptionStyleModel",
          "model_module_version": "1.5.0",
          "state": {
            "_model_module": "@jupyter-widgets/controls",
            "_model_module_version": "1.5.0",
            "_model_name": "DescriptionStyleModel",
            "_view_count": null,
            "_view_module": "@jupyter-widgets/base",
            "_view_module_version": "1.2.0",
            "_view_name": "StyleView",
            "description_width": ""
          }
        },
        "3f141a50d9a1493faf6af9f6bbc30990": {
          "model_module": "@jupyter-widgets/base",
          "model_name": "LayoutModel",
          "model_module_version": "1.2.0",
          "state": {
            "_model_module": "@jupyter-widgets/base",
            "_model_module_version": "1.2.0",
            "_model_name": "LayoutModel",
            "_view_count": null,
            "_view_module": "@jupyter-widgets/base",
            "_view_module_version": "1.2.0",
            "_view_name": "LayoutView",
            "align_content": null,
            "align_items": null,
            "align_self": null,
            "border": null,
            "bottom": null,
            "display": null,
            "flex": null,
            "flex_flow": null,
            "grid_area": null,
            "grid_auto_columns": null,
            "grid_auto_flow": null,
            "grid_auto_rows": null,
            "grid_column": null,
            "grid_gap": null,
            "grid_row": null,
            "grid_template_areas": null,
            "grid_template_columns": null,
            "grid_template_rows": null,
            "height": null,
            "justify_content": null,
            "justify_items": null,
            "left": null,
            "margin": null,
            "max_height": null,
            "max_width": null,
            "min_height": null,
            "min_width": null,
            "object_fit": null,
            "object_position": null,
            "order": null,
            "overflow": null,
            "overflow_x": null,
            "overflow_y": null,
            "padding": null,
            "right": null,
            "top": null,
            "visibility": null,
            "width": null
          }
        },
        "e7b8aa3671884dea9ab196d4e14cc8c5": {
          "model_module": "@jupyter-widgets/controls",
          "model_name": "ProgressStyleModel",
          "model_module_version": "1.5.0",
          "state": {
            "_model_module": "@jupyter-widgets/controls",
            "_model_module_version": "1.5.0",
            "_model_name": "ProgressStyleModel",
            "_view_count": null,
            "_view_module": "@jupyter-widgets/base",
            "_view_module_version": "1.2.0",
            "_view_name": "StyleView",
            "bar_color": null,
            "description_width": ""
          }
        },
        "32bf5a849b2b44ce98ef91b294329ca5": {
          "model_module": "@jupyter-widgets/base",
          "model_name": "LayoutModel",
          "model_module_version": "1.2.0",
          "state": {
            "_model_module": "@jupyter-widgets/base",
            "_model_module_version": "1.2.0",
            "_model_name": "LayoutModel",
            "_view_count": null,
            "_view_module": "@jupyter-widgets/base",
            "_view_module_version": "1.2.0",
            "_view_name": "LayoutView",
            "align_content": null,
            "align_items": null,
            "align_self": null,
            "border": null,
            "bottom": null,
            "display": null,
            "flex": null,
            "flex_flow": null,
            "grid_area": null,
            "grid_auto_columns": null,
            "grid_auto_flow": null,
            "grid_auto_rows": null,
            "grid_column": null,
            "grid_gap": null,
            "grid_row": null,
            "grid_template_areas": null,
            "grid_template_columns": null,
            "grid_template_rows": null,
            "height": null,
            "justify_content": null,
            "justify_items": null,
            "left": null,
            "margin": null,
            "max_height": null,
            "max_width": null,
            "min_height": null,
            "min_width": null,
            "object_fit": null,
            "object_position": null,
            "order": null,
            "overflow": null,
            "overflow_x": null,
            "overflow_y": null,
            "padding": null,
            "right": null,
            "top": null,
            "visibility": null,
            "width": null
          }
        },
        "857a0e762221437f9391ffdc24471ec2": {
          "model_module": "@jupyter-widgets/controls",
          "model_name": "DescriptionStyleModel",
          "model_module_version": "1.5.0",
          "state": {
            "_model_module": "@jupyter-widgets/controls",
            "_model_module_version": "1.5.0",
            "_model_name": "DescriptionStyleModel",
            "_view_count": null,
            "_view_module": "@jupyter-widgets/base",
            "_view_module_version": "1.2.0",
            "_view_name": "StyleView",
            "description_width": ""
          }
        },
        "9c90bd8922954417b47101cda41a34f1": {
          "model_module": "@jupyter-widgets/controls",
          "model_name": "HBoxModel",
          "model_module_version": "1.5.0",
          "state": {
            "_dom_classes": [],
            "_model_module": "@jupyter-widgets/controls",
            "_model_module_version": "1.5.0",
            "_model_name": "HBoxModel",
            "_view_count": null,
            "_view_module": "@jupyter-widgets/controls",
            "_view_module_version": "1.5.0",
            "_view_name": "HBoxView",
            "box_style": "",
            "children": [
              "IPY_MODEL_46ed46589a084aa5b181f29ff6588a70",
              "IPY_MODEL_41a89c609dce43fdba36f0355485fb97",
              "IPY_MODEL_b228c48cd62b400d85b59c61d15e6857"
            ],
            "layout": "IPY_MODEL_14c0879498264ed7bbe4964ccf281c47"
          }
        },
        "46ed46589a084aa5b181f29ff6588a70": {
          "model_module": "@jupyter-widgets/controls",
          "model_name": "HTMLModel",
          "model_module_version": "1.5.0",
          "state": {
            "_dom_classes": [],
            "_model_module": "@jupyter-widgets/controls",
            "_model_module_version": "1.5.0",
            "_model_name": "HTMLModel",
            "_view_count": null,
            "_view_module": "@jupyter-widgets/controls",
            "_view_module_version": "1.5.0",
            "_view_name": "HTMLView",
            "description": "",
            "description_tooltip": null,
            "layout": "IPY_MODEL_49b8fcd84d1a40acaef136e552d4ef41",
            "placeholder": "​",
            "style": "IPY_MODEL_01062a151e8b4424b462cdb7c8068909",
            "value": "Downloading data: 100%"
          }
        },
        "41a89c609dce43fdba36f0355485fb97": {
          "model_module": "@jupyter-widgets/controls",
          "model_name": "FloatProgressModel",
          "model_module_version": "1.5.0",
          "state": {
            "_dom_classes": [],
            "_model_module": "@jupyter-widgets/controls",
            "_model_module_version": "1.5.0",
            "_model_name": "FloatProgressModel",
            "_view_count": null,
            "_view_module": "@jupyter-widgets/controls",
            "_view_module_version": "1.5.0",
            "_view_name": "ProgressView",
            "bar_style": "success",
            "description": "",
            "description_tooltip": null,
            "layout": "IPY_MODEL_bf37a5e6778d402d85144bc25dcee431",
            "max": 156307,
            "min": 0,
            "orientation": "horizontal",
            "style": "IPY_MODEL_047f549c7f384796950df95af7825c36",
            "value": 156307
          }
        },
        "b228c48cd62b400d85b59c61d15e6857": {
          "model_module": "@jupyter-widgets/controls",
          "model_name": "HTMLModel",
          "model_module_version": "1.5.0",
          "state": {
            "_dom_classes": [],
            "_model_module": "@jupyter-widgets/controls",
            "_model_module_version": "1.5.0",
            "_model_name": "HTMLModel",
            "_view_count": null,
            "_view_module": "@jupyter-widgets/controls",
            "_view_module_version": "1.5.0",
            "_view_name": "HTMLView",
            "description": "",
            "description_tooltip": null,
            "layout": "IPY_MODEL_ba175d29d4b54fd0b585a71713d45ac7",
            "placeholder": "​",
            "style": "IPY_MODEL_467eac029b2f4ceca925193a296346f8",
            "value": " 156k/156k [00:00&lt;00:00, 576kB/s]"
          }
        },
        "14c0879498264ed7bbe4964ccf281c47": {
          "model_module": "@jupyter-widgets/base",
          "model_name": "LayoutModel",
          "model_module_version": "1.2.0",
          "state": {
            "_model_module": "@jupyter-widgets/base",
            "_model_module_version": "1.2.0",
            "_model_name": "LayoutModel",
            "_view_count": null,
            "_view_module": "@jupyter-widgets/base",
            "_view_module_version": "1.2.0",
            "_view_name": "LayoutView",
            "align_content": null,
            "align_items": null,
            "align_self": null,
            "border": null,
            "bottom": null,
            "display": null,
            "flex": null,
            "flex_flow": null,
            "grid_area": null,
            "grid_auto_columns": null,
            "grid_auto_flow": null,
            "grid_auto_rows": null,
            "grid_column": null,
            "grid_gap": null,
            "grid_row": null,
            "grid_template_areas": null,
            "grid_template_columns": null,
            "grid_template_rows": null,
            "height": null,
            "justify_content": null,
            "justify_items": null,
            "left": null,
            "margin": null,
            "max_height": null,
            "max_width": null,
            "min_height": null,
            "min_width": null,
            "object_fit": null,
            "object_position": null,
            "order": null,
            "overflow": null,
            "overflow_x": null,
            "overflow_y": null,
            "padding": null,
            "right": null,
            "top": null,
            "visibility": null,
            "width": null
          }
        },
        "49b8fcd84d1a40acaef136e552d4ef41": {
          "model_module": "@jupyter-widgets/base",
          "model_name": "LayoutModel",
          "model_module_version": "1.2.0",
          "state": {
            "_model_module": "@jupyter-widgets/base",
            "_model_module_version": "1.2.0",
            "_model_name": "LayoutModel",
            "_view_count": null,
            "_view_module": "@jupyter-widgets/base",
            "_view_module_version": "1.2.0",
            "_view_name": "LayoutView",
            "align_content": null,
            "align_items": null,
            "align_self": null,
            "border": null,
            "bottom": null,
            "display": null,
            "flex": null,
            "flex_flow": null,
            "grid_area": null,
            "grid_auto_columns": null,
            "grid_auto_flow": null,
            "grid_auto_rows": null,
            "grid_column": null,
            "grid_gap": null,
            "grid_row": null,
            "grid_template_areas": null,
            "grid_template_columns": null,
            "grid_template_rows": null,
            "height": null,
            "justify_content": null,
            "justify_items": null,
            "left": null,
            "margin": null,
            "max_height": null,
            "max_width": null,
            "min_height": null,
            "min_width": null,
            "object_fit": null,
            "object_position": null,
            "order": null,
            "overflow": null,
            "overflow_x": null,
            "overflow_y": null,
            "padding": null,
            "right": null,
            "top": null,
            "visibility": null,
            "width": null
          }
        },
        "01062a151e8b4424b462cdb7c8068909": {
          "model_module": "@jupyter-widgets/controls",
          "model_name": "DescriptionStyleModel",
          "model_module_version": "1.5.0",
          "state": {
            "_model_module": "@jupyter-widgets/controls",
            "_model_module_version": "1.5.0",
            "_model_name": "DescriptionStyleModel",
            "_view_count": null,
            "_view_module": "@jupyter-widgets/base",
            "_view_module_version": "1.2.0",
            "_view_name": "StyleView",
            "description_width": ""
          }
        },
        "bf37a5e6778d402d85144bc25dcee431": {
          "model_module": "@jupyter-widgets/base",
          "model_name": "LayoutModel",
          "model_module_version": "1.2.0",
          "state": {
            "_model_module": "@jupyter-widgets/base",
            "_model_module_version": "1.2.0",
            "_model_name": "LayoutModel",
            "_view_count": null,
            "_view_module": "@jupyter-widgets/base",
            "_view_module_version": "1.2.0",
            "_view_name": "LayoutView",
            "align_content": null,
            "align_items": null,
            "align_self": null,
            "border": null,
            "bottom": null,
            "display": null,
            "flex": null,
            "flex_flow": null,
            "grid_area": null,
            "grid_auto_columns": null,
            "grid_auto_flow": null,
            "grid_auto_rows": null,
            "grid_column": null,
            "grid_gap": null,
            "grid_row": null,
            "grid_template_areas": null,
            "grid_template_columns": null,
            "grid_template_rows": null,
            "height": null,
            "justify_content": null,
            "justify_items": null,
            "left": null,
            "margin": null,
            "max_height": null,
            "max_width": null,
            "min_height": null,
            "min_width": null,
            "object_fit": null,
            "object_position": null,
            "order": null,
            "overflow": null,
            "overflow_x": null,
            "overflow_y": null,
            "padding": null,
            "right": null,
            "top": null,
            "visibility": null,
            "width": null
          }
        },
        "047f549c7f384796950df95af7825c36": {
          "model_module": "@jupyter-widgets/controls",
          "model_name": "ProgressStyleModel",
          "model_module_version": "1.5.0",
          "state": {
            "_model_module": "@jupyter-widgets/controls",
            "_model_module_version": "1.5.0",
            "_model_name": "ProgressStyleModel",
            "_view_count": null,
            "_view_module": "@jupyter-widgets/base",
            "_view_module_version": "1.2.0",
            "_view_name": "StyleView",
            "bar_color": null,
            "description_width": ""
          }
        },
        "ba175d29d4b54fd0b585a71713d45ac7": {
          "model_module": "@jupyter-widgets/base",
          "model_name": "LayoutModel",
          "model_module_version": "1.2.0",
          "state": {
            "_model_module": "@jupyter-widgets/base",
            "_model_module_version": "1.2.0",
            "_model_name": "LayoutModel",
            "_view_count": null,
            "_view_module": "@jupyter-widgets/base",
            "_view_module_version": "1.2.0",
            "_view_name": "LayoutView",
            "align_content": null,
            "align_items": null,
            "align_self": null,
            "border": null,
            "bottom": null,
            "display": null,
            "flex": null,
            "flex_flow": null,
            "grid_area": null,
            "grid_auto_columns": null,
            "grid_auto_flow": null,
            "grid_auto_rows": null,
            "grid_column": null,
            "grid_gap": null,
            "grid_row": null,
            "grid_template_areas": null,
            "grid_template_columns": null,
            "grid_template_rows": null,
            "height": null,
            "justify_content": null,
            "justify_items": null,
            "left": null,
            "margin": null,
            "max_height": null,
            "max_width": null,
            "min_height": null,
            "min_width": null,
            "object_fit": null,
            "object_position": null,
            "order": null,
            "overflow": null,
            "overflow_x": null,
            "overflow_y": null,
            "padding": null,
            "right": null,
            "top": null,
            "visibility": null,
            "width": null
          }
        },
        "467eac029b2f4ceca925193a296346f8": {
          "model_module": "@jupyter-widgets/controls",
          "model_name": "DescriptionStyleModel",
          "model_module_version": "1.5.0",
          "state": {
            "_model_module": "@jupyter-widgets/controls",
            "_model_module_version": "1.5.0",
            "_model_name": "DescriptionStyleModel",
            "_view_count": null,
            "_view_module": "@jupyter-widgets/base",
            "_view_module_version": "1.2.0",
            "_view_name": "StyleView",
            "description_width": ""
          }
        },
        "79adafb3dc4d4b4fa5071101438b1f26": {
          "model_module": "@jupyter-widgets/controls",
          "model_name": "HBoxModel",
          "model_module_version": "1.5.0",
          "state": {
            "_dom_classes": [],
            "_model_module": "@jupyter-widgets/controls",
            "_model_module_version": "1.5.0",
            "_model_name": "HBoxModel",
            "_view_count": null,
            "_view_module": "@jupyter-widgets/controls",
            "_view_module_version": "1.5.0",
            "_view_name": "HBoxView",
            "box_style": "",
            "children": [
              "IPY_MODEL_f3f7b345f0f04a02bbf0bf8bc5b79021",
              "IPY_MODEL_a54324a4c728410e8dd697e25701689a",
              "IPY_MODEL_8d54577c071f4ad0a0b1f32fa0522353"
            ],
            "layout": "IPY_MODEL_5e38029f29b643d5919ad50cca5dad34"
          }
        },
        "f3f7b345f0f04a02bbf0bf8bc5b79021": {
          "model_module": "@jupyter-widgets/controls",
          "model_name": "HTMLModel",
          "model_module_version": "1.5.0",
          "state": {
            "_dom_classes": [],
            "_model_module": "@jupyter-widgets/controls",
            "_model_module_version": "1.5.0",
            "_model_name": "HTMLModel",
            "_view_count": null,
            "_view_module": "@jupyter-widgets/controls",
            "_view_module_version": "1.5.0",
            "_view_name": "HTMLView",
            "description": "",
            "description_tooltip": null,
            "layout": "IPY_MODEL_205a5d72af44477a8df9eade92273b6c",
            "placeholder": "​",
            "style": "IPY_MODEL_e40292878ec744459d7da70d052390d9",
            "value": "Generating train split: 100%"
          }
        },
        "a54324a4c728410e8dd697e25701689a": {
          "model_module": "@jupyter-widgets/controls",
          "model_name": "FloatProgressModel",
          "model_module_version": "1.5.0",
          "state": {
            "_dom_classes": [],
            "_model_module": "@jupyter-widgets/controls",
            "_model_module_version": "1.5.0",
            "_model_name": "FloatProgressModel",
            "_view_count": null,
            "_view_module": "@jupyter-widgets/controls",
            "_view_module_version": "1.5.0",
            "_view_name": "ProgressView",
            "bar_style": "success",
            "description": "",
            "description_tooltip": null,
            "layout": "IPY_MODEL_a6f93e32c42c4a80939eced8ac896f63",
            "max": 29000,
            "min": 0,
            "orientation": "horizontal",
            "style": "IPY_MODEL_9fb8844605184ca69f7b3aa48a7feb57",
            "value": 29000
          }
        },
        "8d54577c071f4ad0a0b1f32fa0522353": {
          "model_module": "@jupyter-widgets/controls",
          "model_name": "HTMLModel",
          "model_module_version": "1.5.0",
          "state": {
            "_dom_classes": [],
            "_model_module": "@jupyter-widgets/controls",
            "_model_module_version": "1.5.0",
            "_model_name": "HTMLModel",
            "_view_count": null,
            "_view_module": "@jupyter-widgets/controls",
            "_view_module_version": "1.5.0",
            "_view_name": "HTMLView",
            "description": "",
            "description_tooltip": null,
            "layout": "IPY_MODEL_8a0716c272d645cd9a1676e2637f0b46",
            "placeholder": "​",
            "style": "IPY_MODEL_8406a065294d411ab7db549095954ce2",
            "value": " 29000/29000 [00:00&lt;00:00, 228273.44 examples/s]"
          }
        },
        "5e38029f29b643d5919ad50cca5dad34": {
          "model_module": "@jupyter-widgets/base",
          "model_name": "LayoutModel",
          "model_module_version": "1.2.0",
          "state": {
            "_model_module": "@jupyter-widgets/base",
            "_model_module_version": "1.2.0",
            "_model_name": "LayoutModel",
            "_view_count": null,
            "_view_module": "@jupyter-widgets/base",
            "_view_module_version": "1.2.0",
            "_view_name": "LayoutView",
            "align_content": null,
            "align_items": null,
            "align_self": null,
            "border": null,
            "bottom": null,
            "display": null,
            "flex": null,
            "flex_flow": null,
            "grid_area": null,
            "grid_auto_columns": null,
            "grid_auto_flow": null,
            "grid_auto_rows": null,
            "grid_column": null,
            "grid_gap": null,
            "grid_row": null,
            "grid_template_areas": null,
            "grid_template_columns": null,
            "grid_template_rows": null,
            "height": null,
            "justify_content": null,
            "justify_items": null,
            "left": null,
            "margin": null,
            "max_height": null,
            "max_width": null,
            "min_height": null,
            "min_width": null,
            "object_fit": null,
            "object_position": null,
            "order": null,
            "overflow": null,
            "overflow_x": null,
            "overflow_y": null,
            "padding": null,
            "right": null,
            "top": null,
            "visibility": null,
            "width": null
          }
        },
        "205a5d72af44477a8df9eade92273b6c": {
          "model_module": "@jupyter-widgets/base",
          "model_name": "LayoutModel",
          "model_module_version": "1.2.0",
          "state": {
            "_model_module": "@jupyter-widgets/base",
            "_model_module_version": "1.2.0",
            "_model_name": "LayoutModel",
            "_view_count": null,
            "_view_module": "@jupyter-widgets/base",
            "_view_module_version": "1.2.0",
            "_view_name": "LayoutView",
            "align_content": null,
            "align_items": null,
            "align_self": null,
            "border": null,
            "bottom": null,
            "display": null,
            "flex": null,
            "flex_flow": null,
            "grid_area": null,
            "grid_auto_columns": null,
            "grid_auto_flow": null,
            "grid_auto_rows": null,
            "grid_column": null,
            "grid_gap": null,
            "grid_row": null,
            "grid_template_areas": null,
            "grid_template_columns": null,
            "grid_template_rows": null,
            "height": null,
            "justify_content": null,
            "justify_items": null,
            "left": null,
            "margin": null,
            "max_height": null,
            "max_width": null,
            "min_height": null,
            "min_width": null,
            "object_fit": null,
            "object_position": null,
            "order": null,
            "overflow": null,
            "overflow_x": null,
            "overflow_y": null,
            "padding": null,
            "right": null,
            "top": null,
            "visibility": null,
            "width": null
          }
        },
        "e40292878ec744459d7da70d052390d9": {
          "model_module": "@jupyter-widgets/controls",
          "model_name": "DescriptionStyleModel",
          "model_module_version": "1.5.0",
          "state": {
            "_model_module": "@jupyter-widgets/controls",
            "_model_module_version": "1.5.0",
            "_model_name": "DescriptionStyleModel",
            "_view_count": null,
            "_view_module": "@jupyter-widgets/base",
            "_view_module_version": "1.2.0",
            "_view_name": "StyleView",
            "description_width": ""
          }
        },
        "a6f93e32c42c4a80939eced8ac896f63": {
          "model_module": "@jupyter-widgets/base",
          "model_name": "LayoutModel",
          "model_module_version": "1.2.0",
          "state": {
            "_model_module": "@jupyter-widgets/base",
            "_model_module_version": "1.2.0",
            "_model_name": "LayoutModel",
            "_view_count": null,
            "_view_module": "@jupyter-widgets/base",
            "_view_module_version": "1.2.0",
            "_view_name": "LayoutView",
            "align_content": null,
            "align_items": null,
            "align_self": null,
            "border": null,
            "bottom": null,
            "display": null,
            "flex": null,
            "flex_flow": null,
            "grid_area": null,
            "grid_auto_columns": null,
            "grid_auto_flow": null,
            "grid_auto_rows": null,
            "grid_column": null,
            "grid_gap": null,
            "grid_row": null,
            "grid_template_areas": null,
            "grid_template_columns": null,
            "grid_template_rows": null,
            "height": null,
            "justify_content": null,
            "justify_items": null,
            "left": null,
            "margin": null,
            "max_height": null,
            "max_width": null,
            "min_height": null,
            "min_width": null,
            "object_fit": null,
            "object_position": null,
            "order": null,
            "overflow": null,
            "overflow_x": null,
            "overflow_y": null,
            "padding": null,
            "right": null,
            "top": null,
            "visibility": null,
            "width": null
          }
        },
        "9fb8844605184ca69f7b3aa48a7feb57": {
          "model_module": "@jupyter-widgets/controls",
          "model_name": "ProgressStyleModel",
          "model_module_version": "1.5.0",
          "state": {
            "_model_module": "@jupyter-widgets/controls",
            "_model_module_version": "1.5.0",
            "_model_name": "ProgressStyleModel",
            "_view_count": null,
            "_view_module": "@jupyter-widgets/base",
            "_view_module_version": "1.2.0",
            "_view_name": "StyleView",
            "bar_color": null,
            "description_width": ""
          }
        },
        "8a0716c272d645cd9a1676e2637f0b46": {
          "model_module": "@jupyter-widgets/base",
          "model_name": "LayoutModel",
          "model_module_version": "1.2.0",
          "state": {
            "_model_module": "@jupyter-widgets/base",
            "_model_module_version": "1.2.0",
            "_model_name": "LayoutModel",
            "_view_count": null,
            "_view_module": "@jupyter-widgets/base",
            "_view_module_version": "1.2.0",
            "_view_name": "LayoutView",
            "align_content": null,
            "align_items": null,
            "align_self": null,
            "border": null,
            "bottom": null,
            "display": null,
            "flex": null,
            "flex_flow": null,
            "grid_area": null,
            "grid_auto_columns": null,
            "grid_auto_flow": null,
            "grid_auto_rows": null,
            "grid_column": null,
            "grid_gap": null,
            "grid_row": null,
            "grid_template_areas": null,
            "grid_template_columns": null,
            "grid_template_rows": null,
            "height": null,
            "justify_content": null,
            "justify_items": null,
            "left": null,
            "margin": null,
            "max_height": null,
            "max_width": null,
            "min_height": null,
            "min_width": null,
            "object_fit": null,
            "object_position": null,
            "order": null,
            "overflow": null,
            "overflow_x": null,
            "overflow_y": null,
            "padding": null,
            "right": null,
            "top": null,
            "visibility": null,
            "width": null
          }
        },
        "8406a065294d411ab7db549095954ce2": {
          "model_module": "@jupyter-widgets/controls",
          "model_name": "DescriptionStyleModel",
          "model_module_version": "1.5.0",
          "state": {
            "_model_module": "@jupyter-widgets/controls",
            "_model_module_version": "1.5.0",
            "_model_name": "DescriptionStyleModel",
            "_view_count": null,
            "_view_module": "@jupyter-widgets/base",
            "_view_module_version": "1.2.0",
            "_view_name": "StyleView",
            "description_width": ""
          }
        },
        "254d1ab42d344776982db2b4e127f2ed": {
          "model_module": "@jupyter-widgets/controls",
          "model_name": "HBoxModel",
          "model_module_version": "1.5.0",
          "state": {
            "_dom_classes": [],
            "_model_module": "@jupyter-widgets/controls",
            "_model_module_version": "1.5.0",
            "_model_name": "HBoxModel",
            "_view_count": null,
            "_view_module": "@jupyter-widgets/controls",
            "_view_module_version": "1.5.0",
            "_view_name": "HBoxView",
            "box_style": "",
            "children": [
              "IPY_MODEL_fb3d38b1cc1c4bbca1458133972c22e0",
              "IPY_MODEL_1c912266407445f69572d13165c13621",
              "IPY_MODEL_4f78f69f0c5c47c3a4d6ed82f19ff595"
            ],
            "layout": "IPY_MODEL_57a640860fea4059972f6705b2d84910"
          }
        },
        "fb3d38b1cc1c4bbca1458133972c22e0": {
          "model_module": "@jupyter-widgets/controls",
          "model_name": "HTMLModel",
          "model_module_version": "1.5.0",
          "state": {
            "_dom_classes": [],
            "_model_module": "@jupyter-widgets/controls",
            "_model_module_version": "1.5.0",
            "_model_name": "HTMLModel",
            "_view_count": null,
            "_view_module": "@jupyter-widgets/controls",
            "_view_module_version": "1.5.0",
            "_view_name": "HTMLView",
            "description": "",
            "description_tooltip": null,
            "layout": "IPY_MODEL_5daf193f6a79489eb3fb3f30fc61baf0",
            "placeholder": "​",
            "style": "IPY_MODEL_a4d12697a2d248828fc572de81b798a4",
            "value": "Generating validation split: 100%"
          }
        },
        "1c912266407445f69572d13165c13621": {
          "model_module": "@jupyter-widgets/controls",
          "model_name": "FloatProgressModel",
          "model_module_version": "1.5.0",
          "state": {
            "_dom_classes": [],
            "_model_module": "@jupyter-widgets/controls",
            "_model_module_version": "1.5.0",
            "_model_name": "FloatProgressModel",
            "_view_count": null,
            "_view_module": "@jupyter-widgets/controls",
            "_view_module_version": "1.5.0",
            "_view_name": "ProgressView",
            "bar_style": "success",
            "description": "",
            "description_tooltip": null,
            "layout": "IPY_MODEL_7fc97cc490b042fab6408c00df980f76",
            "max": 1014,
            "min": 0,
            "orientation": "horizontal",
            "style": "IPY_MODEL_c0b6723607544e91ad547e2093c60309",
            "value": 1014
          }
        },
        "4f78f69f0c5c47c3a4d6ed82f19ff595": {
          "model_module": "@jupyter-widgets/controls",
          "model_name": "HTMLModel",
          "model_module_version": "1.5.0",
          "state": {
            "_dom_classes": [],
            "_model_module": "@jupyter-widgets/controls",
            "_model_module_version": "1.5.0",
            "_model_name": "HTMLModel",
            "_view_count": null,
            "_view_module": "@jupyter-widgets/controls",
            "_view_module_version": "1.5.0",
            "_view_name": "HTMLView",
            "description": "",
            "description_tooltip": null,
            "layout": "IPY_MODEL_a486a1e6b2c147108408e824c58106ef",
            "placeholder": "​",
            "style": "IPY_MODEL_24ed1fb25eb1496ca251ab4eeaa4992c",
            "value": " 1014/1014 [00:00&lt;00:00, 19795.69 examples/s]"
          }
        },
        "57a640860fea4059972f6705b2d84910": {
          "model_module": "@jupyter-widgets/base",
          "model_name": "LayoutModel",
          "model_module_version": "1.2.0",
          "state": {
            "_model_module": "@jupyter-widgets/base",
            "_model_module_version": "1.2.0",
            "_model_name": "LayoutModel",
            "_view_count": null,
            "_view_module": "@jupyter-widgets/base",
            "_view_module_version": "1.2.0",
            "_view_name": "LayoutView",
            "align_content": null,
            "align_items": null,
            "align_self": null,
            "border": null,
            "bottom": null,
            "display": null,
            "flex": null,
            "flex_flow": null,
            "grid_area": null,
            "grid_auto_columns": null,
            "grid_auto_flow": null,
            "grid_auto_rows": null,
            "grid_column": null,
            "grid_gap": null,
            "grid_row": null,
            "grid_template_areas": null,
            "grid_template_columns": null,
            "grid_template_rows": null,
            "height": null,
            "justify_content": null,
            "justify_items": null,
            "left": null,
            "margin": null,
            "max_height": null,
            "max_width": null,
            "min_height": null,
            "min_width": null,
            "object_fit": null,
            "object_position": null,
            "order": null,
            "overflow": null,
            "overflow_x": null,
            "overflow_y": null,
            "padding": null,
            "right": null,
            "top": null,
            "visibility": null,
            "width": null
          }
        },
        "5daf193f6a79489eb3fb3f30fc61baf0": {
          "model_module": "@jupyter-widgets/base",
          "model_name": "LayoutModel",
          "model_module_version": "1.2.0",
          "state": {
            "_model_module": "@jupyter-widgets/base",
            "_model_module_version": "1.2.0",
            "_model_name": "LayoutModel",
            "_view_count": null,
            "_view_module": "@jupyter-widgets/base",
            "_view_module_version": "1.2.0",
            "_view_name": "LayoutView",
            "align_content": null,
            "align_items": null,
            "align_self": null,
            "border": null,
            "bottom": null,
            "display": null,
            "flex": null,
            "flex_flow": null,
            "grid_area": null,
            "grid_auto_columns": null,
            "grid_auto_flow": null,
            "grid_auto_rows": null,
            "grid_column": null,
            "grid_gap": null,
            "grid_row": null,
            "grid_template_areas": null,
            "grid_template_columns": null,
            "grid_template_rows": null,
            "height": null,
            "justify_content": null,
            "justify_items": null,
            "left": null,
            "margin": null,
            "max_height": null,
            "max_width": null,
            "min_height": null,
            "min_width": null,
            "object_fit": null,
            "object_position": null,
            "order": null,
            "overflow": null,
            "overflow_x": null,
            "overflow_y": null,
            "padding": null,
            "right": null,
            "top": null,
            "visibility": null,
            "width": null
          }
        },
        "a4d12697a2d248828fc572de81b798a4": {
          "model_module": "@jupyter-widgets/controls",
          "model_name": "DescriptionStyleModel",
          "model_module_version": "1.5.0",
          "state": {
            "_model_module": "@jupyter-widgets/controls",
            "_model_module_version": "1.5.0",
            "_model_name": "DescriptionStyleModel",
            "_view_count": null,
            "_view_module": "@jupyter-widgets/base",
            "_view_module_version": "1.2.0",
            "_view_name": "StyleView",
            "description_width": ""
          }
        },
        "7fc97cc490b042fab6408c00df980f76": {
          "model_module": "@jupyter-widgets/base",
          "model_name": "LayoutModel",
          "model_module_version": "1.2.0",
          "state": {
            "_model_module": "@jupyter-widgets/base",
            "_model_module_version": "1.2.0",
            "_model_name": "LayoutModel",
            "_view_count": null,
            "_view_module": "@jupyter-widgets/base",
            "_view_module_version": "1.2.0",
            "_view_name": "LayoutView",
            "align_content": null,
            "align_items": null,
            "align_self": null,
            "border": null,
            "bottom": null,
            "display": null,
            "flex": null,
            "flex_flow": null,
            "grid_area": null,
            "grid_auto_columns": null,
            "grid_auto_flow": null,
            "grid_auto_rows": null,
            "grid_column": null,
            "grid_gap": null,
            "grid_row": null,
            "grid_template_areas": null,
            "grid_template_columns": null,
            "grid_template_rows": null,
            "height": null,
            "justify_content": null,
            "justify_items": null,
            "left": null,
            "margin": null,
            "max_height": null,
            "max_width": null,
            "min_height": null,
            "min_width": null,
            "object_fit": null,
            "object_position": null,
            "order": null,
            "overflow": null,
            "overflow_x": null,
            "overflow_y": null,
            "padding": null,
            "right": null,
            "top": null,
            "visibility": null,
            "width": null
          }
        },
        "c0b6723607544e91ad547e2093c60309": {
          "model_module": "@jupyter-widgets/controls",
          "model_name": "ProgressStyleModel",
          "model_module_version": "1.5.0",
          "state": {
            "_model_module": "@jupyter-widgets/controls",
            "_model_module_version": "1.5.0",
            "_model_name": "ProgressStyleModel",
            "_view_count": null,
            "_view_module": "@jupyter-widgets/base",
            "_view_module_version": "1.2.0",
            "_view_name": "StyleView",
            "bar_color": null,
            "description_width": ""
          }
        },
        "a486a1e6b2c147108408e824c58106ef": {
          "model_module": "@jupyter-widgets/base",
          "model_name": "LayoutModel",
          "model_module_version": "1.2.0",
          "state": {
            "_model_module": "@jupyter-widgets/base",
            "_model_module_version": "1.2.0",
            "_model_name": "LayoutModel",
            "_view_count": null,
            "_view_module": "@jupyter-widgets/base",
            "_view_module_version": "1.2.0",
            "_view_name": "LayoutView",
            "align_content": null,
            "align_items": null,
            "align_self": null,
            "border": null,
            "bottom": null,
            "display": null,
            "flex": null,
            "flex_flow": null,
            "grid_area": null,
            "grid_auto_columns": null,
            "grid_auto_flow": null,
            "grid_auto_rows": null,
            "grid_column": null,
            "grid_gap": null,
            "grid_row": null,
            "grid_template_areas": null,
            "grid_template_columns": null,
            "grid_template_rows": null,
            "height": null,
            "justify_content": null,
            "justify_items": null,
            "left": null,
            "margin": null,
            "max_height": null,
            "max_width": null,
            "min_height": null,
            "min_width": null,
            "object_fit": null,
            "object_position": null,
            "order": null,
            "overflow": null,
            "overflow_x": null,
            "overflow_y": null,
            "padding": null,
            "right": null,
            "top": null,
            "visibility": null,
            "width": null
          }
        },
        "24ed1fb25eb1496ca251ab4eeaa4992c": {
          "model_module": "@jupyter-widgets/controls",
          "model_name": "DescriptionStyleModel",
          "model_module_version": "1.5.0",
          "state": {
            "_model_module": "@jupyter-widgets/controls",
            "_model_module_version": "1.5.0",
            "_model_name": "DescriptionStyleModel",
            "_view_count": null,
            "_view_module": "@jupyter-widgets/base",
            "_view_module_version": "1.2.0",
            "_view_name": "StyleView",
            "description_width": ""
          }
        },
        "e3070607e3df4234b026dc83fbb3eb76": {
          "model_module": "@jupyter-widgets/controls",
          "model_name": "HBoxModel",
          "model_module_version": "1.5.0",
          "state": {
            "_dom_classes": [],
            "_model_module": "@jupyter-widgets/controls",
            "_model_module_version": "1.5.0",
            "_model_name": "HBoxModel",
            "_view_count": null,
            "_view_module": "@jupyter-widgets/controls",
            "_view_module_version": "1.5.0",
            "_view_name": "HBoxView",
            "box_style": "",
            "children": [
              "IPY_MODEL_4b6936c5b39a44d29ff60ed58dc549f9",
              "IPY_MODEL_3f8f1e74d4f14b91b076ccab4d6be749",
              "IPY_MODEL_1564f739ad19450e89fbfd0c5d27b353"
            ],
            "layout": "IPY_MODEL_a5dd612728654e8fb2c91d24679e1ac5"
          }
        },
        "4b6936c5b39a44d29ff60ed58dc549f9": {
          "model_module": "@jupyter-widgets/controls",
          "model_name": "HTMLModel",
          "model_module_version": "1.5.0",
          "state": {
            "_dom_classes": [],
            "_model_module": "@jupyter-widgets/controls",
            "_model_module_version": "1.5.0",
            "_model_name": "HTMLModel",
            "_view_count": null,
            "_view_module": "@jupyter-widgets/controls",
            "_view_module_version": "1.5.0",
            "_view_name": "HTMLView",
            "description": "",
            "description_tooltip": null,
            "layout": "IPY_MODEL_2d66153404c9427c8217cc1bf1b6c1ea",
            "placeholder": "​",
            "style": "IPY_MODEL_b5597040ced4476da05c759367b5e6bb",
            "value": "Generating test split: 100%"
          }
        },
        "3f8f1e74d4f14b91b076ccab4d6be749": {
          "model_module": "@jupyter-widgets/controls",
          "model_name": "FloatProgressModel",
          "model_module_version": "1.5.0",
          "state": {
            "_dom_classes": [],
            "_model_module": "@jupyter-widgets/controls",
            "_model_module_version": "1.5.0",
            "_model_name": "FloatProgressModel",
            "_view_count": null,
            "_view_module": "@jupyter-widgets/controls",
            "_view_module_version": "1.5.0",
            "_view_name": "ProgressView",
            "bar_style": "success",
            "description": "",
            "description_tooltip": null,
            "layout": "IPY_MODEL_c3a6df535ffc44e6905c7e0786f57e9c",
            "max": 1000,
            "min": 0,
            "orientation": "horizontal",
            "style": "IPY_MODEL_55ed7f45e7d746ec97a39530ec651933",
            "value": 1000
          }
        },
        "1564f739ad19450e89fbfd0c5d27b353": {
          "model_module": "@jupyter-widgets/controls",
          "model_name": "HTMLModel",
          "model_module_version": "1.5.0",
          "state": {
            "_dom_classes": [],
            "_model_module": "@jupyter-widgets/controls",
            "_model_module_version": "1.5.0",
            "_model_name": "HTMLModel",
            "_view_count": null,
            "_view_module": "@jupyter-widgets/controls",
            "_view_module_version": "1.5.0",
            "_view_name": "HTMLView",
            "description": "",
            "description_tooltip": null,
            "layout": "IPY_MODEL_5b686cde854b445fa0c355dadf88de2c",
            "placeholder": "​",
            "style": "IPY_MODEL_115a5df1ed674628a01ce4962201e35f",
            "value": " 1000/1000 [00:00&lt;00:00, 17629.42 examples/s]"
          }
        },
        "a5dd612728654e8fb2c91d24679e1ac5": {
          "model_module": "@jupyter-widgets/base",
          "model_name": "LayoutModel",
          "model_module_version": "1.2.0",
          "state": {
            "_model_module": "@jupyter-widgets/base",
            "_model_module_version": "1.2.0",
            "_model_name": "LayoutModel",
            "_view_count": null,
            "_view_module": "@jupyter-widgets/base",
            "_view_module_version": "1.2.0",
            "_view_name": "LayoutView",
            "align_content": null,
            "align_items": null,
            "align_self": null,
            "border": null,
            "bottom": null,
            "display": null,
            "flex": null,
            "flex_flow": null,
            "grid_area": null,
            "grid_auto_columns": null,
            "grid_auto_flow": null,
            "grid_auto_rows": null,
            "grid_column": null,
            "grid_gap": null,
            "grid_row": null,
            "grid_template_areas": null,
            "grid_template_columns": null,
            "grid_template_rows": null,
            "height": null,
            "justify_content": null,
            "justify_items": null,
            "left": null,
            "margin": null,
            "max_height": null,
            "max_width": null,
            "min_height": null,
            "min_width": null,
            "object_fit": null,
            "object_position": null,
            "order": null,
            "overflow": null,
            "overflow_x": null,
            "overflow_y": null,
            "padding": null,
            "right": null,
            "top": null,
            "visibility": null,
            "width": null
          }
        },
        "2d66153404c9427c8217cc1bf1b6c1ea": {
          "model_module": "@jupyter-widgets/base",
          "model_name": "LayoutModel",
          "model_module_version": "1.2.0",
          "state": {
            "_model_module": "@jupyter-widgets/base",
            "_model_module_version": "1.2.0",
            "_model_name": "LayoutModel",
            "_view_count": null,
            "_view_module": "@jupyter-widgets/base",
            "_view_module_version": "1.2.0",
            "_view_name": "LayoutView",
            "align_content": null,
            "align_items": null,
            "align_self": null,
            "border": null,
            "bottom": null,
            "display": null,
            "flex": null,
            "flex_flow": null,
            "grid_area": null,
            "grid_auto_columns": null,
            "grid_auto_flow": null,
            "grid_auto_rows": null,
            "grid_column": null,
            "grid_gap": null,
            "grid_row": null,
            "grid_template_areas": null,
            "grid_template_columns": null,
            "grid_template_rows": null,
            "height": null,
            "justify_content": null,
            "justify_items": null,
            "left": null,
            "margin": null,
            "max_height": null,
            "max_width": null,
            "min_height": null,
            "min_width": null,
            "object_fit": null,
            "object_position": null,
            "order": null,
            "overflow": null,
            "overflow_x": null,
            "overflow_y": null,
            "padding": null,
            "right": null,
            "top": null,
            "visibility": null,
            "width": null
          }
        },
        "b5597040ced4476da05c759367b5e6bb": {
          "model_module": "@jupyter-widgets/controls",
          "model_name": "DescriptionStyleModel",
          "model_module_version": "1.5.0",
          "state": {
            "_model_module": "@jupyter-widgets/controls",
            "_model_module_version": "1.5.0",
            "_model_name": "DescriptionStyleModel",
            "_view_count": null,
            "_view_module": "@jupyter-widgets/base",
            "_view_module_version": "1.2.0",
            "_view_name": "StyleView",
            "description_width": ""
          }
        },
        "c3a6df535ffc44e6905c7e0786f57e9c": {
          "model_module": "@jupyter-widgets/base",
          "model_name": "LayoutModel",
          "model_module_version": "1.2.0",
          "state": {
            "_model_module": "@jupyter-widgets/base",
            "_model_module_version": "1.2.0",
            "_model_name": "LayoutModel",
            "_view_count": null,
            "_view_module": "@jupyter-widgets/base",
            "_view_module_version": "1.2.0",
            "_view_name": "LayoutView",
            "align_content": null,
            "align_items": null,
            "align_self": null,
            "border": null,
            "bottom": null,
            "display": null,
            "flex": null,
            "flex_flow": null,
            "grid_area": null,
            "grid_auto_columns": null,
            "grid_auto_flow": null,
            "grid_auto_rows": null,
            "grid_column": null,
            "grid_gap": null,
            "grid_row": null,
            "grid_template_areas": null,
            "grid_template_columns": null,
            "grid_template_rows": null,
            "height": null,
            "justify_content": null,
            "justify_items": null,
            "left": null,
            "margin": null,
            "max_height": null,
            "max_width": null,
            "min_height": null,
            "min_width": null,
            "object_fit": null,
            "object_position": null,
            "order": null,
            "overflow": null,
            "overflow_x": null,
            "overflow_y": null,
            "padding": null,
            "right": null,
            "top": null,
            "visibility": null,
            "width": null
          }
        },
        "55ed7f45e7d746ec97a39530ec651933": {
          "model_module": "@jupyter-widgets/controls",
          "model_name": "ProgressStyleModel",
          "model_module_version": "1.5.0",
          "state": {
            "_model_module": "@jupyter-widgets/controls",
            "_model_module_version": "1.5.0",
            "_model_name": "ProgressStyleModel",
            "_view_count": null,
            "_view_module": "@jupyter-widgets/base",
            "_view_module_version": "1.2.0",
            "_view_name": "StyleView",
            "bar_color": null,
            "description_width": ""
          }
        },
        "5b686cde854b445fa0c355dadf88de2c": {
          "model_module": "@jupyter-widgets/base",
          "model_name": "LayoutModel",
          "model_module_version": "1.2.0",
          "state": {
            "_model_module": "@jupyter-widgets/base",
            "_model_module_version": "1.2.0",
            "_model_name": "LayoutModel",
            "_view_count": null,
            "_view_module": "@jupyter-widgets/base",
            "_view_module_version": "1.2.0",
            "_view_name": "LayoutView",
            "align_content": null,
            "align_items": null,
            "align_self": null,
            "border": null,
            "bottom": null,
            "display": null,
            "flex": null,
            "flex_flow": null,
            "grid_area": null,
            "grid_auto_columns": null,
            "grid_auto_flow": null,
            "grid_auto_rows": null,
            "grid_column": null,
            "grid_gap": null,
            "grid_row": null,
            "grid_template_areas": null,
            "grid_template_columns": null,
            "grid_template_rows": null,
            "height": null,
            "justify_content": null,
            "justify_items": null,
            "left": null,
            "margin": null,
            "max_height": null,
            "max_width": null,
            "min_height": null,
            "min_width": null,
            "object_fit": null,
            "object_position": null,
            "order": null,
            "overflow": null,
            "overflow_x": null,
            "overflow_y": null,
            "padding": null,
            "right": null,
            "top": null,
            "visibility": null,
            "width": null
          }
        },
        "115a5df1ed674628a01ce4962201e35f": {
          "model_module": "@jupyter-widgets/controls",
          "model_name": "DescriptionStyleModel",
          "model_module_version": "1.5.0",
          "state": {
            "_model_module": "@jupyter-widgets/controls",
            "_model_module_version": "1.5.0",
            "_model_name": "DescriptionStyleModel",
            "_view_count": null,
            "_view_module": "@jupyter-widgets/base",
            "_view_module_version": "1.2.0",
            "_view_name": "StyleView",
            "description_width": ""
          }
        },
        "e5d73c9b880e49cd86df2aca98162103": {
          "model_module": "@jupyter-widgets/controls",
          "model_name": "HBoxModel",
          "model_module_version": "1.5.0",
          "state": {
            "_dom_classes": [],
            "_model_module": "@jupyter-widgets/controls",
            "_model_module_version": "1.5.0",
            "_model_name": "HBoxModel",
            "_view_count": null,
            "_view_module": "@jupyter-widgets/controls",
            "_view_module_version": "1.5.0",
            "_view_name": "HBoxView",
            "box_style": "",
            "children": [
              "IPY_MODEL_2a0bf5d4e735415688f8227fca13c53b",
              "IPY_MODEL_f3acb7ce87b64d5c96133b10096a381c",
              "IPY_MODEL_0d6b2f1818b74625861f8a348d034907"
            ],
            "layout": "IPY_MODEL_05b9d612e02446978807ed3c7d170d43"
          }
        },
        "2a0bf5d4e735415688f8227fca13c53b": {
          "model_module": "@jupyter-widgets/controls",
          "model_name": "HTMLModel",
          "model_module_version": "1.5.0",
          "state": {
            "_dom_classes": [],
            "_model_module": "@jupyter-widgets/controls",
            "_model_module_version": "1.5.0",
            "_model_name": "HTMLModel",
            "_view_count": null,
            "_view_module": "@jupyter-widgets/controls",
            "_view_module_version": "1.5.0",
            "_view_name": "HTMLView",
            "description": "",
            "description_tooltip": null,
            "layout": "IPY_MODEL_b91b0706e48142deb8b50135a7e340aa",
            "placeholder": "​",
            "style": "IPY_MODEL_c6151d9e419b4441aaac767547625213",
            "value": "Map: 100%"
          }
        },
        "f3acb7ce87b64d5c96133b10096a381c": {
          "model_module": "@jupyter-widgets/controls",
          "model_name": "FloatProgressModel",
          "model_module_version": "1.5.0",
          "state": {
            "_dom_classes": [],
            "_model_module": "@jupyter-widgets/controls",
            "_model_module_version": "1.5.0",
            "_model_name": "FloatProgressModel",
            "_view_count": null,
            "_view_module": "@jupyter-widgets/controls",
            "_view_module_version": "1.5.0",
            "_view_name": "ProgressView",
            "bar_style": "success",
            "description": "",
            "description_tooltip": null,
            "layout": "IPY_MODEL_10c9fd908c8d4a3dad623bbd0a2f0ec3",
            "max": 29000,
            "min": 0,
            "orientation": "horizontal",
            "style": "IPY_MODEL_8a0a8f87fe4b4969b9867d9d5b54fe9b",
            "value": 29000
          }
        },
        "0d6b2f1818b74625861f8a348d034907": {
          "model_module": "@jupyter-widgets/controls",
          "model_name": "HTMLModel",
          "model_module_version": "1.5.0",
          "state": {
            "_dom_classes": [],
            "_model_module": "@jupyter-widgets/controls",
            "_model_module_version": "1.5.0",
            "_model_name": "HTMLModel",
            "_view_count": null,
            "_view_module": "@jupyter-widgets/controls",
            "_view_module_version": "1.5.0",
            "_view_name": "HTMLView",
            "description": "",
            "description_tooltip": null,
            "layout": "IPY_MODEL_0a2f9b96e1484098b84838b5b64393fe",
            "placeholder": "​",
            "style": "IPY_MODEL_b192f4ba9c514bdebc5b2f25857cdbb3",
            "value": " 29000/29000 [00:08&lt;00:00, 3703.70 examples/s]"
          }
        },
        "05b9d612e02446978807ed3c7d170d43": {
          "model_module": "@jupyter-widgets/base",
          "model_name": "LayoutModel",
          "model_module_version": "1.2.0",
          "state": {
            "_model_module": "@jupyter-widgets/base",
            "_model_module_version": "1.2.0",
            "_model_name": "LayoutModel",
            "_view_count": null,
            "_view_module": "@jupyter-widgets/base",
            "_view_module_version": "1.2.0",
            "_view_name": "LayoutView",
            "align_content": null,
            "align_items": null,
            "align_self": null,
            "border": null,
            "bottom": null,
            "display": null,
            "flex": null,
            "flex_flow": null,
            "grid_area": null,
            "grid_auto_columns": null,
            "grid_auto_flow": null,
            "grid_auto_rows": null,
            "grid_column": null,
            "grid_gap": null,
            "grid_row": null,
            "grid_template_areas": null,
            "grid_template_columns": null,
            "grid_template_rows": null,
            "height": null,
            "justify_content": null,
            "justify_items": null,
            "left": null,
            "margin": null,
            "max_height": null,
            "max_width": null,
            "min_height": null,
            "min_width": null,
            "object_fit": null,
            "object_position": null,
            "order": null,
            "overflow": null,
            "overflow_x": null,
            "overflow_y": null,
            "padding": null,
            "right": null,
            "top": null,
            "visibility": null,
            "width": null
          }
        },
        "b91b0706e48142deb8b50135a7e340aa": {
          "model_module": "@jupyter-widgets/base",
          "model_name": "LayoutModel",
          "model_module_version": "1.2.0",
          "state": {
            "_model_module": "@jupyter-widgets/base",
            "_model_module_version": "1.2.0",
            "_model_name": "LayoutModel",
            "_view_count": null,
            "_view_module": "@jupyter-widgets/base",
            "_view_module_version": "1.2.0",
            "_view_name": "LayoutView",
            "align_content": null,
            "align_items": null,
            "align_self": null,
            "border": null,
            "bottom": null,
            "display": null,
            "flex": null,
            "flex_flow": null,
            "grid_area": null,
            "grid_auto_columns": null,
            "grid_auto_flow": null,
            "grid_auto_rows": null,
            "grid_column": null,
            "grid_gap": null,
            "grid_row": null,
            "grid_template_areas": null,
            "grid_template_columns": null,
            "grid_template_rows": null,
            "height": null,
            "justify_content": null,
            "justify_items": null,
            "left": null,
            "margin": null,
            "max_height": null,
            "max_width": null,
            "min_height": null,
            "min_width": null,
            "object_fit": null,
            "object_position": null,
            "order": null,
            "overflow": null,
            "overflow_x": null,
            "overflow_y": null,
            "padding": null,
            "right": null,
            "top": null,
            "visibility": null,
            "width": null
          }
        },
        "c6151d9e419b4441aaac767547625213": {
          "model_module": "@jupyter-widgets/controls",
          "model_name": "DescriptionStyleModel",
          "model_module_version": "1.5.0",
          "state": {
            "_model_module": "@jupyter-widgets/controls",
            "_model_module_version": "1.5.0",
            "_model_name": "DescriptionStyleModel",
            "_view_count": null,
            "_view_module": "@jupyter-widgets/base",
            "_view_module_version": "1.2.0",
            "_view_name": "StyleView",
            "description_width": ""
          }
        },
        "10c9fd908c8d4a3dad623bbd0a2f0ec3": {
          "model_module": "@jupyter-widgets/base",
          "model_name": "LayoutModel",
          "model_module_version": "1.2.0",
          "state": {
            "_model_module": "@jupyter-widgets/base",
            "_model_module_version": "1.2.0",
            "_model_name": "LayoutModel",
            "_view_count": null,
            "_view_module": "@jupyter-widgets/base",
            "_view_module_version": "1.2.0",
            "_view_name": "LayoutView",
            "align_content": null,
            "align_items": null,
            "align_self": null,
            "border": null,
            "bottom": null,
            "display": null,
            "flex": null,
            "flex_flow": null,
            "grid_area": null,
            "grid_auto_columns": null,
            "grid_auto_flow": null,
            "grid_auto_rows": null,
            "grid_column": null,
            "grid_gap": null,
            "grid_row": null,
            "grid_template_areas": null,
            "grid_template_columns": null,
            "grid_template_rows": null,
            "height": null,
            "justify_content": null,
            "justify_items": null,
            "left": null,
            "margin": null,
            "max_height": null,
            "max_width": null,
            "min_height": null,
            "min_width": null,
            "object_fit": null,
            "object_position": null,
            "order": null,
            "overflow": null,
            "overflow_x": null,
            "overflow_y": null,
            "padding": null,
            "right": null,
            "top": null,
            "visibility": null,
            "width": null
          }
        },
        "8a0a8f87fe4b4969b9867d9d5b54fe9b": {
          "model_module": "@jupyter-widgets/controls",
          "model_name": "ProgressStyleModel",
          "model_module_version": "1.5.0",
          "state": {
            "_model_module": "@jupyter-widgets/controls",
            "_model_module_version": "1.5.0",
            "_model_name": "ProgressStyleModel",
            "_view_count": null,
            "_view_module": "@jupyter-widgets/base",
            "_view_module_version": "1.2.0",
            "_view_name": "StyleView",
            "bar_color": null,
            "description_width": ""
          }
        },
        "0a2f9b96e1484098b84838b5b64393fe": {
          "model_module": "@jupyter-widgets/base",
          "model_name": "LayoutModel",
          "model_module_version": "1.2.0",
          "state": {
            "_model_module": "@jupyter-widgets/base",
            "_model_module_version": "1.2.0",
            "_model_name": "LayoutModel",
            "_view_count": null,
            "_view_module": "@jupyter-widgets/base",
            "_view_module_version": "1.2.0",
            "_view_name": "LayoutView",
            "align_content": null,
            "align_items": null,
            "align_self": null,
            "border": null,
            "bottom": null,
            "display": null,
            "flex": null,
            "flex_flow": null,
            "grid_area": null,
            "grid_auto_columns": null,
            "grid_auto_flow": null,
            "grid_auto_rows": null,
            "grid_column": null,
            "grid_gap": null,
            "grid_row": null,
            "grid_template_areas": null,
            "grid_template_columns": null,
            "grid_template_rows": null,
            "height": null,
            "justify_content": null,
            "justify_items": null,
            "left": null,
            "margin": null,
            "max_height": null,
            "max_width": null,
            "min_height": null,
            "min_width": null,
            "object_fit": null,
            "object_position": null,
            "order": null,
            "overflow": null,
            "overflow_x": null,
            "overflow_y": null,
            "padding": null,
            "right": null,
            "top": null,
            "visibility": null,
            "width": null
          }
        },
        "b192f4ba9c514bdebc5b2f25857cdbb3": {
          "model_module": "@jupyter-widgets/controls",
          "model_name": "DescriptionStyleModel",
          "model_module_version": "1.5.0",
          "state": {
            "_model_module": "@jupyter-widgets/controls",
            "_model_module_version": "1.5.0",
            "_model_name": "DescriptionStyleModel",
            "_view_count": null,
            "_view_module": "@jupyter-widgets/base",
            "_view_module_version": "1.2.0",
            "_view_name": "StyleView",
            "description_width": ""
          }
        },
        "3e0f83c964aa4feaa288a5ac0aec9287": {
          "model_module": "@jupyter-widgets/controls",
          "model_name": "HBoxModel",
          "model_module_version": "1.5.0",
          "state": {
            "_dom_classes": [],
            "_model_module": "@jupyter-widgets/controls",
            "_model_module_version": "1.5.0",
            "_model_name": "HBoxModel",
            "_view_count": null,
            "_view_module": "@jupyter-widgets/controls",
            "_view_module_version": "1.5.0",
            "_view_name": "HBoxView",
            "box_style": "",
            "children": [
              "IPY_MODEL_cf77f48f45c84388a2e350f2032935bb",
              "IPY_MODEL_5d543e1b82e74a1dbf24eed3d4920ebc",
              "IPY_MODEL_59168207f16a4f71b5f645d2ee61b044"
            ],
            "layout": "IPY_MODEL_8bf6663ddd99427c8d870765387c5f90"
          }
        },
        "cf77f48f45c84388a2e350f2032935bb": {
          "model_module": "@jupyter-widgets/controls",
          "model_name": "HTMLModel",
          "model_module_version": "1.5.0",
          "state": {
            "_dom_classes": [],
            "_model_module": "@jupyter-widgets/controls",
            "_model_module_version": "1.5.0",
            "_model_name": "HTMLModel",
            "_view_count": null,
            "_view_module": "@jupyter-widgets/controls",
            "_view_module_version": "1.5.0",
            "_view_name": "HTMLView",
            "description": "",
            "description_tooltip": null,
            "layout": "IPY_MODEL_8c3dcecac18f479aac25eb236e5a0427",
            "placeholder": "​",
            "style": "IPY_MODEL_ad5e170053d14872be99304f87502403",
            "value": "Map: 100%"
          }
        },
        "5d543e1b82e74a1dbf24eed3d4920ebc": {
          "model_module": "@jupyter-widgets/controls",
          "model_name": "FloatProgressModel",
          "model_module_version": "1.5.0",
          "state": {
            "_dom_classes": [],
            "_model_module": "@jupyter-widgets/controls",
            "_model_module_version": "1.5.0",
            "_model_name": "FloatProgressModel",
            "_view_count": null,
            "_view_module": "@jupyter-widgets/controls",
            "_view_module_version": "1.5.0",
            "_view_name": "ProgressView",
            "bar_style": "success",
            "description": "",
            "description_tooltip": null,
            "layout": "IPY_MODEL_f029c87ec7784105a9cadeddc775e503",
            "max": 1014,
            "min": 0,
            "orientation": "horizontal",
            "style": "IPY_MODEL_b69611dfff6f42fe97add7d1d6183a7e",
            "value": 1014
          }
        },
        "59168207f16a4f71b5f645d2ee61b044": {
          "model_module": "@jupyter-widgets/controls",
          "model_name": "HTMLModel",
          "model_module_version": "1.5.0",
          "state": {
            "_dom_classes": [],
            "_model_module": "@jupyter-widgets/controls",
            "_model_module_version": "1.5.0",
            "_model_name": "HTMLModel",
            "_view_count": null,
            "_view_module": "@jupyter-widgets/controls",
            "_view_module_version": "1.5.0",
            "_view_name": "HTMLView",
            "description": "",
            "description_tooltip": null,
            "layout": "IPY_MODEL_0e55d39151fb4df7acd29e9842a31bb2",
            "placeholder": "​",
            "style": "IPY_MODEL_77bc651ae45f4632a9056ea34d046be3",
            "value": " 1014/1014 [00:00&lt;00:00, 4173.66 examples/s]"
          }
        },
        "8bf6663ddd99427c8d870765387c5f90": {
          "model_module": "@jupyter-widgets/base",
          "model_name": "LayoutModel",
          "model_module_version": "1.2.0",
          "state": {
            "_model_module": "@jupyter-widgets/base",
            "_model_module_version": "1.2.0",
            "_model_name": "LayoutModel",
            "_view_count": null,
            "_view_module": "@jupyter-widgets/base",
            "_view_module_version": "1.2.0",
            "_view_name": "LayoutView",
            "align_content": null,
            "align_items": null,
            "align_self": null,
            "border": null,
            "bottom": null,
            "display": null,
            "flex": null,
            "flex_flow": null,
            "grid_area": null,
            "grid_auto_columns": null,
            "grid_auto_flow": null,
            "grid_auto_rows": null,
            "grid_column": null,
            "grid_gap": null,
            "grid_row": null,
            "grid_template_areas": null,
            "grid_template_columns": null,
            "grid_template_rows": null,
            "height": null,
            "justify_content": null,
            "justify_items": null,
            "left": null,
            "margin": null,
            "max_height": null,
            "max_width": null,
            "min_height": null,
            "min_width": null,
            "object_fit": null,
            "object_position": null,
            "order": null,
            "overflow": null,
            "overflow_x": null,
            "overflow_y": null,
            "padding": null,
            "right": null,
            "top": null,
            "visibility": null,
            "width": null
          }
        },
        "8c3dcecac18f479aac25eb236e5a0427": {
          "model_module": "@jupyter-widgets/base",
          "model_name": "LayoutModel",
          "model_module_version": "1.2.0",
          "state": {
            "_model_module": "@jupyter-widgets/base",
            "_model_module_version": "1.2.0",
            "_model_name": "LayoutModel",
            "_view_count": null,
            "_view_module": "@jupyter-widgets/base",
            "_view_module_version": "1.2.0",
            "_view_name": "LayoutView",
            "align_content": null,
            "align_items": null,
            "align_self": null,
            "border": null,
            "bottom": null,
            "display": null,
            "flex": null,
            "flex_flow": null,
            "grid_area": null,
            "grid_auto_columns": null,
            "grid_auto_flow": null,
            "grid_auto_rows": null,
            "grid_column": null,
            "grid_gap": null,
            "grid_row": null,
            "grid_template_areas": null,
            "grid_template_columns": null,
            "grid_template_rows": null,
            "height": null,
            "justify_content": null,
            "justify_items": null,
            "left": null,
            "margin": null,
            "max_height": null,
            "max_width": null,
            "min_height": null,
            "min_width": null,
            "object_fit": null,
            "object_position": null,
            "order": null,
            "overflow": null,
            "overflow_x": null,
            "overflow_y": null,
            "padding": null,
            "right": null,
            "top": null,
            "visibility": null,
            "width": null
          }
        },
        "ad5e170053d14872be99304f87502403": {
          "model_module": "@jupyter-widgets/controls",
          "model_name": "DescriptionStyleModel",
          "model_module_version": "1.5.0",
          "state": {
            "_model_module": "@jupyter-widgets/controls",
            "_model_module_version": "1.5.0",
            "_model_name": "DescriptionStyleModel",
            "_view_count": null,
            "_view_module": "@jupyter-widgets/base",
            "_view_module_version": "1.2.0",
            "_view_name": "StyleView",
            "description_width": ""
          }
        },
        "f029c87ec7784105a9cadeddc775e503": {
          "model_module": "@jupyter-widgets/base",
          "model_name": "LayoutModel",
          "model_module_version": "1.2.0",
          "state": {
            "_model_module": "@jupyter-widgets/base",
            "_model_module_version": "1.2.0",
            "_model_name": "LayoutModel",
            "_view_count": null,
            "_view_module": "@jupyter-widgets/base",
            "_view_module_version": "1.2.0",
            "_view_name": "LayoutView",
            "align_content": null,
            "align_items": null,
            "align_self": null,
            "border": null,
            "bottom": null,
            "display": null,
            "flex": null,
            "flex_flow": null,
            "grid_area": null,
            "grid_auto_columns": null,
            "grid_auto_flow": null,
            "grid_auto_rows": null,
            "grid_column": null,
            "grid_gap": null,
            "grid_row": null,
            "grid_template_areas": null,
            "grid_template_columns": null,
            "grid_template_rows": null,
            "height": null,
            "justify_content": null,
            "justify_items": null,
            "left": null,
            "margin": null,
            "max_height": null,
            "max_width": null,
            "min_height": null,
            "min_width": null,
            "object_fit": null,
            "object_position": null,
            "order": null,
            "overflow": null,
            "overflow_x": null,
            "overflow_y": null,
            "padding": null,
            "right": null,
            "top": null,
            "visibility": null,
            "width": null
          }
        },
        "b69611dfff6f42fe97add7d1d6183a7e": {
          "model_module": "@jupyter-widgets/controls",
          "model_name": "ProgressStyleModel",
          "model_module_version": "1.5.0",
          "state": {
            "_model_module": "@jupyter-widgets/controls",
            "_model_module_version": "1.5.0",
            "_model_name": "ProgressStyleModel",
            "_view_count": null,
            "_view_module": "@jupyter-widgets/base",
            "_view_module_version": "1.2.0",
            "_view_name": "StyleView",
            "bar_color": null,
            "description_width": ""
          }
        },
        "0e55d39151fb4df7acd29e9842a31bb2": {
          "model_module": "@jupyter-widgets/base",
          "model_name": "LayoutModel",
          "model_module_version": "1.2.0",
          "state": {
            "_model_module": "@jupyter-widgets/base",
            "_model_module_version": "1.2.0",
            "_model_name": "LayoutModel",
            "_view_count": null,
            "_view_module": "@jupyter-widgets/base",
            "_view_module_version": "1.2.0",
            "_view_name": "LayoutView",
            "align_content": null,
            "align_items": null,
            "align_self": null,
            "border": null,
            "bottom": null,
            "display": null,
            "flex": null,
            "flex_flow": null,
            "grid_area": null,
            "grid_auto_columns": null,
            "grid_auto_flow": null,
            "grid_auto_rows": null,
            "grid_column": null,
            "grid_gap": null,
            "grid_row": null,
            "grid_template_areas": null,
            "grid_template_columns": null,
            "grid_template_rows": null,
            "height": null,
            "justify_content": null,
            "justify_items": null,
            "left": null,
            "margin": null,
            "max_height": null,
            "max_width": null,
            "min_height": null,
            "min_width": null,
            "object_fit": null,
            "object_position": null,
            "order": null,
            "overflow": null,
            "overflow_x": null,
            "overflow_y": null,
            "padding": null,
            "right": null,
            "top": null,
            "visibility": null,
            "width": null
          }
        },
        "77bc651ae45f4632a9056ea34d046be3": {
          "model_module": "@jupyter-widgets/controls",
          "model_name": "DescriptionStyleModel",
          "model_module_version": "1.5.0",
          "state": {
            "_model_module": "@jupyter-widgets/controls",
            "_model_module_version": "1.5.0",
            "_model_name": "DescriptionStyleModel",
            "_view_count": null,
            "_view_module": "@jupyter-widgets/base",
            "_view_module_version": "1.2.0",
            "_view_name": "StyleView",
            "description_width": ""
          }
        },
        "e46e395a6d164330b29905dd96c67560": {
          "model_module": "@jupyter-widgets/controls",
          "model_name": "HBoxModel",
          "model_module_version": "1.5.0",
          "state": {
            "_dom_classes": [],
            "_model_module": "@jupyter-widgets/controls",
            "_model_module_version": "1.5.0",
            "_model_name": "HBoxModel",
            "_view_count": null,
            "_view_module": "@jupyter-widgets/controls",
            "_view_module_version": "1.5.0",
            "_view_name": "HBoxView",
            "box_style": "",
            "children": [
              "IPY_MODEL_3c90151621f74047969b6f3abc67961d",
              "IPY_MODEL_559337d9bd764b16aa2e22efc891627c",
              "IPY_MODEL_dd0c79f32bb74e03b3b93a3221e95ff4"
            ],
            "layout": "IPY_MODEL_ce794fd5fc0f47448b0e7a32b35ced01"
          }
        },
        "3c90151621f74047969b6f3abc67961d": {
          "model_module": "@jupyter-widgets/controls",
          "model_name": "HTMLModel",
          "model_module_version": "1.5.0",
          "state": {
            "_dom_classes": [],
            "_model_module": "@jupyter-widgets/controls",
            "_model_module_version": "1.5.0",
            "_model_name": "HTMLModel",
            "_view_count": null,
            "_view_module": "@jupyter-widgets/controls",
            "_view_module_version": "1.5.0",
            "_view_name": "HTMLView",
            "description": "",
            "description_tooltip": null,
            "layout": "IPY_MODEL_3e5a31c937ef4b2fb01376c921506fc1",
            "placeholder": "​",
            "style": "IPY_MODEL_f7a3faca15dc47b8b435f3138821a2f4",
            "value": "Map: 100%"
          }
        },
        "559337d9bd764b16aa2e22efc891627c": {
          "model_module": "@jupyter-widgets/controls",
          "model_name": "FloatProgressModel",
          "model_module_version": "1.5.0",
          "state": {
            "_dom_classes": [],
            "_model_module": "@jupyter-widgets/controls",
            "_model_module_version": "1.5.0",
            "_model_name": "FloatProgressModel",
            "_view_count": null,
            "_view_module": "@jupyter-widgets/controls",
            "_view_module_version": "1.5.0",
            "_view_name": "ProgressView",
            "bar_style": "success",
            "description": "",
            "description_tooltip": null,
            "layout": "IPY_MODEL_61768d5c4fbe4be69496ed6ebf9acb2d",
            "max": 1000,
            "min": 0,
            "orientation": "horizontal",
            "style": "IPY_MODEL_5dfb3efa11c348bfbf405bb625dfdbad",
            "value": 1000
          }
        },
        "dd0c79f32bb74e03b3b93a3221e95ff4": {
          "model_module": "@jupyter-widgets/controls",
          "model_name": "HTMLModel",
          "model_module_version": "1.5.0",
          "state": {
            "_dom_classes": [],
            "_model_module": "@jupyter-widgets/controls",
            "_model_module_version": "1.5.0",
            "_model_name": "HTMLModel",
            "_view_count": null,
            "_view_module": "@jupyter-widgets/controls",
            "_view_module_version": "1.5.0",
            "_view_name": "HTMLView",
            "description": "",
            "description_tooltip": null,
            "layout": "IPY_MODEL_c207a18a6e6f4073a0d8e91185e80d53",
            "placeholder": "​",
            "style": "IPY_MODEL_b90f31e511764029ab108dca94b1edbf",
            "value": " 1000/1000 [00:00&lt;00:00, 4577.74 examples/s]"
          }
        },
        "ce794fd5fc0f47448b0e7a32b35ced01": {
          "model_module": "@jupyter-widgets/base",
          "model_name": "LayoutModel",
          "model_module_version": "1.2.0",
          "state": {
            "_model_module": "@jupyter-widgets/base",
            "_model_module_version": "1.2.0",
            "_model_name": "LayoutModel",
            "_view_count": null,
            "_view_module": "@jupyter-widgets/base",
            "_view_module_version": "1.2.0",
            "_view_name": "LayoutView",
            "align_content": null,
            "align_items": null,
            "align_self": null,
            "border": null,
            "bottom": null,
            "display": null,
            "flex": null,
            "flex_flow": null,
            "grid_area": null,
            "grid_auto_columns": null,
            "grid_auto_flow": null,
            "grid_auto_rows": null,
            "grid_column": null,
            "grid_gap": null,
            "grid_row": null,
            "grid_template_areas": null,
            "grid_template_columns": null,
            "grid_template_rows": null,
            "height": null,
            "justify_content": null,
            "justify_items": null,
            "left": null,
            "margin": null,
            "max_height": null,
            "max_width": null,
            "min_height": null,
            "min_width": null,
            "object_fit": null,
            "object_position": null,
            "order": null,
            "overflow": null,
            "overflow_x": null,
            "overflow_y": null,
            "padding": null,
            "right": null,
            "top": null,
            "visibility": null,
            "width": null
          }
        },
        "3e5a31c937ef4b2fb01376c921506fc1": {
          "model_module": "@jupyter-widgets/base",
          "model_name": "LayoutModel",
          "model_module_version": "1.2.0",
          "state": {
            "_model_module": "@jupyter-widgets/base",
            "_model_module_version": "1.2.0",
            "_model_name": "LayoutModel",
            "_view_count": null,
            "_view_module": "@jupyter-widgets/base",
            "_view_module_version": "1.2.0",
            "_view_name": "LayoutView",
            "align_content": null,
            "align_items": null,
            "align_self": null,
            "border": null,
            "bottom": null,
            "display": null,
            "flex": null,
            "flex_flow": null,
            "grid_area": null,
            "grid_auto_columns": null,
            "grid_auto_flow": null,
            "grid_auto_rows": null,
            "grid_column": null,
            "grid_gap": null,
            "grid_row": null,
            "grid_template_areas": null,
            "grid_template_columns": null,
            "grid_template_rows": null,
            "height": null,
            "justify_content": null,
            "justify_items": null,
            "left": null,
            "margin": null,
            "max_height": null,
            "max_width": null,
            "min_height": null,
            "min_width": null,
            "object_fit": null,
            "object_position": null,
            "order": null,
            "overflow": null,
            "overflow_x": null,
            "overflow_y": null,
            "padding": null,
            "right": null,
            "top": null,
            "visibility": null,
            "width": null
          }
        },
        "f7a3faca15dc47b8b435f3138821a2f4": {
          "model_module": "@jupyter-widgets/controls",
          "model_name": "DescriptionStyleModel",
          "model_module_version": "1.5.0",
          "state": {
            "_model_module": "@jupyter-widgets/controls",
            "_model_module_version": "1.5.0",
            "_model_name": "DescriptionStyleModel",
            "_view_count": null,
            "_view_module": "@jupyter-widgets/base",
            "_view_module_version": "1.2.0",
            "_view_name": "StyleView",
            "description_width": ""
          }
        },
        "61768d5c4fbe4be69496ed6ebf9acb2d": {
          "model_module": "@jupyter-widgets/base",
          "model_name": "LayoutModel",
          "model_module_version": "1.2.0",
          "state": {
            "_model_module": "@jupyter-widgets/base",
            "_model_module_version": "1.2.0",
            "_model_name": "LayoutModel",
            "_view_count": null,
            "_view_module": "@jupyter-widgets/base",
            "_view_module_version": "1.2.0",
            "_view_name": "LayoutView",
            "align_content": null,
            "align_items": null,
            "align_self": null,
            "border": null,
            "bottom": null,
            "display": null,
            "flex": null,
            "flex_flow": null,
            "grid_area": null,
            "grid_auto_columns": null,
            "grid_auto_flow": null,
            "grid_auto_rows": null,
            "grid_column": null,
            "grid_gap": null,
            "grid_row": null,
            "grid_template_areas": null,
            "grid_template_columns": null,
            "grid_template_rows": null,
            "height": null,
            "justify_content": null,
            "justify_items": null,
            "left": null,
            "margin": null,
            "max_height": null,
            "max_width": null,
            "min_height": null,
            "min_width": null,
            "object_fit": null,
            "object_position": null,
            "order": null,
            "overflow": null,
            "overflow_x": null,
            "overflow_y": null,
            "padding": null,
            "right": null,
            "top": null,
            "visibility": null,
            "width": null
          }
        },
        "5dfb3efa11c348bfbf405bb625dfdbad": {
          "model_module": "@jupyter-widgets/controls",
          "model_name": "ProgressStyleModel",
          "model_module_version": "1.5.0",
          "state": {
            "_model_module": "@jupyter-widgets/controls",
            "_model_module_version": "1.5.0",
            "_model_name": "ProgressStyleModel",
            "_view_count": null,
            "_view_module": "@jupyter-widgets/base",
            "_view_module_version": "1.2.0",
            "_view_name": "StyleView",
            "bar_color": null,
            "description_width": ""
          }
        },
        "c207a18a6e6f4073a0d8e91185e80d53": {
          "model_module": "@jupyter-widgets/base",
          "model_name": "LayoutModel",
          "model_module_version": "1.2.0",
          "state": {
            "_model_module": "@jupyter-widgets/base",
            "_model_module_version": "1.2.0",
            "_model_name": "LayoutModel",
            "_view_count": null,
            "_view_module": "@jupyter-widgets/base",
            "_view_module_version": "1.2.0",
            "_view_name": "LayoutView",
            "align_content": null,
            "align_items": null,
            "align_self": null,
            "border": null,
            "bottom": null,
            "display": null,
            "flex": null,
            "flex_flow": null,
            "grid_area": null,
            "grid_auto_columns": null,
            "grid_auto_flow": null,
            "grid_auto_rows": null,
            "grid_column": null,
            "grid_gap": null,
            "grid_row": null,
            "grid_template_areas": null,
            "grid_template_columns": null,
            "grid_template_rows": null,
            "height": null,
            "justify_content": null,
            "justify_items": null,
            "left": null,
            "margin": null,
            "max_height": null,
            "max_width": null,
            "min_height": null,
            "min_width": null,
            "object_fit": null,
            "object_position": null,
            "order": null,
            "overflow": null,
            "overflow_x": null,
            "overflow_y": null,
            "padding": null,
            "right": null,
            "top": null,
            "visibility": null,
            "width": null
          }
        },
        "b90f31e511764029ab108dca94b1edbf": {
          "model_module": "@jupyter-widgets/controls",
          "model_name": "DescriptionStyleModel",
          "model_module_version": "1.5.0",
          "state": {
            "_model_module": "@jupyter-widgets/controls",
            "_model_module_version": "1.5.0",
            "_model_name": "DescriptionStyleModel",
            "_view_count": null,
            "_view_module": "@jupyter-widgets/base",
            "_view_module_version": "1.2.0",
            "_view_name": "StyleView",
            "description_width": ""
          }
        },
        "bdd2d95925324b67995dc0de5fd320df": {
          "model_module": "@jupyter-widgets/controls",
          "model_name": "HBoxModel",
          "model_module_version": "1.5.0",
          "state": {
            "_dom_classes": [],
            "_model_module": "@jupyter-widgets/controls",
            "_model_module_version": "1.5.0",
            "_model_name": "HBoxModel",
            "_view_count": null,
            "_view_module": "@jupyter-widgets/controls",
            "_view_module_version": "1.5.0",
            "_view_name": "HBoxView",
            "box_style": "",
            "children": [
              "IPY_MODEL_208ab395288149cea70c175199e46d96",
              "IPY_MODEL_fb41ff017dc24961803bfbb698b2ee9e",
              "IPY_MODEL_1c4ebfeb0dad4f799155a9b91855f6fd"
            ],
            "layout": "IPY_MODEL_936fb789c41a4374a0f92b7aaf82b21c"
          }
        },
        "208ab395288149cea70c175199e46d96": {
          "model_module": "@jupyter-widgets/controls",
          "model_name": "HTMLModel",
          "model_module_version": "1.5.0",
          "state": {
            "_dom_classes": [],
            "_model_module": "@jupyter-widgets/controls",
            "_model_module_version": "1.5.0",
            "_model_name": "HTMLModel",
            "_view_count": null,
            "_view_module": "@jupyter-widgets/controls",
            "_view_module_version": "1.5.0",
            "_view_name": "HTMLView",
            "description": "",
            "description_tooltip": null,
            "layout": "IPY_MODEL_92f922bca0c94632b60468220b12b603",
            "placeholder": "​",
            "style": "IPY_MODEL_333dc6ce777d48d0b7cb767936d71447",
            "value": "Map: 100%"
          }
        },
        "fb41ff017dc24961803bfbb698b2ee9e": {
          "model_module": "@jupyter-widgets/controls",
          "model_name": "FloatProgressModel",
          "model_module_version": "1.5.0",
          "state": {
            "_dom_classes": [],
            "_model_module": "@jupyter-widgets/controls",
            "_model_module_version": "1.5.0",
            "_model_name": "FloatProgressModel",
            "_view_count": null,
            "_view_module": "@jupyter-widgets/controls",
            "_view_module_version": "1.5.0",
            "_view_name": "ProgressView",
            "bar_style": "success",
            "description": "",
            "description_tooltip": null,
            "layout": "IPY_MODEL_6aba6832c13a4aeeb0aed21eaa71eb17",
            "max": 29000,
            "min": 0,
            "orientation": "horizontal",
            "style": "IPY_MODEL_8f9c2a1dc698461599c45b1d23a71d5a",
            "value": 29000
          }
        },
        "1c4ebfeb0dad4f799155a9b91855f6fd": {
          "model_module": "@jupyter-widgets/controls",
          "model_name": "HTMLModel",
          "model_module_version": "1.5.0",
          "state": {
            "_dom_classes": [],
            "_model_module": "@jupyter-widgets/controls",
            "_model_module_version": "1.5.0",
            "_model_name": "HTMLModel",
            "_view_count": null,
            "_view_module": "@jupyter-widgets/controls",
            "_view_module_version": "1.5.0",
            "_view_name": "HTMLView",
            "description": "",
            "description_tooltip": null,
            "layout": "IPY_MODEL_8725c6178dee425da7216260193f84b5",
            "placeholder": "​",
            "style": "IPY_MODEL_fd1aa62e86aa4a258642ad972f3852b4",
            "value": " 29000/29000 [00:09&lt;00:00, 3735.24 examples/s]"
          }
        },
        "936fb789c41a4374a0f92b7aaf82b21c": {
          "model_module": "@jupyter-widgets/base",
          "model_name": "LayoutModel",
          "model_module_version": "1.2.0",
          "state": {
            "_model_module": "@jupyter-widgets/base",
            "_model_module_version": "1.2.0",
            "_model_name": "LayoutModel",
            "_view_count": null,
            "_view_module": "@jupyter-widgets/base",
            "_view_module_version": "1.2.0",
            "_view_name": "LayoutView",
            "align_content": null,
            "align_items": null,
            "align_self": null,
            "border": null,
            "bottom": null,
            "display": null,
            "flex": null,
            "flex_flow": null,
            "grid_area": null,
            "grid_auto_columns": null,
            "grid_auto_flow": null,
            "grid_auto_rows": null,
            "grid_column": null,
            "grid_gap": null,
            "grid_row": null,
            "grid_template_areas": null,
            "grid_template_columns": null,
            "grid_template_rows": null,
            "height": null,
            "justify_content": null,
            "justify_items": null,
            "left": null,
            "margin": null,
            "max_height": null,
            "max_width": null,
            "min_height": null,
            "min_width": null,
            "object_fit": null,
            "object_position": null,
            "order": null,
            "overflow": null,
            "overflow_x": null,
            "overflow_y": null,
            "padding": null,
            "right": null,
            "top": null,
            "visibility": null,
            "width": null
          }
        },
        "92f922bca0c94632b60468220b12b603": {
          "model_module": "@jupyter-widgets/base",
          "model_name": "LayoutModel",
          "model_module_version": "1.2.0",
          "state": {
            "_model_module": "@jupyter-widgets/base",
            "_model_module_version": "1.2.0",
            "_model_name": "LayoutModel",
            "_view_count": null,
            "_view_module": "@jupyter-widgets/base",
            "_view_module_version": "1.2.0",
            "_view_name": "LayoutView",
            "align_content": null,
            "align_items": null,
            "align_self": null,
            "border": null,
            "bottom": null,
            "display": null,
            "flex": null,
            "flex_flow": null,
            "grid_area": null,
            "grid_auto_columns": null,
            "grid_auto_flow": null,
            "grid_auto_rows": null,
            "grid_column": null,
            "grid_gap": null,
            "grid_row": null,
            "grid_template_areas": null,
            "grid_template_columns": null,
            "grid_template_rows": null,
            "height": null,
            "justify_content": null,
            "justify_items": null,
            "left": null,
            "margin": null,
            "max_height": null,
            "max_width": null,
            "min_height": null,
            "min_width": null,
            "object_fit": null,
            "object_position": null,
            "order": null,
            "overflow": null,
            "overflow_x": null,
            "overflow_y": null,
            "padding": null,
            "right": null,
            "top": null,
            "visibility": null,
            "width": null
          }
        },
        "333dc6ce777d48d0b7cb767936d71447": {
          "model_module": "@jupyter-widgets/controls",
          "model_name": "DescriptionStyleModel",
          "model_module_version": "1.5.0",
          "state": {
            "_model_module": "@jupyter-widgets/controls",
            "_model_module_version": "1.5.0",
            "_model_name": "DescriptionStyleModel",
            "_view_count": null,
            "_view_module": "@jupyter-widgets/base",
            "_view_module_version": "1.2.0",
            "_view_name": "StyleView",
            "description_width": ""
          }
        },
        "6aba6832c13a4aeeb0aed21eaa71eb17": {
          "model_module": "@jupyter-widgets/base",
          "model_name": "LayoutModel",
          "model_module_version": "1.2.0",
          "state": {
            "_model_module": "@jupyter-widgets/base",
            "_model_module_version": "1.2.0",
            "_model_name": "LayoutModel",
            "_view_count": null,
            "_view_module": "@jupyter-widgets/base",
            "_view_module_version": "1.2.0",
            "_view_name": "LayoutView",
            "align_content": null,
            "align_items": null,
            "align_self": null,
            "border": null,
            "bottom": null,
            "display": null,
            "flex": null,
            "flex_flow": null,
            "grid_area": null,
            "grid_auto_columns": null,
            "grid_auto_flow": null,
            "grid_auto_rows": null,
            "grid_column": null,
            "grid_gap": null,
            "grid_row": null,
            "grid_template_areas": null,
            "grid_template_columns": null,
            "grid_template_rows": null,
            "height": null,
            "justify_content": null,
            "justify_items": null,
            "left": null,
            "margin": null,
            "max_height": null,
            "max_width": null,
            "min_height": null,
            "min_width": null,
            "object_fit": null,
            "object_position": null,
            "order": null,
            "overflow": null,
            "overflow_x": null,
            "overflow_y": null,
            "padding": null,
            "right": null,
            "top": null,
            "visibility": null,
            "width": null
          }
        },
        "8f9c2a1dc698461599c45b1d23a71d5a": {
          "model_module": "@jupyter-widgets/controls",
          "model_name": "ProgressStyleModel",
          "model_module_version": "1.5.0",
          "state": {
            "_model_module": "@jupyter-widgets/controls",
            "_model_module_version": "1.5.0",
            "_model_name": "ProgressStyleModel",
            "_view_count": null,
            "_view_module": "@jupyter-widgets/base",
            "_view_module_version": "1.2.0",
            "_view_name": "StyleView",
            "bar_color": null,
            "description_width": ""
          }
        },
        "8725c6178dee425da7216260193f84b5": {
          "model_module": "@jupyter-widgets/base",
          "model_name": "LayoutModel",
          "model_module_version": "1.2.0",
          "state": {
            "_model_module": "@jupyter-widgets/base",
            "_model_module_version": "1.2.0",
            "_model_name": "LayoutModel",
            "_view_count": null,
            "_view_module": "@jupyter-widgets/base",
            "_view_module_version": "1.2.0",
            "_view_name": "LayoutView",
            "align_content": null,
            "align_items": null,
            "align_self": null,
            "border": null,
            "bottom": null,
            "display": null,
            "flex": null,
            "flex_flow": null,
            "grid_area": null,
            "grid_auto_columns": null,
            "grid_auto_flow": null,
            "grid_auto_rows": null,
            "grid_column": null,
            "grid_gap": null,
            "grid_row": null,
            "grid_template_areas": null,
            "grid_template_columns": null,
            "grid_template_rows": null,
            "height": null,
            "justify_content": null,
            "justify_items": null,
            "left": null,
            "margin": null,
            "max_height": null,
            "max_width": null,
            "min_height": null,
            "min_width": null,
            "object_fit": null,
            "object_position": null,
            "order": null,
            "overflow": null,
            "overflow_x": null,
            "overflow_y": null,
            "padding": null,
            "right": null,
            "top": null,
            "visibility": null,
            "width": null
          }
        },
        "fd1aa62e86aa4a258642ad972f3852b4": {
          "model_module": "@jupyter-widgets/controls",
          "model_name": "DescriptionStyleModel",
          "model_module_version": "1.5.0",
          "state": {
            "_model_module": "@jupyter-widgets/controls",
            "_model_module_version": "1.5.0",
            "_model_name": "DescriptionStyleModel",
            "_view_count": null,
            "_view_module": "@jupyter-widgets/base",
            "_view_module_version": "1.2.0",
            "_view_name": "StyleView",
            "description_width": ""
          }
        },
        "02460e63024e43d3bf5ff411ceacd901": {
          "model_module": "@jupyter-widgets/controls",
          "model_name": "HBoxModel",
          "model_module_version": "1.5.0",
          "state": {
            "_dom_classes": [],
            "_model_module": "@jupyter-widgets/controls",
            "_model_module_version": "1.5.0",
            "_model_name": "HBoxModel",
            "_view_count": null,
            "_view_module": "@jupyter-widgets/controls",
            "_view_module_version": "1.5.0",
            "_view_name": "HBoxView",
            "box_style": "",
            "children": [
              "IPY_MODEL_f259ee9435ca42489e65838c31d05780",
              "IPY_MODEL_db1a4bfa212b41d18dc0ae0041a3629d",
              "IPY_MODEL_8aee3bd5816f4270b4b9b82530635371"
            ],
            "layout": "IPY_MODEL_2a4ce9c82c5c4b3c9b3fd259ad259442"
          }
        },
        "f259ee9435ca42489e65838c31d05780": {
          "model_module": "@jupyter-widgets/controls",
          "model_name": "HTMLModel",
          "model_module_version": "1.5.0",
          "state": {
            "_dom_classes": [],
            "_model_module": "@jupyter-widgets/controls",
            "_model_module_version": "1.5.0",
            "_model_name": "HTMLModel",
            "_view_count": null,
            "_view_module": "@jupyter-widgets/controls",
            "_view_module_version": "1.5.0",
            "_view_name": "HTMLView",
            "description": "",
            "description_tooltip": null,
            "layout": "IPY_MODEL_f6d0afeb7f9a44b8b31e2a54f46d5ee4",
            "placeholder": "​",
            "style": "IPY_MODEL_8816eca57e5e4a269d0c97c07ad2193d",
            "value": "Map: 100%"
          }
        },
        "db1a4bfa212b41d18dc0ae0041a3629d": {
          "model_module": "@jupyter-widgets/controls",
          "model_name": "FloatProgressModel",
          "model_module_version": "1.5.0",
          "state": {
            "_dom_classes": [],
            "_model_module": "@jupyter-widgets/controls",
            "_model_module_version": "1.5.0",
            "_model_name": "FloatProgressModel",
            "_view_count": null,
            "_view_module": "@jupyter-widgets/controls",
            "_view_module_version": "1.5.0",
            "_view_name": "ProgressView",
            "bar_style": "success",
            "description": "",
            "description_tooltip": null,
            "layout": "IPY_MODEL_a9349eaf53db430bb53fc2e5b2fbcd30",
            "max": 1014,
            "min": 0,
            "orientation": "horizontal",
            "style": "IPY_MODEL_cdd8576b33f646c6ab4f56685b80fc0c",
            "value": 1014
          }
        },
        "8aee3bd5816f4270b4b9b82530635371": {
          "model_module": "@jupyter-widgets/controls",
          "model_name": "HTMLModel",
          "model_module_version": "1.5.0",
          "state": {
            "_dom_classes": [],
            "_model_module": "@jupyter-widgets/controls",
            "_model_module_version": "1.5.0",
            "_model_name": "HTMLModel",
            "_view_count": null,
            "_view_module": "@jupyter-widgets/controls",
            "_view_module_version": "1.5.0",
            "_view_name": "HTMLView",
            "description": "",
            "description_tooltip": null,
            "layout": "IPY_MODEL_8541d927f0664ddc8a910d8ff4219e0e",
            "placeholder": "​",
            "style": "IPY_MODEL_2e374fa4cc1b49c3ac521aea1d14ff16",
            "value": " 1014/1014 [00:00&lt;00:00, 3820.28 examples/s]"
          }
        },
        "2a4ce9c82c5c4b3c9b3fd259ad259442": {
          "model_module": "@jupyter-widgets/base",
          "model_name": "LayoutModel",
          "model_module_version": "1.2.0",
          "state": {
            "_model_module": "@jupyter-widgets/base",
            "_model_module_version": "1.2.0",
            "_model_name": "LayoutModel",
            "_view_count": null,
            "_view_module": "@jupyter-widgets/base",
            "_view_module_version": "1.2.0",
            "_view_name": "LayoutView",
            "align_content": null,
            "align_items": null,
            "align_self": null,
            "border": null,
            "bottom": null,
            "display": null,
            "flex": null,
            "flex_flow": null,
            "grid_area": null,
            "grid_auto_columns": null,
            "grid_auto_flow": null,
            "grid_auto_rows": null,
            "grid_column": null,
            "grid_gap": null,
            "grid_row": null,
            "grid_template_areas": null,
            "grid_template_columns": null,
            "grid_template_rows": null,
            "height": null,
            "justify_content": null,
            "justify_items": null,
            "left": null,
            "margin": null,
            "max_height": null,
            "max_width": null,
            "min_height": null,
            "min_width": null,
            "object_fit": null,
            "object_position": null,
            "order": null,
            "overflow": null,
            "overflow_x": null,
            "overflow_y": null,
            "padding": null,
            "right": null,
            "top": null,
            "visibility": null,
            "width": null
          }
        },
        "f6d0afeb7f9a44b8b31e2a54f46d5ee4": {
          "model_module": "@jupyter-widgets/base",
          "model_name": "LayoutModel",
          "model_module_version": "1.2.0",
          "state": {
            "_model_module": "@jupyter-widgets/base",
            "_model_module_version": "1.2.0",
            "_model_name": "LayoutModel",
            "_view_count": null,
            "_view_module": "@jupyter-widgets/base",
            "_view_module_version": "1.2.0",
            "_view_name": "LayoutView",
            "align_content": null,
            "align_items": null,
            "align_self": null,
            "border": null,
            "bottom": null,
            "display": null,
            "flex": null,
            "flex_flow": null,
            "grid_area": null,
            "grid_auto_columns": null,
            "grid_auto_flow": null,
            "grid_auto_rows": null,
            "grid_column": null,
            "grid_gap": null,
            "grid_row": null,
            "grid_template_areas": null,
            "grid_template_columns": null,
            "grid_template_rows": null,
            "height": null,
            "justify_content": null,
            "justify_items": null,
            "left": null,
            "margin": null,
            "max_height": null,
            "max_width": null,
            "min_height": null,
            "min_width": null,
            "object_fit": null,
            "object_position": null,
            "order": null,
            "overflow": null,
            "overflow_x": null,
            "overflow_y": null,
            "padding": null,
            "right": null,
            "top": null,
            "visibility": null,
            "width": null
          }
        },
        "8816eca57e5e4a269d0c97c07ad2193d": {
          "model_module": "@jupyter-widgets/controls",
          "model_name": "DescriptionStyleModel",
          "model_module_version": "1.5.0",
          "state": {
            "_model_module": "@jupyter-widgets/controls",
            "_model_module_version": "1.5.0",
            "_model_name": "DescriptionStyleModel",
            "_view_count": null,
            "_view_module": "@jupyter-widgets/base",
            "_view_module_version": "1.2.0",
            "_view_name": "StyleView",
            "description_width": ""
          }
        },
        "a9349eaf53db430bb53fc2e5b2fbcd30": {
          "model_module": "@jupyter-widgets/base",
          "model_name": "LayoutModel",
          "model_module_version": "1.2.0",
          "state": {
            "_model_module": "@jupyter-widgets/base",
            "_model_module_version": "1.2.0",
            "_model_name": "LayoutModel",
            "_view_count": null,
            "_view_module": "@jupyter-widgets/base",
            "_view_module_version": "1.2.0",
            "_view_name": "LayoutView",
            "align_content": null,
            "align_items": null,
            "align_self": null,
            "border": null,
            "bottom": null,
            "display": null,
            "flex": null,
            "flex_flow": null,
            "grid_area": null,
            "grid_auto_columns": null,
            "grid_auto_flow": null,
            "grid_auto_rows": null,
            "grid_column": null,
            "grid_gap": null,
            "grid_row": null,
            "grid_template_areas": null,
            "grid_template_columns": null,
            "grid_template_rows": null,
            "height": null,
            "justify_content": null,
            "justify_items": null,
            "left": null,
            "margin": null,
            "max_height": null,
            "max_width": null,
            "min_height": null,
            "min_width": null,
            "object_fit": null,
            "object_position": null,
            "order": null,
            "overflow": null,
            "overflow_x": null,
            "overflow_y": null,
            "padding": null,
            "right": null,
            "top": null,
            "visibility": null,
            "width": null
          }
        },
        "cdd8576b33f646c6ab4f56685b80fc0c": {
          "model_module": "@jupyter-widgets/controls",
          "model_name": "ProgressStyleModel",
          "model_module_version": "1.5.0",
          "state": {
            "_model_module": "@jupyter-widgets/controls",
            "_model_module_version": "1.5.0",
            "_model_name": "ProgressStyleModel",
            "_view_count": null,
            "_view_module": "@jupyter-widgets/base",
            "_view_module_version": "1.2.0",
            "_view_name": "StyleView",
            "bar_color": null,
            "description_width": ""
          }
        },
        "8541d927f0664ddc8a910d8ff4219e0e": {
          "model_module": "@jupyter-widgets/base",
          "model_name": "LayoutModel",
          "model_module_version": "1.2.0",
          "state": {
            "_model_module": "@jupyter-widgets/base",
            "_model_module_version": "1.2.0",
            "_model_name": "LayoutModel",
            "_view_count": null,
            "_view_module": "@jupyter-widgets/base",
            "_view_module_version": "1.2.0",
            "_view_name": "LayoutView",
            "align_content": null,
            "align_items": null,
            "align_self": null,
            "border": null,
            "bottom": null,
            "display": null,
            "flex": null,
            "flex_flow": null,
            "grid_area": null,
            "grid_auto_columns": null,
            "grid_auto_flow": null,
            "grid_auto_rows": null,
            "grid_column": null,
            "grid_gap": null,
            "grid_row": null,
            "grid_template_areas": null,
            "grid_template_columns": null,
            "grid_template_rows": null,
            "height": null,
            "justify_content": null,
            "justify_items": null,
            "left": null,
            "margin": null,
            "max_height": null,
            "max_width": null,
            "min_height": null,
            "min_width": null,
            "object_fit": null,
            "object_position": null,
            "order": null,
            "overflow": null,
            "overflow_x": null,
            "overflow_y": null,
            "padding": null,
            "right": null,
            "top": null,
            "visibility": null,
            "width": null
          }
        },
        "2e374fa4cc1b49c3ac521aea1d14ff16": {
          "model_module": "@jupyter-widgets/controls",
          "model_name": "DescriptionStyleModel",
          "model_module_version": "1.5.0",
          "state": {
            "_model_module": "@jupyter-widgets/controls",
            "_model_module_version": "1.5.0",
            "_model_name": "DescriptionStyleModel",
            "_view_count": null,
            "_view_module": "@jupyter-widgets/base",
            "_view_module_version": "1.2.0",
            "_view_name": "StyleView",
            "description_width": ""
          }
        },
        "11ba80d9f6704df8a6f8a007dc39861e": {
          "model_module": "@jupyter-widgets/controls",
          "model_name": "HBoxModel",
          "model_module_version": "1.5.0",
          "state": {
            "_dom_classes": [],
            "_model_module": "@jupyter-widgets/controls",
            "_model_module_version": "1.5.0",
            "_model_name": "HBoxModel",
            "_view_count": null,
            "_view_module": "@jupyter-widgets/controls",
            "_view_module_version": "1.5.0",
            "_view_name": "HBoxView",
            "box_style": "",
            "children": [
              "IPY_MODEL_b0b81c28cd184484a32df669e96a7e1b",
              "IPY_MODEL_fb955d48c91249828ed3ebcb3121be25",
              "IPY_MODEL_6cc972592e6a4d8c804fa3b46ccbc940"
            ],
            "layout": "IPY_MODEL_c356f3de630c42cc82aa2971c57d0b64"
          }
        },
        "b0b81c28cd184484a32df669e96a7e1b": {
          "model_module": "@jupyter-widgets/controls",
          "model_name": "HTMLModel",
          "model_module_version": "1.5.0",
          "state": {
            "_dom_classes": [],
            "_model_module": "@jupyter-widgets/controls",
            "_model_module_version": "1.5.0",
            "_model_name": "HTMLModel",
            "_view_count": null,
            "_view_module": "@jupyter-widgets/controls",
            "_view_module_version": "1.5.0",
            "_view_name": "HTMLView",
            "description": "",
            "description_tooltip": null,
            "layout": "IPY_MODEL_1909c8d0fcea4aea878dcdeb1a87d416",
            "placeholder": "​",
            "style": "IPY_MODEL_34b6ea86f5264c0a9f418bb8a56fef14",
            "value": "Map: 100%"
          }
        },
        "fb955d48c91249828ed3ebcb3121be25": {
          "model_module": "@jupyter-widgets/controls",
          "model_name": "FloatProgressModel",
          "model_module_version": "1.5.0",
          "state": {
            "_dom_classes": [],
            "_model_module": "@jupyter-widgets/controls",
            "_model_module_version": "1.5.0",
            "_model_name": "FloatProgressModel",
            "_view_count": null,
            "_view_module": "@jupyter-widgets/controls",
            "_view_module_version": "1.5.0",
            "_view_name": "ProgressView",
            "bar_style": "success",
            "description": "",
            "description_tooltip": null,
            "layout": "IPY_MODEL_bd072d24f57d4ae98d9f40f87815978e",
            "max": 1000,
            "min": 0,
            "orientation": "horizontal",
            "style": "IPY_MODEL_c85cebfc1a1b4ec6bf33067a715a6a37",
            "value": 1000
          }
        },
        "6cc972592e6a4d8c804fa3b46ccbc940": {
          "model_module": "@jupyter-widgets/controls",
          "model_name": "HTMLModel",
          "model_module_version": "1.5.0",
          "state": {
            "_dom_classes": [],
            "_model_module": "@jupyter-widgets/controls",
            "_model_module_version": "1.5.0",
            "_model_name": "HTMLModel",
            "_view_count": null,
            "_view_module": "@jupyter-widgets/controls",
            "_view_module_version": "1.5.0",
            "_view_name": "HTMLView",
            "description": "",
            "description_tooltip": null,
            "layout": "IPY_MODEL_32d9fd2491e84485a981fab2433c4146",
            "placeholder": "​",
            "style": "IPY_MODEL_411922d1542b46ec899e6d9ed57825fa",
            "value": " 1000/1000 [00:00&lt;00:00, 3745.68 examples/s]"
          }
        },
        "c356f3de630c42cc82aa2971c57d0b64": {
          "model_module": "@jupyter-widgets/base",
          "model_name": "LayoutModel",
          "model_module_version": "1.2.0",
          "state": {
            "_model_module": "@jupyter-widgets/base",
            "_model_module_version": "1.2.0",
            "_model_name": "LayoutModel",
            "_view_count": null,
            "_view_module": "@jupyter-widgets/base",
            "_view_module_version": "1.2.0",
            "_view_name": "LayoutView",
            "align_content": null,
            "align_items": null,
            "align_self": null,
            "border": null,
            "bottom": null,
            "display": null,
            "flex": null,
            "flex_flow": null,
            "grid_area": null,
            "grid_auto_columns": null,
            "grid_auto_flow": null,
            "grid_auto_rows": null,
            "grid_column": null,
            "grid_gap": null,
            "grid_row": null,
            "grid_template_areas": null,
            "grid_template_columns": null,
            "grid_template_rows": null,
            "height": null,
            "justify_content": null,
            "justify_items": null,
            "left": null,
            "margin": null,
            "max_height": null,
            "max_width": null,
            "min_height": null,
            "min_width": null,
            "object_fit": null,
            "object_position": null,
            "order": null,
            "overflow": null,
            "overflow_x": null,
            "overflow_y": null,
            "padding": null,
            "right": null,
            "top": null,
            "visibility": null,
            "width": null
          }
        },
        "1909c8d0fcea4aea878dcdeb1a87d416": {
          "model_module": "@jupyter-widgets/base",
          "model_name": "LayoutModel",
          "model_module_version": "1.2.0",
          "state": {
            "_model_module": "@jupyter-widgets/base",
            "_model_module_version": "1.2.0",
            "_model_name": "LayoutModel",
            "_view_count": null,
            "_view_module": "@jupyter-widgets/base",
            "_view_module_version": "1.2.0",
            "_view_name": "LayoutView",
            "align_content": null,
            "align_items": null,
            "align_self": null,
            "border": null,
            "bottom": null,
            "display": null,
            "flex": null,
            "flex_flow": null,
            "grid_area": null,
            "grid_auto_columns": null,
            "grid_auto_flow": null,
            "grid_auto_rows": null,
            "grid_column": null,
            "grid_gap": null,
            "grid_row": null,
            "grid_template_areas": null,
            "grid_template_columns": null,
            "grid_template_rows": null,
            "height": null,
            "justify_content": null,
            "justify_items": null,
            "left": null,
            "margin": null,
            "max_height": null,
            "max_width": null,
            "min_height": null,
            "min_width": null,
            "object_fit": null,
            "object_position": null,
            "order": null,
            "overflow": null,
            "overflow_x": null,
            "overflow_y": null,
            "padding": null,
            "right": null,
            "top": null,
            "visibility": null,
            "width": null
          }
        },
        "34b6ea86f5264c0a9f418bb8a56fef14": {
          "model_module": "@jupyter-widgets/controls",
          "model_name": "DescriptionStyleModel",
          "model_module_version": "1.5.0",
          "state": {
            "_model_module": "@jupyter-widgets/controls",
            "_model_module_version": "1.5.0",
            "_model_name": "DescriptionStyleModel",
            "_view_count": null,
            "_view_module": "@jupyter-widgets/base",
            "_view_module_version": "1.2.0",
            "_view_name": "StyleView",
            "description_width": ""
          }
        },
        "bd072d24f57d4ae98d9f40f87815978e": {
          "model_module": "@jupyter-widgets/base",
          "model_name": "LayoutModel",
          "model_module_version": "1.2.0",
          "state": {
            "_model_module": "@jupyter-widgets/base",
            "_model_module_version": "1.2.0",
            "_model_name": "LayoutModel",
            "_view_count": null,
            "_view_module": "@jupyter-widgets/base",
            "_view_module_version": "1.2.0",
            "_view_name": "LayoutView",
            "align_content": null,
            "align_items": null,
            "align_self": null,
            "border": null,
            "bottom": null,
            "display": null,
            "flex": null,
            "flex_flow": null,
            "grid_area": null,
            "grid_auto_columns": null,
            "grid_auto_flow": null,
            "grid_auto_rows": null,
            "grid_column": null,
            "grid_gap": null,
            "grid_row": null,
            "grid_template_areas": null,
            "grid_template_columns": null,
            "grid_template_rows": null,
            "height": null,
            "justify_content": null,
            "justify_items": null,
            "left": null,
            "margin": null,
            "max_height": null,
            "max_width": null,
            "min_height": null,
            "min_width": null,
            "object_fit": null,
            "object_position": null,
            "order": null,
            "overflow": null,
            "overflow_x": null,
            "overflow_y": null,
            "padding": null,
            "right": null,
            "top": null,
            "visibility": null,
            "width": null
          }
        },
        "c85cebfc1a1b4ec6bf33067a715a6a37": {
          "model_module": "@jupyter-widgets/controls",
          "model_name": "ProgressStyleModel",
          "model_module_version": "1.5.0",
          "state": {
            "_model_module": "@jupyter-widgets/controls",
            "_model_module_version": "1.5.0",
            "_model_name": "ProgressStyleModel",
            "_view_count": null,
            "_view_module": "@jupyter-widgets/base",
            "_view_module_version": "1.2.0",
            "_view_name": "StyleView",
            "bar_color": null,
            "description_width": ""
          }
        },
        "32d9fd2491e84485a981fab2433c4146": {
          "model_module": "@jupyter-widgets/base",
          "model_name": "LayoutModel",
          "model_module_version": "1.2.0",
          "state": {
            "_model_module": "@jupyter-widgets/base",
            "_model_module_version": "1.2.0",
            "_model_name": "LayoutModel",
            "_view_count": null,
            "_view_module": "@jupyter-widgets/base",
            "_view_module_version": "1.2.0",
            "_view_name": "LayoutView",
            "align_content": null,
            "align_items": null,
            "align_self": null,
            "border": null,
            "bottom": null,
            "display": null,
            "flex": null,
            "flex_flow": null,
            "grid_area": null,
            "grid_auto_columns": null,
            "grid_auto_flow": null,
            "grid_auto_rows": null,
            "grid_column": null,
            "grid_gap": null,
            "grid_row": null,
            "grid_template_areas": null,
            "grid_template_columns": null,
            "grid_template_rows": null,
            "height": null,
            "justify_content": null,
            "justify_items": null,
            "left": null,
            "margin": null,
            "max_height": null,
            "max_width": null,
            "min_height": null,
            "min_width": null,
            "object_fit": null,
            "object_position": null,
            "order": null,
            "overflow": null,
            "overflow_x": null,
            "overflow_y": null,
            "padding": null,
            "right": null,
            "top": null,
            "visibility": null,
            "width": null
          }
        },
        "411922d1542b46ec899e6d9ed57825fa": {
          "model_module": "@jupyter-widgets/controls",
          "model_name": "DescriptionStyleModel",
          "model_module_version": "1.5.0",
          "state": {
            "_model_module": "@jupyter-widgets/controls",
            "_model_module_version": "1.5.0",
            "_model_name": "DescriptionStyleModel",
            "_view_count": null,
            "_view_module": "@jupyter-widgets/base",
            "_view_module_version": "1.2.0",
            "_view_name": "StyleView",
            "description_width": ""
          }
        },
        "4093e366f9d544fe83cc86a8cb307633": {
          "model_module": "@jupyter-widgets/controls",
          "model_name": "HBoxModel",
          "model_module_version": "1.5.0",
          "state": {
            "_dom_classes": [],
            "_model_module": "@jupyter-widgets/controls",
            "_model_module_version": "1.5.0",
            "_model_name": "HBoxModel",
            "_view_count": null,
            "_view_module": "@jupyter-widgets/controls",
            "_view_module_version": "1.5.0",
            "_view_name": "HBoxView",
            "box_style": "",
            "children": [
              "IPY_MODEL_43094d889e704eeb85674a8f59f12a11",
              "IPY_MODEL_478a6c30b07a48ef94775345da8cd189",
              "IPY_MODEL_6967a14693ba499b81ceb0d6f9ebe696"
            ],
            "layout": "IPY_MODEL_eb98cfb99d824ecfb38120129a9443ff"
          }
        },
        "43094d889e704eeb85674a8f59f12a11": {
          "model_module": "@jupyter-widgets/controls",
          "model_name": "HTMLModel",
          "model_module_version": "1.5.0",
          "state": {
            "_dom_classes": [],
            "_model_module": "@jupyter-widgets/controls",
            "_model_module_version": "1.5.0",
            "_model_name": "HTMLModel",
            "_view_count": null,
            "_view_module": "@jupyter-widgets/controls",
            "_view_module_version": "1.5.0",
            "_view_name": "HTMLView",
            "description": "",
            "description_tooltip": null,
            "layout": "IPY_MODEL_2e3e50a6086340c2baa82b00866271fa",
            "placeholder": "​",
            "style": "IPY_MODEL_eb1597c53c1a4f46b15954a23c2b13b5",
            "value": "Downloading builder script: 100%"
          }
        },
        "478a6c30b07a48ef94775345da8cd189": {
          "model_module": "@jupyter-widgets/controls",
          "model_name": "FloatProgressModel",
          "model_module_version": "1.5.0",
          "state": {
            "_dom_classes": [],
            "_model_module": "@jupyter-widgets/controls",
            "_model_module_version": "1.5.0",
            "_model_name": "FloatProgressModel",
            "_view_count": null,
            "_view_module": "@jupyter-widgets/controls",
            "_view_module_version": "1.5.0",
            "_view_name": "ProgressView",
            "bar_style": "success",
            "description": "",
            "description_tooltip": null,
            "layout": "IPY_MODEL_b71023aac9d84c5c996de23755062c5b",
            "max": 5937,
            "min": 0,
            "orientation": "horizontal",
            "style": "IPY_MODEL_7d5d9f5796684a65bbcc18eb51d858dc",
            "value": 5937
          }
        },
        "6967a14693ba499b81ceb0d6f9ebe696": {
          "model_module": "@jupyter-widgets/controls",
          "model_name": "HTMLModel",
          "model_module_version": "1.5.0",
          "state": {
            "_dom_classes": [],
            "_model_module": "@jupyter-widgets/controls",
            "_model_module_version": "1.5.0",
            "_model_name": "HTMLModel",
            "_view_count": null,
            "_view_module": "@jupyter-widgets/controls",
            "_view_module_version": "1.5.0",
            "_view_name": "HTMLView",
            "description": "",
            "description_tooltip": null,
            "layout": "IPY_MODEL_9c5df144c90d4e25883ecd130639316b",
            "placeholder": "​",
            "style": "IPY_MODEL_efd25297995940139b7fc26f0e6302c6",
            "value": " 5.94k/5.94k [00:00&lt;00:00, 328kB/s]"
          }
        },
        "eb98cfb99d824ecfb38120129a9443ff": {
          "model_module": "@jupyter-widgets/base",
          "model_name": "LayoutModel",
          "model_module_version": "1.2.0",
          "state": {
            "_model_module": "@jupyter-widgets/base",
            "_model_module_version": "1.2.0",
            "_model_name": "LayoutModel",
            "_view_count": null,
            "_view_module": "@jupyter-widgets/base",
            "_view_module_version": "1.2.0",
            "_view_name": "LayoutView",
            "align_content": null,
            "align_items": null,
            "align_self": null,
            "border": null,
            "bottom": null,
            "display": null,
            "flex": null,
            "flex_flow": null,
            "grid_area": null,
            "grid_auto_columns": null,
            "grid_auto_flow": null,
            "grid_auto_rows": null,
            "grid_column": null,
            "grid_gap": null,
            "grid_row": null,
            "grid_template_areas": null,
            "grid_template_columns": null,
            "grid_template_rows": null,
            "height": null,
            "justify_content": null,
            "justify_items": null,
            "left": null,
            "margin": null,
            "max_height": null,
            "max_width": null,
            "min_height": null,
            "min_width": null,
            "object_fit": null,
            "object_position": null,
            "order": null,
            "overflow": null,
            "overflow_x": null,
            "overflow_y": null,
            "padding": null,
            "right": null,
            "top": null,
            "visibility": null,
            "width": null
          }
        },
        "2e3e50a6086340c2baa82b00866271fa": {
          "model_module": "@jupyter-widgets/base",
          "model_name": "LayoutModel",
          "model_module_version": "1.2.0",
          "state": {
            "_model_module": "@jupyter-widgets/base",
            "_model_module_version": "1.2.0",
            "_model_name": "LayoutModel",
            "_view_count": null,
            "_view_module": "@jupyter-widgets/base",
            "_view_module_version": "1.2.0",
            "_view_name": "LayoutView",
            "align_content": null,
            "align_items": null,
            "align_self": null,
            "border": null,
            "bottom": null,
            "display": null,
            "flex": null,
            "flex_flow": null,
            "grid_area": null,
            "grid_auto_columns": null,
            "grid_auto_flow": null,
            "grid_auto_rows": null,
            "grid_column": null,
            "grid_gap": null,
            "grid_row": null,
            "grid_template_areas": null,
            "grid_template_columns": null,
            "grid_template_rows": null,
            "height": null,
            "justify_content": null,
            "justify_items": null,
            "left": null,
            "margin": null,
            "max_height": null,
            "max_width": null,
            "min_height": null,
            "min_width": null,
            "object_fit": null,
            "object_position": null,
            "order": null,
            "overflow": null,
            "overflow_x": null,
            "overflow_y": null,
            "padding": null,
            "right": null,
            "top": null,
            "visibility": null,
            "width": null
          }
        },
        "eb1597c53c1a4f46b15954a23c2b13b5": {
          "model_module": "@jupyter-widgets/controls",
          "model_name": "DescriptionStyleModel",
          "model_module_version": "1.5.0",
          "state": {
            "_model_module": "@jupyter-widgets/controls",
            "_model_module_version": "1.5.0",
            "_model_name": "DescriptionStyleModel",
            "_view_count": null,
            "_view_module": "@jupyter-widgets/base",
            "_view_module_version": "1.2.0",
            "_view_name": "StyleView",
            "description_width": ""
          }
        },
        "b71023aac9d84c5c996de23755062c5b": {
          "model_module": "@jupyter-widgets/base",
          "model_name": "LayoutModel",
          "model_module_version": "1.2.0",
          "state": {
            "_model_module": "@jupyter-widgets/base",
            "_model_module_version": "1.2.0",
            "_model_name": "LayoutModel",
            "_view_count": null,
            "_view_module": "@jupyter-widgets/base",
            "_view_module_version": "1.2.0",
            "_view_name": "LayoutView",
            "align_content": null,
            "align_items": null,
            "align_self": null,
            "border": null,
            "bottom": null,
            "display": null,
            "flex": null,
            "flex_flow": null,
            "grid_area": null,
            "grid_auto_columns": null,
            "grid_auto_flow": null,
            "grid_auto_rows": null,
            "grid_column": null,
            "grid_gap": null,
            "grid_row": null,
            "grid_template_areas": null,
            "grid_template_columns": null,
            "grid_template_rows": null,
            "height": null,
            "justify_content": null,
            "justify_items": null,
            "left": null,
            "margin": null,
            "max_height": null,
            "max_width": null,
            "min_height": null,
            "min_width": null,
            "object_fit": null,
            "object_position": null,
            "order": null,
            "overflow": null,
            "overflow_x": null,
            "overflow_y": null,
            "padding": null,
            "right": null,
            "top": null,
            "visibility": null,
            "width": null
          }
        },
        "7d5d9f5796684a65bbcc18eb51d858dc": {
          "model_module": "@jupyter-widgets/controls",
          "model_name": "ProgressStyleModel",
          "model_module_version": "1.5.0",
          "state": {
            "_model_module": "@jupyter-widgets/controls",
            "_model_module_version": "1.5.0",
            "_model_name": "ProgressStyleModel",
            "_view_count": null,
            "_view_module": "@jupyter-widgets/base",
            "_view_module_version": "1.2.0",
            "_view_name": "StyleView",
            "bar_color": null,
            "description_width": ""
          }
        },
        "9c5df144c90d4e25883ecd130639316b": {
          "model_module": "@jupyter-widgets/base",
          "model_name": "LayoutModel",
          "model_module_version": "1.2.0",
          "state": {
            "_model_module": "@jupyter-widgets/base",
            "_model_module_version": "1.2.0",
            "_model_name": "LayoutModel",
            "_view_count": null,
            "_view_module": "@jupyter-widgets/base",
            "_view_module_version": "1.2.0",
            "_view_name": "LayoutView",
            "align_content": null,
            "align_items": null,
            "align_self": null,
            "border": null,
            "bottom": null,
            "display": null,
            "flex": null,
            "flex_flow": null,
            "grid_area": null,
            "grid_auto_columns": null,
            "grid_auto_flow": null,
            "grid_auto_rows": null,
            "grid_column": null,
            "grid_gap": null,
            "grid_row": null,
            "grid_template_areas": null,
            "grid_template_columns": null,
            "grid_template_rows": null,
            "height": null,
            "justify_content": null,
            "justify_items": null,
            "left": null,
            "margin": null,
            "max_height": null,
            "max_width": null,
            "min_height": null,
            "min_width": null,
            "object_fit": null,
            "object_position": null,
            "order": null,
            "overflow": null,
            "overflow_x": null,
            "overflow_y": null,
            "padding": null,
            "right": null,
            "top": null,
            "visibility": null,
            "width": null
          }
        },
        "efd25297995940139b7fc26f0e6302c6": {
          "model_module": "@jupyter-widgets/controls",
          "model_name": "DescriptionStyleModel",
          "model_module_version": "1.5.0",
          "state": {
            "_model_module": "@jupyter-widgets/controls",
            "_model_module_version": "1.5.0",
            "_model_name": "DescriptionStyleModel",
            "_view_count": null,
            "_view_module": "@jupyter-widgets/base",
            "_view_module_version": "1.2.0",
            "_view_name": "StyleView",
            "description_width": ""
          }
        },
        "231262743e424067a657f848737e8572": {
          "model_module": "@jupyter-widgets/controls",
          "model_name": "HBoxModel",
          "model_module_version": "1.5.0",
          "state": {
            "_dom_classes": [],
            "_model_module": "@jupyter-widgets/controls",
            "_model_module_version": "1.5.0",
            "_model_name": "HBoxModel",
            "_view_count": null,
            "_view_module": "@jupyter-widgets/controls",
            "_view_module_version": "1.5.0",
            "_view_name": "HBoxView",
            "box_style": "",
            "children": [
              "IPY_MODEL_ed4afa71b1494a20927af6d74e780637",
              "IPY_MODEL_62650a68681e413fb5108365c1edf626",
              "IPY_MODEL_e94a6100f82f4eb587ef6cb999755d64"
            ],
            "layout": "IPY_MODEL_c828b8dc4b2446bebc594b755f522315"
          }
        },
        "ed4afa71b1494a20927af6d74e780637": {
          "model_module": "@jupyter-widgets/controls",
          "model_name": "HTMLModel",
          "model_module_version": "1.5.0",
          "state": {
            "_dom_classes": [],
            "_model_module": "@jupyter-widgets/controls",
            "_model_module_version": "1.5.0",
            "_model_name": "HTMLModel",
            "_view_count": null,
            "_view_module": "@jupyter-widgets/controls",
            "_view_module_version": "1.5.0",
            "_view_name": "HTMLView",
            "description": "",
            "description_tooltip": null,
            "layout": "IPY_MODEL_26464f50134c4473a0c35a9c53ea380c",
            "placeholder": "​",
            "style": "IPY_MODEL_d1c506fd6f334f37b8c5e00cc09b6070",
            "value": "Downloading extra modules: "
          }
        },
        "62650a68681e413fb5108365c1edf626": {
          "model_module": "@jupyter-widgets/controls",
          "model_name": "FloatProgressModel",
          "model_module_version": "1.5.0",
          "state": {
            "_dom_classes": [],
            "_model_module": "@jupyter-widgets/controls",
            "_model_module_version": "1.5.0",
            "_model_name": "FloatProgressModel",
            "_view_count": null,
            "_view_module": "@jupyter-widgets/controls",
            "_view_module_version": "1.5.0",
            "_view_name": "ProgressView",
            "bar_style": "success",
            "description": "",
            "description_tooltip": null,
            "layout": "IPY_MODEL_3736981197424e68b9fc4fcd07996e68",
            "max": 1554,
            "min": 0,
            "orientation": "horizontal",
            "style": "IPY_MODEL_e4d103fbff484965a930122af33e762d",
            "value": 1554
          }
        },
        "e94a6100f82f4eb587ef6cb999755d64": {
          "model_module": "@jupyter-widgets/controls",
          "model_name": "HTMLModel",
          "model_module_version": "1.5.0",
          "state": {
            "_dom_classes": [],
            "_model_module": "@jupyter-widgets/controls",
            "_model_module_version": "1.5.0",
            "_model_name": "HTMLModel",
            "_view_count": null,
            "_view_module": "@jupyter-widgets/controls",
            "_view_module_version": "1.5.0",
            "_view_name": "HTMLView",
            "description": "",
            "description_tooltip": null,
            "layout": "IPY_MODEL_beb229357dcc4fd99c2d50925f6c6366",
            "placeholder": "​",
            "style": "IPY_MODEL_50104bf090df4b488715f7e907d8c6e6",
            "value": " 4.07k/? [00:00&lt;00:00, 275kB/s]"
          }
        },
        "c828b8dc4b2446bebc594b755f522315": {
          "model_module": "@jupyter-widgets/base",
          "model_name": "LayoutModel",
          "model_module_version": "1.2.0",
          "state": {
            "_model_module": "@jupyter-widgets/base",
            "_model_module_version": "1.2.0",
            "_model_name": "LayoutModel",
            "_view_count": null,
            "_view_module": "@jupyter-widgets/base",
            "_view_module_version": "1.2.0",
            "_view_name": "LayoutView",
            "align_content": null,
            "align_items": null,
            "align_self": null,
            "border": null,
            "bottom": null,
            "display": null,
            "flex": null,
            "flex_flow": null,
            "grid_area": null,
            "grid_auto_columns": null,
            "grid_auto_flow": null,
            "grid_auto_rows": null,
            "grid_column": null,
            "grid_gap": null,
            "grid_row": null,
            "grid_template_areas": null,
            "grid_template_columns": null,
            "grid_template_rows": null,
            "height": null,
            "justify_content": null,
            "justify_items": null,
            "left": null,
            "margin": null,
            "max_height": null,
            "max_width": null,
            "min_height": null,
            "min_width": null,
            "object_fit": null,
            "object_position": null,
            "order": null,
            "overflow": null,
            "overflow_x": null,
            "overflow_y": null,
            "padding": null,
            "right": null,
            "top": null,
            "visibility": null,
            "width": null
          }
        },
        "26464f50134c4473a0c35a9c53ea380c": {
          "model_module": "@jupyter-widgets/base",
          "model_name": "LayoutModel",
          "model_module_version": "1.2.0",
          "state": {
            "_model_module": "@jupyter-widgets/base",
            "_model_module_version": "1.2.0",
            "_model_name": "LayoutModel",
            "_view_count": null,
            "_view_module": "@jupyter-widgets/base",
            "_view_module_version": "1.2.0",
            "_view_name": "LayoutView",
            "align_content": null,
            "align_items": null,
            "align_self": null,
            "border": null,
            "bottom": null,
            "display": null,
            "flex": null,
            "flex_flow": null,
            "grid_area": null,
            "grid_auto_columns": null,
            "grid_auto_flow": null,
            "grid_auto_rows": null,
            "grid_column": null,
            "grid_gap": null,
            "grid_row": null,
            "grid_template_areas": null,
            "grid_template_columns": null,
            "grid_template_rows": null,
            "height": null,
            "justify_content": null,
            "justify_items": null,
            "left": null,
            "margin": null,
            "max_height": null,
            "max_width": null,
            "min_height": null,
            "min_width": null,
            "object_fit": null,
            "object_position": null,
            "order": null,
            "overflow": null,
            "overflow_x": null,
            "overflow_y": null,
            "padding": null,
            "right": null,
            "top": null,
            "visibility": null,
            "width": null
          }
        },
        "d1c506fd6f334f37b8c5e00cc09b6070": {
          "model_module": "@jupyter-widgets/controls",
          "model_name": "DescriptionStyleModel",
          "model_module_version": "1.5.0",
          "state": {
            "_model_module": "@jupyter-widgets/controls",
            "_model_module_version": "1.5.0",
            "_model_name": "DescriptionStyleModel",
            "_view_count": null,
            "_view_module": "@jupyter-widgets/base",
            "_view_module_version": "1.2.0",
            "_view_name": "StyleView",
            "description_width": ""
          }
        },
        "3736981197424e68b9fc4fcd07996e68": {
          "model_module": "@jupyter-widgets/base",
          "model_name": "LayoutModel",
          "model_module_version": "1.2.0",
          "state": {
            "_model_module": "@jupyter-widgets/base",
            "_model_module_version": "1.2.0",
            "_model_name": "LayoutModel",
            "_view_count": null,
            "_view_module": "@jupyter-widgets/base",
            "_view_module_version": "1.2.0",
            "_view_name": "LayoutView",
            "align_content": null,
            "align_items": null,
            "align_self": null,
            "border": null,
            "bottom": null,
            "display": null,
            "flex": null,
            "flex_flow": null,
            "grid_area": null,
            "grid_auto_columns": null,
            "grid_auto_flow": null,
            "grid_auto_rows": null,
            "grid_column": null,
            "grid_gap": null,
            "grid_row": null,
            "grid_template_areas": null,
            "grid_template_columns": null,
            "grid_template_rows": null,
            "height": null,
            "justify_content": null,
            "justify_items": null,
            "left": null,
            "margin": null,
            "max_height": null,
            "max_width": null,
            "min_height": null,
            "min_width": null,
            "object_fit": null,
            "object_position": null,
            "order": null,
            "overflow": null,
            "overflow_x": null,
            "overflow_y": null,
            "padding": null,
            "right": null,
            "top": null,
            "visibility": null,
            "width": null
          }
        },
        "e4d103fbff484965a930122af33e762d": {
          "model_module": "@jupyter-widgets/controls",
          "model_name": "ProgressStyleModel",
          "model_module_version": "1.5.0",
          "state": {
            "_model_module": "@jupyter-widgets/controls",
            "_model_module_version": "1.5.0",
            "_model_name": "ProgressStyleModel",
            "_view_count": null,
            "_view_module": "@jupyter-widgets/base",
            "_view_module_version": "1.2.0",
            "_view_name": "StyleView",
            "bar_color": null,
            "description_width": ""
          }
        },
        "beb229357dcc4fd99c2d50925f6c6366": {
          "model_module": "@jupyter-widgets/base",
          "model_name": "LayoutModel",
          "model_module_version": "1.2.0",
          "state": {
            "_model_module": "@jupyter-widgets/base",
            "_model_module_version": "1.2.0",
            "_model_name": "LayoutModel",
            "_view_count": null,
            "_view_module": "@jupyter-widgets/base",
            "_view_module_version": "1.2.0",
            "_view_name": "LayoutView",
            "align_content": null,
            "align_items": null,
            "align_self": null,
            "border": null,
            "bottom": null,
            "display": null,
            "flex": null,
            "flex_flow": null,
            "grid_area": null,
            "grid_auto_columns": null,
            "grid_auto_flow": null,
            "grid_auto_rows": null,
            "grid_column": null,
            "grid_gap": null,
            "grid_row": null,
            "grid_template_areas": null,
            "grid_template_columns": null,
            "grid_template_rows": null,
            "height": null,
            "justify_content": null,
            "justify_items": null,
            "left": null,
            "margin": null,
            "max_height": null,
            "max_width": null,
            "min_height": null,
            "min_width": null,
            "object_fit": null,
            "object_position": null,
            "order": null,
            "overflow": null,
            "overflow_x": null,
            "overflow_y": null,
            "padding": null,
            "right": null,
            "top": null,
            "visibility": null,
            "width": null
          }
        },
        "50104bf090df4b488715f7e907d8c6e6": {
          "model_module": "@jupyter-widgets/controls",
          "model_name": "DescriptionStyleModel",
          "model_module_version": "1.5.0",
          "state": {
            "_model_module": "@jupyter-widgets/controls",
            "_model_module_version": "1.5.0",
            "_model_name": "DescriptionStyleModel",
            "_view_count": null,
            "_view_module": "@jupyter-widgets/base",
            "_view_module_version": "1.2.0",
            "_view_name": "StyleView",
            "description_width": ""
          }
        },
        "74e76200971f4e9880f30b6232dc4a28": {
          "model_module": "@jupyter-widgets/controls",
          "model_name": "HBoxModel",
          "model_module_version": "1.5.0",
          "state": {
            "_dom_classes": [],
            "_model_module": "@jupyter-widgets/controls",
            "_model_module_version": "1.5.0",
            "_model_name": "HBoxModel",
            "_view_count": null,
            "_view_module": "@jupyter-widgets/controls",
            "_view_module_version": "1.5.0",
            "_view_name": "HBoxView",
            "box_style": "",
            "children": [
              "IPY_MODEL_36aa2556d0f548e48d26cba4b065ca22",
              "IPY_MODEL_be3b1d0dcb1245329bbc5b2c63a24320",
              "IPY_MODEL_740dc9e0164b4d8681da432bccda0b0d"
            ],
            "layout": "IPY_MODEL_1bff8ac4e25c4ad0b9a1ae260d47153a"
          }
        },
        "36aa2556d0f548e48d26cba4b065ca22": {
          "model_module": "@jupyter-widgets/controls",
          "model_name": "HTMLModel",
          "model_module_version": "1.5.0",
          "state": {
            "_dom_classes": [],
            "_model_module": "@jupyter-widgets/controls",
            "_model_module_version": "1.5.0",
            "_model_name": "HTMLModel",
            "_view_count": null,
            "_view_module": "@jupyter-widgets/controls",
            "_view_module_version": "1.5.0",
            "_view_name": "HTMLView",
            "description": "",
            "description_tooltip": null,
            "layout": "IPY_MODEL_a326eb83faa04e45a796670409b8ec84",
            "placeholder": "​",
            "style": "IPY_MODEL_d46d694d7d8d46a396b32dc4daa987c1",
            "value": "Downloading extra modules: 100%"
          }
        },
        "be3b1d0dcb1245329bbc5b2c63a24320": {
          "model_module": "@jupyter-widgets/controls",
          "model_name": "FloatProgressModel",
          "model_module_version": "1.5.0",
          "state": {
            "_dom_classes": [],
            "_model_module": "@jupyter-widgets/controls",
            "_model_module_version": "1.5.0",
            "_model_name": "FloatProgressModel",
            "_view_count": null,
            "_view_module": "@jupyter-widgets/controls",
            "_view_module_version": "1.5.0",
            "_view_name": "ProgressView",
            "bar_style": "success",
            "description": "",
            "description_tooltip": null,
            "layout": "IPY_MODEL_fcdcb2fe67f140448ed605a164fc03aa",
            "max": 3344,
            "min": 0,
            "orientation": "horizontal",
            "style": "IPY_MODEL_cf8feba36021461fbc36633e94c34551",
            "value": 3344
          }
        },
        "740dc9e0164b4d8681da432bccda0b0d": {
          "model_module": "@jupyter-widgets/controls",
          "model_name": "HTMLModel",
          "model_module_version": "1.5.0",
          "state": {
            "_dom_classes": [],
            "_model_module": "@jupyter-widgets/controls",
            "_model_module_version": "1.5.0",
            "_model_name": "HTMLModel",
            "_view_count": null,
            "_view_module": "@jupyter-widgets/controls",
            "_view_module_version": "1.5.0",
            "_view_name": "HTMLView",
            "description": "",
            "description_tooltip": null,
            "layout": "IPY_MODEL_55659d0834f747539f031e816e919136",
            "placeholder": "​",
            "style": "IPY_MODEL_08e3fae6ab754dc79add4d5b52ea1b87",
            "value": " 3.34k/3.34k [00:00&lt;00:00, 243kB/s]"
          }
        },
        "1bff8ac4e25c4ad0b9a1ae260d47153a": {
          "model_module": "@jupyter-widgets/base",
          "model_name": "LayoutModel",
          "model_module_version": "1.2.0",
          "state": {
            "_model_module": "@jupyter-widgets/base",
            "_model_module_version": "1.2.0",
            "_model_name": "LayoutModel",
            "_view_count": null,
            "_view_module": "@jupyter-widgets/base",
            "_view_module_version": "1.2.0",
            "_view_name": "LayoutView",
            "align_content": null,
            "align_items": null,
            "align_self": null,
            "border": null,
            "bottom": null,
            "display": null,
            "flex": null,
            "flex_flow": null,
            "grid_area": null,
            "grid_auto_columns": null,
            "grid_auto_flow": null,
            "grid_auto_rows": null,
            "grid_column": null,
            "grid_gap": null,
            "grid_row": null,
            "grid_template_areas": null,
            "grid_template_columns": null,
            "grid_template_rows": null,
            "height": null,
            "justify_content": null,
            "justify_items": null,
            "left": null,
            "margin": null,
            "max_height": null,
            "max_width": null,
            "min_height": null,
            "min_width": null,
            "object_fit": null,
            "object_position": null,
            "order": null,
            "overflow": null,
            "overflow_x": null,
            "overflow_y": null,
            "padding": null,
            "right": null,
            "top": null,
            "visibility": null,
            "width": null
          }
        },
        "a326eb83faa04e45a796670409b8ec84": {
          "model_module": "@jupyter-widgets/base",
          "model_name": "LayoutModel",
          "model_module_version": "1.2.0",
          "state": {
            "_model_module": "@jupyter-widgets/base",
            "_model_module_version": "1.2.0",
            "_model_name": "LayoutModel",
            "_view_count": null,
            "_view_module": "@jupyter-widgets/base",
            "_view_module_version": "1.2.0",
            "_view_name": "LayoutView",
            "align_content": null,
            "align_items": null,
            "align_self": null,
            "border": null,
            "bottom": null,
            "display": null,
            "flex": null,
            "flex_flow": null,
            "grid_area": null,
            "grid_auto_columns": null,
            "grid_auto_flow": null,
            "grid_auto_rows": null,
            "grid_column": null,
            "grid_gap": null,
            "grid_row": null,
            "grid_template_areas": null,
            "grid_template_columns": null,
            "grid_template_rows": null,
            "height": null,
            "justify_content": null,
            "justify_items": null,
            "left": null,
            "margin": null,
            "max_height": null,
            "max_width": null,
            "min_height": null,
            "min_width": null,
            "object_fit": null,
            "object_position": null,
            "order": null,
            "overflow": null,
            "overflow_x": null,
            "overflow_y": null,
            "padding": null,
            "right": null,
            "top": null,
            "visibility": null,
            "width": null
          }
        },
        "d46d694d7d8d46a396b32dc4daa987c1": {
          "model_module": "@jupyter-widgets/controls",
          "model_name": "DescriptionStyleModel",
          "model_module_version": "1.5.0",
          "state": {
            "_model_module": "@jupyter-widgets/controls",
            "_model_module_version": "1.5.0",
            "_model_name": "DescriptionStyleModel",
            "_view_count": null,
            "_view_module": "@jupyter-widgets/base",
            "_view_module_version": "1.2.0",
            "_view_name": "StyleView",
            "description_width": ""
          }
        },
        "fcdcb2fe67f140448ed605a164fc03aa": {
          "model_module": "@jupyter-widgets/base",
          "model_name": "LayoutModel",
          "model_module_version": "1.2.0",
          "state": {
            "_model_module": "@jupyter-widgets/base",
            "_model_module_version": "1.2.0",
            "_model_name": "LayoutModel",
            "_view_count": null,
            "_view_module": "@jupyter-widgets/base",
            "_view_module_version": "1.2.0",
            "_view_name": "LayoutView",
            "align_content": null,
            "align_items": null,
            "align_self": null,
            "border": null,
            "bottom": null,
            "display": null,
            "flex": null,
            "flex_flow": null,
            "grid_area": null,
            "grid_auto_columns": null,
            "grid_auto_flow": null,
            "grid_auto_rows": null,
            "grid_column": null,
            "grid_gap": null,
            "grid_row": null,
            "grid_template_areas": null,
            "grid_template_columns": null,
            "grid_template_rows": null,
            "height": null,
            "justify_content": null,
            "justify_items": null,
            "left": null,
            "margin": null,
            "max_height": null,
            "max_width": null,
            "min_height": null,
            "min_width": null,
            "object_fit": null,
            "object_position": null,
            "order": null,
            "overflow": null,
            "overflow_x": null,
            "overflow_y": null,
            "padding": null,
            "right": null,
            "top": null,
            "visibility": null,
            "width": null
          }
        },
        "cf8feba36021461fbc36633e94c34551": {
          "model_module": "@jupyter-widgets/controls",
          "model_name": "ProgressStyleModel",
          "model_module_version": "1.5.0",
          "state": {
            "_model_module": "@jupyter-widgets/controls",
            "_model_module_version": "1.5.0",
            "_model_name": "ProgressStyleModel",
            "_view_count": null,
            "_view_module": "@jupyter-widgets/base",
            "_view_module_version": "1.2.0",
            "_view_name": "StyleView",
            "bar_color": null,
            "description_width": ""
          }
        },
        "55659d0834f747539f031e816e919136": {
          "model_module": "@jupyter-widgets/base",
          "model_name": "LayoutModel",
          "model_module_version": "1.2.0",
          "state": {
            "_model_module": "@jupyter-widgets/base",
            "_model_module_version": "1.2.0",
            "_model_name": "LayoutModel",
            "_view_count": null,
            "_view_module": "@jupyter-widgets/base",
            "_view_module_version": "1.2.0",
            "_view_name": "LayoutView",
            "align_content": null,
            "align_items": null,
            "align_self": null,
            "border": null,
            "bottom": null,
            "display": null,
            "flex": null,
            "flex_flow": null,
            "grid_area": null,
            "grid_auto_columns": null,
            "grid_auto_flow": null,
            "grid_auto_rows": null,
            "grid_column": null,
            "grid_gap": null,
            "grid_row": null,
            "grid_template_areas": null,
            "grid_template_columns": null,
            "grid_template_rows": null,
            "height": null,
            "justify_content": null,
            "justify_items": null,
            "left": null,
            "margin": null,
            "max_height": null,
            "max_width": null,
            "min_height": null,
            "min_width": null,
            "object_fit": null,
            "object_position": null,
            "order": null,
            "overflow": null,
            "overflow_x": null,
            "overflow_y": null,
            "padding": null,
            "right": null,
            "top": null,
            "visibility": null,
            "width": null
          }
        },
        "08e3fae6ab754dc79add4d5b52ea1b87": {
          "model_module": "@jupyter-widgets/controls",
          "model_name": "DescriptionStyleModel",
          "model_module_version": "1.5.0",
          "state": {
            "_model_module": "@jupyter-widgets/controls",
            "_model_module_version": "1.5.0",
            "_model_name": "DescriptionStyleModel",
            "_view_count": null,
            "_view_module": "@jupyter-widgets/base",
            "_view_module_version": "1.2.0",
            "_view_name": "StyleView",
            "description_width": ""
          }
        }
      }
    },
    "accelerator": "GPU"
  },
  "cells": [
    {
      "cell_type": "markdown",
      "source": [
        "![image.png](data:image/png;base64,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)"
      ],
      "metadata": {
        "id": "NWs6KykhCDSH"
      }
    },
    {
      "cell_type": "markdown",
      "source": [
        "# **WorkFlow**"
      ],
      "metadata": {
        "id": "ZGql78ndC9iJ"
      }
    },
    {
      "cell_type": "markdown",
      "source": [
        "0. import important libraries\n",
        "1. prepare your data (spacy)\n",
        "2. Build a Seq2Seq model\n",
        "3. Pick a loss function and optimizer\n",
        "4. training function and evaluate function\n",
        "5. staring model training\n",
        "6. test you model"
      ],
      "metadata": {
        "id": "q7rLe92IC_Xh"
      }
    },
    {
      "cell_type": "markdown",
      "source": [
        "# **0. Import important modules (library)**"
      ],
      "metadata": {
        "id": "PB_5QuiKDk5o"
      }
    },
    {
      "cell_type": "code",
      "execution_count": 1,
      "metadata": {
        "colab": {
          "base_uri": "https://localhost:8080/"
        },
        "id": "798YIOvh95gj",
        "outputId": "bfae4240-c61d-4f66-930d-4228ab110d2b"
      },
      "outputs": [
        {
          "output_type": "stream",
          "name": "stdout",
          "text": [
            "Collecting datasets\n",
            "  Downloading datasets-2.19.0-py3-none-any.whl (542 kB)\n",
            "\u001b[2K     \u001b[90m━━━━━━━━━━━━━━━━━━━━━━━━━━━━━━━━━━━━━━━━\u001b[0m \u001b[32m542.0/542.0 kB\u001b[0m \u001b[31m8.7 MB/s\u001b[0m eta \u001b[36m0:00:00\u001b[0m\n",
            "\u001b[?25hCollecting evaluate\n",
            "  Downloading evaluate-0.4.1-py3-none-any.whl (84 kB)\n",
            "\u001b[2K     \u001b[90m━━━━━━━━━━━━━━━━━━━━━━━━━━━━━━━━━━━━━━━━\u001b[0m \u001b[32m84.1/84.1 kB\u001b[0m \u001b[31m8.7 MB/s\u001b[0m eta \u001b[36m0:00:00\u001b[0m\n",
            "\u001b[?25hRequirement already satisfied: filelock in /usr/local/lib/python3.10/dist-packages (from datasets) (3.13.4)\n",
            "Requirement already satisfied: numpy>=1.17 in /usr/local/lib/python3.10/dist-packages (from datasets) (1.25.2)\n",
            "Requirement already satisfied: pyarrow>=12.0.0 in /usr/local/lib/python3.10/dist-packages (from datasets) (14.0.2)\n",
            "Requirement already satisfied: pyarrow-hotfix in /usr/local/lib/python3.10/dist-packages (from datasets) (0.6)\n",
            "Collecting dill<0.3.9,>=0.3.0 (from datasets)\n",
            "  Downloading dill-0.3.8-py3-none-any.whl (116 kB)\n",
            "\u001b[2K     \u001b[90m━━━━━━━━━━━━━━━━━━━━━━━━━━━━━━━━━━━━━━━━\u001b[0m \u001b[32m116.3/116.3 kB\u001b[0m \u001b[31m9.4 MB/s\u001b[0m eta \u001b[36m0:00:00\u001b[0m\n",
            "\u001b[?25hRequirement already satisfied: pandas in /usr/local/lib/python3.10/dist-packages (from datasets) (2.0.3)\n",
            "Requirement already satisfied: requests>=2.19.0 in /usr/local/lib/python3.10/dist-packages (from datasets) (2.31.0)\n",
            "Requirement already satisfied: tqdm>=4.62.1 in /usr/local/lib/python3.10/dist-packages (from datasets) (4.66.2)\n",
            "Collecting xxhash (from datasets)\n",
            "  Downloading xxhash-3.4.1-cp310-cp310-manylinux_2_17_x86_64.manylinux2014_x86_64.whl (194 kB)\n",
            "\u001b[2K     \u001b[90m━━━━━━━━━━━━━━━━━━━━━━━━━━━━━━━━━━━━━━━━\u001b[0m \u001b[32m194.1/194.1 kB\u001b[0m \u001b[31m2.4 MB/s\u001b[0m eta \u001b[36m0:00:00\u001b[0m\n",
            "\u001b[?25hCollecting multiprocess (from datasets)\n",
            "  Downloading multiprocess-0.70.16-py310-none-any.whl (134 kB)\n",
            "\u001b[2K     \u001b[90m━━━━━━━━━━━━━━━━━━━━━━━━━━━━━━━━━━━━━━━━\u001b[0m \u001b[32m134.8/134.8 kB\u001b[0m \u001b[31m11.1 MB/s\u001b[0m eta \u001b[36m0:00:00\u001b[0m\n",
            "\u001b[?25hRequirement already satisfied: fsspec[http]<=2024.3.1,>=2023.1.0 in /usr/local/lib/python3.10/dist-packages (from datasets) (2023.6.0)\n",
            "Requirement already satisfied: aiohttp in /usr/local/lib/python3.10/dist-packages (from datasets) (3.9.5)\n",
            "Collecting huggingface-hub>=0.21.2 (from datasets)\n",
            "  Downloading huggingface_hub-0.22.2-py3-none-any.whl (388 kB)\n",
            "\u001b[2K     \u001b[90m━━━━━━━━━━━━━━━━━━━━━━━━━━━━━━━━━━━━━━━━\u001b[0m \u001b[32m388.9/388.9 kB\u001b[0m \u001b[31m20.3 MB/s\u001b[0m eta \u001b[36m0:00:00\u001b[0m\n",
            "\u001b[?25hRequirement already satisfied: packaging in /usr/local/lib/python3.10/dist-packages (from datasets) (24.0)\n",
            "Requirement already satisfied: pyyaml>=5.1 in /usr/local/lib/python3.10/dist-packages (from datasets) (6.0.1)\n",
            "Collecting responses<0.19 (from evaluate)\n",
            "  Downloading responses-0.18.0-py3-none-any.whl (38 kB)\n",
            "Requirement already satisfied: aiosignal>=1.1.2 in /usr/local/lib/python3.10/dist-packages (from aiohttp->datasets) (1.3.1)\n",
            "Requirement already satisfied: attrs>=17.3.0 in /usr/local/lib/python3.10/dist-packages (from aiohttp->datasets) (23.2.0)\n",
            "Requirement already satisfied: frozenlist>=1.1.1 in /usr/local/lib/python3.10/dist-packages (from aiohttp->datasets) (1.4.1)\n",
            "Requirement already satisfied: multidict<7.0,>=4.5 in /usr/local/lib/python3.10/dist-packages (from aiohttp->datasets) (6.0.5)\n",
            "Requirement already satisfied: yarl<2.0,>=1.0 in /usr/local/lib/python3.10/dist-packages (from aiohttp->datasets) (1.9.4)\n",
            "Requirement already satisfied: async-timeout<5.0,>=4.0 in /usr/local/lib/python3.10/dist-packages (from aiohttp->datasets) (4.0.3)\n",
            "Requirement already satisfied: typing-extensions>=3.7.4.3 in /usr/local/lib/python3.10/dist-packages (from huggingface-hub>=0.21.2->datasets) (4.11.0)\n",
            "Requirement already satisfied: charset-normalizer<4,>=2 in /usr/local/lib/python3.10/dist-packages (from requests>=2.19.0->datasets) (3.3.2)\n",
            "Requirement already satisfied: idna<4,>=2.5 in /usr/local/lib/python3.10/dist-packages (from requests>=2.19.0->datasets) (3.7)\n",
            "Requirement already satisfied: urllib3<3,>=1.21.1 in /usr/local/lib/python3.10/dist-packages (from requests>=2.19.0->datasets) (2.0.7)\n",
            "Requirement already satisfied: certifi>=2017.4.17 in /usr/local/lib/python3.10/dist-packages (from requests>=2.19.0->datasets) (2024.2.2)\n",
            "Requirement already satisfied: python-dateutil>=2.8.2 in /usr/local/lib/python3.10/dist-packages (from pandas->datasets) (2.8.2)\n",
            "Requirement already satisfied: pytz>=2020.1 in /usr/local/lib/python3.10/dist-packages (from pandas->datasets) (2023.4)\n",
            "Requirement already satisfied: tzdata>=2022.1 in /usr/local/lib/python3.10/dist-packages (from pandas->datasets) (2024.1)\n",
            "Requirement already satisfied: six>=1.5 in /usr/local/lib/python3.10/dist-packages (from python-dateutil>=2.8.2->pandas->datasets) (1.16.0)\n",
            "Installing collected packages: xxhash, dill, responses, multiprocess, huggingface-hub, datasets, evaluate\n",
            "  Attempting uninstall: huggingface-hub\n",
            "    Found existing installation: huggingface-hub 0.20.3\n",
            "    Uninstalling huggingface-hub-0.20.3:\n",
            "      Successfully uninstalled huggingface-hub-0.20.3\n",
            "Successfully installed datasets-2.19.0 dill-0.3.8 evaluate-0.4.1 huggingface-hub-0.22.2 multiprocess-0.70.16 responses-0.18.0 xxhash-3.4.1\n"
          ]
        }
      ],
      "source": [
        "!pip install datasets evaluate --upgrade"
      ]
    },
    {
      "cell_type": "code",
      "source": [
        "import torch\n",
        "import torch.nn as nn\n",
        "import torch.optim as optim\n",
        "import random\n",
        "import numpy as np\n",
        "import spacy\n",
        "import datasets\n",
        "import torchtext\n",
        "import tqdm\n",
        "import evaluate"
      ],
      "metadata": {
        "id": "VOZfFCeYDxyk"
      },
      "execution_count": 2,
      "outputs": []
    },
    {
      "cell_type": "markdown",
      "source": [
        "# **1. prepare your data**"
      ],
      "metadata": {
        "id": "CHRqsnhzFEk5"
      }
    },
    {
      "cell_type": "markdown",
      "source": [
        "1. Loading your data\n",
        "2. tokenize your data with spacy\n",
        "3. creating a vocabulary\n",
        "4. numericalizing our data\n",
        "5. convert data into tensors\n",
        "6. creating data loader (batches )"
      ],
      "metadata": {
        "id": "pG-J9uT4FJN9"
      }
    },
    {
      "cell_type": "markdown",
      "source": [
        "# **1.1 load your datasets**"
      ],
      "metadata": {
        "id": "JY53OChmFkWF"
      }
    },
    {
      "cell_type": "code",
      "source": [
        "dataset=datasets.load_dataset(\"bentrevett/multi30k\")"
      ],
      "metadata": {
        "colab": {
          "base_uri": "https://localhost:8080/",
          "height": 365,
          "referenced_widgets": [
            "be1dcfbe26264b78bfb217f2983c4881",
            "f7f5a73869154f6a84ff089fba11f714",
            "04198d37522d425eabad618618c1c83e",
            "9a026967093a49b8a3ce6d2e1bdc91f2",
            "c9243e0c70f24a47a7034cf80da25c7e",
            "8e15fd065df749e5b995aaddb60e5ba7",
            "9dd62e89d7694e509d843ed42d2a8814",
            "f084aefac89746058cdaf8cfe8016129",
            "214099bfa9df4254953213732f30ac78",
            "9adac9c049a746d9aab41854226ebf6c",
            "4c07cd7c11804a8a9dc063c04be84c87",
            "e4a1232c99b2430493aa01bfeae4da70",
            "76c2fbb3ba14442f95387443d29e9ef8",
            "59de271d0da24da490e1f2604c8b9d49",
            "f7eff97f274f4f1ead40d080121e86a6",
            "43d02d10281749a7bdeb3ac221016b59",
            "753e0399d68545bbbd14460a7f227412",
            "2de9f4af811f440887f0b0f259ff1120",
            "f9cc7a37b4a549679f8aa7734fec664f",
            "f571b64dad3f45a4b5d5f089571d396a",
            "cd4b2f5d62f8440cbb43fc08ae23373e",
            "975fde06103f4ddbb1b6b4bcb0b7f499",
            "c6d6c5635f8646d1b928de1a99803116",
            "c92abb113a2245e3aba2c7f189f04fb6",
            "cf295f78fe2a4a859f9e85bd30a8fc87",
            "a1fe34b80d6b4a23baa319e679890b4c",
            "2475cf804bd144d7ae9a16536946e0fd",
            "ff9e8252e6ab4a6096c27c2194a5d707",
            "b912b0f24f2e45bab4d89156d517f97b",
            "3f141a50d9a1493faf6af9f6bbc30990",
            "e7b8aa3671884dea9ab196d4e14cc8c5",
            "32bf5a849b2b44ce98ef91b294329ca5",
            "857a0e762221437f9391ffdc24471ec2",
            "9c90bd8922954417b47101cda41a34f1",
            "46ed46589a084aa5b181f29ff6588a70",
            "41a89c609dce43fdba36f0355485fb97",
            "b228c48cd62b400d85b59c61d15e6857",
            "14c0879498264ed7bbe4964ccf281c47",
            "49b8fcd84d1a40acaef136e552d4ef41",
            "01062a151e8b4424b462cdb7c8068909",
            "bf37a5e6778d402d85144bc25dcee431",
            "047f549c7f384796950df95af7825c36",
            "ba175d29d4b54fd0b585a71713d45ac7",
            "467eac029b2f4ceca925193a296346f8",
            "79adafb3dc4d4b4fa5071101438b1f26",
            "f3f7b345f0f04a02bbf0bf8bc5b79021",
            "a54324a4c728410e8dd697e25701689a",
            "8d54577c071f4ad0a0b1f32fa0522353",
            "5e38029f29b643d5919ad50cca5dad34",
            "205a5d72af44477a8df9eade92273b6c",
            "e40292878ec744459d7da70d052390d9",
            "a6f93e32c42c4a80939eced8ac896f63",
            "9fb8844605184ca69f7b3aa48a7feb57",
            "8a0716c272d645cd9a1676e2637f0b46",
            "8406a065294d411ab7db549095954ce2",
            "254d1ab42d344776982db2b4e127f2ed",
            "fb3d38b1cc1c4bbca1458133972c22e0",
            "1c912266407445f69572d13165c13621",
            "4f78f69f0c5c47c3a4d6ed82f19ff595",
            "57a640860fea4059972f6705b2d84910",
            "5daf193f6a79489eb3fb3f30fc61baf0",
            "a4d12697a2d248828fc572de81b798a4",
            "7fc97cc490b042fab6408c00df980f76",
            "c0b6723607544e91ad547e2093c60309",
            "a486a1e6b2c147108408e824c58106ef",
            "24ed1fb25eb1496ca251ab4eeaa4992c",
            "e3070607e3df4234b026dc83fbb3eb76",
            "4b6936c5b39a44d29ff60ed58dc549f9",
            "3f8f1e74d4f14b91b076ccab4d6be749",
            "1564f739ad19450e89fbfd0c5d27b353",
            "a5dd612728654e8fb2c91d24679e1ac5",
            "2d66153404c9427c8217cc1bf1b6c1ea",
            "b5597040ced4476da05c759367b5e6bb",
            "c3a6df535ffc44e6905c7e0786f57e9c",
            "55ed7f45e7d746ec97a39530ec651933",
            "5b686cde854b445fa0c355dadf88de2c",
            "115a5df1ed674628a01ce4962201e35f"
          ]
        },
        "id": "ItV5bVG8FwaQ",
        "outputId": "1739eccc-d1c1-4313-a082-e1d0c1dc2a3c"
      },
      "execution_count": 3,
      "outputs": [
        {
          "output_type": "stream",
          "name": "stderr",
          "text": [
            "/usr/local/lib/python3.10/dist-packages/huggingface_hub/utils/_token.py:89: UserWarning: \n",
            "The secret `HF_TOKEN` does not exist in your Colab secrets.\n",
            "To authenticate with the Hugging Face Hub, create a token in your settings tab (https://huggingface.co/settings/tokens), set it as secret in your Google Colab and restart your session.\n",
            "You will be able to reuse this secret in all of your notebooks.\n",
            "Please note that authentication is recommended but still optional to access public models or datasets.\n",
            "  warnings.warn(\n"
          ]
        },
        {
          "output_type": "display_data",
          "data": {
            "text/plain": [
              "Downloading readme:   0%|          | 0.00/1.15k [00:00<?, ?B/s]"
            ],
            "application/vnd.jupyter.widget-view+json": {
              "version_major": 2,
              "version_minor": 0,
              "model_id": "be1dcfbe26264b78bfb217f2983c4881"
            }
          },
          "metadata": {}
        },
        {
          "output_type": "display_data",
          "data": {
            "text/plain": [
              "Downloading data:   0%|          | 0.00/4.60M [00:00<?, ?B/s]"
            ],
            "application/vnd.jupyter.widget-view+json": {
              "version_major": 2,
              "version_minor": 0,
              "model_id": "e4a1232c99b2430493aa01bfeae4da70"
            }
          },
          "metadata": {}
        },
        {
          "output_type": "display_data",
          "data": {
            "text/plain": [
              "Downloading data:   0%|          | 0.00/164k [00:00<?, ?B/s]"
            ],
            "application/vnd.jupyter.widget-view+json": {
              "version_major": 2,
              "version_minor": 0,
              "model_id": "c6d6c5635f8646d1b928de1a99803116"
            }
          },
          "metadata": {}
        },
        {
          "output_type": "display_data",
          "data": {
            "text/plain": [
              "Downloading data:   0%|          | 0.00/156k [00:00<?, ?B/s]"
            ],
            "application/vnd.jupyter.widget-view+json": {
              "version_major": 2,
              "version_minor": 0,
              "model_id": "9c90bd8922954417b47101cda41a34f1"
            }
          },
          "metadata": {}
        },
        {
          "output_type": "display_data",
          "data": {
            "text/plain": [
              "Generating train split:   0%|          | 0/29000 [00:00<?, ? examples/s]"
            ],
            "application/vnd.jupyter.widget-view+json": {
              "version_major": 2,
              "version_minor": 0,
              "model_id": "79adafb3dc4d4b4fa5071101438b1f26"
            }
          },
          "metadata": {}
        },
        {
          "output_type": "display_data",
          "data": {
            "text/plain": [
              "Generating validation split:   0%|          | 0/1014 [00:00<?, ? examples/s]"
            ],
            "application/vnd.jupyter.widget-view+json": {
              "version_major": 2,
              "version_minor": 0,
              "model_id": "254d1ab42d344776982db2b4e127f2ed"
            }
          },
          "metadata": {}
        },
        {
          "output_type": "display_data",
          "data": {
            "text/plain": [
              "Generating test split:   0%|          | 0/1000 [00:00<?, ? examples/s]"
            ],
            "application/vnd.jupyter.widget-view+json": {
              "version_major": 2,
              "version_minor": 0,
              "model_id": "e3070607e3df4234b026dc83fbb3eb76"
            }
          },
          "metadata": {}
        }
      ]
    },
    {
      "cell_type": "code",
      "source": [
        "dataset"
      ],
      "metadata": {
        "colab": {
          "base_uri": "https://localhost:8080/"
        },
        "id": "bi0tjV5gIKoh",
        "outputId": "0facea67-cf37-4172-8956-318a34361858"
      },
      "execution_count": 4,
      "outputs": [
        {
          "output_type": "execute_result",
          "data": {
            "text/plain": [
              "DatasetDict({\n",
              "    train: Dataset({\n",
              "        features: ['en', 'de'],\n",
              "        num_rows: 29000\n",
              "    })\n",
              "    validation: Dataset({\n",
              "        features: ['en', 'de'],\n",
              "        num_rows: 1014\n",
              "    })\n",
              "    test: Dataset({\n",
              "        features: ['en', 'de'],\n",
              "        num_rows: 1000\n",
              "    })\n",
              "})"
            ]
          },
          "metadata": {},
          "execution_count": 4
        }
      ]
    },
    {
      "cell_type": "code",
      "source": [
        "train_data,valid_data,test_data=(dataset[\"train\"],dataset[\"validation\"],dataset[\"test\"])"
      ],
      "metadata": {
        "id": "bsgcpMreIOGK"
      },
      "execution_count": 5,
      "outputs": []
    },
    {
      "cell_type": "code",
      "source": [
        "train_data"
      ],
      "metadata": {
        "colab": {
          "base_uri": "https://localhost:8080/"
        },
        "id": "IATJLiYwJ3tT",
        "outputId": "541006a3-a47b-4b2c-df0b-37f8447abbd8"
      },
      "execution_count": 6,
      "outputs": [
        {
          "output_type": "execute_result",
          "data": {
            "text/plain": [
              "Dataset({\n",
              "    features: ['en', 'de'],\n",
              "    num_rows: 29000\n",
              "})"
            ]
          },
          "metadata": {},
          "execution_count": 6
        }
      ]
    },
    {
      "cell_type": "code",
      "source": [
        "valid_data\n"
      ],
      "metadata": {
        "colab": {
          "base_uri": "https://localhost:8080/"
        },
        "id": "26NdMGE2J5jf",
        "outputId": "e93f0429-2fb9-4e20-e54d-7714154465b8"
      },
      "execution_count": 7,
      "outputs": [
        {
          "output_type": "execute_result",
          "data": {
            "text/plain": [
              "Dataset({\n",
              "    features: ['en', 'de'],\n",
              "    num_rows: 1014\n",
              "})"
            ]
          },
          "metadata": {},
          "execution_count": 7
        }
      ]
    },
    {
      "cell_type": "code",
      "source": [
        "test_data"
      ],
      "metadata": {
        "colab": {
          "base_uri": "https://localhost:8080/"
        },
        "id": "zCJoM7zrJ7xv",
        "outputId": "5780a794-44f1-4a17-b8e0-bf919f99fc05"
      },
      "execution_count": 8,
      "outputs": [
        {
          "output_type": "execute_result",
          "data": {
            "text/plain": [
              "Dataset({\n",
              "    features: ['en', 'de'],\n",
              "    num_rows: 1000\n",
              "})"
            ]
          },
          "metadata": {},
          "execution_count": 8
        }
      ]
    },
    {
      "cell_type": "code",
      "source": [
        "train_data[0]"
      ],
      "metadata": {
        "colab": {
          "base_uri": "https://localhost:8080/"
        },
        "id": "rqGTvsJ2J--U",
        "outputId": "c6ece045-3253-4c63-921a-aa36b4005847"
      },
      "execution_count": 9,
      "outputs": [
        {
          "output_type": "execute_result",
          "data": {
            "text/plain": [
              "{'en': 'Two young, White males are outside near many bushes.',\n",
              " 'de': 'Zwei junge weiße Männer sind im Freien in der Nähe vieler Büsche.'}"
            ]
          },
          "metadata": {},
          "execution_count": 9
        }
      ]
    },
    {
      "cell_type": "code",
      "source": [
        "test_data[0]"
      ],
      "metadata": {
        "colab": {
          "base_uri": "https://localhost:8080/"
        },
        "id": "IYmc18XQKSvm",
        "outputId": "2d6c7903-380f-437b-83b8-75c7ba7009c6"
      },
      "execution_count": 10,
      "outputs": [
        {
          "output_type": "execute_result",
          "data": {
            "text/plain": [
              "{'en': 'A man in an orange hat starring at something.',\n",
              " 'de': 'Ein Mann mit einem orangefarbenen Hut, der etwas anstarrt.'}"
            ]
          },
          "metadata": {},
          "execution_count": 10
        }
      ]
    },
    {
      "cell_type": "markdown",
      "source": [
        "# **1.2 Tokenize your data**"
      ],
      "metadata": {
        "id": "b6uFpmg3Kl-O"
      }
    },
    {
      "cell_type": "markdown",
      "source": [
        "Two young, White males are outside near many bushes\n",
        "**token**<br>\n",
        "[Two, young, White, males, are, outside, near, many, bushes]"
      ],
      "metadata": {
        "id": "h0VeG6PmKq22"
      }
    },
    {
      "cell_type": "code",
      "source": [
        "!python -m spacy download en_core_web_sm\n",
        "!python -m spacy download de_core_news_sm"
      ],
      "metadata": {
        "colab": {
          "base_uri": "https://localhost:8080/"
        },
        "id": "EN32l1cOLX0n",
        "outputId": "4f0b2267-3b4d-4ef7-e091-c87df8f4b0c2"
      },
      "execution_count": 11,
      "outputs": [
        {
          "output_type": "stream",
          "name": "stdout",
          "text": [
            "Collecting en-core-web-sm==3.7.1\n",
            "  Downloading https://github.com/explosion/spacy-models/releases/download/en_core_web_sm-3.7.1/en_core_web_sm-3.7.1-py3-none-any.whl (12.8 MB)\n",
            "\u001b[2K     \u001b[90m━━━━━━━━━━━━━━━━━━━━━━━━━━━━━━━━━━━━━━━━\u001b[0m \u001b[32m12.8/12.8 MB\u001b[0m \u001b[31m61.5 MB/s\u001b[0m eta \u001b[36m0:00:00\u001b[0m\n",
            "\u001b[?25hRequirement already satisfied: spacy<3.8.0,>=3.7.2 in /usr/local/lib/python3.10/dist-packages (from en-core-web-sm==3.7.1) (3.7.4)\n",
            "Requirement already satisfied: spacy-legacy<3.1.0,>=3.0.11 in /usr/local/lib/python3.10/dist-packages (from spacy<3.8.0,>=3.7.2->en-core-web-sm==3.7.1) (3.0.12)\n",
            "Requirement already satisfied: spacy-loggers<2.0.0,>=1.0.0 in /usr/local/lib/python3.10/dist-packages (from spacy<3.8.0,>=3.7.2->en-core-web-sm==3.7.1) (1.0.5)\n",
            "Requirement already satisfied: murmurhash<1.1.0,>=0.28.0 in /usr/local/lib/python3.10/dist-packages (from spacy<3.8.0,>=3.7.2->en-core-web-sm==3.7.1) (1.0.10)\n",
            "Requirement already satisfied: cymem<2.1.0,>=2.0.2 in /usr/local/lib/python3.10/dist-packages (from spacy<3.8.0,>=3.7.2->en-core-web-sm==3.7.1) (2.0.8)\n",
            "Requirement already satisfied: preshed<3.1.0,>=3.0.2 in /usr/local/lib/python3.10/dist-packages (from spacy<3.8.0,>=3.7.2->en-core-web-sm==3.7.1) (3.0.9)\n",
            "Requirement already satisfied: thinc<8.3.0,>=8.2.2 in /usr/local/lib/python3.10/dist-packages (from spacy<3.8.0,>=3.7.2->en-core-web-sm==3.7.1) (8.2.3)\n",
            "Requirement already satisfied: wasabi<1.2.0,>=0.9.1 in /usr/local/lib/python3.10/dist-packages (from spacy<3.8.0,>=3.7.2->en-core-web-sm==3.7.1) (1.1.2)\n",
            "Requirement already satisfied: srsly<3.0.0,>=2.4.3 in /usr/local/lib/python3.10/dist-packages (from spacy<3.8.0,>=3.7.2->en-core-web-sm==3.7.1) (2.4.8)\n",
            "Requirement already satisfied: catalogue<2.1.0,>=2.0.6 in /usr/local/lib/python3.10/dist-packages (from spacy<3.8.0,>=3.7.2->en-core-web-sm==3.7.1) (2.0.10)\n",
            "Requirement already satisfied: weasel<0.4.0,>=0.1.0 in /usr/local/lib/python3.10/dist-packages (from spacy<3.8.0,>=3.7.2->en-core-web-sm==3.7.1) (0.3.4)\n",
            "Requirement already satisfied: typer<0.10.0,>=0.3.0 in /usr/local/lib/python3.10/dist-packages (from spacy<3.8.0,>=3.7.2->en-core-web-sm==3.7.1) (0.9.4)\n",
            "Requirement already satisfied: smart-open<7.0.0,>=5.2.1 in /usr/local/lib/python3.10/dist-packages (from spacy<3.8.0,>=3.7.2->en-core-web-sm==3.7.1) (6.4.0)\n",
            "Requirement already satisfied: tqdm<5.0.0,>=4.38.0 in /usr/local/lib/python3.10/dist-packages (from spacy<3.8.0,>=3.7.2->en-core-web-sm==3.7.1) (4.66.2)\n",
            "Requirement already satisfied: requests<3.0.0,>=2.13.0 in /usr/local/lib/python3.10/dist-packages (from spacy<3.8.0,>=3.7.2->en-core-web-sm==3.7.1) (2.31.0)\n",
            "Requirement already satisfied: pydantic!=1.8,!=1.8.1,<3.0.0,>=1.7.4 in /usr/local/lib/python3.10/dist-packages (from spacy<3.8.0,>=3.7.2->en-core-web-sm==3.7.1) (2.7.0)\n",
            "Requirement already satisfied: jinja2 in /usr/local/lib/python3.10/dist-packages (from spacy<3.8.0,>=3.7.2->en-core-web-sm==3.7.1) (3.1.3)\n",
            "Requirement already satisfied: setuptools in /usr/local/lib/python3.10/dist-packages (from spacy<3.8.0,>=3.7.2->en-core-web-sm==3.7.1) (67.7.2)\n",
            "Requirement already satisfied: packaging>=20.0 in /usr/local/lib/python3.10/dist-packages (from spacy<3.8.0,>=3.7.2->en-core-web-sm==3.7.1) (24.0)\n",
            "Requirement already satisfied: langcodes<4.0.0,>=3.2.0 in /usr/local/lib/python3.10/dist-packages (from spacy<3.8.0,>=3.7.2->en-core-web-sm==3.7.1) (3.3.0)\n",
            "Requirement already satisfied: numpy>=1.19.0 in /usr/local/lib/python3.10/dist-packages (from spacy<3.8.0,>=3.7.2->en-core-web-sm==3.7.1) (1.25.2)\n",
            "Requirement already satisfied: annotated-types>=0.4.0 in /usr/local/lib/python3.10/dist-packages (from pydantic!=1.8,!=1.8.1,<3.0.0,>=1.7.4->spacy<3.8.0,>=3.7.2->en-core-web-sm==3.7.1) (0.6.0)\n",
            "Requirement already satisfied: pydantic-core==2.18.1 in /usr/local/lib/python3.10/dist-packages (from pydantic!=1.8,!=1.8.1,<3.0.0,>=1.7.4->spacy<3.8.0,>=3.7.2->en-core-web-sm==3.7.1) (2.18.1)\n",
            "Requirement already satisfied: typing-extensions>=4.6.1 in /usr/local/lib/python3.10/dist-packages (from pydantic!=1.8,!=1.8.1,<3.0.0,>=1.7.4->spacy<3.8.0,>=3.7.2->en-core-web-sm==3.7.1) (4.11.0)\n",
            "Requirement already satisfied: charset-normalizer<4,>=2 in /usr/local/lib/python3.10/dist-packages (from requests<3.0.0,>=2.13.0->spacy<3.8.0,>=3.7.2->en-core-web-sm==3.7.1) (3.3.2)\n",
            "Requirement already satisfied: idna<4,>=2.5 in /usr/local/lib/python3.10/dist-packages (from requests<3.0.0,>=2.13.0->spacy<3.8.0,>=3.7.2->en-core-web-sm==3.7.1) (3.7)\n",
            "Requirement already satisfied: urllib3<3,>=1.21.1 in /usr/local/lib/python3.10/dist-packages (from requests<3.0.0,>=2.13.0->spacy<3.8.0,>=3.7.2->en-core-web-sm==3.7.1) (2.0.7)\n",
            "Requirement already satisfied: certifi>=2017.4.17 in /usr/local/lib/python3.10/dist-packages (from requests<3.0.0,>=2.13.0->spacy<3.8.0,>=3.7.2->en-core-web-sm==3.7.1) (2024.2.2)\n",
            "Requirement already satisfied: blis<0.8.0,>=0.7.8 in /usr/local/lib/python3.10/dist-packages (from thinc<8.3.0,>=8.2.2->spacy<3.8.0,>=3.7.2->en-core-web-sm==3.7.1) (0.7.11)\n",
            "Requirement already satisfied: confection<1.0.0,>=0.0.1 in /usr/local/lib/python3.10/dist-packages (from thinc<8.3.0,>=8.2.2->spacy<3.8.0,>=3.7.2->en-core-web-sm==3.7.1) (0.1.4)\n",
            "Requirement already satisfied: click<9.0.0,>=7.1.1 in /usr/local/lib/python3.10/dist-packages (from typer<0.10.0,>=0.3.0->spacy<3.8.0,>=3.7.2->en-core-web-sm==3.7.1) (8.1.7)\n",
            "Requirement already satisfied: cloudpathlib<0.17.0,>=0.7.0 in /usr/local/lib/python3.10/dist-packages (from weasel<0.4.0,>=0.1.0->spacy<3.8.0,>=3.7.2->en-core-web-sm==3.7.1) (0.16.0)\n",
            "Requirement already satisfied: MarkupSafe>=2.0 in /usr/local/lib/python3.10/dist-packages (from jinja2->spacy<3.8.0,>=3.7.2->en-core-web-sm==3.7.1) (2.1.5)\n",
            "\u001b[38;5;2m✔ Download and installation successful\u001b[0m\n",
            "You can now load the package via spacy.load('en_core_web_sm')\n",
            "\u001b[38;5;3m⚠ Restart to reload dependencies\u001b[0m\n",
            "If you are in a Jupyter or Colab notebook, you may need to restart Python in\n",
            "order to load all the package's dependencies. You can do this by selecting the\n",
            "'Restart kernel' or 'Restart runtime' option.\n",
            "Collecting de-core-news-sm==3.7.0\n",
            "  Downloading https://github.com/explosion/spacy-models/releases/download/de_core_news_sm-3.7.0/de_core_news_sm-3.7.0-py3-none-any.whl (14.6 MB)\n",
            "\u001b[2K     \u001b[90m━━━━━━━━━━━━━━━━━━━━━━━━━━━━━━━━━━━━━━━━\u001b[0m \u001b[32m14.6/14.6 MB\u001b[0m \u001b[31m54.4 MB/s\u001b[0m eta \u001b[36m0:00:00\u001b[0m\n",
            "\u001b[?25hRequirement already satisfied: spacy<3.8.0,>=3.7.0 in /usr/local/lib/python3.10/dist-packages (from de-core-news-sm==3.7.0) (3.7.4)\n",
            "Requirement already satisfied: spacy-legacy<3.1.0,>=3.0.11 in /usr/local/lib/python3.10/dist-packages (from spacy<3.8.0,>=3.7.0->de-core-news-sm==3.7.0) (3.0.12)\n",
            "Requirement already satisfied: spacy-loggers<2.0.0,>=1.0.0 in /usr/local/lib/python3.10/dist-packages (from spacy<3.8.0,>=3.7.0->de-core-news-sm==3.7.0) (1.0.5)\n",
            "Requirement already satisfied: murmurhash<1.1.0,>=0.28.0 in /usr/local/lib/python3.10/dist-packages (from spacy<3.8.0,>=3.7.0->de-core-news-sm==3.7.0) (1.0.10)\n",
            "Requirement already satisfied: cymem<2.1.0,>=2.0.2 in /usr/local/lib/python3.10/dist-packages (from spacy<3.8.0,>=3.7.0->de-core-news-sm==3.7.0) (2.0.8)\n",
            "Requirement already satisfied: preshed<3.1.0,>=3.0.2 in /usr/local/lib/python3.10/dist-packages (from spacy<3.8.0,>=3.7.0->de-core-news-sm==3.7.0) (3.0.9)\n",
            "Requirement already satisfied: thinc<8.3.0,>=8.2.2 in /usr/local/lib/python3.10/dist-packages (from spacy<3.8.0,>=3.7.0->de-core-news-sm==3.7.0) (8.2.3)\n",
            "Requirement already satisfied: wasabi<1.2.0,>=0.9.1 in /usr/local/lib/python3.10/dist-packages (from spacy<3.8.0,>=3.7.0->de-core-news-sm==3.7.0) (1.1.2)\n",
            "Requirement already satisfied: srsly<3.0.0,>=2.4.3 in /usr/local/lib/python3.10/dist-packages (from spacy<3.8.0,>=3.7.0->de-core-news-sm==3.7.0) (2.4.8)\n",
            "Requirement already satisfied: catalogue<2.1.0,>=2.0.6 in /usr/local/lib/python3.10/dist-packages (from spacy<3.8.0,>=3.7.0->de-core-news-sm==3.7.0) (2.0.10)\n",
            "Requirement already satisfied: weasel<0.4.0,>=0.1.0 in /usr/local/lib/python3.10/dist-packages (from spacy<3.8.0,>=3.7.0->de-core-news-sm==3.7.0) (0.3.4)\n",
            "Requirement already satisfied: typer<0.10.0,>=0.3.0 in /usr/local/lib/python3.10/dist-packages (from spacy<3.8.0,>=3.7.0->de-core-news-sm==3.7.0) (0.9.4)\n",
            "Requirement already satisfied: smart-open<7.0.0,>=5.2.1 in /usr/local/lib/python3.10/dist-packages (from spacy<3.8.0,>=3.7.0->de-core-news-sm==3.7.0) (6.4.0)\n",
            "Requirement already satisfied: tqdm<5.0.0,>=4.38.0 in /usr/local/lib/python3.10/dist-packages (from spacy<3.8.0,>=3.7.0->de-core-news-sm==3.7.0) (4.66.2)\n",
            "Requirement already satisfied: requests<3.0.0,>=2.13.0 in /usr/local/lib/python3.10/dist-packages (from spacy<3.8.0,>=3.7.0->de-core-news-sm==3.7.0) (2.31.0)\n",
            "Requirement already satisfied: pydantic!=1.8,!=1.8.1,<3.0.0,>=1.7.4 in /usr/local/lib/python3.10/dist-packages (from spacy<3.8.0,>=3.7.0->de-core-news-sm==3.7.0) (2.7.0)\n",
            "Requirement already satisfied: jinja2 in /usr/local/lib/python3.10/dist-packages (from spacy<3.8.0,>=3.7.0->de-core-news-sm==3.7.0) (3.1.3)\n",
            "Requirement already satisfied: setuptools in /usr/local/lib/python3.10/dist-packages (from spacy<3.8.0,>=3.7.0->de-core-news-sm==3.7.0) (67.7.2)\n",
            "Requirement already satisfied: packaging>=20.0 in /usr/local/lib/python3.10/dist-packages (from spacy<3.8.0,>=3.7.0->de-core-news-sm==3.7.0) (24.0)\n",
            "Requirement already satisfied: langcodes<4.0.0,>=3.2.0 in /usr/local/lib/python3.10/dist-packages (from spacy<3.8.0,>=3.7.0->de-core-news-sm==3.7.0) (3.3.0)\n",
            "Requirement already satisfied: numpy>=1.19.0 in /usr/local/lib/python3.10/dist-packages (from spacy<3.8.0,>=3.7.0->de-core-news-sm==3.7.0) (1.25.2)\n",
            "Requirement already satisfied: annotated-types>=0.4.0 in /usr/local/lib/python3.10/dist-packages (from pydantic!=1.8,!=1.8.1,<3.0.0,>=1.7.4->spacy<3.8.0,>=3.7.0->de-core-news-sm==3.7.0) (0.6.0)\n",
            "Requirement already satisfied: pydantic-core==2.18.1 in /usr/local/lib/python3.10/dist-packages (from pydantic!=1.8,!=1.8.1,<3.0.0,>=1.7.4->spacy<3.8.0,>=3.7.0->de-core-news-sm==3.7.0) (2.18.1)\n",
            "Requirement already satisfied: typing-extensions>=4.6.1 in /usr/local/lib/python3.10/dist-packages (from pydantic!=1.8,!=1.8.1,<3.0.0,>=1.7.4->spacy<3.8.0,>=3.7.0->de-core-news-sm==3.7.0) (4.11.0)\n",
            "Requirement already satisfied: charset-normalizer<4,>=2 in /usr/local/lib/python3.10/dist-packages (from requests<3.0.0,>=2.13.0->spacy<3.8.0,>=3.7.0->de-core-news-sm==3.7.0) (3.3.2)\n",
            "Requirement already satisfied: idna<4,>=2.5 in /usr/local/lib/python3.10/dist-packages (from requests<3.0.0,>=2.13.0->spacy<3.8.0,>=3.7.0->de-core-news-sm==3.7.0) (3.7)\n",
            "Requirement already satisfied: urllib3<3,>=1.21.1 in /usr/local/lib/python3.10/dist-packages (from requests<3.0.0,>=2.13.0->spacy<3.8.0,>=3.7.0->de-core-news-sm==3.7.0) (2.0.7)\n",
            "Requirement already satisfied: certifi>=2017.4.17 in /usr/local/lib/python3.10/dist-packages (from requests<3.0.0,>=2.13.0->spacy<3.8.0,>=3.7.0->de-core-news-sm==3.7.0) (2024.2.2)\n",
            "Requirement already satisfied: blis<0.8.0,>=0.7.8 in /usr/local/lib/python3.10/dist-packages (from thinc<8.3.0,>=8.2.2->spacy<3.8.0,>=3.7.0->de-core-news-sm==3.7.0) (0.7.11)\n",
            "Requirement already satisfied: confection<1.0.0,>=0.0.1 in /usr/local/lib/python3.10/dist-packages (from thinc<8.3.0,>=8.2.2->spacy<3.8.0,>=3.7.0->de-core-news-sm==3.7.0) (0.1.4)\n",
            "Requirement already satisfied: click<9.0.0,>=7.1.1 in /usr/local/lib/python3.10/dist-packages (from typer<0.10.0,>=0.3.0->spacy<3.8.0,>=3.7.0->de-core-news-sm==3.7.0) (8.1.7)\n",
            "Requirement already satisfied: cloudpathlib<0.17.0,>=0.7.0 in /usr/local/lib/python3.10/dist-packages (from weasel<0.4.0,>=0.1.0->spacy<3.8.0,>=3.7.0->de-core-news-sm==3.7.0) (0.16.0)\n",
            "Requirement already satisfied: MarkupSafe>=2.0 in /usr/local/lib/python3.10/dist-packages (from jinja2->spacy<3.8.0,>=3.7.0->de-core-news-sm==3.7.0) (2.1.5)\n",
            "Installing collected packages: de-core-news-sm\n",
            "Successfully installed de-core-news-sm-3.7.0\n",
            "\u001b[38;5;2m✔ Download and installation successful\u001b[0m\n",
            "You can now load the package via spacy.load('de_core_news_sm')\n",
            "\u001b[38;5;3m⚠ Restart to reload dependencies\u001b[0m\n",
            "If you are in a Jupyter or Colab notebook, you may need to restart Python in\n",
            "order to load all the package's dependencies. You can do this by selecting the\n",
            "'Restart kernel' or 'Restart runtime' option.\n"
          ]
        }
      ]
    },
    {
      "cell_type": "code",
      "source": [
        "en_nlp=spacy.load(\"en_core_web_sm\")\n",
        "de_nlp=spacy.load(\"de_core_news_sm\")"
      ],
      "metadata": {
        "id": "_qtNJen4M14O"
      },
      "execution_count": 12,
      "outputs": []
    },
    {
      "cell_type": "code",
      "source": [
        "string=\"Ein Mann mit einem orangefarbenen Hut, der etwas anstarrt.\""
      ],
      "metadata": {
        "id": "RSZC0RtvNM4K"
      },
      "execution_count": 13,
      "outputs": []
    },
    {
      "cell_type": "code",
      "source": [
        "[token.text for token in de_nlp.tokenizer(string)]"
      ],
      "metadata": {
        "colab": {
          "base_uri": "https://localhost:8080/"
        },
        "id": "DQj-QaRhNs58",
        "outputId": "d4ea985e-d915-4f9c-a3af-e8727e82ab29"
      },
      "execution_count": 14,
      "outputs": [
        {
          "output_type": "execute_result",
          "data": {
            "text/plain": [
              "['Ein',\n",
              " 'Mann',\n",
              " 'mit',\n",
              " 'einem',\n",
              " 'orangefarbenen',\n",
              " 'Hut',\n",
              " ',',\n",
              " 'der',\n",
              " 'etwas',\n",
              " 'anstarrt',\n",
              " '.']"
            ]
          },
          "metadata": {},
          "execution_count": 14
        }
      ]
    },
    {
      "cell_type": "code",
      "source": [
        "train_data"
      ],
      "metadata": {
        "colab": {
          "base_uri": "https://localhost:8080/"
        },
        "id": "w2JRlnXTPdVn",
        "outputId": "c8559814-7bad-47db-c4d2-5a5ca0fc9da8"
      },
      "execution_count": 15,
      "outputs": [
        {
          "output_type": "execute_result",
          "data": {
            "text/plain": [
              "Dataset({\n",
              "    features: ['en', 'de'],\n",
              "    num_rows: 29000\n",
              "})"
            ]
          },
          "metadata": {},
          "execution_count": 15
        }
      ]
    },
    {
      "cell_type": "code",
      "source": [
        "train_data[0]"
      ],
      "metadata": {
        "colab": {
          "base_uri": "https://localhost:8080/"
        },
        "id": "Po7qK-ntQAR_",
        "outputId": "ba7f5eb4-6be5-4c8f-de65-86df077a7a87"
      },
      "execution_count": 16,
      "outputs": [
        {
          "output_type": "execute_result",
          "data": {
            "text/plain": [
              "{'en': 'Two young, White males are outside near many bushes.',\n",
              " 'de': 'Zwei junge weiße Männer sind im Freien in der Nähe vieler Büsche.'}"
            ]
          },
          "metadata": {},
          "execution_count": 16
        }
      ]
    },
    {
      "cell_type": "markdown",
      "source": [
        "the, The"
      ],
      "metadata": {
        "id": "IYs5V3JzQ3u8"
      }
    },
    {
      "cell_type": "code",
      "source": [
        "train_data"
      ],
      "metadata": {
        "colab": {
          "base_uri": "https://localhost:8080/"
        },
        "id": "ux_RZkvZTOLP",
        "outputId": "e14c2066-cc74-4d49-9b0a-32add6a4e731"
      },
      "execution_count": 17,
      "outputs": [
        {
          "output_type": "execute_result",
          "data": {
            "text/plain": [
              "Dataset({\n",
              "    features: ['en', 'de'],\n",
              "    num_rows: 29000\n",
              "})"
            ]
          },
          "metadata": {},
          "execution_count": 17
        }
      ]
    },
    {
      "cell_type": "code",
      "source": [
        "train_data[0]"
      ],
      "metadata": {
        "colab": {
          "base_uri": "https://localhost:8080/"
        },
        "id": "4RPcIwvUTQBE",
        "outputId": "f836827e-58fa-4e49-e483-993afe0e2067"
      },
      "execution_count": 18,
      "outputs": [
        {
          "output_type": "execute_result",
          "data": {
            "text/plain": [
              "{'en': 'Two young, White males are outside near many bushes.',\n",
              " 'de': 'Zwei junge weiße Männer sind im Freien in der Nähe vieler Büsche.'}"
            ]
          },
          "metadata": {},
          "execution_count": 18
        }
      ]
    },
    {
      "cell_type": "code",
      "source": [
        "def tokenize_example(example,en_nlp,de_nlp,max_length,lower,sos_token,eos_token):\n",
        "  en_tokens=[token.text for token in en_nlp.tokenizer(example[\"en\"])][:max_length]\n",
        "  de_tokens=[token.text  for token in de_nlp.tokenizer(example[\"de\"])] [:max_length]\n",
        "  if lower:\n",
        "    en_tokens=[token.lower() for token in en_tokens]\n",
        "    de_tokens=[token.lower() for token in de_tokens]\n",
        "  en_tokens=[sos_token] + en_tokens + [eos_token]\n",
        "  de_tokens=[sos_token] + de_tokens + [eos_token]\n",
        "  return {\"en_tokens\" : en_tokens ,\"de_tokens\" : de_tokens}"
      ],
      "metadata": {
        "id": "A-utZP4oOViR"
      },
      "execution_count": 19,
      "outputs": []
    },
    {
      "cell_type": "code",
      "source": [
        "max_length=1_000\n",
        "lower=True\n",
        "sos_token=\"<sos>\"\n",
        "eos_token=\"<eos>\"\n",
        "fn_kwargs={ \"en_nlp\" :en_nlp,\n",
        "           \"de_nlp\" :de_nlp,\n",
        "            \"max_length\" : max_length,\n",
        "            \"lower\" : lower ,\n",
        "            \"sos_token\" : sos_token,\n",
        "            \"eos_token\" :eos_token}"
      ],
      "metadata": {
        "id": "t1iX6LtRP6tB"
      },
      "execution_count": 20,
      "outputs": []
    },
    {
      "cell_type": "code",
      "source": [
        "train_data=train_data.map(tokenize_example,fn_kwargs=fn_kwargs)\n",
        "valid_data=valid_data.map(tokenize_example,fn_kwargs=fn_kwargs)\n",
        "test_data=test_data.map(tokenize_example,fn_kwargs=fn_kwargs)"
      ],
      "metadata": {
        "colab": {
          "base_uri": "https://localhost:8080/",
          "height": 113,
          "referenced_widgets": [
            "e5d73c9b880e49cd86df2aca98162103",
            "2a0bf5d4e735415688f8227fca13c53b",
            "f3acb7ce87b64d5c96133b10096a381c",
            "0d6b2f1818b74625861f8a348d034907",
            "05b9d612e02446978807ed3c7d170d43",
            "b91b0706e48142deb8b50135a7e340aa",
            "c6151d9e419b4441aaac767547625213",
            "10c9fd908c8d4a3dad623bbd0a2f0ec3",
            "8a0a8f87fe4b4969b9867d9d5b54fe9b",
            "0a2f9b96e1484098b84838b5b64393fe",
            "b192f4ba9c514bdebc5b2f25857cdbb3",
            "3e0f83c964aa4feaa288a5ac0aec9287",
            "cf77f48f45c84388a2e350f2032935bb",
            "5d543e1b82e74a1dbf24eed3d4920ebc",
            "59168207f16a4f71b5f645d2ee61b044",
            "8bf6663ddd99427c8d870765387c5f90",
            "8c3dcecac18f479aac25eb236e5a0427",
            "ad5e170053d14872be99304f87502403",
            "f029c87ec7784105a9cadeddc775e503",
            "b69611dfff6f42fe97add7d1d6183a7e",
            "0e55d39151fb4df7acd29e9842a31bb2",
            "77bc651ae45f4632a9056ea34d046be3",
            "e46e395a6d164330b29905dd96c67560",
            "3c90151621f74047969b6f3abc67961d",
            "559337d9bd764b16aa2e22efc891627c",
            "dd0c79f32bb74e03b3b93a3221e95ff4",
            "ce794fd5fc0f47448b0e7a32b35ced01",
            "3e5a31c937ef4b2fb01376c921506fc1",
            "f7a3faca15dc47b8b435f3138821a2f4",
            "61768d5c4fbe4be69496ed6ebf9acb2d",
            "5dfb3efa11c348bfbf405bb625dfdbad",
            "c207a18a6e6f4073a0d8e91185e80d53",
            "b90f31e511764029ab108dca94b1edbf"
          ]
        },
        "id": "ccYleJQSS31T",
        "outputId": "9dfddf49-ede4-42ac-8b9d-f6a4445bf152"
      },
      "execution_count": 21,
      "outputs": [
        {
          "output_type": "display_data",
          "data": {
            "text/plain": [
              "Map:   0%|          | 0/29000 [00:00<?, ? examples/s]"
            ],
            "application/vnd.jupyter.widget-view+json": {
              "version_major": 2,
              "version_minor": 0,
              "model_id": "e5d73c9b880e49cd86df2aca98162103"
            }
          },
          "metadata": {}
        },
        {
          "output_type": "display_data",
          "data": {
            "text/plain": [
              "Map:   0%|          | 0/1014 [00:00<?, ? examples/s]"
            ],
            "application/vnd.jupyter.widget-view+json": {
              "version_major": 2,
              "version_minor": 0,
              "model_id": "3e0f83c964aa4feaa288a5ac0aec9287"
            }
          },
          "metadata": {}
        },
        {
          "output_type": "display_data",
          "data": {
            "text/plain": [
              "Map:   0%|          | 0/1000 [00:00<?, ? examples/s]"
            ],
            "application/vnd.jupyter.widget-view+json": {
              "version_major": 2,
              "version_minor": 0,
              "model_id": "e46e395a6d164330b29905dd96c67560"
            }
          },
          "metadata": {}
        }
      ]
    },
    {
      "cell_type": "code",
      "source": [
        "train_data"
      ],
      "metadata": {
        "colab": {
          "base_uri": "https://localhost:8080/"
        },
        "id": "ulz7c-lXUkFx",
        "outputId": "b5c00aa0-9e05-4023-ebfa-c43f1e3134f6"
      },
      "execution_count": 22,
      "outputs": [
        {
          "output_type": "execute_result",
          "data": {
            "text/plain": [
              "Dataset({\n",
              "    features: ['en', 'de', 'en_tokens', 'de_tokens'],\n",
              "    num_rows: 29000\n",
              "})"
            ]
          },
          "metadata": {},
          "execution_count": 22
        }
      ]
    },
    {
      "cell_type": "markdown",
      "source": [
        "A man and a little girl a, girl, liitle, and , a"
      ],
      "metadata": {
        "id": "no9Hft4MWrZP"
      }
    },
    {
      "cell_type": "markdown",
      "source": [
        "a,< unk>,and,liitle,girl"
      ],
      "metadata": {
        "id": "ej3XCjqZWs9v"
      }
    },
    {
      "cell_type": "code",
      "source": [
        "train_data[0]"
      ],
      "metadata": {
        "colab": {
          "base_uri": "https://localhost:8080/"
        },
        "id": "pxj1zApyUwnp",
        "outputId": "dbc9261c-9534-46ba-ada5-bc682f205bee"
      },
      "execution_count": 23,
      "outputs": [
        {
          "output_type": "execute_result",
          "data": {
            "text/plain": [
              "{'en': 'Two young, White males are outside near many bushes.',\n",
              " 'de': 'Zwei junge weiße Männer sind im Freien in der Nähe vieler Büsche.',\n",
              " 'en_tokens': ['<sos>',\n",
              "  'two',\n",
              "  'young',\n",
              "  ',',\n",
              "  'white',\n",
              "  'males',\n",
              "  'are',\n",
              "  'outside',\n",
              "  'near',\n",
              "  'many',\n",
              "  'bushes',\n",
              "  '.',\n",
              "  '<eos>'],\n",
              " 'de_tokens': ['<sos>',\n",
              "  'zwei',\n",
              "  'junge',\n",
              "  'weiße',\n",
              "  'männer',\n",
              "  'sind',\n",
              "  'im',\n",
              "  'freien',\n",
              "  'in',\n",
              "  'der',\n",
              "  'nähe',\n",
              "  'vieler',\n",
              "  'büsche',\n",
              "  '.',\n",
              "  '<eos>']}"
            ]
          },
          "metadata": {},
          "execution_count": 23
        }
      ]
    },
    {
      "cell_type": "markdown",
      "source": [
        "# **1.3 creating a vocabulary**"
      ],
      "metadata": {
        "id": "cSUoyLHpVMoL"
      }
    },
    {
      "cell_type": "code",
      "source": [
        "min_freq=2\n",
        "unk_token=\"<unk>\"\n",
        "pad_token=\"<pad>\"\n",
        "special_tokens=[unk_token,pad_token,sos_token,eos_token,]\n",
        "en_vocab=torchtext.vocab.build_vocab_from_iterator(\n",
        "    train_data[\"en_tokens\"],\n",
        "    min_freq=min_freq,\n",
        "    specials=special_tokens,\n",
        ")\n",
        "de_vocab=torchtext.vocab.build_vocab_from_iterator(\n",
        "    train_data[\"de_tokens\"],\n",
        "    min_freq=min_freq,\n",
        "    specials=special_tokens,\n",
        ")"
      ],
      "metadata": {
        "id": "JI3CGp5UU0xA"
      },
      "execution_count": 24,
      "outputs": []
    },
    {
      "cell_type": "code",
      "source": [
        "len(en_vocab)"
      ],
      "metadata": {
        "colab": {
          "base_uri": "https://localhost:8080/"
        },
        "id": "I0L-G8yqWGr3",
        "outputId": "3f96ea4c-4f10-4f9e-c735-1d19e5125658"
      },
      "execution_count": 25,
      "outputs": [
        {
          "output_type": "execute_result",
          "data": {
            "text/plain": [
              "5893"
            ]
          },
          "metadata": {},
          "execution_count": 25
        }
      ]
    },
    {
      "cell_type": "code",
      "source": [
        "len(de_vocab)"
      ],
      "metadata": {
        "colab": {
          "base_uri": "https://localhost:8080/"
        },
        "id": "Pkw7ceAaWQAO",
        "outputId": "ff46c7e9-af3f-49f2-8e45-0003e0973ff2"
      },
      "execution_count": 26,
      "outputs": [
        {
          "output_type": "execute_result",
          "data": {
            "text/plain": [
              "7853"
            ]
          },
          "metadata": {},
          "execution_count": 26
        }
      ]
    },
    {
      "cell_type": "code",
      "source": [
        "en_vocab.get_itos()[:10]"
      ],
      "metadata": {
        "colab": {
          "base_uri": "https://localhost:8080/"
        },
        "id": "5-sQtGxvYytl",
        "outputId": "8bf10b8b-6675-4737-fee9-954e4f850ec1"
      },
      "execution_count": 27,
      "outputs": [
        {
          "output_type": "execute_result",
          "data": {
            "text/plain": [
              "['<unk>', '<pad>', '<sos>', '<eos>', 'a', '.', 'in', 'the', 'on', 'man']"
            ]
          },
          "metadata": {},
          "execution_count": 27
        }
      ]
    },
    {
      "cell_type": "code",
      "source": [
        "de_vocab.get_itos()[:10]"
      ],
      "metadata": {
        "colab": {
          "base_uri": "https://localhost:8080/"
        },
        "id": "qObNJEnebK8T",
        "outputId": "5e2e68c9-bb7c-462d-b075-34ed77c12f9b"
      },
      "execution_count": 28,
      "outputs": [
        {
          "output_type": "execute_result",
          "data": {
            "text/plain": [
              "['<unk>', '<pad>', '<sos>', '<eos>', '.', 'ein', 'einem', 'in', 'eine', ',']"
            ]
          },
          "metadata": {},
          "execution_count": 28
        }
      ]
    },
    {
      "cell_type": "code",
      "source": [
        "en_vocab.get_itos()[0]"
      ],
      "metadata": {
        "colab": {
          "base_uri": "https://localhost:8080/",
          "height": 36
        },
        "id": "F9iIRA4UZRfY",
        "outputId": "0d9d1f07-fcf6-473c-f1e3-6dac4fded336"
      },
      "execution_count": 29,
      "outputs": [
        {
          "output_type": "execute_result",
          "data": {
            "text/plain": [
              "'<unk>'"
            ],
            "application/vnd.google.colaboratory.intrinsic+json": {
              "type": "string"
            }
          },
          "metadata": {},
          "execution_count": 29
        }
      ]
    },
    {
      "cell_type": "code",
      "source": [
        "en_vocab.get_stoi()[\"<unk>\"]"
      ],
      "metadata": {
        "colab": {
          "base_uri": "https://localhost:8080/"
        },
        "id": "XQeCHLMVY41S",
        "outputId": "7c3a067a-63a5-4ec3-ed33-31c0d36461b0"
      },
      "execution_count": 30,
      "outputs": [
        {
          "output_type": "execute_result",
          "data": {
            "text/plain": [
              "0"
            ]
          },
          "metadata": {},
          "execution_count": 30
        }
      ]
    },
    {
      "cell_type": "code",
      "source": [
        "de_vocab.get_stoi()[\"<unk>\"]"
      ],
      "metadata": {
        "colab": {
          "base_uri": "https://localhost:8080/"
        },
        "id": "z_lw8RuibCe5",
        "outputId": "1092494d-43f6-4bcc-a964-299f5827314a"
      },
      "execution_count": 31,
      "outputs": [
        {
          "output_type": "execute_result",
          "data": {
            "text/plain": [
              "0"
            ]
          },
          "metadata": {},
          "execution_count": 31
        }
      ]
    },
    {
      "cell_type": "code",
      "source": [
        "en_vocab[\"the\"]"
      ],
      "metadata": {
        "colab": {
          "base_uri": "https://localhost:8080/"
        },
        "id": "ZzBdzKxcY4zM",
        "outputId": "7800aab3-bcd3-426c-d425-7fb6c96c3ce9"
      },
      "execution_count": 32,
      "outputs": [
        {
          "output_type": "execute_result",
          "data": {
            "text/plain": [
              "7"
            ]
          },
          "metadata": {},
          "execution_count": 32
        }
      ]
    },
    {
      "cell_type": "code",
      "source": [
        "\"chichey diya ki gaal vhdvhjv hbfgh \" in en_vocab"
      ],
      "metadata": {
        "colab": {
          "base_uri": "https://localhost:8080/"
        },
        "id": "GuoHhpoFY4wm",
        "outputId": "04577115-6b5c-4038-b4ce-61a07ab236fa"
      },
      "execution_count": 33,
      "outputs": [
        {
          "output_type": "execute_result",
          "data": {
            "text/plain": [
              "False"
            ]
          },
          "metadata": {},
          "execution_count": 33
        }
      ]
    },
    {
      "cell_type": "code",
      "source": [
        "#en_vocab[\"kjgvdfvfdviufdvhiufuifbhf\"]"
      ],
      "metadata": {
        "id": "hx1_tJ0ZY4t9"
      },
      "execution_count": 34,
      "outputs": []
    },
    {
      "cell_type": "code",
      "source": [
        "assert en_vocab[unk_token] == de_vocab[unk_token]\n",
        "assert en_vocab[pad_token] == de_vocab[pad_token]\n",
        "unk_index=en_vocab[unk_token]\n",
        "pad_index=en_vocab[pad_token]"
      ],
      "metadata": {
        "id": "13-E-KnDY4q1"
      },
      "execution_count": 35,
      "outputs": []
    },
    {
      "cell_type": "code",
      "source": [
        "unk_index"
      ],
      "metadata": {
        "colab": {
          "base_uri": "https://localhost:8080/"
        },
        "id": "gxDyy_EYY4oX",
        "outputId": "17d49f08-6998-46ee-c4a5-76b1cdaa4330"
      },
      "execution_count": 36,
      "outputs": [
        {
          "output_type": "execute_result",
          "data": {
            "text/plain": [
              "0"
            ]
          },
          "metadata": {},
          "execution_count": 36
        }
      ]
    },
    {
      "cell_type": "code",
      "source": [
        "pad_index"
      ],
      "metadata": {
        "colab": {
          "base_uri": "https://localhost:8080/"
        },
        "id": "DJTf82xGY4kE",
        "outputId": "6caeb3cb-681e-473b-9c70-94a67bb2a6e7"
      },
      "execution_count": 37,
      "outputs": [
        {
          "output_type": "execute_result",
          "data": {
            "text/plain": [
              "1"
            ]
          },
          "metadata": {},
          "execution_count": 37
        }
      ]
    },
    {
      "cell_type": "code",
      "source": [
        "en_vocab.set_default_index(unk_index)\n",
        "de_vocab.set_default_index(unk_index)"
      ],
      "metadata": {
        "id": "3_84PtCWbmE_"
      },
      "execution_count": 38,
      "outputs": []
    },
    {
      "cell_type": "code",
      "source": [
        "de_vocab[\"544hg4tyy4\"]"
      ],
      "metadata": {
        "colab": {
          "base_uri": "https://localhost:8080/"
        },
        "id": "WvqQEiBub9-f",
        "outputId": "80d8074f-e625-48b9-eb2c-55503dffd0cb"
      },
      "execution_count": 39,
      "outputs": [
        {
          "output_type": "execute_result",
          "data": {
            "text/plain": [
              "0"
            ]
          },
          "metadata": {},
          "execution_count": 39
        }
      ]
    },
    {
      "cell_type": "code",
      "source": [
        "en_vocab.get_itos()[0]"
      ],
      "metadata": {
        "colab": {
          "base_uri": "https://localhost:8080/",
          "height": 36
        },
        "id": "WCWTniM3cEjP",
        "outputId": "bdfb6d6b-b878-4f7c-d319-afecf0a5a10f"
      },
      "execution_count": 40,
      "outputs": [
        {
          "output_type": "execute_result",
          "data": {
            "text/plain": [
              "'<unk>'"
            ],
            "application/vnd.google.colaboratory.intrinsic+json": {
              "type": "string"
            }
          },
          "metadata": {},
          "execution_count": 40
        }
      ]
    },
    {
      "cell_type": "code",
      "source": [
        "tokens=[\"i\" ,\"love\" ,\"watching\" ,\"crime\" ,\"sjfegfyudggdvdfdf\"]\n",
        "en_vocab.lookup_indices(tokens)"
      ],
      "metadata": {
        "colab": {
          "base_uri": "https://localhost:8080/"
        },
        "id": "oOo6sOygcVN_",
        "outputId": "c206ae38-049d-4584-f2ba-921a0b9cafec"
      },
      "execution_count": 41,
      "outputs": [
        {
          "output_type": "execute_result",
          "data": {
            "text/plain": [
              "[956, 2169, 173, 0, 0]"
            ]
          },
          "metadata": {},
          "execution_count": 41
        }
      ]
    },
    {
      "cell_type": "markdown",
      "source": [
        "# **1.4 Numericalize data**"
      ],
      "metadata": {
        "id": "691Ll1tKeAWV"
      }
    },
    {
      "cell_type": "code",
      "source": [
        "train_data"
      ],
      "metadata": {
        "colab": {
          "base_uri": "https://localhost:8080/"
        },
        "id": "g_K8wp0OdxMd",
        "outputId": "0e8a255d-f890-49dd-ff93-fed48ad74933"
      },
      "execution_count": 42,
      "outputs": [
        {
          "output_type": "execute_result",
          "data": {
            "text/plain": [
              "Dataset({\n",
              "    features: ['en', 'de', 'en_tokens', 'de_tokens'],\n",
              "    num_rows: 29000\n",
              "})"
            ]
          },
          "metadata": {},
          "execution_count": 42
        }
      ]
    },
    {
      "cell_type": "code",
      "source": [
        "train_data[0][\"en_tokens\"]"
      ],
      "metadata": {
        "colab": {
          "base_uri": "https://localhost:8080/"
        },
        "id": "KKFJGWoienT9",
        "outputId": "4ecf4c58-27aa-451b-c540-72e1e4a896e0"
      },
      "execution_count": 43,
      "outputs": [
        {
          "output_type": "execute_result",
          "data": {
            "text/plain": [
              "['<sos>',\n",
              " 'two',\n",
              " 'young',\n",
              " ',',\n",
              " 'white',\n",
              " 'males',\n",
              " 'are',\n",
              " 'outside',\n",
              " 'near',\n",
              " 'many',\n",
              " 'bushes',\n",
              " '.',\n",
              " '<eos>']"
            ]
          },
          "metadata": {},
          "execution_count": 43
        }
      ]
    },
    {
      "cell_type": "code",
      "source": [
        "en_vocab.lookup_indices(train_data[100][\"en_tokens\"])"
      ],
      "metadata": {
        "colab": {
          "base_uri": "https://localhost:8080/"
        },
        "id": "sp_eimnPe3Hd",
        "outputId": "7d30712d-44d6-4059-f24c-566801fbacca"
      },
      "execution_count": 44,
      "outputs": [
        {
          "output_type": "execute_result",
          "data": {
            "text/plain": [
              "[2, 357, 34, 6, 4, 31, 67, 45, 8, 18, 74, 2570, 5, 3]"
            ]
          },
          "metadata": {},
          "execution_count": 44
        }
      ]
    },
    {
      "cell_type": "code",
      "source": [
        "def numericalize_example(example,en_vocab,de_vocab):\n",
        "  en_ids=en_vocab.lookup_indices(example[\"en_tokens\"])\n",
        "  de_ids=de_vocab.lookup_indices(example[\"de_tokens\"])\n",
        "  return {\"en_ids\" : en_ids , \"de_ids\" : de_ids}"
      ],
      "metadata": {
        "id": "r4VslhCreHC8"
      },
      "execution_count": 45,
      "outputs": []
    },
    {
      "cell_type": "code",
      "source": [
        "fn_kwargs={\"en_vocab\" :en_vocab , \"de_vocab\" : de_vocab}"
      ],
      "metadata": {
        "id": "72xMtqG6foYr"
      },
      "execution_count": 46,
      "outputs": []
    },
    {
      "cell_type": "code",
      "source": [
        "train_data=train_data.map(numericalize_example,fn_kwargs=fn_kwargs )\n",
        "valid_data=valid_data.map(numericalize_example,fn_kwargs=fn_kwargs)\n",
        "test_data=test_data.map(numericalize_example,fn_kwargs=fn_kwargs)"
      ],
      "metadata": {
        "colab": {
          "base_uri": "https://localhost:8080/",
          "height": 113,
          "referenced_widgets": [
            "bdd2d95925324b67995dc0de5fd320df",
            "208ab395288149cea70c175199e46d96",
            "fb41ff017dc24961803bfbb698b2ee9e",
            "1c4ebfeb0dad4f799155a9b91855f6fd",
            "936fb789c41a4374a0f92b7aaf82b21c",
            "92f922bca0c94632b60468220b12b603",
            "333dc6ce777d48d0b7cb767936d71447",
            "6aba6832c13a4aeeb0aed21eaa71eb17",
            "8f9c2a1dc698461599c45b1d23a71d5a",
            "8725c6178dee425da7216260193f84b5",
            "fd1aa62e86aa4a258642ad972f3852b4",
            "02460e63024e43d3bf5ff411ceacd901",
            "f259ee9435ca42489e65838c31d05780",
            "db1a4bfa212b41d18dc0ae0041a3629d",
            "8aee3bd5816f4270b4b9b82530635371",
            "2a4ce9c82c5c4b3c9b3fd259ad259442",
            "f6d0afeb7f9a44b8b31e2a54f46d5ee4",
            "8816eca57e5e4a269d0c97c07ad2193d",
            "a9349eaf53db430bb53fc2e5b2fbcd30",
            "cdd8576b33f646c6ab4f56685b80fc0c",
            "8541d927f0664ddc8a910d8ff4219e0e",
            "2e374fa4cc1b49c3ac521aea1d14ff16",
            "11ba80d9f6704df8a6f8a007dc39861e",
            "b0b81c28cd184484a32df669e96a7e1b",
            "fb955d48c91249828ed3ebcb3121be25",
            "6cc972592e6a4d8c804fa3b46ccbc940",
            "c356f3de630c42cc82aa2971c57d0b64",
            "1909c8d0fcea4aea878dcdeb1a87d416",
            "34b6ea86f5264c0a9f418bb8a56fef14",
            "bd072d24f57d4ae98d9f40f87815978e",
            "c85cebfc1a1b4ec6bf33067a715a6a37",
            "32d9fd2491e84485a981fab2433c4146",
            "411922d1542b46ec899e6d9ed57825fa"
          ]
        },
        "id": "bhW2psASfggV",
        "outputId": "8019159e-05a7-4b1f-e3e9-7f54afd350f1"
      },
      "execution_count": 47,
      "outputs": [
        {
          "output_type": "display_data",
          "data": {
            "text/plain": [
              "Map:   0%|          | 0/29000 [00:00<?, ? examples/s]"
            ],
            "application/vnd.jupyter.widget-view+json": {
              "version_major": 2,
              "version_minor": 0,
              "model_id": "bdd2d95925324b67995dc0de5fd320df"
            }
          },
          "metadata": {}
        },
        {
          "output_type": "display_data",
          "data": {
            "text/plain": [
              "Map:   0%|          | 0/1014 [00:00<?, ? examples/s]"
            ],
            "application/vnd.jupyter.widget-view+json": {
              "version_major": 2,
              "version_minor": 0,
              "model_id": "02460e63024e43d3bf5ff411ceacd901"
            }
          },
          "metadata": {}
        },
        {
          "output_type": "display_data",
          "data": {
            "text/plain": [
              "Map:   0%|          | 0/1000 [00:00<?, ? examples/s]"
            ],
            "application/vnd.jupyter.widget-view+json": {
              "version_major": 2,
              "version_minor": 0,
              "model_id": "11ba80d9f6704df8a6f8a007dc39861e"
            }
          },
          "metadata": {}
        }
      ]
    },
    {
      "cell_type": "code",
      "source": [
        "train_data"
      ],
      "metadata": {
        "colab": {
          "base_uri": "https://localhost:8080/"
        },
        "id": "MMc9CD6_gJoz",
        "outputId": "9e678c31-0187-4389-9364-00ef20d6e243"
      },
      "execution_count": 48,
      "outputs": [
        {
          "output_type": "execute_result",
          "data": {
            "text/plain": [
              "Dataset({\n",
              "    features: ['en', 'de', 'en_tokens', 'de_tokens', 'en_ids', 'de_ids'],\n",
              "    num_rows: 29000\n",
              "})"
            ]
          },
          "metadata": {},
          "execution_count": 48
        }
      ]
    },
    {
      "cell_type": "code",
      "source": [
        "train_data[0]"
      ],
      "metadata": {
        "colab": {
          "base_uri": "https://localhost:8080/"
        },
        "id": "DE1bVBUVgONJ",
        "outputId": "e580fe78-65c0-4e32-f63d-fe3a1c3462e2"
      },
      "execution_count": 49,
      "outputs": [
        {
          "output_type": "execute_result",
          "data": {
            "text/plain": [
              "{'en': 'Two young, White males are outside near many bushes.',\n",
              " 'de': 'Zwei junge weiße Männer sind im Freien in der Nähe vieler Büsche.',\n",
              " 'en_tokens': ['<sos>',\n",
              "  'two',\n",
              "  'young',\n",
              "  ',',\n",
              "  'white',\n",
              "  'males',\n",
              "  'are',\n",
              "  'outside',\n",
              "  'near',\n",
              "  'many',\n",
              "  'bushes',\n",
              "  '.',\n",
              "  '<eos>'],\n",
              " 'de_tokens': ['<sos>',\n",
              "  'zwei',\n",
              "  'junge',\n",
              "  'weiße',\n",
              "  'männer',\n",
              "  'sind',\n",
              "  'im',\n",
              "  'freien',\n",
              "  'in',\n",
              "  'der',\n",
              "  'nähe',\n",
              "  'vieler',\n",
              "  'büsche',\n",
              "  '.',\n",
              "  '<eos>'],\n",
              " 'en_ids': [2, 16, 24, 15, 25, 778, 17, 57, 80, 202, 1312, 5, 3],\n",
              " 'de_ids': [2, 18, 26, 253, 30, 84, 20, 88, 7, 15, 110, 7647, 3171, 4, 3]}"
            ]
          },
          "metadata": {},
          "execution_count": 49
        }
      ]
    },
    {
      "cell_type": "code",
      "source": [
        "train_data[0][\"en_ids\"]"
      ],
      "metadata": {
        "colab": {
          "base_uri": "https://localhost:8080/"
        },
        "id": "XcBTUws1g831",
        "outputId": "d0b5f0b9-0419-4c7b-8cf3-2724980e96f9"
      },
      "execution_count": 50,
      "outputs": [
        {
          "output_type": "execute_result",
          "data": {
            "text/plain": [
              "[2, 16, 24, 15, 25, 778, 17, 57, 80, 202, 1312, 5, 3]"
            ]
          },
          "metadata": {},
          "execution_count": 50
        }
      ]
    },
    {
      "cell_type": "code",
      "source": [
        "en_vocab.lookup_tokens(train_data[0][\"en_ids\"])"
      ],
      "metadata": {
        "colab": {
          "base_uri": "https://localhost:8080/"
        },
        "id": "R4QlD83ygPXZ",
        "outputId": "9c381d12-f635-4046-cb56-33e37416d464"
      },
      "execution_count": 51,
      "outputs": [
        {
          "output_type": "execute_result",
          "data": {
            "text/plain": [
              "['<sos>',\n",
              " 'two',\n",
              " 'young',\n",
              " ',',\n",
              " 'white',\n",
              " 'males',\n",
              " 'are',\n",
              " 'outside',\n",
              " 'near',\n",
              " 'many',\n",
              " 'bushes',\n",
              " '.',\n",
              " '<eos>']"
            ]
          },
          "metadata": {},
          "execution_count": 51
        }
      ]
    },
    {
      "cell_type": "markdown",
      "source": [
        "# **1.5 Convert data into tensors**"
      ],
      "metadata": {
        "id": "10mN0K6ThFI9"
      }
    },
    {
      "cell_type": "code",
      "source": [
        "train_data"
      ],
      "metadata": {
        "colab": {
          "base_uri": "https://localhost:8080/"
        },
        "id": "Tx3_k5kNg7Hp",
        "outputId": "5909e4df-65f5-4229-9c33-ae6967affb3f"
      },
      "execution_count": 52,
      "outputs": [
        {
          "output_type": "execute_result",
          "data": {
            "text/plain": [
              "Dataset({\n",
              "    features: ['en', 'de', 'en_tokens', 'de_tokens', 'en_ids', 'de_ids'],\n",
              "    num_rows: 29000\n",
              "})"
            ]
          },
          "metadata": {},
          "execution_count": 52
        }
      ]
    },
    {
      "cell_type": "code",
      "source": [
        "data_type=\"torch\"\n",
        "format_columns=[\"en_ids\" ,\"de_ids\"]"
      ],
      "metadata": {
        "id": "_JbdqS8xhcuV"
      },
      "execution_count": 53,
      "outputs": []
    },
    {
      "cell_type": "code",
      "source": [
        "train_data=train_data.with_format(type=data_type, columns=format_columns,output_all_columns=True, )\n",
        "valid_data=valid_data.with_format(type=data_type, columns=format_columns, output_all_columns=True)\n",
        "test_data=test_data.with_format(type=data_type, columns=format_columns,output_all_columns=True)"
      ],
      "metadata": {
        "id": "IUoa0d-8hKLf"
      },
      "execution_count": 54,
      "outputs": []
    },
    {
      "cell_type": "code",
      "source": [
        "train_data[0]"
      ],
      "metadata": {
        "colab": {
          "base_uri": "https://localhost:8080/"
        },
        "id": "Fi0Pv7BfiGxv",
        "outputId": "7f1964a9-a63e-48d8-a468-1ce4eff1659c"
      },
      "execution_count": 55,
      "outputs": [
        {
          "output_type": "execute_result",
          "data": {
            "text/plain": [
              "{'en_ids': tensor([   2,   16,   24,   15,   25,  778,   17,   57,   80,  202, 1312,    5,\n",
              "            3]),\n",
              " 'de_ids': tensor([   2,   18,   26,  253,   30,   84,   20,   88,    7,   15,  110, 7647,\n",
              "         3171,    4,    3]),\n",
              " 'en': 'Two young, White males are outside near many bushes.',\n",
              " 'de': 'Zwei junge weiße Männer sind im Freien in der Nähe vieler Büsche.',\n",
              " 'en_tokens': ['<sos>',\n",
              "  'two',\n",
              "  'young',\n",
              "  ',',\n",
              "  'white',\n",
              "  'males',\n",
              "  'are',\n",
              "  'outside',\n",
              "  'near',\n",
              "  'many',\n",
              "  'bushes',\n",
              "  '.',\n",
              "  '<eos>'],\n",
              " 'de_tokens': ['<sos>',\n",
              "  'zwei',\n",
              "  'junge',\n",
              "  'weiße',\n",
              "  'männer',\n",
              "  'sind',\n",
              "  'im',\n",
              "  'freien',\n",
              "  'in',\n",
              "  'der',\n",
              "  'nähe',\n",
              "  'vieler',\n",
              "  'büsche',\n",
              "  '.',\n",
              "  '<eos>']}"
            ]
          },
          "metadata": {},
          "execution_count": 55
        }
      ]
    },
    {
      "cell_type": "code",
      "source": [
        "type(train_data[0][\"de_ids\"])"
      ],
      "metadata": {
        "colab": {
          "base_uri": "https://localhost:8080/"
        },
        "id": "oiKMckcJiNTe",
        "outputId": "7989345e-e5ff-4e9f-b803-5cf31e2532c8"
      },
      "execution_count": 56,
      "outputs": [
        {
          "output_type": "execute_result",
          "data": {
            "text/plain": [
              "torch.Tensor"
            ]
          },
          "metadata": {},
          "execution_count": 56
        }
      ]
    },
    {
      "cell_type": "markdown",
      "source": [
        "# **1.6 create dataloaders(batches)**"
      ],
      "metadata": {
        "id": "Kcc2ihEBiqYI"
      }
    },
    {
      "cell_type": "code",
      "source": [
        "def get_collate_fn(pad_index):\n",
        "  def collate_fn(batch):\n",
        "    batch_en_ids=[example[\"en_ids\"] for example in batch]\n",
        "    batch_de_ids=[example[\"de_ids\"] for example in batch]\n",
        "    batch_en_ids=nn.utils.rnn.pad_sequence(batch_en_ids,padding_value=pad_index)\n",
        "    batch_de_ids=nn.utils.rnn.pad_sequence(batch_de_ids,padding_value=pad_index)\n",
        "    return {\"en_ids\" : batch_en_ids, \"de_ids\" : batch_de_ids}\n",
        "  return collate_fn"
      ],
      "metadata": {
        "id": "sTKX5bqKkgIu"
      },
      "execution_count": 57,
      "outputs": []
    },
    {
      "cell_type": "code",
      "source": [
        "def get_data_loader(dataset,batch_size,pad_index,shuffle=False):\n",
        "  collate_fn=get_collate_fn(pad_index)\n",
        "  data_loader=torch.utils.data.DataLoader(\n",
        "      dataset=dataset,\n",
        "      batch_size=batch_size,\n",
        "      collate_fn=collate_fn,\n",
        "      shuffle=shuffle,\n",
        "  )\n",
        "  return  data_loader"
      ],
      "metadata": {
        "id": "CLM5hHBUjW_Z"
      },
      "execution_count": 58,
      "outputs": []
    },
    {
      "cell_type": "code",
      "source": [
        "batch_size=128\n",
        "train_data_loader=get_data_loader(train_data,batch_size,pad_index,shuffle=True)\n",
        "valid_data_loader=get_data_loader(valid_data,batch_size,pad_index)\n",
        "test_data_loader=get_data_loader(test_data,batch_size,pad_index)"
      ],
      "metadata": {
        "id": "4ZsEQBOhihGF"
      },
      "execution_count": 59,
      "outputs": []
    },
    {
      "cell_type": "code",
      "source": [
        "len(train_data_loader)"
      ],
      "metadata": {
        "colab": {
          "base_uri": "https://localhost:8080/"
        },
        "id": "LIKDtW0VlXmo",
        "outputId": "9242ca0a-8ae5-4b85-d684-4eff1bd05ca9"
      },
      "execution_count": 60,
      "outputs": [
        {
          "output_type": "execute_result",
          "data": {
            "text/plain": [
              "227"
            ]
          },
          "metadata": {},
          "execution_count": 60
        }
      ]
    },
    {
      "cell_type": "code",
      "source": [
        "len(test_data_loader)"
      ],
      "metadata": {
        "colab": {
          "base_uri": "https://localhost:8080/"
        },
        "id": "xdPr1oKOle-C",
        "outputId": "321ba654-783f-4d31-df06-c3ad3412b82b"
      },
      "execution_count": 61,
      "outputs": [
        {
          "output_type": "execute_result",
          "data": {
            "text/plain": [
              "8"
            ]
          },
          "metadata": {},
          "execution_count": 61
        }
      ]
    },
    {
      "cell_type": "code",
      "source": [
        "len(valid_data_loader)"
      ],
      "metadata": {
        "colab": {
          "base_uri": "https://localhost:8080/"
        },
        "id": "2Plbxh80oufp",
        "outputId": "fd96225d-692a-45f3-b86e-3e3e0a03587d"
      },
      "execution_count": 62,
      "outputs": [
        {
          "output_type": "execute_result",
          "data": {
            "text/plain": [
              "8"
            ]
          },
          "metadata": {},
          "execution_count": 62
        }
      ]
    },
    {
      "cell_type": "code",
      "source": [
        "train_data"
      ],
      "metadata": {
        "colab": {
          "base_uri": "https://localhost:8080/"
        },
        "id": "nLqHIgLuowam",
        "outputId": "8bd487a5-3a7a-44b2-be78-9ec1e4f9859f"
      },
      "execution_count": 63,
      "outputs": [
        {
          "output_type": "execute_result",
          "data": {
            "text/plain": [
              "Dataset({\n",
              "    features: ['en', 'de', 'en_tokens', 'de_tokens', 'en_ids', 'de_ids'],\n",
              "    num_rows: 29000\n",
              "})"
            ]
          },
          "metadata": {},
          "execution_count": 63
        }
      ]
    },
    {
      "cell_type": "markdown",
      "source": [
        "# **2. Build the Seq2Seq model**"
      ],
      "metadata": {
        "id": "OKLqjkV8pB_I"
      }
    },
    {
      "cell_type": "markdown",
      "source": [
        "![image.png](data:image/png;base64,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)"
      ],
      "metadata": {
        "id": "uhFVZxxwpmoF"
      }
    },
    {
      "cell_type": "markdown",
      "source": [
        "# **1. Encoder**"
      ],
      "metadata": {
        "id": "mrz51drerdH7"
      }
    },
    {
      "cell_type": "markdown",
      "source": [
        "![image.png](data:image/png;base64,iVBORw0KGgoAAAANSUhEUgAAA0MAAAIPCAYAAACxLQVMAAAgAElEQVR4AeydBbhc1fX2qbfUBcrX9l/qtIVixYpLKW2xIsXdKcHdgiYhnpAQdydCgIQIcb+50RtXkhBX4g7re3677NuTyczVmblnz7z7eebO3Jkj67xr733Wu2SfQ0xNCAgBISAEhEAVIzC0cJ416jGyiqXQ6YWAEBACQiDfEDgk3y5Y1ysEhIAQEALxQ0BkKH46kURCQAgIgXxAQGQoH7SsaxQCQkAIxBwBkaGYK0jiCQEhIARyFAGRoRxVrC5LCAgBIRASAiJDIWlLsgoBISAEcgcBkaHc0aWuRAgIASEQLAIiQ8GqToILASEgBIJGQGQoaPVJeCEgBIRAbiAgMpQbetRVCAEhIARCQ0BkKDSNSV4hIASEQA4iIDKUg0rVJQkBISAEAkBAZCgAJUlEISAEhECuIyAylOsa1vUJASEgBOKJgMhQPPUiqYSAEBACeYWAyFBeqVsXKwSEgBCIDQIiQ7FRhQQRAkJACOQvAiJD+at7XbkQEAJCoCoRKDcZWrlqtc2eO9+WLltelXLr3EJACAgBIZBDCIgM5ZAydSlCQAgIgRggsG79hjJxljKTIUhQ9Vdr2+PPvGyv1mpgz7xYw31esOijGFyuRBACQkAICIHQEJixaKV1GzzZvWq0H2wPN+hT/D/kSE0ICAEhIASEQHkR8JzlocefL+Ys9z/0lE2fMSvpocpEhogCPfbMyzZz0Ue206z4tXjVanvx1dqOdSU9ur4UAkJACAgBIZACgTtrdLOW7423LoMnH/S67oX2tnbj1hR76mshIASEgBAQAgcjQDTo6RdrHMRZVm/eYq/UamCTpkw/aKdSydDevXsd4Zm1bLltNjvotWzzFnvw8eeN7dSEgBAQAkJACJQVgTtqdLMlG7faNrODXvwmMlRWJLWdEBACQkAIgADZa4Vz5x/EV+AwcJanXqxhn2zecgBYpZIhokJPvPC6Ld+zN+WrZsPmSZnWAWfSP0JACAgBISAEIghAeOZt3GrrzQ563S4yFEFKH4WAEBACQqA0BIgKVXv8+ZR8BS7TsGV7Gzlm/AGHKpUMDRk+ymq3aG+FazekfL3Zpadddf/LdunjLfUSBuoD6gPqA+oDZeoDVz3Xzoas2GCFO3Yf9LqmescyHUP3Hd131QfUB9QH1AfoA1dUe8OefaNxSr4Cl2nz3gBr3b5r+cgQK8c9+1pdK1y3MeWrVtPWB7GsA86if4SAEBACQkAIJCBA9GfU6k1WtHvvQa9bX1eaXAJc+lcICAEhIARKQIBstkefey0lX4HL1GvTxQYMHnbAUUqNDO3YsdMefeZlm7Vhky3bt/+g1+Kdu1xIKjH/7oCz6B8hIASEgBAQAgkIkCY3d+NWW2d20Etpcglg6V8hIASEgBAoFQHS5KavWXsQX4HDwFmefLGGsdpctJVKhth4XMEkq1Gvia3asdM+MSt+rd+715q07mgfJDCs6An0WQgIASEgBIRAMgRYTa7Fe+Ot8+DJB720mlwyxPSdEBACQkAIlIQAGW0v12pwEGeBv7Tp2st69e130O5lIkPsRbERzxhq3aGb9ezbzzp07eX+Tww1HXQGfSEEhIAQEAJCIAkCPEvIP2co8b3XsGm2Z9/+JHvpKyEgBISAEBACqREYXzDJcZRmrTsewFm69+ybdKcykyH2JhWOBRVYLAESxKoNakJACAgBISAEhIAQEAJCQAgIgbggAGchkOM5S2JqXFTOcpEhvyMrNqgJASEgBISAEBACQkAICAEhIATiikBZOIvIUFy1J7mEgBAQAkJACAgBISAEhIAQqDACIkMVhk47CgEhIASEgBAQAkJACAgBIRAyAiJDIWtPsgsBISAEhIAQEAJCQAgIASFQYQREhioMnXYUAkJACAgBISAEhIAQEAJCIGQERIZC1p5kFwJCQAgIASEgBISAEBACQqDCCIgMVRg67SgEhIAQEAJCQAgIASEgBIRAyAiIDIWsPckuBISAEBACQkAICAEhIASEQIUREBmqMHTaUQgIASEgBISAEBACQkAICIGQERAZCll7kl0ICAEhIASEgBAQAkJACAiBCiMgMlRh6LSjEBACQkAICAEhIASEgBAQAiEjIDIUsvYkuxAQAkJACAgBISAEhIAQEAIVRkBkqMLQaUchIASEgBAQAkJACAgBISAEQkZAZChk7Ul2IVAKAvv377dPP/20lK0y+zPn37dvX2ZPkoNH/+yzzywO+kN30l96Oxh6rWpM49K/0ots+o6GjnhVZfNzJ7pSEwJCIHMIiAxlDlsdWQhUGQJbtmyx2bNn2+jRo238+PH20Ucf2Z49e7IqD4bEqlWr3Pk//PBDmzZtmm3evDmrMoR4MgygtWvX2tSpU23EiBE2adIkW716tWXbINq9e7ctXrzYhg0bZkOHDrUFCxbYzp07Q4Q0NjKj248//tiNS3BljDImsq3bTz75xGbOnGkjR460CRMmOJn27t0bG5yqUpDt27fb/PnznY6YPxcuXGiMhWy3devWWUFBgTF3Mhds2LChyh1b2cZA5xMC2UJAZChbSOs8QiALCGBszZs3z1q2bGm33nqrXXDBBfb3v//dqlWrZn379jVusNloGFsYWs8884z97W9/s3POOccuueQSq1u3rjPCZFQn1wK4YADVqlXLrrrqKjv33HPt8ssvtxdffNHGjh1rO3bsSL5jGr/FMF+5cqX17t3b7r77bjv77LPd6+abb7bOnTvb0qVLq9xjnsbLzdqhNm3aZIMHD7YHH3zQzj//fDcmrrvuOmvWrJnNmjUrKwY3hIdzNWnSxG644QYnxz//+U979NFH7YMPPrCNGzdmDY+4nYi5E/JPH6ff//Wvf3Vz15133mndu3e3NWvWZEVkyNjEiROtevXqxXPnpZdeajVq1HDfb926NSty6CRCIJ8QEBnKJ23rWoNAAIOFG3NFGjdKjNjHHnvMbrnlFmdQn3HGGfanP/3JrrnmGudlrMhxy7MP6T8Qsvr16xsGNC8M+t/85jd27LHHWu3atW3FihXFh+RaqzplqFiYSn6ASKC/inr6ly1b5ojsf/7zH7vxxhvtsssusz//+c92wgkn2EMPPeRwraSIpe6+a9cuR7wgshjM9COM91/84hd20UUXWY8ePYzIo29xSPnysmTynX5a0egJ+xKJwcBFr4wJsPzd737nCG/Tpk0dAc2k/BwbsoNh//DDDzsZrrzySvvLX/7i5gdkGjNmzAEicL1VnSp2gECl/MM8UtG5ExIycOBAe/bZZ12fZ74877zz7Pe//73T1fvvv1/K2Sv/M/PG8uXL7c0333T6uemmm+yKK66wo48+2o4//njXf+bOnVs8v7B9Za658hLrCEIgNxAQGcoNPeoqcgABDExSkRYtWmTcmH0jRWP9+vXOI8+NcMaMGQeQCb8dRgAko2fPntalSxcrLCx027Zt29aREQhRvXr1im+kfr90vnNzhpBNmTLFWrdubX369LElS5Y4WZ588kn7+c9/7ggahqEnDNu2bXMeWVJTuE7/fTrlysaxkB0SiDHjUxLRCbokzQ29khbFtRMlSGwYnei2U6dO9s4779j06dMdbniEzzzzTDvttNNcZCFxv3T+D/ZcBylcb731lovu0acGDBhgV199tf3qV7+yF1544QDDHQPb91t0mWuN8Ue6J9cYjQ6AFWOWtDdSqdAXkYXo2AULtiOiR7oqDgKiQ/QRMCYCccwxx9j999/vdJ9J7OiLjEXIEK/Jkye71FX0/I9//MMZ20SUow056a/0Ad+no7/H5bOfQ8Cf+cfPIchM/8TJwPxCuhmfExvYMEb79+/vxh/pcXPmzLG3337bOZH+7//+z1566aXE3dL+P44I5niihZwbWZGZyDD9BOcIqbPeecT2RGqRldRaf91pF0wHFAI5joDIUI4rWJcXfwS4gWEc43ls3ry5DR8+/IB0FQwxbtJRrzKEJ/HGx42fGyM1JtxQSbnipgkxwct/4oknuhs6N/5MNQx6roWbM6keGFM0ZMHAP/nkk13aHjJ5Obzx3aZNG+vVq5czABKvLVPypuO4XAe4d+3a1Tp06ODw9mmA6AQjGnL6yCOP2LXXXusMX3SU2DDoIFP8xvHYFyMabzUeYvQHhplsRAIwCqnvwlj2NV6QAFL3/vCHP7ioI/LR0BMG23vvveciWtQ3RKNGmZQ1G8f2xL5bt26ub2JQ+wZWGKoNGjQwUqmIsuBswCCPNsYEBnlRUZGNGzfOkU1+5zvGO5HbO+64w+k9ul+6P/saMJwk9EkMafoYJI2+Sf+CrEUb5Jxx2b59e0f2spGmGT1/WT6jI/odcvIera9jbqHe7fXXX3eRln/961/WsWPHgw4LDsxVzEukEdKH6dvou2bNmi6qTSphJhvn41qYA+gnnrQhW79+/ezCCy90c+egQYOKI5TIybZcO+l91IaGNHdmEk8dWwiUBwGRofKgpW2FQJoR4MaFZxlj+bnnnnO5/BhYUe8yN3SI0m233WZHHnmkS5kg6pLYMM4osuUV3R9iVKdOHaM2AGMnkzdLiAHnRmZIkfdg8o4nnNx3DHsMDi8HJAACgFf6tddec8YKN/UQGoYuRi5pLZBVCBFRAgwYGtcNcWjXrp1LtTniiCNc6g2e58SGoelx8/vzTuoShhj6wxDKZENeCBC1ZVFSw3foh3Q5dERNkW/IDIGnHgyjE+JOzVjoDbJCn23UqJG7Nq4LQ9s3dM/YeuWVVxxJ/OlPf+pIBd9FG2MCIxfPPbh4JwD9npRDasOeeOKJjEeG6Et+fvBkHVnov+iN/tWqVauo6I4gEEXiGknlo54tOrccsHEV/EM/xYHy8ssvuzHIYhDRqCt40zepmWTu/H//7/858pooKnMn29KX0YtvEJIWLVrYWWed5TDw32finfkQvdBP0BMy0fie+kvmTVIZR40aVTyvQmiJ3BH9J3rEGGX+URMCQqB8CIgMlQ8vbS0E0ooAN3PSIbjJkauOlxbD0xtMnIwbHt8/8MADrm6DG/O77757kBzcNDFmo/tiABGhwdihToAi6Uw2ZOD8GIp89g0DiqjJ7bff7giZjxjxO9tjwLBAAAY1hgtezqhR448Tp3eukbQjZCbiAyEiDQ6Dxl877xhZRE4gghhj119/vTNAE6+F46E/vy+/0xfwCpNiCFnG8Mlk49zIwSvaIHR4yO+77z7XX5HLN4w2opfIiYwQN1J56LehNogpBiipUdTf4azAMPYGKtcFVhAmFiP47W9/6wgRGHmPfvTavW6j34EZKWrUguHciI6J6Hbp+sw4S5wf0BHEHDLBdUIcoo35A+OayAPRI6JgpANWxepqUbn4DFmnzzGnMD6IADGfco2+IT9kj375s5/9zKWaQe4Sm+/30bmTzzhtqHG86667XMpv4n7p/p9z0seicwA64h7BvIgsRN29nGwH0SaKC2kHC/oSZEpNCAiBsiMgMlR2rLSlEEgrAhAE6gcolqdYlxSoZGkoGB54A++99163AME999zj0nPKIgxeRlaRw6gj1YUoVLYbN27ScvBcIkcq7zKkgZQwSB9GN1GQqGGTbblLOh9GCNhC8KilQSekH2F8JTZIHWmNkCGKoDGYMYRLaxjQGKJ468ENIhuN1pS2f7p+xzjDSMZYxktO5CNKCjgPeFBXQgQMYv/8889nPNKRrutLPA79FQOaWi3S34iqYoBGDVS/D5EEDFQK3NEvei4LiUe3OCkgIY0bN3aR0WRj358nE+9cDxE+DG3kIKoZjXz5c3o82IbaJqIPpAImw8Pvk+l35gUipsydRNaos4OYJspEP4UoEHljsQqcFslSVJPJy3xE2h1EihoenxqabNtMfofDhT5IRJZxmKx/0XfAg3mT8cecH6cIXibx0bGFQDoQEBlKB4o6hhAoJwIYzXgdMRrJBSe6EE09ih6Omx+eaZamZmUxajd8ITeGCoZVohHA/ngMIR54CjFi8egm2y56rvJ+5ngYJhgdvCc7PgYWCylg0HOTxqBPth3nxqtOHQWGJcY3/6fatryypnN7sMWjTuoK6UWk6kTTa6LnIuUPg5kFEFgqG4PZpymhu1T6g2xBlok4ESmDbKS70X+8/pLJwe/UTWAAv/HGG86A97InysL+pHiywALLEpNWlW0DP1GmivxPdAECyrLXRENIlUt1zUTqqPdhpUQMUSK4ePLps+ABfsn6L/0anVJjxPGTGbgVkT26D+dnXPJCjsRGdA8DGt0yR0D4UjX0SHQT0s+iD4xjxkBVNPorTh1S90499VT3jrMlWWNMIjcOC6J3EBtP+MDE6yhxX66X+RJnB9EwHB3pbr6P+LkzmY7oF0S/GHusEorsybZDNog59VCMPVKq0SdYqQkBIVA6AiJDpWOkLYRA2hHA4ILgsLwuNy+KYJMZTZwYIxgCBBFiGVz2wzgjFQJChacT4yB64yOaRMoWXl8iQhzfGy+pzlPei4TQEeHgPMiA8YAcUcMRgwtvJgYFJIDf/fn9e/S87AuBw9vLCmrUSsXNw4kxgvEFgT3uuONc9MCT0+i1+M8sRoAHG880BdxcHwYQeoU8gBuGTNTIgTCyHcYYxftg7PWbDDd/rvK8gytGOVEQ9Mc5uA5koyEPxhd1LdSaJRrtyeTAm46eKcbHC8+1+eOVR7aq2hbjmHRNIkKMS1KPUjkpkHHIkCGun1KPQuSESB59nsgJuEIkoymF7ANGRPkguazSRz/gvLRkmLofyvGHY3EOZGFBAPoRRfnI4fsY4wzdEA0iqoKx74lrKhkg9RBdnluGY4MIoT9eOcSr9KbMY9RvoR/GX0kRZMYVjiBI01FHHeVILv0RfCAL4EPkJZrSybzGyo84cCDFzF8+Ipuu60UGnB1giAzMEcgRnevQEeSafsI8zpzjx1IyHTE/oGfmGJYDZ95Qulylu5sOkCcIiAzliaJ1mfFBgBsqhieRD1bn4jkuJRlc3DDJF2dZYwwADCiMVjyepJ5haHPj895lbooYQqTdQYQw2Niemzzb8KrsTR3DiWvgHNRM4KUljQPjCiODc3FjxxDD80yBL4YhsuGt5SbNzT7ZTR3jkAdT/vrXv3a1ABjscWpcGwaSX2qatLdUjetjW56zRM0COf0QWAwfMCHywEp/1Kd4YxTcIEnoFE8vhiqYQXDBzZPaVOcs7Xt0T0oRaVqcA6KDIU8qDuSTvsg2GJJEpho2bOgIDsYb145RjTGZrG6E64VY8bBfUscwRFNFzEqTsyp+B3vqeFjhjeWm8cYnu04vG0SCZZeJDBEJw2DFgCX1Db36Ghvfz9EdumZbalcgGIwDvgfTVGPCn6+0d2Sl9og+R7QHJwq1iMiBQwRdoEPGItFM5gfqu+hXfE+/QA4vb/R8EAaitugWoktfiZKI6LaZ/Mz8wGIlLNNPVJZrSdVwvkDceEYWKarMmfRf5lDmLOq1GGMckz4PkWQfyCp1UkRlcAjwPfMmY8IT11TnLO17xjkyQ+jAk3rOV1991aWYeucBpAeS5KN2rOrHfvRP5OA92RyOPqjZ+/GPf+zm0EzXGJZ2rfpdCISCgMhQKJqSnDmDADcsDBCeGYERxU050XvsLxajBE81D78kssADGz3JwRAg9eOwww5zBb4Y2RhTkAeMXIx0jB2MU4wubqjcgPHwV8aI4UbNMShaJm0GwwRSRq468uFNxdjnfKQBYWhDyPiOvHsMNYwMvK/e0+mvl3du9kRdMGDw6EKo4tSQDyOYB6HimU5WkO3lxYDBq0t6HMT36aefdnUI6IYo309+8hPXByAiGLEYORhEGEGkxhBlgXQSaUCPGOcQpco0DDqiixBsXvS/p556yqWFkQKFbiA+6IlIAGSJc6M7iC6GJPrHSExmNEPEKTj/zne+49IIS4qaVeY6MrEvRBCCCpGjP1Orl8zo5NyQB/T4ox/9yM455xxnPKNrat6IjHnnBVhDdtAtq50xVnAccGzGAIYxeFKfgp5Tna+064UI0VdwTpC6x4IpkCDecaJAznCsQNiQCdlJ1aM/MT/Q7yAL0dXKoudELhZuIV33lFNOceSZsZDNxnxBxA1HBPMeDiX6YbKGvGyLs4jI3cUXX+z6NiSQayB6AmlAz8yxzMHoHwwgkdQJoS/6PREXyB/zZ2WcEfQZ0mshaKRVQlT5zHihbpT5knmAfsGcwLiEmNFH6BukNTL+0HMyks41Q+a53pNOOslt6yPKyTDSd0JACPwXAZEh9QQhkGUE8MJiNJ199tluQQS85xhKyRqeXAxiiBPP6MFYhXxgxP773/92qXNf+tKXXOoKN3RukqRVkH7HzZCnl2MMcOMlj/zxxx93N/tkN9Jk50/8Dq8ohhueYeTBuOfmDDmgzodUFFKMIAjcyHlQIEY/MuCFvfXWW93veM6RNdmNGqOE9DDIA6uvYYBV1hubeB0V/R/jH8MRsgY5xUsO0UvW2BbDhsgKkQZWAYRAUicGiUSnv/zlL+2b3/ym8+bixcX4wkAiRRDcIMHoGmMJAxfdV6Z+gXQfCDJ1ahjIGMtEfzDCkBF9cQ76JzUzkG0iJBidLOCB4UjUjggg15aMDGE8YvAfeuih7pgQqIoa+MlwzdR3XAuEAEIPDpAIvPPJ+p7XLeOKCAX7oDf0Sx9H13zPg44hk/QZVjujxgySBHmCNLEgAeOS8QEBxuhOhmlp14yMOB9Y9IF5hb6Fjlg8gDEKMeWcpDxi6KN/xi+kAjnoj0QtGbOp0s44B04cVkOELBKBwMGRzUb/BUeuBXzBlvk0WcMRwbUgL/pk/ED8Ibv0bRwt3/jGN9wYhuiAH9Fa5kyiSJAn9IKOiN6DE/NaRckQeoXMMJYZ38yHODeY3xlXzAXoA1kYg5A1HC7ohjmAfsLcytyDcwJildiYT0nvw0nDUu8saOJT/BK31f9CQAj8DwGRof9hoU9CICsIELmBAFFQzw0ZIsGNO1kjZQODFeMKwwojB2ML7x8eXAwSDB0e+IgXlCgKKydx3D/+8Y/upnjssce6fTGu8UhjmFWkYdCyL4YBXlkMdXLdiUZhoHCzpp6AImUMOwgTkS/Oz82Zd4xrDBEIVCojBmMDAwHvM5ET0lXickPH2MBg5hq5FvSBgZOsYTz6lay4fsgpmGDQUICOoUZ0j8gC3mGfOgO+GEEYnOyH3sHub3/7m+srpDFVpCEPRBZjmRREoj6kB5EaBfnECCSdD2JErQx9DsKHDLzoT8iCwU+KXSoCzzHxauN155rpp6n6d0WuI1P7YFzSj8EAYxhyg4GcjMgRoSDdjQgD6Y/oEfxIdyKygJHOM5kYh4x1vPqMc4xg+o3HFB2DKUQTUl2Rfo6RTe0eEaHTTz/dOUiIzvI9x0PP9B+MamTAqI/OD5yfF/0C3aO/ZA0cSAHEmAcfjkdUqSLkLdnxy/IdUUYIHXMDjhewTRWdImLE3AHxox+jVxxIOGKYt3BKoDvGMFFQ+jT6AweICDoCN7DhM5E1op6Mo/I2MAJXCBBkmPmaschcx3lxMJx33nluPieqz9zKGOX8Xg6ul1pKHBWpomHIxoqcXAPXRj9M5bQo7zVoeyGQywiIDOWydnVtsUMAgwKjl5sUCyJgcHJzh1Aka9y0ITzcQCE9GAEYLJASyA/GNZEhDGxSm4gk4ZknysDvvDgGL77DaEoWjUl27sTvWPSBqAKGBTdpvI4Y0jTOzU2dyAYpHhgtpONwfgxKCAQyYDxhUGAEpDIquAaiQdzQMajxhKa6+SfKmOn/iahBOIkaYNRiXKVK42NbUlwgfxCeH/zgB854xmMPbqSjYQx///vfdzUkYEJUDPzADOw8bmBHhAXDryLGJ/tgkBMlwEjCcMdoggDQJ/HwY+jicYas009Iu4z2IXSHPBB0yE0ykgD+7IvBSS0NhiS6rCiBy7Q+o8fnmpAVQk+aGwSV6GWy6yTNFEMb0vrlL3/ZRSkgGURn0RMRGn6DnEB8wRny7zFlLHrd8g7+9Ptk54rKmOwz+0GscZIwLolkcHwaY4zjQ/I4N+OSuYPP0T7GNv73VOOSPkRUkuvk2nwaYbJU12RyVvY7zk/foxYKMkbfYj5KlWJMlA0dEmEmSslY43/IAcchUsScSlSPawdH0uTQebTfM/bABzJT0bmTYzPPQ0LpW0SLkYHG2CACSd9BZuZZ5kjOGe0njD/mVLZPpSP6DySLzAAcSd7Jkmr7yupE+wuBXEFAZChXNKnrCAIBblbc8DDwuSlChvD0pSJDGDGkn333u991Riw3cG98c9PjBs+NHo9mqmOkCxhuzqT5fO1rX3MGPkaDT9XgujAUKmKoJ8pHxIFUETylhx9+uKttwICJQ4PgQBrw5EKGyPOHBCZrXAceegjs17/+dRdZwTiBrNKI+JGmg8eX1JZ0YJdMDr7j2GBKpAZiRr0Ixpg/J/pLl8EEcWWBAOoWiCZRo+FJcyr54vA9ZAg9EIFjbFLrlirFD90SIfvWt77lxgM1YXj0MXrZh/Q5HBhEHegvmWyMDZZup59hbBPli9YEMi7Rb2UbfQWyTN8HH9LPmIMqmnJbXnk4P32WqLOP2HCtqcgQ4xLC9r3vfc/1eaIqRPNozGVgxbxKaiAkKJONMU+fYD5DDqLJfr7muhh7fixWRg70TCojkUpSjIlg0x/TNbYrI5v2FQJxRkBkKM7akWw5hwA3PDz0pLRgvFCngRHlb4zRC+YGRo46hse3v/3t4tWtiCBg7LAKEpETjGmiDZn20BJJwMt6yCGHuAhDKiMkeg0V+Yyh6SND3NBJCYyLMQ3GeHExhImQke6SytjFwwtJpbaBqBD1XmwLgSR9CaPyi1/8oiO7rPSVyYaRBAGHOFNLQJ+LGszpPLePDHEePPgsDABJiHvDqCd9k9Q3Ih/UPRExSEYkiLAQFWQskM4EsWVcsy1pgdR+QARJiyISnNgY7/TpdBAJogf0LSJ+1LB5gz/xnIn/Mxehl5KitNF92N5HhpiTvCHN52YAACAASURBVGMmW4Y256dvsegDUXXwpcYnWdQRAsh8RaoizhvmWVIEmbPQEY4BanSYO1koIVWqXfT6K/MZEgn5+upXv+oia0TnuJ50N64Nggqhpz9QHwYRS9aH031uHU8IhIyAyFDI2pPsQSLADR0iww0aTz3pZslqKjCWSKcg+oPhTe4/BheNmynFwJAhUp7wNGJkp7rBcjNM9VtZQYSYkVaCAchNNpkRxHlSRYj4rSw3ZYwzXzMEkSDNiGPGoSE/kT1qr9AJiwskMz7BmsgZxrBf2Ym0KowxrgXPNHojRY7alGTPbAFfdJoM5/JiAYlj8Qx0xyp9pO8la5wr8XzIwKuszdcMUVdGjQzpWHHRX0nXwHWT5gmRIfIA4UVPiX2Wa4EQU8T/la98xRFi9gMjSC7GOql2pHmSLsh4p3F89I+uWZWMOYD6Ijz3kJKKjk8ixTxbhigHEQHSqRIbx0ZurgUiRjQJYk4BP+lb9GEieom6jx6HfdmHmiHICOm7pHRmszEnQmRIPyTyRgQymaMEckMKHQQEUsACBIxbGtuTpsz34MVYQG+p8Od7cEnsB+W5bmqScA7g/KD2CEdJYuP46CiVHPyOHKl+53j87muGGOeQxUw5rRLl1/9CIGQERIZC1p5kDxIBbrzc0FnNC+8mhAcCEG3c8DCmMWApoMXYIYWHqAm/EUlgwQLSLrjR43mkbgejl9+5KbIt32H48J7MC80Nlu0w2PB2l+QlJppAWhAGNUTMRxY4H5+pieA4GCL+po08eG6RgRSXkowOf/3cvEl/4bqJRLEUbZwaxj6RPXQHocWwTWwYnKzSRr0QtQ0YkBitYAXxheB5Q41jEYHgutEHRjVpOyy+QMoL3njwS0ZIwBl82R4Di/NyjMSG7jFe0R1GIH3Jb+f7APtjEGOY++8wIDHkeGG0exkTjx/9n5ojoio//OEPXZQFvEJpRHGIeOCAoPYGnYFxtGFMQ9bRv1/RzKdZUftDvRD9gtXIIDx45n0kCK89NX/UbrF6G9ElUtwgV348cS76CfpmTKF7zpmKUEJQSMdjbLJYAMTMN2RnTKMDjsVnIkmMZQg9cwepryzggLMjmZHuj0WfoB+wPX2XNMKStvf7pfOdsUNtDTUxRI25hkQZwI7aGn7D2UR0CD34OZaxRsoajiR0zTWBT+L8yHHYB8KHE8rv76/Hj2XmTV7MbYl9xW+L3pGX8cec7vsLx+C8zJnMncmeY8QxmTupI+I8iXL6c/DOthBcyCpzJ/MMc7CaEBACJSMgMlQyPvpVCKQdAW5OGCwU7pKmgQcaQyXaMHwwpvFSk7JDXjsedn/zxJilpgZvMKSIugw8whiy7MvNFg8hhjYrLkGeEm/mnI8bOMYANSQQHG6e7Mt5EhtGv0+TQ3augW0xAPEs8/wjUoS4qSMDhguEDg8thhMe6GidSuLx/f8YfqR0EXkh7QfvfJwamIE3nn+MZiI+iQ19Ui+EjjCMIbwYMjR+438MaQwksGExBQwuyAbXy74sAczKchhupGFhmEcjiOgI/JGFpXjBDD1wjMRGn+O5RRjM1Ayha4xiyA8kh74GQYeAYZhBnvmO4yIDBjBGHIYWZCeVYc55MURJ28LYhFCgz1AahjVEjjQwFicBg8Rrpb9jaBP5og8wfiA7NPBDX4wT6ohYVQ+dgBlEC089aVnUCTLmSMmjriWRiHA89ML2zA/0Fx/ZSMSSYn/INn0JI5iaGs6HDtEx5yLtlGgy/YVr4rg4HJCFdE3IFHMMiwWkahjazA+sysa1EZVJNqek2j8d3yMDOEBijjjiCHfdzCnRhr5woIAJDhXecRb5OY1V+3BEEeWm5g8cqC+in/ptOB5OIhwRrKwIeQS7aOPaIWaMTcYT20B8o8fw23N80qJJkyO1lgUvkBs9QWbBFbn4zjsp/L4QJLIH0BVzAPNPqgY+6IV6RnRE31MTAkKgdAREhkrHSFsIgbQiwM0SbyM3UIgON2Sf/uZPhDEEicEoo+6CZwdxU6Rxk2ZFJZZ/ZSU5Uj0wgDDE+A2PMoYPN0UiShwfYytZbj0GE6k8RC+IGGA4cIP3xp2Xh3eMdH6nfok6CQxd0k2o6cHog3hhGCInBgk3bQgTq09hHJIOhkGYzFiIngcvLau1sSw3z7fBYIhTg1hgwLCCHzJiPCczmDEu0RHeeowdvw1GFakyLJ4AlnjlIYrojBcPxGRfjg8ZJh0L7zbniaYlgSPGLqSJldt4lgp9KlnKHQYWZJZjcU4IGkY2/Qr9oz8MZAg1RiGRClIhITUYnkQ56ItEukjtSmUEcx4MSGoWIIoYcBD0UBr9njQ35CfVDV0wpqINwkARPF5+FhGIGsBE8viNiC2GOHrG8GUbdAfhZBxBODFsSaOEbII9TgTfGKsYx4xdUimZAyA1yJI4fogcQZZYqp9ULFI3X3/9dTd/oF/INuOf7SC/OEYY4xjeEDuiJkSpIEUl1a6BDfMM/Rm56AclRSn8taT7nTkLAoIjCWcDTqJoQ06ICb8x/li0xDsi2I6oHvMRKWuMK8gO1x0l7ZAKyCgOBvoBy3BHxx7HgTjjtGAsMf7ABKKZbO5E/4xT9MOcgQML5wRzNHMo+qNeDTmj+gVf+g99CocE84i/D0Sv2X/m3DgtWEmOZyQxP6gJASFQOgIiQ6VjpC2EQNoRwBjyXlYMVG543ljmZBg9GJJERkilwfDwaVL8xoIJeP64sWI0EwXCSOAY3MiJDmBg4/HFeMHY4pyJje/4DY8yUQMMqVRLIRPRIAqBccB5Mb4gW5AdbujIwE2fGzhGMTdmiAyGBClT3JwxMKI3+0R52AcjEcOCehMiYHEzppGf60I/4MYzQTCUotfF/6RCoSPwwTPtG0YvUQGMOWpTIDB4jtEFxguRNHRCLQPXT3obD8jkWJBN3zgfqTPUkmGMEYmBWEHUkqXGIDN6wkMNUSGqAc48lwqjDgOZPoSxhVGPwUkfwstO9AuCQLSOqAhGdbKGEU8fQV6ODUFPJkuyfePwHf0WQkj6GOMGQghBjTauCZLKGCAlLto/MarRAf2CVSAxdunzbAOBhAj7cU5Eh9W+eGEIR50VbEsdICSFcckCHOgOAzzaz5CL+QAdoUdwx7GB7JAsCDRzBalhRBV5cQwfXYAAoC+cDqTvpYo+cR5wIFLIHMF7qsUlolhl4jPXQP8EX/oxYyRKQMADEsvcB4ln4YQoaSMKC1HCoUNUjv0ZG34b8GUMMD9DQMATfIh4RhtzrCddEFZIEeeKkiq/PTLjjGAux2nBGCQqSF+BFDG/M2dEUyXpizjJGG8Qa64FQoz+kjX6Fc4m+iYpnJB6xrOaEBACpSMgMlQ6RtpCCKQdAQxEn9cO4Un0+kN8MKwwiklNihrb/IbBhjGOscaNNGqcemMJUsHNFsKCgZ2MDHEsDHCOQ+oIUQCIWdTA8xfPzRbvMjdkvK14vTEG8SxzLgwIbuA0ZODF/6R4YHjgeS6JDLE9N//mzZu7xQWIXGCkxLFh3EBgwAvcIAtRIwgsIDPoD5IY9Uxj6FJDgBEE4UDPGKcYdER1MGzpG+DNd0QTMKKIDpCKGG3sRyoMxjtyEH0jquMN7ui29DnSFiE+9DdIKp5vjGH6AHKxHwYU5A05fJ+hfxFhgAxhGEJ6ExvHhyhgKEOYQ4sK+euBlNCnIblEPzGewcY3IioYvUTUiHxGsSbSQuSBaAPGKFGgqIHLMRgTEGL0wDkYe0SbvLODbcAS4sTYh1RiDBMpxgD349vLw/Hob6SoEgmCXKFfPmOAIy8OksTGsSAV6IuIL4Z9lJBFt6ef4SQBD9IA+ewJVXS7bHzmWhhP1FpRu8Q8Ac4eF3BkDKBDiCB93v+GfPxP38QhAb705agOwYB+jH4Y3zhlGFeJZAgdMV7RNcSLqCm6T4ULMjNXc150BMlhfkBvjK9EHTHXQpIZd8jAHIC8qcgQxyDlj7GHPplrkVFNCAiB0hEQGSodI20hBDKCAEYSxggRE7x+3LjxavobNzdovJXc0DzJQBB+x0gmUsONkc9+n6igGFikm2FMYRhEjfXoduyPHKRmYWCQdhI9X3RbzoNM3HghKsgAMYgaE9Ht+cx14Q0lTaQkMuQJBJEUXqQJJRoIiceuyv/Bk/QjVoXDqIXURL3LGGVef1H9gC1kE9IBft5gAUdwRafegOY3IjbokchMslXgwA2MSY/BuML4TdU4N32MVEReGH6cy+OMHiFAGOL85vsBBh4pUkQxMc7YN9rYjvNyfiISGNgYnaE2+ilklWshckcUx2PBO3rl5XHz14nOwQ2dgFmycYHOeX4YjgoiOTgJMIjRf7She6IxkBrS8UjBivaj6LZ8ZnsIDnpAf/Qx5Em2D+dinEPocJZApDkP/S+xcb3MJeidcQnxh/RVZeOacEaAHZEqiAvjyevIz51cv//Oy0t/Rz9sH51v+Z3tiXjhdGDOxFkAPjgOkkXNOBaRWIgN/YTPiefz5/XH57zoiHHO+ZE1qiM+8z1jHaxxVhChoi8SxUpGhiDr9CHIKil4OFAS+1NUDn0WAkLgQAREhg7EQ/8JgawigOHEzY6iZOoHMHyTeX8rIhTeUghIaWSImzMeR4gQN9tkBlFFzu/3weNMqkkqMsTNHxwgE6TqcEPHq45BEOeG3N5DDVHBcCLCArmsSMOwTjSMMKiJ1JFyB354vBMbRhpGE3UHpNEli+ol7pPqf64JGXhFG15q0rRI2yIq4iNGbMO29Bm82Hi86cdElTzJix4nlM+ehBIRuOeee1x0kwhCIvkp7/WAFalMjHmiedRhkV5Fv0+MttGPqL8Cd6IJyYzx8p7fb49BjY7os5B5ahepS8EBEW1cL9FaorsQciKZkKjE/hHdJ1ufIaMQRNLCcCjxmeuqqI7YD5JPP2b+4XjMhzg6fL1j4rV5Bw64kJqXqMPE7cvyP3rHkUCKJU4OyBnYQ3KQh3P6xnhlvENWIbO33nqrqyeNRjL9tnoXAkIgNQIiQ6mx0S9CICsIQEaozSC1AQ8kBlBlDFovdFkiQ3gxudly88cTiccX72g6W2mRIa6VNDsWYsDDCjGLFpOnU5ZMHIu6HYgItVsYMBi76cLQR1tIScQQgjRGG55pPMIQFIxb+lJJnunovuX5jH4gOaQEYQxHr49z8mBVyDTRFKKMcSeyZbl2+iUpiBAR6nGIAlbWUYBuiAzRZyD/9HeemcPYJ9Lhdcc7hj2GOdE2HBvp9PSjHwx/Il44Kzg/KWcY9VGiQ/9jbiAtFsKN7ulzcWkY/dT20DepnUNfUaJeHjlxPECAiDLRn5kLwZ+oHOMvkYxCnjyxJf2N3yuLDeQGzEmJZC4h+k6fo24QosPcyHjzjT5B30BmUiMhZDgu1ISAECgfAiJD5cNLWwuBjCCAN5DUDIwRUmhSpbSV5+RlJUPcPDGKoh7H8pyntG1LI0MYhxj0GJt4phMN/tKOH4ffSUvCe45RQr1BRaND0WshQuifS0MdFUZSYuM81DKQ1pUOAp14fP7HaOa6iPoQuYxeG0Y7BhtEGj1D5L1Bn+xYoX3HtVKfRy0GpAHjN50NRwS1JhTyE9XzUQ0wRP/olVcmG+fBiCYFEkIRjeghH79BxIl6YKzHrSEv0VOcKdTn4Ugpbx+ExDBuIftEy3AsEBFD76QwE3lijoIweQzQFUSFKE5FzpmIIzITaWYsUZfHfALZg+wQFSJyB0miP/gxyO/UrTH2qA9Lx30jUS79LwTyAQGRoXzQsq4xGAS4qeI1TodnvSxkKBvAlEaGMOIxuPF4emMwG3Kl+xwYZXiTIS3RyElFzkMKkC/ixigi/c4bYRU5XkX3wfgjakk9BF7zRK87BhzklWvOZUMMoxMykO6IJTVB1A5hbGPUVoWOMayJbLAIAJG9KJHgeiG79Me4N+YP8ITcRa+hLHKzL/MUizFQe0ekF3JFyi4pvtRUsdAFzoDKRn9SycP8wZyNDljSnmgcUTnIGQsokFJJyibklAV1mCuZZ3DEMH+GPHemwkTfC4FsISAylC2kdR4hUEYEuCmmwyjyNUM8PDKxzqOMoqRlMzzqLKBAqgerLyU2DBdu5Om45sRjZ/t/rgP9ldcYi8rJ/uDEylR4plnZzacuYZRWlmhFz1XSZ4gQaUcYhhAiH7FDFuTwxhfv/nNJxwv9N67R66G810LfhvRDLCCU6JD/iTaQggXGOEEy3ehbGP68IEHoEcMao5tUMyJA0cb1VqYvR4+Vjc9cX0X6ItFprp1FZIjSsVgBD5Zm+XkerstDTEmXYx5lXGSigTWROPoCkSAihpAiVpE78sgj3UNmWV4fkkTaKn2IfsX1hqSjTGCnYwqByiIgMlRZBLW/EIgpAqS+YeBQYIyxg8e0Khrpbzz8EDKU7jSjqrieTJ4TgwiM8P6y0hepL0QkqB8hHYdVokjbynSjr1DTwtLp1C5gpGEwEgEinYu6IFKEcoHAZhpLjg/xIJULA5ulqYk6kHpInRU1QSyMkY5ocGnXAuEiwkGEAaOatCselkx6GLU3RBjysUEsIKrUbZGqy4vlw1kV8S9/+YtdeeWV7vEEOCkgXJloEBrGHeOcMUa9kk8f5sHapDFSU0o9UzrS8jJxDTqmEAgVAZGhUDUnuYVACgTwFHKz5NlCPMOINA8KwKnnSGcRdorTu68xkjHuyG+HBB166KFOFp5RhBGdKYOiJJni/huYEM3DAENveKXxEJO6wxLCpFKRroYeM9UwyCBeGMYY7jzUkodbEr1Aj6R0kUZEtA/DWWSobJqADEEgIUIQEbz/RP0YD6RAZmtcksYJyWaJbAxratHQpTewy3Y1+bEV6XA+fZC+n7iAQrZQYDzSZ4jwl/TQ1WzJo/MIgVxEQGQoF7Wqa8prBPByQkJYapVltfEqkv6BweNTnTINEEY16UAsAIAhf9ppp7kC4NatW7vIRwg1CJnGKPH4YIJHmCWXSYdhlTFI0YUXXuhqFny6Y6YWukAeiDSRKPREvznppJOcLBdddJGdf/75Th5WraK+hToatbIhwHggLY6aFlZkozgfPRIJQO/ZIpXMDTgjMOx5QWgZpzguKpJeVrarD3MrsKJGCEcA0dGqWqWNOZu6ISJ5zA/ZmsPD1JqkFgIVQ0BkqGK4aS8hEFsEMGowcCBErIqER5pifAyfbJEQjDvOxTnJb4eIUX9CChgGoAyvg7sPmBDRg2iQUkWaDKtjsboUn8EPolLRupWDz3jwN+gNox09oTPS9JCB8/OZd6JX9C/p8GD8SvvGjwuigNkiQIkycV7Oj7EvHSai87//fZSUdGPSC7MVvfufBP/9hJ5IzyNVlVov/lcTAkIgvQiIDKUXTx1NCMQCAW7kGDoYzv7Fd9k0wDhXogz8n00ZYqGMcgiBjtCXN1YxfPyL7/g9083rLZkMyCIdZloDOn5cEPBjIdtzZ+L1c36Nu0RU9L8QSB8CIkPpw1JHEgJCQAgIASEgBISAEBACQiAgBESGAlKWRBUCQkAICAEhIASEgBAQAkIgfQiIDKUPSx1JCAgBISAEhIAQEAJCQAgIgYAQEBkKSFkSVQgIASEgBISAEBACQkAICIH0ISAylD4sdSQhIASEgBAQAkJACAgBISAEAkJAZCggZUlUISAEhIAQEAJCQAgIASEgBNKHgMhQ+rDUkYSAEBACQkAICAEhIASEgBAICAGRoYCUJVGFgBAQAkJACAgBISAEhIAQSB8CIkPpw1JHEgJCQAgIASEgBISAEBACQiAgBESGAlKWRBUCQkAICAEhIASEgBAQAkIgfQiIDKUPSx1JCASJwObNm23mzJm2Zs0a+/TTT4O8hnwWesWKFTZ37lxDj2phIbB//35btGiRLV682Hbs2BGW8JLWtm7davPmzTPG4L59+4SIEBACgSIgMhSo4iS2EEgHAnv27LERI0ZY9erVrXfv3rZq1SoRonQAm6VjYIx16tTJXn/9dRs5cqQjRJ999lmWzq7TVAYBHA+QoMaNG1uTJk1s2rRpxnhUCwMBdDVu3DirXbu2G4NLliwxyK2aEBAC4SEgMhSeziSxEEgbAgsWLLBnnnnGTj/9dLv77rtt0KBBtm3btrQdXwfKHAIY0xDZm2++2c4880x78cUXbcqUKfJQZw7ytB6ZSB5E9pJLLrF//vOf1rRpU1u6dGlaz6GDZQ6Bjz76yDkhLrjgArvpppucM+mTTz7J3Al1ZCEgBDKGgMhQxqDVgYVA/BHo06ePnXrqqfad73zHjjrqKKtZs6Z9/PHH8RdcErq0qho1athvf/tb+/a3v23nnnuude7c2aXuCJ74IzB//ny788477ac//an96Ec/shtuuMFF9xTZi7/ukHDAgAF20UUX2Q9/+EP7zW9+Y0899ZShUzUhIATCQ0BkKDydSWIhUGkEMLjWrl1rL7zwgn3/+9+3Qw45xL761a/a9ddfb6NGjbKdO3dW+hw6QOYQQH8zZsywq6++2r7+9a87/f3kJz9xUb45c+Yo1TFz0KflyLt377a+ffvaKaecYl/60pec/o4//nhr3ry5q91Ly0l0kIwhsH79eqtVq5b98pe/LJ47L774YuvXr59t3749Y+fVgYWAEMgMAiJDmcFVRxUCsUZg79699u6779pf//pX+8pXvuJu6BAiDLK6deu6WoZYX0CeC7dp0yZr2LChHXPMMcW6+8Y3vmH/+Mc/rGvXrsbvavFFgKL7hx9+2EWFGHe8Dj/8cBcpGj58uDE+1eKJAI6IwYMH25VXXmnf/e53i8ffH/7wB+dcmj17djwFl1RCQAikREBkKCU0+kEI5C4CeDarVatmhx12WLFnGoPse9/7nrvJc7NXMXB89U+x/d///neX3uiNaSIMP//5z52RPWvWrPgKL8mse/fudtxxx9mhhx5abEwTmT3hhBOsfv36tm7dOqEUUwS2bNniSM8vfvGLAxxJpBpfeOGF1qtXL82dMdWdxBICqRAQGUqFjL4XAjmKAClwpMKdccYZxYaYN6h5P/roo13UgeViVb8Qv05AGk779u3t//7v/w7S35e//GUX7WNlQC2EET/dMZ5WrlxpTzzxhH3zm988SH+krN522202YcIEGdTxU59LPy0sLLRLL73UGGvReZPPEKSXXnrJLYShuTOGCpRIQiAFAiJDKYDR10IgVxGgyJcV5H72s5+5m/kXvvCFA96JFt14442uQHjXrl25CkOw1zVmzBi77rrrDogKeaPsi1/8ov3ud7+zxx9/3KZOnRrsNeaq4Iwn0hhZ/Y9IEHrz44/P1H+ddtppLjqEM0ItXgjwLLbXXnvNSIljrCXqDzJ72WWXueiQ6i7jpTtJIwRKQkBkqCR09JsQyEEEBg4caMcee6wzvFgJ6Qc/+IF97Wtfc/nv/M/KZNzseXaN0nXi1QFYTrtevXpOZ+gJ4so79UKkOGKM8SLqh9Et73S89Md4uvXWW116HOOOVeRIlSNKhN7Q4RFHHGFXXXWVFRQUxEt4SeOWrucxBIw55kp0xtjz/1NDxKIKjz32mBbCUH8RAgEhIDIUkLIkqhCoDAIY0hs2bLAGDRo44kPNwquvvmr33nuvK8Qn2vDkk0+6Z54QXSBdZ/LkyXpuTWVAT+O+POGeZc95pgleaTzQEFbeTzrpJLvnnnvswQcftLPOOsuRWZ47tHr1ahGiNOqgModiBTnS36gLwoi+//777dlnn3X6Ou+88+yhhx5yCyjwO6vMdezY0S2fXplzat/0IUB6KjqBrLJwCUtp33fffU5XjEEI0LXXXuuWuufZUeiaMasmBIRA/BEQGYq/jiShEEgLApAhUm86dOhgt99+u7Vq1coZWx9++KEzqNu2bWs8SJAHr2JI16lTxyZNmmQ8aV2t6hFAD6Q4vvLKK3bHHXfYkCFD3BLorP7HM2rQ28KFC61bt2729NNPW8uWLW3JkiVaZrvqVeckwJgeO3asW7gE/cydO9fVlkBgSWtkrM2cOdOaNGni0lh5Bpge4hkT5Zm5FRp79uxpd911l3tALo4GVv7DaUS0Fn2OHz/ejU/qhvisuTM++pMkQqAkBESGSkJHvwmBHEMATyVGGUsv+3ogVo7jGRmtW7d2xheryG3dutW98GYr1SoenQA9sOTy5s2bi/WEZJDWa665xi33y++8WPGKBRTkmY6H7pAC/THmIDiMLxo1KA888IBbAbCoqMh9R60J+uMdB4ZaPBBgXvRzp68HYiGam2++2Y1BFsZAX4w79Ke5Mx56kxRCoCwIiAyVBSVtIwRyGAGepM7zaVq0aCFPdIB65uGPPHwVPWo59LAUSHSBdDmiQyyXrhYWAkSGWGyGMagFL8LSnaQVAlEERIaiaOizEMhDBKJkSA/rDK8DRMmQHtYZlv5WrVpVTIa0+l9YukPaKBlavnx5eBcgiYWAEHAIiAypIwiBPEdAZCjsDiAyFK7+RIbC1R2SiwyFrT9JLwQ8AiJDHgm9C4E8RUBkKGzFiwyFqz+RoXB1h+QiQ2HrT9ILAY+AyJBHQu9CIE8REBkKW/EiQ+HqT2QoXN0huchQ2PqT9ELAIyAy5JHQuxDIUwREhsJWvMhQuPoTGQpXd0guMhS2/iS9EPAIiAx5JPQuBPIUAZGhsBUvMhSu/kSGwtUdkosMha0/SS8EPAIiQx4JvQuBPEVAZChsxYsMhas/kaFwdYfkIkNh60/SCwGPgMiQR0LvQiBPERAZClvxIkPh6k9kKFzdIbnIUNj6k/RCwCMgMuSR0LsQyFMERIbCVrzIULj6ExkKV3dILjIUtv4kvRDwCIgMeST0LgTyFAGRobAVLzIUrv5EhsLVHZKLDIWtP0kvBDwCIkMeCb0LgTxFQGQobMWLDIWrP5GhcHWH5CJDYetP0gsBj4DIkEdC70IgTxEQGQpb8SJD4epPZChc3SG5yFDY+pP0QsAjIDLkkdC7EMhTBESGwla8yFC4+hMZCld3SC4yFLb+JL0QRHefewAAIABJREFU8AiIDHkk9C4E8hQBkaGwFS8yFK7+RIbC1R2SiwyFrT9JLwQ8AiJDHgm9C4E8RUBkKGzFiwyFqz+RoXB1h+QiQ2HrT9ILAY+AyJBHQu9CIE8REBkKW/EiQ+HqT2QoXN0huchQ2PqT9ELAIyAy5JHQuxDIUwREhsJWvMhQuPoTGQpXd0guMhS2/iS9EPAIiAx5JPQuBPIUAZGhsBUvMhSu/kSGwtUdkosMha0/SS8EPAIiQx4JvQuBPEVAZChsxYsMhas/kaFwdYfkIkNh60/SCwGPgMiQR0LvQiBPERAZClvxIkPh6k9kKFzdIbnIUNj6k/RCwCMgMuSR0LsQyFMERIbCVrzIULj6ExkKV3dILjIUtv4kvRDwCIgMeST0LgTyFAGRobAVLzIUrv5EhsLVHZKLDIWtP0kvBDwCIkMeCb0LgTxFQGQobMWLDIWrP5GhcHWH5CJDYetP0gsBj4DIkEdC70IgTxEQGQpb8SJD4epPZChc3SG5yFDY+pP0QsAjIDLkkdC7EMhTBESGwla8yFC4+hMZCld3SC4yFLb+JL0Q8AiIDHkk9C4E8hQBkaGwFS8yFK7+RIbC1R2SiwyFrT9JLwQ8AiJDHgm9C4E8RUBkKGzFiwyFqz+RoXB1h+QiQ2HrT9ILAY+AyJBHQu9CIE8REBkKW/EiQ+HqT2QoXN0huchQ2PqT9ELAIyAy5JHQuxDIUwREhsJWvMhQuPoTGQpXd0guMhS2/iS9EPAIiAx5JPQuBPIUAZGhsBUvMhSu/kSGwtUdkosMha0/SS8EPAIiQx4JvQuBPEVAZChsxYsMhas/kaFwdYfkIkNh60/SCwGPgMiQR0LvQiBPERAZClvxIkPh6k9kKFzdIbnIUNj6k/RCwCMgMuSR0LsQyFMERIbCVrzIULj6ExkKV3dILjIUtv4kvRDwCIgMeST0LgTyFAGRobAVLzIUrv5EhsLVHZKLDIWtP0kvBDwCIkMeCb0LgTxFQGQobMWLDIWrP5GhcHWH5CJDYetP0gsBj4DIkEdC70IgTxEQGQpb8SJD4epPZChc3SG5yFDY+pP0QsAjIDLkkdC7EMhTBESGwla8yFC4+hMZCld3SC4yFLb+JL0Q8AiIDHkk9C4E8hQBkaGwFS8yFK7+RIbC1R2SiwyFrT9JLwQ8AiJDHgm9C4E8RUBkKGzFiwyFqz+RoXB1h+QiQ2HrT9ILAY+AyJBHQu9CIE8RGDxgiF14/kXWsllr27F1V56iEO5l165V166+8t82ZNDQcC8iTyXfuG6T/ee+B+yhag/brKLZeYpCuJc9ZuRYu/H6m4wxuG71+nAvRJILgTxHQGQozzuALj9+COz/dJ9t273ZNu1YZxu3r834q0//t+3Sq/9hTVo1sI9WLsjw+da442/Zucn27Nttn9ln8VNAJSXas3+3cX2btmdHfy+9/oL969+XWs93u9maT1ZkWH//7Y/bdm+xfZ/urSRS8dud/rhr7w7bvHNDxnHctGOtzVk8w+687za7t9pdNnL80Ayfk7G3xj7Zsd527tlun362P34KqKRE+z/db9v3bHXXmOm5E/29N/Adu/bGq40xOHPBNNu4I5PztZ87N9rufbvss89yb+7cv3u37d600XasXm3bV63MudeO1ats96ZNxnWqxQsBkaF46UPSCAFbv22N9SvqYu3G1rY2Y2q5dz5n4tVhfB1r0P9Ze7LNbVbrnces1aga1n5cnYycy8vfcuRr9vakZrZw7Uzbtz/3DOoFa2dYz0nNre2YN9zLX3e639Fd+/F1rNobN9k1j/zdXur4oLUZVdP4Pt3n8sfjmlqNes0GzexuazZ/nHOjdd/+PVa4ZLh1KWhkrUfXzBiO4NmpoK41HfSS3fLcv+z2F660Or2fdrrL5PhrPbqGdRhXx8YvGuQIe64pEIIydG5v6ziurrXJuP7q2WtdH7EbnrjYqtW+yZoMrG4dJ9TNaJ9h7PUobGozVxQ6QpRr+ts4a6bNaPqmTXj2KfcqeP4Zy5XXhOeetvFPPW4zmze1jbNnmuUgmQ25P4oMhaw9yZ6TCCzftNjajqltzUe+at0Km1nvqe2s55Q2GXn1mtrW+kxrb+/O7GTvFHUw/u81pW1GztVzCufqYM1HvWZvDa9u0z4eZ3v25V5a3uSlI63ZyJeszZja1mNSq4zpz+lqaltrP7Sptf6gsXUZ08Lpje8z0V/oh29Pbm2Nhj7nyMKS9XNzzju9e99OGziru7014iVrP76+GwuZwrPP9LbWY2JrazO4ibUd1MS6jW+V0fHXZ2oH6zShsTUe+qx9MKOLrd+2Kufmz1Wbl1qPSW9Zs1GvWueCNzM29hhffaa3s65jW1jrAW9ah6FvWY+Jraz3tMyMPebO3lPbW6vRtaz5iJdt3KLBtmPPttzT35hRNvH5Z6zwyUdtTr3atuDNhjavUf3gX/PfbGRzG9azgkcetMKXnrdV48bm3NwZemcUGQpdg5I/5xBYvnGRdRrfwN6Z1sEKl42zmatnWNGqaZl5rZxmM1ZNsxmrp9uMVdMzc45i2afbnLWzrf/Mt63t2NpWtHxCTpKhSUtHWIfx9WzQnHds6opJmdPfymlWlPgCa74rxjx9n+mH01dOte6Tmtvbk5rbkg3zcu6GvnvvThs0u4d1KWhsIxYMdGOCsZEJPN0xvf5WRHSZAd1xrtlrZtvYj0ZYxwkNbNCsHjlJhlZ+ssR6T2nlnAHjPhpps1bPzJzuPh9r07Ogu6JV0232mlk2aPY71mlCI5uweEhOkqGVo0fatFqv2+KWzWzrmJG2a3Kh7SiYEPyL69g+fqwtaNrYptepZatFhmJnt4kMxU4lEijfEYAMdZ7Q0N4v6mLTVk6yeevmORIBkQj5NXftHFu4YaG7obcbVzenyRAG59B5/Wzm6qIs6G+Oge0c98pcH6EfYpARHeo5uUXOkqHBs9+2boVNbczioTZ33Rz3yuS4y4bukH/BhoU2cdk461zQ2LjGXIwMQYb6TGltvafiSBpv89fPz/icmQ39cY4F6xfY0Ln9rEvBm1aQs2RolE1/o4Ytadfadk6cYPtmzbA906YE/9o3Y7rtnlJoi1o2s6K6b4gMxdDIExmKoVIkUn4j4MnQe0WdbeqKQpu7dq4zQjFEQ37NWTPb3dAHzu5j+UCGhsx730UWMq+/2Qa2me4bXAee9rcnt8oLMjR60ZBiQzqz2KK7zOtv/voFVrB0bJ6QofY2cek454jIrO5mfT72Mqs/xvf8dfNtyNz384MMtW1lOwrG296ZRbZ76uTgX3uLptmuyRNtUYu3RIZiat6JDMVUMRIrfxEQGQpb96TJERnKHhnKDkkWGcoOzpky3kWGwtVf3pIhIioiQ2HfEAORXmQoEEVJzPxBQGQobF2LDIWrP2qGfJpc9iJD2THSRYayg3MmyKzIUNjRIUWG4n9PEBmKv44kYZ4hIDIUtsJFhsLVn8hQuLpD8v/VDGUvTS4T5CfxmCJDIkNhj8z4Sy8yFH8dScI8Q0BkKGyFiwyFqz+RoXB1h+QiQ4Hrb/TnCyj4miGlyYWt0ICkFxkKSFkSNT8QEBkKW88iQ+HqT2QoXN0huchQ4PoTGQpbgQFLLzIUsPIkem4iIDIUtl5FhsLVn8hQuLpDcpGhwPUnMhS2AgOWXmQoYOVJ9NxEQGQobL2KDIWrP5GhcHWH5CJDgetPZChsBQYsvchQwMqLiv7pp5/apk2bbO3atbZ79+7oT1n9vH37dtu4caNt3brVkEmt/AiIDJUfszjtITIUJ22UTxaRofLhFbetRYbippHyybNSZKh8gGnrtCEgMpQ2KKvmQHv37rXVq1fbsGHDrGnTptagQQPr06ePLViwwJGizz77LCuCQYJmzJhh3bt3d3J06NDBxowZ48jZ/v37syJDrpxEZChsTYoMhas/kaFwdYfkIkOB66+KydDeaVNsX9E02z9junvfM21KWp5zpKW1498vRYbir6OUEhJ5Wbx4sTVv3twuu+wyO+aYY+yoo45y7w899JAjIzt27Ei5f7p+2LNnjyNjDz/8sJ111ll29NFH2x//+Ee75JJL7K233rKPPvooXafKi+OIDIWtZpGhcPUnMhSu7pBcZChw/VUhGfLEZ9eUSbZzyiRHgvjOf1+Zh7+KDMW/X4oMVaGOiNrs3LnTdu3aZSVFcFL9BtEZP368vfTSS/bCCy84UvTMM8/YiSee6EjRa6+9ZqtWrcr4FW7YsMFatGhhzz33nNWrV88479VXX23HH3+8XXrppfbee+8dIMO2bdtcGt0BX+qfYgREhoqhCPKDyFCQanNCiwyFqzskFxkKXH9VQIY84dk+aaItHzbExnXuZAOav2VTevawrRMn2L7pUysdHRIZin+/FBmqIh1R2zNp0iRHZpYtW1ZcX0PaG5GUoUOHWu/eva1Vq1Yu6rJly5YDJCUqtH79epswYYK9/fbbNmvWLPf70qVL7cUXX7QjjzzSbr31Vpcud8COaf5n3759LjrVq1cvGz58uH3yySdOLmS/6qqr7NRTT3Vpc9H6oblz51q/fv2soKDAEq8rzeIFeTiRoSDVViy0yFAxFMF9EBkKTmUHCCwydAAcwf1TFTVD+4qm2tbCApvV9x3rUa+u1X7sUXv8tlvs+Xvutn5vNbF1Y0a5tDlFhoLrTuUSWGSoXHBVfmPIA4TlnXfesSZNmjgis2jRouLIEJEioj1EeP7yl7/Yr3/9axdxWb58+QEn5zhEZNiXVDmfDsf+1O2ccsopduedd9r8+fMP2C/d/xDV4nrmzZtn69atc4eH+ED0Hn/8cfvb3/7myFC0bmjmzJnWqFEje/XVV+3DDz90Cy6kin6lW94QjicyFIKWUssoMpQam7j/IjIUdw2VLJ/IUMn4xP3XbJOhPVMnu6gPEaFBLZpbo6eftvpPPmHP3XOXXX7+eXbbFZdbYY/uZnNmVSo6pMhQ3HuemchQFnWEwQ95ad26tYvesODBxIkTbfPmzcVSEBkiUkS62c9+9jP74Q9/aNWrV7eVK1cWb8MHCAdEhJSzaJodq7h17NjRrrjiCkc2Pv744wP2S/c/kDLOyQIKfKZxDUSsiFBByHr27FlM9vid6BELPrzyyiv2/PPPuygRxE7tvwiIDIXdE0SGwtWfyFC4ukNykaHA9ZflNDkWTNhSMMEWfNDfxnTqYEPbtrYJ3bpYv2ZN7b5rr7EzTjzBBjRvZjZvTqVqh0SG4t8vRYayqCMiJ507d7b//Oc/rsaHVDiIQTSFDMLE0tTNmjVzZOiEE06wtm3buu8SRWXbxIgKRIqaHaIy77///gFEK3H/dP2fKAPkjjohapnq169v06dPP+BUbM91s819993nIl+jRo1SytznKIkMHdBdgvtHZCg4lRULLDJUDEWQH0SGglRbsdBZjwx9ToaIDC0ZPNBWjxphmyeMs3n93rNajzxsF55+uosYiQwVqyhnP4gMZUm1pImREobxf/fdd1uXLl3cktjJTk/NEBGTn/zkJ24hghEjRriFFpJtG/2O6AwE66mnnjKWtoYY+WhNdLtMfuZ8c+bMcbVORLeQh8hRska0q27dunbTTTfZG2+84ZbmZmW6fG8iQ2H3AJGhcPUnMhSu7pBcZChw/WU5MkQd0M7JhbatsMB2TJpoe6dPNVaTm96nlzV8+kl76o7b3UIKNnum0uTC7lqlSi8yVCpE6dkAYsKKbxdeeKHVqFHDqJuJRoSiZxk7dqxbhe0HP/iBi/CQWgdJoB4IYkF9ULQGh31JTZsyZYqrz2E566KiooO2iZ6jIp85p3+oKmltfE68hhUrVriIT8uWLd17Ynpf9LzsS33UHXfcYf/+97+tW7dutmbNmoOiXdF9Qv2cLIqX6lpEhlIhU3XfJ/bzkiQRGSoJnez/xtgrq/5EhrKvn9LOWJ65U2SoNDSz/ztjDx2WpWUyMuRXjUv2Dgni+UJ7pk221SOH2/tvNbGGzzzlVpVjAYVPZ0wXGSqLAgPeRmQoC8pjIiAljMUEzj//fLfAQbROKFEEamx+97vfGWSoYcOG7sGlS5YsMSJEffv2tZEjRx6wZDZECMJECt6bb75pkydPLiYq/JZInBLPV5b/IWAs1DB69GgnAyvYsXoc5McbGqT38V379u1dHRDb+/MTMUo2IYIDNVFnnnmmWzQC2dkn1xrXySIYrAAIsU2Ghb9mkSGPRDzeGT/oDf2R3lnaeBIZiofevBTUVPJgahwzyRw4fjveRYaiaMTjM3Wx3GdwlJU2d4oMxUNnXgpsg02bNhm1yzhQS5s7s06GPl9AgdohokSbxo2xqb16Wrc6ta1Xg/q2cvhQ9z3RIq0m57Wam+8iQ1nQK0SCxQIgODx/B8KQKh0MIgAB+va3v22/+c1vHMEhytOmTRu799577V//+pc98cQTRo0NN3mOQ1pd165dXX0OdUI8WwjjGzKycOFC97kk47skCJi8qHUiWsXCD0S1IC8PPvigexHN4VxErCBpPG8IUgapYT+WEF+wYIFbcS4VyeHaeFjr5Zdf7lbXS5VWV5Kccf9t9uzZ1qlTJ5e+CKlFZ7t3704qtshQUliq7Ev0NG7cOFe7xzgrLCx0xrV3AiQKJjKUiEjV/g+R/eCDD1zqLs6kGTNmOAMtmVQiQ8lQqdrvuI/16NHD6W/IkCHunsa9L1kTGUqGStV9xz1/2rRp1q5dO+ckZR6NOlATJcsUGeIZQhvGjrY1I4fb2lEjDnhtHDfGpcnxPuvdd6xf0yb2fpPGNvu9vq5+iO3XjxlluytBiLSAQqKm4/e/yFAWdMLgv+WWW9yzfyARpLMl85DwHeSBxQ8OPfRQ+/vf/+4MMFadu/LKK+0Pf/iDHXbYYXb22We77/F0YlRDPkg1e/LJJ11EBrLVv39/R16I4LBNsvOV5dIhNDwT6KGHHrJrrrnGLXbAgg5PP/20kwdyR8ofZInV46pVq2ak6WF8UCNFlIuJkM+k+SVryErUjMUiateufUDUK9n2IX7H6nnXXnutHXfccXbZZZc54gphxFuWeGMXGYqXhnFmEO0kxfXYY491z+9izEHyeU5WomNDZChe+iNFmWX8eeYZjxx49NFHbeDAgS5SRNQhSmp379tpg2e/bd0Km9roRUNsztrZ7jV7zSwL/TV//QIrWDrWOhc0dte4flvmH8idjp7AiqvU2R5zzDHFaeZ8x9zJ2Iw2kaEoGlX/mXvbu+++69L+f//737t0eJyfPIoDJ2ri3Jl2MjRtiqsFWjF8qI1s39b6NGxo7zVpbO82edPea/KmS4Ob9HZ3WzTwA5v8dnfr/EZNa/zM09a3cSNXNzTl7e42pmN7WzCgv6slIsWuIhEikaGq74ulSSAyVBpClfydGy3k5+KLL3bPDIIw8IDU6A3Yn4KJg20xmllS+7bbbrP777/f3bxZmY2FBphQeP4QBIlV2lhG+9xzz7Xvf//7dtRRR7k0vDPOOMNOPPFEu/76610dDmSsIpEhyAtECCJ32mmn2SOPPOJID54eDIqvfOUrzsDgmUmQPJ6J9POf/9xOOukkl/aGnBdccIEjUCy1nSoyRJSLB7QeffTRjmQxUeZagzA+9thjLtr33e9+1+mKSBgr/1E3FSWryzctss4TGtp7RZ1t6opCm7t2bvCGGIbknDWzbcH6BTZwdh9rN66uFS2fYHv2Jffwxkn/3LAHDRpkN9xwg3NGMNbo44xHiD+kKNocGRrfwIbMe99mrJqeM/qjH85aPdPentzKek5uYUs2zKvQvBLFKhufMZpx4Jx33nku4n7EEUfYOeecYw888ICLRPO7b8VkaKLIkMekqt8ZX2RW/PGPf7RvfvOb7j7zj3/8wy0yRJQ9GmFftXmp9Zna2vpMbW8Tl46zeevm5czcOX/dfBsy933rUvCmFSweYjv2bKtq1ZR6ftLjcZTec8899uMf/9jpD4cgNcINGjRwjtSobeLIUO0atqRtK9tRMN72VqJWx9cGrRs90ga0aGY3XnKxHfe7o+zUP/3JTvnTn+zUY4+1Ky4432o/9oj1alDPaj36sJ136sl29K9/beeefLJddMYZ7vcONV4rTperCBFiH5GhUrtKlW8gMpRhFWBIDR482N2ImcxJM8PYT0aG8DL36dPHRX6+9a1v2cknn+zS6lgZburUqe7ZQ5ASCAbpOjzsdMCAAY5AMNlwc+f9rrvucs/3YXluHrqaGHkoyyUziWHAE6Xy0Qy8qTQ8OqTMEY1iQoPoUKtEVIhlw/2Kecjx7LPPuigVtRapGvtDuDgPx8DrFyUHqfYL7XuILgSXFMhDDjnEvXiW1HXXXeciRUT0tm3Zbqu3LrNuhW/mLBkaMKu3dZhQ3xZtmhGMCrlhU/dHzZ/XHe8QeBwWeDunTJlqe/fss6KV46xzQaOcJUM9JrW0d6a3tQ17Dnz2WZyVSd0CD7nGYeT19/Wvf92RIh5wTQT7o0VLbfuubTZsfh/rXtgsJyNDE5b8NzI0ctG7ttcOjKrEWX/cx3Amfe973yvW349+9CP3PL1atWo5Z8XGdZts9ZZl9l5RO3tnWoecJEMfznnPRS1nrB4XZ3UdJBsOT5x/fuzx/tvf/tbZEDiUxhcU2Obt223NuLE2s94baSFDLIpALdDsd/vayw/8x8479VQ7+88n2sXnnG1/Oe5Y++nhh9k5J51kjZ99xoa3a2Ndateyx269xW67/HK744or7OZLL7EHb7jBRnVobzsrkSInMnRQd4jlFyJDGVYL0RXy1InWEOYnDQxPVzIyREoaS03/6le/cpMGnhTIk6+7efjhh11k4Z///KdbsjqTorMYAultpK8R4WHpa/8AVwxD8vApaE1MU6iITJMmTXLkjRQkCFSity/xmGCHN3fu3LnGvgUFBY5AQaLi+KLGhBdEl6jfd77znQNuCtwYvva1rzlDu1P7LjaicLC1GfGGvV/UxaaumJQzkQUfGfpw3rvWYngNe2dkFxs3YUwsdRbtR+iOfkY9HLVtX/ziFw/SH9GiW26+xfq/P8D6T+hu7cbUzVky1GtqG2s9rI4NGN039mMPPaI/Fn4hVY66zahB9oUvfMH9T1T7hedetA+HDbYeY1tY14lNbezioTmXJlf48TjrNKGRdRrexIaOHRTE2EN/OP2omWWcRfXH5y996Uvu/tqsaQsbPKafdR7T2EWGCj8en3ORoWEL+lu7MfWt54h2Nnr8SJtYEM97np8//dxJbTHRPD/e0Jv/TKbEv6+91rr26GHjO3e0Sa+/bEvata50ZAgyRHRoxju9rc7jj1mLl6rbxB7dbHSn9lb/ycet2g3XW/MXX7BFAz6wfdOn/u9VNO1/nz8/RkUjQn4/RYYSrbj4/S8ylGGdEJVhUQOMKLzIkAq8XMnIEGSDCR9ji8gQ0RJSqGjUl5BKhjcFwkCqWiYbhA3yhfFw0UUXuWvIVLQGQ5NrIjJEbjhepGjqQ+J1QjCJUhGBOv30012tEWmBf/7zn2P7olaB6yNF58tf/vJBN3RuDt/4xjfsgnMvtCdffthq9XzM3ivqYtNXTckxMrTQRi0ZaDV7P2aX336hnXzaSXbC8fHWHf2KKC01e1HPdKJR9uPDj7Br/32dPVf/QXtzYHUbOr+fzVwzI2f0R5ocNTTvz+5sTza/0y688iw33k48Id76Q3foEMJDmlWi3vz/fzjqaLvr3jutesuHrP3o+jZ+yQibs3ZOTtUMTV010dqPa2B3v3KNnfnX09zYi/vcif6oJyWKTmq211f0HWfSWaefbQ89c5/V7PaE9Zrc1qasKMgtMrR+vo1dNsQa9HvRrq12sZ1y+kl2/LEnxPae5+/H6O9Pf/qTEcmL6iz6+UeHHWaXXH651brrThv82EO2rH0b21VYUKk0OU9ENowbbXP7v2+rRgy39WNHW79mTe2Fe++xjjVet/n9+7laoP1F04zXZzOLzGbN+N9rZpEjRv5YFX0XGUq04uL3v8hQhnVCuhnGPcXXGFOvv/66i2gkkiHqaVg1juJ6JgkmD2pxiLxwDIoQ//rXv7oCYOpMWGo72iAqkCmOwRLAiYWJ0W3L8hmCQlj78MMPdySM6EtZGulwrGDHUt9Eb6L5wKn259gQP254pOVRC5WIT3RfsCLVkEgLqS+svhfnV6NGjax58+ZugQlqFVIZZKRRvvBsdevUp401HfSSiwxNWzk5Z4xpHxkauuB9azzwRavT5iVr0KieNWrYONb6IwWUF4uIEN1NFhnCSDvv3POtYf1G1vbdRtZyRM3/RoZWF+WM/nzt2jtF7a1+3+etTvPXPtdbo1jrj/pKHgB98803O4M6aoT5zzzG4IbrbrSWbZpbi/ffsM7jG9vYj4blXGRo8vIJ1nF8I6vb/Xmr26TW52Mvvvpj7iSNinseGRE4Cb3Oou84CR975Alr062ZNR9Y03pPaWeTPp6QW2Ro3XwbuWigtRha0+q0r271GtWxRg3iP3c2btzYpfJTZ+mjQVHd4Rw8/cwz7dUaNaxPndo29oVnbWm71rZz4oS0kCFHYKZNcQ9UHdqmtb1arZq1e+1Vm/VuX9sxqTAtZKc0kiQyFLXg4vlZZCjDeoEMsGACxIL0t+eee87V4iQa+5AIUgF43g5hY6IenvCQksZNgd84DitZkaLGMSAGLKXNimzUEUGaunTpYixBCimqaDRnzJgxLp+e+hZSu1iONrFBuFiNiWuEtBES7927t/Xq1csVJiMLdTLUGJXUOBfnwJPETc+n45W0D9cOSeT6kSPOLy8j14lBFq0ZIu2D6Bb1V67Ga84iW7hypnUe3+DzNLncXECh7dg6NmXJGNu2Y4vt3bsv1vqjn1FzwsqMFOFHb+R4q3F0sLhIzx49bfmyFTZ+wRDrOCG3F1DoUdjMFqyeabv37I79GER/1FdS3xitGSK9CgcVjytggZrhQ0fYshVLbEBRN+te+FZO1gxN/Hw1uYEzu9mqTcsc19ldAAAgAElEQVQ+H3vxnUOZO8kSoGYWZwT3Rj/+cCoRdWBO5f5YNHWGzft4hvWe3CqnF1DoPKGxjV0wyD7ZttH27d0f+7mT+z8L0FxyySXFukOHlAEwn1Jn3KlLF5u3YIEt/nCQTa9dMy01QxAU0uT2z5huu6ZOtnFdOln9J5+w5tVftFnv9XV1QESBeKCqf85QaaSmor+LDJVkzcXjN5GhLOgB4nLnnXe6pbUhOZCGRJLCzRoPGNEBIiQYXr4eZ86cOc7YIs2KJbZZ5pd6GSIvEIfu3bu7CYUbAuv4Ey1htTdIE/VGPjqDUQCxIvJCDj1RJBZtSNZIzyM9jpsPK+H5ZyMhN8SNyAxEh5XqSAVkEYSXX37ZRT+QhxzhmjVruhfn4typGilvl156qSMFeOCpV8q1hp4wxkiXgwwRcSM9hQUVWBEQPDG4P9tvtmLTYuviVpOjZig3yRCryc1cOdH2fxb/B+wyfujrRC1JtWLZe1ZNxDnBOGMZeRwPW7dstc8+NZu8dGTOk6FeU1rax58sDGKYMo/iaLrxxhvdaoBEF4gk8OgCajKZ65ijd+3YZTt2b7cPZ7+ds2TIL6394Zyetmnn2iD0xwNzWaCEVVMhQKy0Sso5C8+wkA8L/XBf27dnv7G09jtT2+Q0GWI1ucIlw2z3/uSPqoibUrFfcHKyEu5Xv/pV++lPf+pILCSI7BeeI/XJ5s22d/9+++9qcukhQxChfUXT3DOEWD776TvvsKfuuN3GdupoPFNo0/ixtmrEMFszaoRtnTjBLZm95/OHsFaU9KTaT2Qobr3yYHlEhg7GJO3f4NmiVogJ/IorrnBRm2gaGwSDGiCWp+Y5QmyDcewbS1NSL4QXmtojSMfQoUPdNkSAWEGOF99hUEOIWPaXVa747EkVxIfFCXgeEcWMEDOOnRil4rxMYExWv/jFL1ytC0uCQ4ggchh/EC8iUESleDHZ4aGD0BFFIhpGegrpb6So8EykVM0vD47nCCJFtCnXGjjfeuutzhMNIXLesE6dXAEz+HnCynXn03OG9u5P/uDZOOkfsk+/ZMxAhlhRjvFA5BOHQuJKifn0nKE46SmVLMw9LEzDQjDUQBIJql+/vpuHE1fbZKn3fHnO0Ibtq1NBFqvvuTcSFSKKh0OQKDpLpUNiE7Mf8uk5Qzv3bo+VnpIJg+2Ds5OltLElGINPPfWUyyAh2geJjbZ0P2doS8F4m9Clsz15++129kl/tmsu+pt1rlnTpvbsaQOaNbOutd+wYW3b2PJhQ1ztUKYiRCJDUS3H87PIUJb0QhobxhRhYUhENPpBKsDIkSNdChwF2qTcbN/+v4mOB3ayL8X3TCYQD0gOhhipVXjMSPPAu0kjYsQy20RbiCJ5IgIZYmU7SAfLymIY4FlLRj6YpFhNjujQkUce6Tw5GPNMZDzzAYID+SIEzuIOEDiea8Qy4sgOAeNcPJsF0oW8yaJDbIt3Fi87ZJBUspIWT8iSutJ+GmqwqBd74oknHGHkOsE4MULIifOJDIXwnCHIEA4AlolnGWYirkRX6bvJHAn5RIaiJD7tgyZNBySygMOFyB4rykFi8UYz7ybKv3uvHrqaJtjTdpjZs2c78sqCPtSGct9h5dVkc2c+kaEQnjPEvZyaaZxHRNGJ8GEvpJo700WGiAptnzTRZrzTx2o9/LB7ttBRv/yFnXzMMXbjxf+01x980B695WZ76vbbrUe9OrZk8EAXGWIFulTRncp8LzKUtukgYwcSGcoYtAcemDQ4jCm8ypAZoieeHPCOsczNmjQ4yFK0kaJDNIffIEo874S0Kzwr1CBRa0OBvr+xMwFxDogMUSRuJvzG9yxW8PTTT7tCcMgQqVtEkxIbhgIy4kHFq8PiDZwfkkVUCPKGR9wvHc7zj0gFhKD5xiRIxIp6INLm2DbakIntiZJQCwUx47r8dUS3Df0z0R/0SEoHN/KSCJ/IULy0zVjAeOYmTiSBfu/HbjJJRYaSoVJ13+HsIdLN+GMe9nWOySQSGUqGStV+h9OI6BAvHH6J95GodCJDUTSq/jPzJNE7MkqwQ7A1mE9TtXSQIVLdIENbJo63cZ072cv/ud+uvegiu+nSS9yDV2+6+GJ75Oab7KEbb7Q3HnnYhrVtZWtGDv9vmty0KSJDqZST49+LDGVJwUwAeJepESHMD+GhnoeG8U80B2OLiAGEINownkkJIOrC+v3cEPCsEG2BSFB7wuIJvmFok6JGTjzpBb5GifMwGUFkIGasXIeXG893skZ0h1Xh8MRRw8TCCESpmNS2bt3qdsGwaNmypUtfgChhNNI4F8QLbxBEh1ogv48/F9dFZIv0uurVq7vrL4kk+P1CfOemUNJNIHpNIkNRNKr+M30Z3ZVEgKJSigxF0aj6z0TvSEtOFsVLlE5kKBGRqv+fCFBZ506RoarXV1QC5s7y3PvSSYa2TyqwhQP6uweqDmndysZ07GAj2re1/m81sXcbN7L+zZraxO5dbcWwIa6uqDKRn9L2VWQo2ivi+VlkKIt6IV2D6Ad1NKTbQEogNUwYJTU/oUTTAvCOUS90++23uwUXICq+cePnPJAhntsDafL78hvRCSJJRIggWaU1zs9+yYxB0v2ILlEPBfFatmyZOxz7EO0iLYwFGHjYbHRVOYgW8lPXBGH68MMPD6q9KE2uXP1dZChszYoMhas/kaFwdYfkIkOB62/0KJv+Ro30rCY3ZbLtmDTRvVhRzj5/hhCpcFsmjHOLJuycMsmtJEckqTRCU5nfRYbi3y9FhrKsIxZGoN4G4kC6GdGgZDU7pYnlyURJZIg0OR5mGiVDRKAgIUSOSF1jNbjKNMgQedyJZIhjejLE8yFq1apVTIa4Xlafq1Onjkv/69mzp4t2lUYKKyNnSPuKDIWkrYNlFRk6GJNQvhEZCkVTyeUUGUqOSyjfpiMyFCUtPmUOAsRr3+fvkJ/oK7pPJj6LDMW/B4oMZVlHRFcgRERuqOchXY7nCZWXCJDaBsmpVq2aqxmK1hlF0+RYlMCnyXGpLKZARIqUOz77iFFFYSD1jaJIlgMnZY8HrtK4HggPNU6kyfHgNU/6qLto0aKFq2siIgRBK+/1V1TeEPYTGQpBS6llFBlKjU3cfxEZiruGSpZPZKhkfOL+a7rJUCpi44lQqt/T/b3IUNx7npnIUBXoCMOfuiCev8Ny1dTZlCWfPSoqJIblq1lFjgfPUXvjiQ1EiZXLSJODcJEW538jokStTnQ1u+hxy/sZckctFKvBUQtFkSvXx/VAuu699163gAI1Tb7wlZoj9qGg2ROk8p43l7cXGQpbuyJD4epPZChc3SG5yFDg+ktnmlyGnhlUEaIkMhT/fikyVIU6gqBQR8OS1xWJjLAAAxEmiMgLL7xQvCocdUis7HbhhRdahw4dXASoIscvKzSQG57dcfXVV7vaHwgS52NpbVagQxYWU/A1RxCxdJGxssoY0nYiQyFp62BZRYYOxiSUb0SGQtFUcjlFhpLjEsq32YoMVYTQVGYfkaH490CRofjrKKWErLDDwzxZhIDaIb/kNjVBpKaxrDV1O6lWi0t54HL+QKocCyTwhHfqoVjxjvNSE8Sy2izPTSqcWtkQEBkqG05x3UpkKK6aKV0ukaHSMYrzFiJDcdZO6bKJDJWOkbbIDAIiQ5nBNWtHJcIC+aE2iGcRtWrVyj2viJXiBgwYkLUV2hYsWOBIDzVCNWvWdA83RAaW1OZ5RZmMTGUN7CydSGQoS0Bn6DQiQxkCNguHFRnKAsgZPIXIUAbBzcKhRYayALJOkRQBkaGksITzJbU5PDuIxRSow+GZQAMHDnT1OERjyluLVNEr9wtDcH4WZ+DFQ1dZUMHXClX02Pm2n8hQ2BoXGQpXfyJD4eoOyUWGAtefaobCVmDA0osMBay8qOhEXqgVghiRFldVkRieR0TaHLKU9UF50evQZzORobB7gchQuPoTGQpXd0guMhS4/kSGwlZgwNKLDAWsvGSiZysSlOzc/ruqImL+/KG/iwyFrUGRoXD1JzIUru6QXGQocP2JDIWtwIClFxkKWHkSPTcREBkKW68iQ+HqT2QoXN0huchQ4PoTGQpbgQFLLzIUsPIkem4iIDIUtl5FhsLVn8hQuLpDcpGhwPUnMhS2AgOWXmQoYOVJ9NxEQGQobL2KDIWrP5GhcHWH5CJDgetPZChsBQYsvchQwMqT6LmJgMhQ2HoVGQpXfyJD4eoOyUWGAtefyFDYCgxYepGhgJUn0XMTAZGhsPUqMhSu/kSGwtUdkosMBa4/kaGwFRiw9CJDAStPoucmAiJDYetVZChc/YkMhas7JBcZClx/IkNhKzBg6UWGAlaeRM9NBESGwtaryFC4+hMZCld3SC4yFLj+RIbCVmDA0osMBaw8iZ6bCIgMha1XkaFw9ScyFK7ukFxkKHD9iQyFrcCApRcZClh5Ej03EfBkqP/MHjZz9QxbvHGJLVy/KPjXovWLbeknH9uQue9b+/H1rGj5eNuzb1fOKREy1KmgoY1YMNDmrZ2XM/qjHy5Yt9B6T21nvSa3sCUb5lmuPWDZk6Eek5rbhCWjbNHGxe6VC+NvyScf25Tlk6xrYVMbPPttW79tVc6NPUeGpra2vtM72dQVk+2jTUuDnzfpe8ydSzYtsxELBlnXiU2tYPEQ27FnW+7pb/QoK6pT05Z17mB7pk+zzxbOt/1zZwf/+mzBPNs3e4Z91K6VFdWrbavHjc25uTP0zigyFLoGJX/OIfDxpoXWdswb1mF8A/tgZi8bNu8DGzK3X8ZewxcMsFGLB9uIhQNs6Lz+GTvP0Ln93c28U8Gb1mzkSzbt4zE5SYYKlwy3FqNftR6TWtjgOX0zrr8RCwc6/aHHIfMy10/ohx/Oed9ajn7duhQ0tI/Wz825GzpkaMDMrtZyTA1H+hgPGR0T8/rbyEWD3GvY/EyP84H2blFXe2vky/+fvfOAjqM6vzgphBJCEiCEBEIIBP5AIPSQUFLpNZRAiEnoxTZ2AAPuBvfeu40LbriDu2XJkmxLVi+2imXLRcWSreYuW8XS/Z87Zp3VIiPZO+uZt3vnnDnaXc2+983vzsy+O997b7Bs4wyUHSwKumsnzdDnSaMwKXYgFm2chdWblwfsesZr8uoty7Bm20rwHAzocbJpKSI3r8CsxLHW+ReTuyI4zVB0FJK6dcLGXp+gcMZn2DV/LormfG78umv+HOz8fAbSPu6MpE+6onjd2qC7dpp+MZEZMl1BxR90BHbvL8Cs+OEYFt4eI1Z3wqjIbhgV2TUg6+jojzFidRcMWdkBwyM6Y1RUt2NrgOobFfkxBoa9jwlreyKzKAk1R6uDTr+MnfGYuK4XhkV0wMjVnQOnX1Q3UL9h4Z0wJKyDpWNg9euGkau7YMDK9zAnaQwKKrYCqA8q/aprqxC5+UuMjuqKoRHtA3LOec7l0V+da0NXdQTXkZFdYX0WsHOvG4aGd8DQ8PYIz5qHPZUlQaUdd6bkQBEWpn1qXTd5/gX62jlydVcMDeuA4eFfXaepaQD1GxT2Acat6YGkHVE4UnM4+PRLTEBS965Y8+ZrWNf6bcS0bY2Ytq2CYG2Nde+0RNRrLyO5V3eUJCcB9cF17TT9YJQZMl1BxR90BI7UVGJ7WTYydiZgY2FcwFY22nNKU7E4dg56j+mMmSs/ReLWaGQVJwaszg2FcUgvWI/Nu9Oxt7IcdfV1Qaff3sNl1v5t3BkfMI48LjKLE5FZlIDJi0aj/8SPsSRmNtLyY63PA3ncUMMdZTlBeWe6rq4Ou/YXIrs4BRsL1wdUv00lyYjLWY0RM/ph5KwBWJ22xNKT52Wg9GPX1MydiSjatyMos7JHaiuRX7HFutHCfQ0UR2q0qSQFy+PnY9DkHpiyaDTW50Qge1dSwOrkvvDambMrDeUHd6Gurjborp1HKspRnp6G4rVrUBQdhaI10cGzRkejKDoa5enp4H5qcRcBmSF36aFoRMCLAO8c1VvpdI7NsHtl2fsP7Mf0GdPx0ksvYdiwYcjOzkZNTQ1rtb0+T/yhcEfs2D0/i2LgOKIe+fn56N2nN15//XXMmjULO3cWor6+LmB1co9CQb9jJ2HgzgFyrK2tQXx8PNq1a4cPPvgAYWFh2Ld/n1W151yx/a+VyTt2XfG60ATdS950D+g1DPU4cOAA5i+Yj1atWqFPn95ISUlGdU11QOvl8RASi3WIBvD8C8DvaVPnqnXdDBX9DDxIZYYMFE0hi4BdBBITEtGixYv49a+vxiMPP4qZM2dh395jDTK76lA5gSHA39U5c+bivr/dh6t/fTVee+11REZGoaYm+O4YB4ags6WWlpShX99++N0dv8MtN9+CLl26Ijsr29mgVHuzCaSlpaNVy9a48YYb8be/3YcxY8aipKS02d/XhiIgAu4hIDPkHi0UiQicVgK1tbUYP34CrrrqKpx55pm4+OKLrbvUOTk5qKsLkTuQp5W4vZWVl5fjvXffs3T7zne+gxtvvBEjR45EqRpk9oIOQGk0somJSXj88cdx/vnn4+yzzsaDDz6IxYsWo7o6+MbRBQCho0Xy2jl9+nTcftvtOOfsc3DRRRfhtddeQ0pKCtjVUosIiIBZBGSGzNJL0YqALQSY0s/KysKbb76J73//+zjjjDPw7W9/Gw8//DAWLFiAiooKW+pRIYEhUFVVZXWruv/++/Hd737X0u+CCy6w9IyJicGRI8E3ZXlgSDpTKs+vsWPH4je/+Q2+9a1vWfpdc8016NWrFzZv3qwGtTOyNLtWasTujZdccomlHW9G3HvvvZg6dSpKS5UdajZIbSgCLiEgM+QSIRSGCJxOAmwsjx49GjfddNPxxjQN0ZVXXmmNX0hPTz+d4aiukySwc+dOqzF2xRVXWI0xave9730Pd955J4YOHYqiouCbNvkkEbl689jYWPzjH/+wMgrUjusPf/hDPPHEE5g7dy4qKytdHX8oB8esEE0Pzc+55557/Pz7xS9+Yd2MoLZaREAEzCIgM2SWXopWBPwmwKzQjh078Pzzz+Occ845fmeaDbKzzjoLf/nLX9Qg85tyYAuIjo7G7bffbhkgT2OaGYYf//jHePHFF7F+/XplFwIrwSmXzm5wo0aNAhvPnqweNWRm9le/+hU6d+5snZ+nXIG+GFACu3btwttvvw1mYqmZ5/zjzQiekxMnTpSZDagCKlwE7CcgM2Q/U5UoAq4mwC46M2fOxA033HD8h9zzg86/v/zlL9GpUydkZGSoQe1CJQsLC9GzZ09ceOGFjep3xx13YMyYMSguLnZh9KEd0tGjR5Gamor//Oc/1jg97/OOr5lpePLJJ7F48WI1qF14qDCj/uWXX+Kee+5p9NzjuMvWrVtbY4eotRYREAEzCMgMmaGTohQB2wgkJydbWSHe2eSdaU6ewDucfM31Rz/6ETgWhV1BOH2sFvcQYFZv3rx5+MMf/oDzzjvPygxRM45Z4Mq70z//+c/RokULREREuCdwRWIR4PnUp08fcHwQs7LUi7p5NDz77LNx3XXXWV1VOS5Fi7sIbNu2zZoo4dJLL7Wy6Lx2evSjhpwM46677sKIESOwb59m5XSXeopGBE5MQGboxGz0HxEIOgLs7z5nzhxcfvnlVpcqjjH57W9/a2UZ2EC79dZbrf9dffXV+PDDD63n2AQdBIN3iGNJmLVjd0Z2qaIp4jgv3pFmpo9aXnbZZbjlllus7JAmUnCX2Hl5eXj00UdB08PZ/9itiuaVmnH8Ho0Qu8/xZgSfO0Tzq8UdBKjF6tWrcf3111tjvXitpIY//elPrXPw5ptvBq+bvLa++uqr2L59uzsCVxQiIAJNEpAZahKRNhCB4CDAKV85sH7gwIHWjzcHcK9YscIacM/BwB07dsSMGTMsE/TnP/8Zb7zxBjgYmA9h1eI8AY41YbaAXax4Z5p6rVy50uqW88ADD2DIkCGYNGmS9QDWP/7xj+jWrZs19kQNaue1YwQ0spGRkVbmgA3ncePGYfbs2Xj22Wfxr3/9C+PHj7cyCk899RTuu+8+fPrpp9i/f787glcUVqaH44GuvfZa/P3vf7fGVfJB1TS377zzjpVJ52yAHHP5zDPPgOP6dO3UgSMCZhCQGTJDJ0UpAn4ToBnis2nWrl1rNZo9sx7xR5vjFKZNm2b9nw3uRYsWYenSpdi6dSuYTdLiPAE2rDiL3MKFCzFlyhTk5uZaQXH2OHaLi4qKwt69e63xCvPnz7ca3iUlJcouOC+dFQGzdJs2bbLOM05fv2fPHpSVleHdd9/FRx99hMzMTOs9dWRXyISEBBw6dMgl0SuMgwcPIi4uDpMnT8aaNWsso8OJSpgFoiniucnxfEuWLLHOUV5Hde3UcSMCZhCQGTJDJ0UpAgEjwOwQny/EO9Xq5x4wzAEruG/fvlZ2gTrqgY8BwxyQgjkzWcuWLdGmTRukpaUFpA4VGjgCNK68EcFzUNPZB46zShaBQBOQGQo0YZUvAi4nsHz58uNmiJkFLWYR8Jgh6qg70WZpxxn/PGaIs8xpMYsAuz16zBCzQlpEQATMJCAzZKZuiloEbCPgbYbYdUeLWQS8zZDGKJilncyQWXr5Risz5EtE70XATAIyQ2bqpqhFwDYCMkO2oXSkIJkhR7DbUqnMkC0YHStEZsgx9KpYBGwlIDNkK04VJgLmEZAZMk8z74hlhrxpmPVaZsgsvXyjlRnyJaL3ImAmAZkhM3VT1CJgGwGZIdtQOlKQzJAj2G2pVGbIFoyOFSIz5Bh6VSwCthKQGbIVpwoTAfMIyAyZp5l3xDJD3jTMei0zZJZevtHKDPkS0XsRMJOAzJCZuilqEbCNgMyQbSgdKUhmyBHstlQqM2QLRscKkRlyDL0qFgFbCcgM2YpThYmAeQRkhszTzDtimSFvGma9lhkySy/faGWGfInovQiYSUBmyEzdFLUI2EZAZsg2lI4UJDPkCHZbKpUZsgWjY4XIDDmGXhWLgK0EZIZsxanCRMA8AjJD5mnmHbHMkDcNs17LDJmll2+0MkO+RPReBMwkIDNkpm6KWgRsIyAzZBtKRwqSGXIEuy2VygzZgtGxQmSGHEOvikXAVgIyQ7biVGEiYB4BmSHzNPOOWGbIm4ZZr2WGzNLLN1qZIV8iei8CZhKQGTJTN0UtArYRkBmyDaUjBckMOYLdlkplhmzB6FghMkOOoVfFImArAZkhW3GqMBEwj4DMkHmaeUcsM+RNw6zXMkNm6eUbrcyQLxG9FwEzCcgMmambohYB2wjIDNmG0pGCZIYcwW5LpTJDtmB0rBCZIcfQq2IRsJWAzJCtOFWYCJhHQGbIPM28I5YZ8qZh1muZIbP08o1WZsiXiN6LgJkEZIbM1E1Ri4BtBGSGbEPpSEEyQ45gt6VSmSFbMDpWiMyQY+hVsQjYSkBmyFacKkwEzCMgM2SeZt4Rywx50zDrtcyQWXr5Risz5EtE70XATAIyQ2bqpqhFwDYCMkO2oXSkIJkhR7DbUqnMkC0YHStEZsgx9KpYBGwlIDNkK04VJgLmEZAZMk8z74hlhrxpmPVaZsgsvXyjlRnyJaL3ImAmAZkhM3VT1CJgGwGZIdtQOlKQzJAj2G2pVGbIFoyOFSIz5Bh6VSwCthKQGbIVpwoTAfMIyAyZp5l3xDJD3jTMei0zZJZevtHKDPkS0XsRMJOAzJCZuilqEbCNgMyQbSgdKUhmyBHstlQqM2QLRscKkRlyDL0qFgFbCcgM2YpThYmAeQRkhszTzDtimSFvGma9lhkySy/faGWGfInovQiYSUBmyEzdFLUI2EZAZsg2lI4UJDPkCHZbKpUZsgWjY4XIDDmGXhWLgK0EZIZsxanCRMA8AjJD5mnmHbHMkDcNs17LDJmll2+0MkO+RPReBMwkIDNkpm6KWgRsIyAzZBtKRwqSGXIEuy2VygzZgtGxQmSGHEOvikXAVgIyQ7biVGEiYB4BmSHzNPOOWGbIm4ZZr2WGzNLLN1qZIV8iei8CZhKQGTJTN0UtArYRkBmyDaUjBckMOYLdlkplhmzB6FghMkOOoVfFImArAZkhW3GqMBEwj4DMkHmaeUcsM+RNw6zXMkNm6eUbrcyQLxG9FwEzCcgMmambohYB2wjIDNmG0pGCZIYcwW5LpTJDtmB0rBCZIcfQq2IRsJWAzJCtOFWYCJhHQGbIPM28I5YZ8qZh1muZIbP08o1WZsiXiN6LgJkEZIbM1E1Ri4BtBGSGbEPpSEEyQ45gt6VSmSFbMDpWiMyQY+hVsQjYSkBmyFacKkwEzCMgM2SeZt4Rywx50zDrtcyQWXr5Risz5EtE70XATAIyQ2bqpqhFwDYCMkO2oXSkIJkhR7DbUqnMkC0YHStEZsgx9KpYBGwlIDNkK04VJgLmEZAZMk8z74hlhrxpmPVaZsgsvXyjlRnyJaL3ImAmAZkhM3VT1CJgGwGZIdtQOlKQzJAj2G2pVGbIFoyOFSIz5Bh6VSwCthKQGbIVpwoTAfMIyAyZp5l3xDJD3jTMei0zZJZevtHKDPkS0XsRMJOAzJCZuilqEbCNgMyQbSgdKUhmyBHstlQqM2QLRscKkRlyDL0qFgFbCcgM2YpThYmAeQSWL1+Bhx96GOPGjcPePXvN24EQj/h/ZmgFamtrQ5yGWbu/q3gXWrZsiTZt2iAtNc2s4BUtoiKj0KJFC/Ac3Fm4U0REQAQMJSAzZKhwClsE7CIQtnwV7v/bgxg/ZgIO7qu0q1iVc5oI9OszAM8+/Q+sWhkB1J+mSlWNLQTKSirQ8q1WaPtOW2SkZ9pSpgo5fQTWRsegxQsvon/fASgpLj19FasmERABWwnIDNmKU4WJgP8EDtccQm5JBlLz1iJpR1TA1uS8aKQVrMOkRcPxz3cew4DJ3RCduRSp+YGsNxJJ2yORXZSMPYdKUVdf5z8wl5VQUVmKrOIkpOStCZh2PC6oXVrBWrzfvSUee+F+jPl8EOJyw63PA3rc7PJH7OkAACAASURBVIjG1tJMHKo64DLy/ofD47F4bx42FsYFVDvqk14Yg5VJC/Biy2fwUpvn8HnYp5Z2KfmBPG4ikZ4fg8I921BVe8R/YC4r4UhNJbaXbUJafgySdkQGTENeO6nfpwuG4+mXHkG77i2xImEe0gvXBazOY+d0JDKLklB6sBhH64IvC3y4rBQliQkoWLUS+SuWB9Wat2I5CsJWoCQ5CUfKZJxddumAzJDbFFE8IU+geF8+psUNxuBV7TA0vD1Gru6MEQFaR0Z2xrDwjhi88iMMXdUBIyI6Bawu7sPIyC7ot6ItxkR1w8bCBNQcrQ46vdML4zA2+hMMXvUhhkd0DJh+o6I6Y2RUF3w49nW07PsvdJ/VBsPDO4GfB+J44XE4PKIT+i5vg88TRqKgIjfotKs+WoWI7AUYEdERg1d9EBCOHm3GrOmKQcs+wn8H/xvvDn0JfRe8j5HUNLJLQOoduboLhqz6EIPC3kdY5mxUHCoJOv1K9u/EvJTxGBr+kbWvgbx2Ur+es9uidf8X8dHY1zFo6YcYHR0Y7axr5+rOGLDyXYyO6oaE7RE4UnMo6PTbnRCHhK4dEfXqS1j79huIad0SMa3fNn99pyXWtXoLkS+9iMRPuqIkIR6oVxrfTQewzJCb1FAsIgBYd22nxg7E9IThCMv+AmtywxC1ZUXA1jVbwxCzPQJrt61C9JaVAasnastKrNu2GrMSx2L82p5IL1iP6iC8O52UF4WJ63pjbsqniMhZGnD9Vm1chrD0JVidvTyA2q3AmtxViNy8HJ/G9MOshJHYUb4J9UH2g15VexgrMj+39vHLDdOt8yE6NzDnBMslz1XpS7Fqw1Ks3hS4c5zXj3VbI7AsYw7Gr+2F5RmzUHawOOiut8X78jA3eSw+ixuKZRlzsXbrqoCdE9SP5xzPvfCMZYjMWY7oAF2neV1euzUcc5MnYtK6vli/NQyV1QeDT7+10Ujp3g2Z/XqjaPYslC76ArsXzjd+LVm0ELvmz8XGnp8gpVd37IqNCbprp+kHo8yQ6Qoq/qAjUFixFdPjhmLRhulI3ZmEnJIcZO/OCtxakoXskmxk828A69m0Oxu55blYkbUAk2MHYkNhXNCaoc/ihiA8ZzEyijecBv2ysamU+gVWQx6HWbsyMSd5AuYmj8OO8pyg+0GvqjmMsKw5mJU4Cmu3RmBTSba1Buy8KMk6VoelX2DPvy1luUjIi8X0+OHWPgajGSrauwMLUiZifuoUJOatx+ayzQG9pvGayXPv2PkXOP147dxStgXhm5ZgRvwIxG8LD0ozVLQ2Gun9emPH5Ik4nBCH2owNqE5LMX6t3ZiOqpREbB03GhsG9pMZcmGrTWbIhaIopNAm4DFDizfMQFpREnJKc44ZFcu00LiYubJhSTO0MmthSJihiJwlyNi14TTo52WEAnhs8DjM2k0zNDEkzBAzKQ0augFje3r021Kei4T8UDFDU5GY/5UZCphunutw4PXjtZNmKCLozdCahmYoc6PxRohm7rgZGj9GZsilzTuZIZcKo7BCl4DHDB3LDCViU8kmqxHKhqjJK++u8wc9lDJDG4vTg0Y/HoeZuzJCKDMUfvzGg8nnnSf2zWVbEJ8XEzKZIWbBPAbew8DUv7x2bi7djPBNi4M8M/SVGZo0AZXx61HDjEpqsvFrzYY0HElOUGbIxc06mSEXi6PQQpOAzJDZunPMkKebnMyQWVo27CYnM2SWeoB3NzmZIdPUA4rWygyZp1pwRCwzFBw6ai+CiIDMkNliygyZq5/MkLnaMXKZIcP1kxkyW0CDo5cZMlg8hR6cBGSGzNZVZshc/WSGzNWOkcsMGa6fzJDZAhocvcyQweIp9OAkIDNktq4yQ+bqJzNkrnaMXGbIcP1khswW0ODoZYYMFk+hBycBmSGzdZUZMlc/mSFztWPkMkOG6yczZLaABkcvM2SweAo9OAnIDJmtq8yQufrJDJmrHSOXGTJcP5khswU0OHqZIYPFayx0PhH+6NGjjj8MkXHU1dU5HkdjjNz+mcyQ2xX65vhkhr6Zj5v/KzPkZnWajk1mqGlGbt5Cs8m5WZ3gjk1mKMj0PXToEMrLy3H48GHHjEhNTQ32799vrXyt5eQIyAydHC+3bS0z5DZFmh+PzFDzWblxS5khN6rS/JhkhprPSlvaS0BmyF6ep700Zl9oPNLT0zFp0iQMGjQIK1euxO7du0+rGaqtrUVBQQGWL1+O8ePHY9asWUhNTQXNmZaTIyAzdHK83La1zJDbFGl+PDJDzWflxi1lhtyoSvNjctoMVacmoyY9FUc3puPohjTbHvaqh642/xhwakuZIafIe9VLQ3OqCzMvRUVFmDdvHu6++25ccskl6Nu3L3bs2HGqRZ7S944cOYKUlBS89957uPXWW/HPf/4TCxcutIyab4Fu6MbnG5Ob3ssMuUmNk49FZujkmbnlGzJDblHi1OKQGTo1bm75lpNmqDotBVyPpCbhQEIc9sevx5GUJNAgVfm5ygy55Qg7cRwyQydmE9D/cEzNgQMHUFJSgr179x7P4vBzZlloLiorK1FWVmb9nwaisYWfHzx4ENu3b8dLL72EH/3oR+jRo8dpN0M0Zfv27cPkyZPxl7/8Bc8++6xl0Ji18l64f8xa5eXlWV35vP+n18cIyAyZfSTIDJmrn8yQudoxcpkhw/VzaAIFywSlJGFPbAxyli7Gms+mIGn2LMsU2ZEhkhly/3EpM+SARjQ72dnZ+PLLL7FkyRJs2bLFmmyAoXCsDzMso0aNwkcffYRXXnkFEydOtExTY6HSXHgMVNeuXXH55ZejT58+p90MMQYu4eHheO655/Dvf/8b8+fPtwySd9zcjt3nuE+zZ89Gfn6+97/1GoDMkNmHgcyQufrJDJmrHSOXGTJcPwfMEI0QMz9l69YgbsZ0DP3oQ7R/7VXMHNAfe+NigYwNygyZfVg1K3qZoWZhsm8jjqGJi4vDmDFjMGDAAHzxxRfWWBuPmfB0N+vQoQOuvPJKnH/++VbXs+aYBpqgq6++2uomx0yRE8u6devwn//8xzJxCxYs+JoZYkzbtm3DhAkTLLPHTNLmzZutbJgT8bqxTpkhN6rS/JhkhprPym1bygy5TZGTi0dm6OR4uW1rJ7rJecxQ6bo1iJ4yGZ3ffAMvPvYoRnbqiIrYdUBWhsyQ2w6UAMRjmxk6dLgas8KSj68s2Ps9/x/qC7uSxcfHo3v37vjwww/x2WefITc3F9XV/2PD8UPsGjd27Fhcdtll1tq/f3+ra1lT/GiGrrnmGleYoVdffRUnMkPc36ysLAwbNgwtW7a0JlzgGKcTdQVsar+D7f8yQ2YrKjNkrn4yQ+Zqx8hlhgzXz4nMUGqyNVboYFICshd/ibHduqLVP5/HsA4foTxmrcyQ2YfUCaOvrj2KeavTjvsUX89SUnHga98942ufNPIBjU/HMUswIyz5ays/5/9DfWEGhNmg1157DQMHDrRmgGts6unS0lIMHToUv/jFL/DnP//Z6m7mO/amMZammCHGzq6CCQkJVtarVatWmDt3Lnbt2nV87FRj+xcqn8kMma20zJC5+skMmasdI5cZMlw/B8wQu8hxBjn+zVu1EjP798P7L/0Hwzu2t7rOKTNk9jF1ougjEnPQdvD8r/kVepheU8IwbHb0177abDM0NSwZB4Gvrfw81M0QJzlgJuj555+3DACnv+YECo0tmZmZePvtt/HTn/4UL7/8MhITE60JFRrb1vszk8wQ4+b+T58+3RpfxFno1qxZo6m4NWbI+5A28rXMkJGyWUHLDJmrHSOXGTJcP4fNUH54GGYN6C8zZPZh1KzoaYYGzY7+ml+hh1mWmIOh/pihT8OSUQZ8beXnoW6G0tLS8Prrr1uZnhEjRlizqZ1IsbCwMNx7773WzHDdunXDzp07LePAKbS3bt2KwsJCa6Y53+8H0gxxTBMNHWPJyckBDRvj4Bgnz3gnxuMZM/RN3eS84+bkEe+88w4eeugha9IIjnXyLs97W5NfkxP5NZYJ9N0vZYZ8iTj7nsdjVVXV1471E0UlM3QiMs58zu63PP+8uyOfKBKZoRORce5zXjM5sRB7EzS1yAw1Rej0/p/XTp53PP+a8wiRQI4Z4tigE63KDJ3e48INtdEMDZgd/TW/Qg/zpb9maNDSBCRWVn1t5eehbIb4Y/zpp5/ijjvuwIMPPohFixY1amY8B8iUKVPws5/9DD/5yU+s8TTFxcXWWCNONsDxQ9OmTbMMie8YGz5fiGOG+vXr941my1NPc//yR4hd2NavX4/PP/8co0ePtrr5MU4+7JUNRc8SGxtrTaDAroCcHKKp7n28ULLr4F133YW33noLkZGRDcrzlGv6X04lHhMTY82kR5b8cT/RIjN0IjLOfM7jn5N+JCcnWzM/cgr5bzK1MkPO6HSiWnkTgmMUOUsnz0NOYnOihpnM0IkoOvc5x9DyZiJ/a/goim+6dsoMOadTYzXz2smbprx2cgbdPXv2fONNiUCaoaqUJBxJTsThlKT/rXyfnGiZJHaT82SG2r38EkZ06qAxQ42JGiSf0Qx9PDPya36FHmZiTCYG+5MZGro8ERuqar628vNQNkN8jtC7776LX/3qV9azgNgo9jUyPL54F4XPFurVqxfOOecc3HLLLZgxYwZWrVqFjh07WkaKDzR94YUXrGm5vbvZ8cf9k08+wS9/+UvrOUPMINmRYaFZYSaIBqxz587gLHc9e/a0sjlPPPGENRkEnxvkWWhm+MDVF1980RoHxItfU8usWbPwpz/9yXo+EU1jRUVFU18x7v80kuTXunVrDB48GBEREeDYsMYWmaHGqDj3GRtfixcvBic9+eCDD6zurhs2bDhho0xmyDmtGquZN5MmTZqEtm3bgpl23qQ50YQtVbWHEZY1B7MSR2Ht1nBkl2RZa9buTJi+bi7bgvi8GEyPH27tY9nB4sZwue6zjIwM6yag59q5evVqa5Khxn7fZIbcJR9vlEZHR1vtlzZt2liP1KAxYjunsSUQZogPTt0fF4sdYSuQvegLbFqyyFpzlizC5qWLLQPE/9MkcZtpffvgv/9+EUPbf4jStdGaQKExoYLgM5qh7rMiv+ZX6GGmrM/CEH/MELvDsXnnu4Z6NznOGPePf/wDV1xxhdWY4h2uxswQ76LwR5oZkh/84Ad45plnrAwMZ5+jwbj99ttx8cUX484777Sm5uZdMi684ND8sBvej3/8Y+v7HH/DrExjPxjNPY4ZI40Qu/UxFo53Gj58OJYuXYpOnTpZsdDEsG4uNGfMFv3tb3/D/fffb00CwUkjvukuOr/HboGPPPIIbrzxRstc8e5tsC3MmPHZSzwG/u///s8yi3zWEqdZZ9dD70VmyJuG869phji2jQ8TvuSSS6wsJm9O8DlhbKgxU+S9yAx503D+Nc8vdiG+6aabcOmll+Lhhx+2rqu8IcFrs3dmu/roEZkh5yVrEAEzehxDyxt9fHQEb7TxphlvMFFb7yyfzFADdI6/4bnFZyk+9thjVk8X3uB9//33rUmh2A4qLy9vEKPdZqg6NRn749cj88uFmND9Y3Rr9TZ6tXnnq7UNhrX/CItHjcD2sBXYF78eGxYuwMAP2uGfDz+ELm+9hdzly8CHrnqm32b26FRWPXS1gcyueEMz1H929Nf8Cv3LF/52k+swZgmmhyV/beXnoZoZoqFgQ5jd49iFjdkbpou9L+CeI4N3S2hiHn/8cVxwwQWW+fjXv/6FLl26WI2x9u3b47bbbsM999xj3WFhxonlMDPDB5wyU8MfjCeffBLsUseuPU0ZEU/djf2l2Ro/fjweeOAB3H333RgyZIiV8ua4HjYG2TB8+umnreckMQ4+TJWxcrzTH//4R8v4scHBOL9p4Tgjmj2aIV4oN27c2KSJY33cN/ZFZmOVf71XXoR9V2a5fFeW4bvSlHqv1NB3Zf2+K42n7+rZb96d5rOVaB7PO+88a6UxomZkTEPJ7jyoC52HrmYUJeBofY0Hkav/MhPEGwA8h7/3ve/hoosushrXbKStWLHC6r5TeagSqAeS86Lx2fohCM9ZjI3F6dhUssn4rAKzItyPzF0ZmJM8AfNSxiN/zxZXa+YJjtcFZtc5GQ0npTnrrLPw85//3Lqm8XrMCWp4jaqprsXh6kNYlTUXsxJGB3VmaFX2XFRU/i+j72Hlxr/MoLNnAm+wff/737eunXy4OBvY48aNw6ZNm6wbEvVHj02gsDD1UyxInYKEvFjklOYExbmXvTsLm0s3I3zTYsyIH4HEHatRdfTEXa3dpCNviLLr/g033IDvfve7VtuGNwR5Pi5cuNBqP/C372h9PSwz1L8PdkyagMr49ajZmH5K5oOGxTM+qGB1OD7r0xv33/UHXHHppbj+yitx9eW/wOU/+xnuueUW9Hm3LdIXzsfuNVFYM3UKPnjlZTx4911o26IF1s+cjsqkeNR+NdvcqRghfkdmyE1H5LFYaIY4m1xjnqWnP7PJbSsqtwwPTQ9X3zm7+f9QXPhDvGzZMsscXH/99dYzgHhxYEPad2GXMs44xwwQG1xXXXUVOBEBuwXQQLH7HO+sMPPCrh5ssLPxzT7wLJPb8S4M/3p+INiIP5WFcbPLGy9YN998szUdOBsNXPg/1sHGPf/SxDEOjoVJSkqyGh5sfHD7goICa/tvioFTbLOe3/72t9YdQHYjbMrEMQaaPX6XZpMZFr5mnYyBdxO5evqa8y4UTRbv5HPyB/IkI2a+yI4TOdCQcKXZY3aKD7pl/OzzzDuQNDTcR5pPGkX+SLM/O7v1cWWDilkCZuSYJeMFnkaNpoxaMS5m7370ox/hjDPOsNazzz4bPC5oijh2akt2LnaUbsbM+OFYvGEGUncmBU1jmj/oW8q2YHnmfExZPwjZu82abp8ZTE704dGOfzmuj5laHr8zZ85Cya5SpOSvwbS4oUFrhmYnT8D81AkoPuDMg52/6Vpyov/xfGQmlg0yb/3YdZmPL2jXrh2iIqKxq7TIMkOfJ44JajMUkTMfB2rM6Y7M6zFvwPEmoUc/mlpeO2mKOF42Iz0b23fnYGHaJCxImxqUZmjVpsWYmTASyfnRqIMZN5J4TvK3mb1jPNrxL7Xkzd0WLVpg0pQp2LZjBwqiIrFxQD/smDzRbzNU89WECTQ6fJDqvx9/HBwL1K3lW3jpySfw+5tuxIuPP4pFI4ejZG00DibEoSB8FdbPmI4V48YgdsY0FK4ObzCmSGboRFdY8z7nc4Q8fqUxz7Jxa9HXdqpZU2v7fqs5T3P1/U4wvmdjmMaFmRX+EFsN3i1bGjVDbGQzs8K7zt/61rfwm9/8BlOnTrUa02y40xjxx5vZGBqGQC5s+HOyBjb0mOVhn3vv7kA0K40ZulOJyWMSaIa4jzRhNDvftNB8kCvH4XA8FjNKXNmoaWzlWI/GVo4DaWz96KOP0NjK7FxjK8dSnWjljzjvQLPPNI+D888/39LX+4eBrzlpRpuWbTF+5kiMWNbVMkNpRclBZoZysXrrUgxd1hldh7VDp64d0blTF0tHaunGtWvXrvj4448tw3Pttdc2qh31u/2229Hjk54YPXcAxq3ujYjNS5Cxa0PQ6OfJcC3cOBX95n6ELv0+QOdOnV2vH7XjOcjrJs8x3/OO73lT4vFHn8DgYQMxYmEPTIsdjthtkcguyQ6qMUPJO+Mxdf1Q9JzSDp16fHhMO2ro0nOPv4e8dvKazm6qzAw1pt8ll/wMb7z6JkZ8Oggjl/bAvJTJSCqMC67MUNlmrNm2EmPDe+HjUe3QqVt7dO7o/msnx+nx4erspsp2TWP6/famm/BRhw6Y2aM71nZqj7wpn+JwQpwtmaHc5Usxe+AArJ70KXZHRyJpzufo3+499GrTGivGjUVFzFrUbUy3sj/8i01ZwJYcICcLR/3ITHkbJ2WGvqk1547/NcezyAz5oRWzAuxGw+5RNDe8g9VYZoiZFWYkeJeEFwuODerRo4f1Gatfu3YtHn30UVx33XVW45+ZDd+FXcBoWPjX34UZlJdeesl68Cu77dGgNGfhfjBTRBPYXLPEbA5NEC+WvGiyL3hTmSFmYZgF4w+lx+TwB5OGiM8sokH673//axkQTt3Nwbd8uCu7NXF98803rSwNZ71j3a+88orV2OU+c2wPdWAXRa6csILjpXhn69lnn7XGT3EM1VNPPYW///3vVlaHjHiHkmOfuHJcArtGsmvHfffdZ2UU2H3wyiuvtCbHaOxHgd3nHn7gUXTs3Q795rfDog0zkF6cEjSN6WOZoVysyVuJPgva4e+v3oc77rwNt9x0q3WHkHcJ3bpyJkieexyT15h21jn7k4vx3LPPo+PgNhix8mPLDGXu3hg0+tEMcUKBRVnT8eHY13DfU/fi1ttuxa033+Ja3Xg8UTv+Zab93HPPbbQxRv2u+7/r8fpbr6Lb+LaYsm4wYncEnxlKLU60zNAb3Z/DPffdiVtuugWclMet551HP/aIuOyyy3DmmWc2qt+ZZ34P9/zhXrRp/xZ6z2yHecmTkFwYH3RmKCYvHEOXdMFz7zyC3911O27+rbvPPY9+7ALPm7yNGSF+duFFF+GxJ59En9deRdh7bZE/5VMcSYz3ywx5zMihpATsjYu1Hqyav2olJvXsjo9bvY0VY8dYD1VlFzjvMUGe7nXen3nKOtW/MkPNaT06u43MUID5s5tafHy81Rj+pjFDzISwqxfH57CxxbtgNAUec8FZ5fgZu3QMGzaswaB7dsFity3O0sJua+wexiwTPz/VhbGwMc9UNk0Ay2xs8TY87BbG7maMm9+n6WvOJA7cnuaDP3gcl8HvNbVw39itkN3YOOmE70pjyW50vqunKxz/cvA04/VdWT9XdqHzrMzM+a40pJyy17Oy+53vSlPJleVxSnWy9L67ye6Q7DbHsV4cGLz4i2WITY/EpDX9LTMUjN3kwnK+xLio3lgc8zkSkuOQlppujTfjmDM3ruxiybg4touG1tsMsQ88G9jM2LZq2QphK1ZhWcIcTI4ZGJzd5HZnYF7aJEyKGohV65cgJTUFaalprtTNcyzxnGQmnRPRcAC+d4OMXa14E4KNtj69+iJqbSTmxIzHzPiRWLctIuhmk0vIj8W0+OGYET0aaxIirHPPzfqxmzOvn7yh+MYbbzToYszzkBm9Cy+80Lr5NHniVESsX47p64ZjQdoUJOYH35ih1VuWWUZ9/tqpiEuKRXrqBlefe55rJx/JwRuEvtdOzprL375XXnsN8xcuRPzMGUjq2R15NnST8xgXdperSU+xpsme0a8PurV828oIFUdFWgap1oYJEjx1neivzFBTLTrn/y8zdBo0YMObGQWe9Mxi8ALhO5aHZmbu3LnWXUzOeMSsED/jwjErHC/0+9//Hs899xzmzJljjV1hBogGhIO7hw4das36xgY3Z39j/3gaGGZofBdmXfi5bwze2zETxWwWZ7Vj7IzZd6EZ4WwwHjM2b948y6hx3BMncODgVs64xbE337Rw6k3W8bvf/c7qmsdxOcG2kDdn4WMmyWOG2IjmXVlmsMiLBvLgvkoUVORiRvwwLNowHak7E4Mms+AZM7QiawEmxw6ENYGCIf3eOTaMMyWym6OnMc2GGI9ZdrOcOXMmUpJTcGD/QSTviMJnccE/gULB3lxjTlPejOAjAZgd8ujHLB8baL1797amTt+6ZRsq9pVjVSan1g72CRTmYc/hY78vbheRv1ccF8osPrsYe/TjJArM4o8cOdK6CVhSVIq80i0I+gkUEsyaQIG9ODhRAntJeLSjKWK3eE53z+tqfGIiyvfsQWF0FDb072vLBAo0JszucDa4PbHrMLN/P/Rs0xoLhw1FQcQq63/sFscHrlanndoscScyP76fywy5/SoDa56DpqJUN7mmCDXxf14M2ODl3WMOtGYmxDtrw+wKsxPsQsduVByjw25pnm14d4wD7zlegV3lePHnOBsO6uddz0GDBlld2jihAbMVNCOsh2N+mBnxmB5mn1gPL0yjRo2yzBczK40tLJ/dwJja/utf/2rNVsdxOhyIzDJXrlyJ5cuXW5kZfrZgwQLr2UPsH8wJI9jwZyOD+82Z7hozZZ56aZg4MJ1ZL959J69gW6ghL/zMDrK7B2cEZFe9MWPGWBk9ToLBLCCXnXu2YUbc0NAwQwbMJsfzhxOCsMskZyPjynOUXTp504GZQd6YqK87pp81m1wImCFTZpPjTRvebOB1jAaIN6V4HeWYQF6beB21rpH1QFXtEazKDv7nDJk0mxxvJvLmILuZ//CHP7T+8qYgf1/4O0l9Pb9xxfvyLDM0X7PJueInlG0btnf4uBCO1+P594c//MHqms6HtzN76/0Q5OJ1a5Hez77Z5GiEStdEYcHQofj3E4+jTYt/IWbaZ6iIWYcdYSuRvmAecpYstrJGfB6RnV3jvA2RzJArDsdvDEKZoW/EY88/eaFmI5+zxPFOJI2Ctzmg6fF0FWPWgF3GvLMjUVFR1vfYHYDdOTgYmI0zGiFmYzgwmKaDGSLeReNdUN4x43TVNCwec8G/fHgkx7+wQcBZ6ZhJamyMEbuZceA4J32gQWNDkBcvPiCVpotdTth1j9krmiOOyWF9/IyNi6KiIuuOD+ti1zeaME9j35sqP6Mh4B13bst4TvRANu/vmfaa2S+OTWKDjMaWjTNm2zgjHceVeS96zpA3Dedf83hk5odZvbvuusv6Yedzh3jjgTcIfMe36TlDzmvmHQFv+HDiGl7veP7RBPGGDWco4xhL7+tSda2eM+TNzg2v2cOBv2/sGcHHRnCaZv5e8jeSDWnvRc8Z8qbh/Gv+trG9w7YBx+6xXcLJmNh2Ybbd97fPzucM8SGqRZGrMW/wIDz117/hN1f/Gn/7/Z3o2eYdfDliOMZ07owB7d7HF8OHWcaIZohZIm8TY9drmSHnj8WmIpAZaoqQTf9nFygaCo45m269qQAAIABJREFUGDt2rGUWPEWzMcXGMgfl89kzvAvmyQpxG083MmYVOI6HDz5lQ5orf+R5p4V/PT8M7DrHrjs0XtyWxoYLP6c58oxboSHi/3lnzXdhtocXMU4owDtyNEUsjw16miQ25tmXm3UyPqbAeaFjdwbGzpX9vPl9rnzdmOmimaJZYlaIsz5xn7z33TcuU99z7NHs2bMtM0lGNIwn2k+ZIXepzB9sasYfcZoiThPL2Ra9G9HeEcsMedNw/jW78vL6w5s4zIrzppHnBpFvdFU1h/XQVV8oDr/n7xe7hlM/3gTkjTXfRrQnRJkhDwl3/GXbhr0i2F5gdziO3eNv34munXaYIT5olRmeA4lxiJs5Ax1ffx2/u+EG3Hr9dfj9Tb/FY3/6E/774ot47emn8cHLL2HBsCFWtzkaH5khdxw3TkQhM3SaqPMOMic+4ExjHDfEh6t6skPMHLGxTJPEjAszQd4L/8fsCacZZXaGjTHeVWFXNs6gxnEnbKh5Fv5QDBw40Op6xume+ePPdDXrYdaI9fC5Npw2m+VxkgPfhdvzjiobD56pMTlTG7veMRvFmNiY99w1Z9aL3b68Z7njhY8zudHk8YnhHrPmqYtx8seNmRLO5sapsrlfwbjQiHJSCzbCTmSCPPstM+Qh4Y6/PBd4XPJHnJkET5ecE0UnM3QiMs58zusMzz1mq3kNop4nWmSGTkTGuc957eS5Rw2t7qhfdSduLCKZocaoOPcZzzX+5rEtwZsSTV077TBDNDWWGUqIQ/Kc2RjTtQs+btUSff7bFj3feQdd3n7Let333f9aD2NNmTcHFbHrrIyQusk5d6w4XbPM0GlSgHdCaF7YRYOzhjEjw9nMPHdIOJ6HXaYaS/3zB5yTEHB7/qBzWxopZmQ4ww7NELMOnoU/GJy8gFkkjmvgbHaeixC/xzs1nnFG7JZ2osY5v8PGH7vB8Tt8aCm7ltDYeb7D/3P8EafOpPHhrG5cuF80bTRrnHZ68ODBXzNdvMPHqbFphGjQ2Df8mxoqnv0L9r8yQ+5T2HOeNicymaHmUDp921C75uonM3T6dGluTSejn8xQc6mevu2ae+4xIrvMEA3R4eRE7IqOxOZlS7Bt5XIr+5MfHoZNSxYhbd5cbPxiAfJWrcSeuFiwSx2/E6hV3eRO3/F2qjXJDJ0quVP4HrMo7KbG593wAZzMsLC7jceonEyRNDXMqnCiBJohluVZaIY4sJvTdHMGHmZoPHUwBj7Xhxkh66ndGRmer53SX97todHhk8DZr9t7QgaaP3bXYzaMddE4cWEsNHXscsRsEmfKY/e4E3V9OKXADP6SzJDB4gGQGTJXP5khc7Vj5DJDhuu3dg3S+/W2bTY5mht2fUNWxrE1OxPI2ABPVzo+Y+jYbHIpATNCVgwb0nAkOQFbx43GhoH9sCs2ptk3aMxW1JzoZYZOs1bM/tC4sMsbxwZxVrZT6RpGM8TudCfKDHHCBmaGOIsLB5t6zBAzT6yTfXiZWTpR3/nmYuF4I85ux8wQDZ4nM8Tv03QxM8SZm9htz9Mdj90d2CWOWaEhQ4ZYU0r7dqFrbv3BuJ3MkNmqygyZq5/MkLnaMXKZIcP1s9kMeUyPd8bH8xm7xPG19/8C9VqZIfcflzJDDmjEbmY0JOxexu5t7IZ2MqlkhsyBiZ4xQxyvQ3PjWZhhocngdNXMzHD6So8Z4oQF7PLGGXqYJfJ3YRmcYY4zxdB48cGkXLg/HHROg8TZ7mjOPIaHM8kwc+WZltjT5c7fWILl+zJDZispM2SufjJD5mrHyGWGDNfPZjMUKHNzsuXKDLn/uJQZckgjmgjOkkNjwC5jJztWhmaDJooTGnDKUY4B4lgiLiyb02/TDPFz72mtaTxolhqb2e1UUDAOTgZx33334T//+c/x8Uk0X+zGx/FAHCPlPYU395tmjFkyj0k7lbqD9TsyQ2YrKzNkrn4yQ+Zqx8hlhgzXT2bIbAENjl5myGHxaEpoTk42M8Sw2e2MmSWaHnZH80yhza5wL7zwAh577DHwgabMRAVy4eQOHLvEB+Hx4avsescZgDzPZnn33XetjJHH8LGLn8YHnVgRmaETszHhPzJDJqjUeIwyQ41zMeVTmSFTlGo8TjsnUDjZ7E0gt1dmqHG93fSpzJCb1DjJWGgusrKyrOwQn2HELBCzNJypjs8S4sQEnIEu0N3QaOg4Durtt9+2pg3nAymnTZtmzZzHz/iMCBogLc0jIDPUPE5u3UpmyK3KNB2XzFDTjNy8hcyQm9VpOjaZoaYZaYvAEJAZCgzX01YqMyx8tg+fys1JGfg8InaR41TVfCjq6crAcKa4uXPnWs9JYte93r17WyaN3eOYqdLSfAIyQ81n5cYtZYbcqErzYpIZah4nt24lM+RWZZoXl8xQ8zhpK/sJyAzZz/S0l8jMDGdo4wNVOYEBn9fDGersGhfUnB1iNz922+NziBgHxynxQXn8TOOCmkPwf9vIDP2PhYmvZIZMVO1YzDJD5mrHyGWGDNdPY4bMFtDg6GWGDBbPN3SajlMdf+Rblj/vOdNdoLvm+ROf278rM+R2hb45Ppmhb+bj5v/KDLlZnaZjkxlqmpGbt1BmyM3qBHdsMkPBra/2zkACMkMGiuYVssyQFwzDXsoMGSaYT7gyQz5ADHsrM2SYYEEUrsxQEImpXQkOAjJDZusoM2SufjJD5mrHyGWGDNdP3eTMFtDg6GWGDBZPoQcnAZkhs3WVGTJXP5khc7Vj5DJDhusnM2S2gAZHLzNksHgKPTgJyAyZravMkLn6yQyZqx0jlxkyXD+ZIbMFNDh6mSGDxVPowUlAZshsXWWGzNVPZshc7Ri5zJDh+skMmS2gwdHLDBksnkIPTgIyQ2brKjNkrn4yQ+Zqx8hlhgzXT2bIbAENjl5myGDxFHpwEpAZMltXmSFz9ZMZMlc7Ri4zZLh+MkNmC2hw9DJDBoun0IOTgMyQ2brKDJmrn8yQudoxcpkhw/WTGTJbQIOjlxkyWDyFHpwEPGZo8YYZSCtKRk7pZmSXZBu/birZhNzyrViZvRCTYwdiQ2EcqmuPBJ2IHjMUsXkJMnZtDBr9eBxm7c7C3OSJmJs8DjvKc1BfXx9U+v3PDI3Gum0R2FS6yVqD4fzbUr4VCfmxmB4/AmFZc1B2sDiotOPOeMzQgtSpSMxfj81lW4y/bvLY47VzS1kuInKWYEb8CMRvC0dl9cHg0+8rM5Q3eSIOJ8ajNnMjqtNTjV9rMzagKjUJ28aPwYaB/bArNiborp2mH4wyQ6YrqPiDjkDhnq2YHjcUizbMQOrOJGwqybEaoWyIBmrNLslCFtdA1rE7G7lluViRtQCTYwdgQ+H6IDZDgxGeswQbizcEXr+SLFj6BVA7Hhc8DjN3ZWJO8gTMTRobnGao9rBlFGYljsLabRHHG9IBPS9Ok340Bgl5MZgePxxhmUFqhvbtwIKUiViQOhmJ+bHWjYhAaseyT9e1c3PpFoRvWmzpFxfMZqh/b+yYPBGV8XGo2bgBVWkpxq81G9NxJCUJW8eNlhlyaYtNZsilwiis0CVAMzRhTU8Mi+iIT2MGYFr8CHwWNywg69S4YZiZNApz08djVvJoTIsfHpB6jsU/HNMTRmJoRAcMi2iP1Py1qK6tCjqhk3ZEYvjqjhgV9TGmrB8cUP3I9fOUMZiTNt7S8bMA6sfjcOr6oei38j1MjR2AbWXZAIIsM1R7BMsyZmBoRHuMWdMDn8UNR6CY8tybljACs1PHYXbqWExPHBnAc2+Yde6NX9sbA8Lew+L0qcGZGdqXhxnxwzAsogMmrOsT0HOP+s1IHIU5aeOsc5BaBuo6zeNwevxIDF/dGcNXd8C63GXBmRmKjsL6D99DbMs3kdatMzb26o4NPT42fuV+pH/SFeveeAXxHT5E8bo1QJBl1U3/IZcZMl1BxR90BCoOlWBFxixMjR2Eyev6YUpsf0yJHRCQdUbiUIxb3QN95r2LkWFdrTo+Wz8wIHVZ+xHTHxPX9MaC5AnYVpqF2rraoNNva2kmFqRMwJSYAZgSEzj9pq4fiOkJgzFseSf0W/C+pSO1C6R+k2P649N1fbAqay527y8MOjNUc7QGSXlr8HniSEyO6fvVuReY829a/CBMiemPgYs+xKDFH1nnxbS4QQE693gs9sekmD6Ytn4w4rdF4MCRvUF37u2pLENkzheYHjcYk9b1tfY5YNfOhCEYH9kT/Re2s87ByTH9EDj9+lv78una3piXPBZZxUlBeSNpT1YWMseNRnznDojr1N76G9+lA4xfv9qfuI4fIWviOOzJzpIZctnVR2bIZYIoHBE4WleLg1X7sOdQGfYcKkXFoVLrL1/bulaWYX/VHoSvWY6uvTphzqJZ2LZzM/YeLre3Hq+4uS8VB0uw/3AFqo9WoT7IMgs8erlf+49UHGcYKP32HalAyd6dmPr5p+g54BOEr12JovJ87AuQfpZ2Xx2PB6v2o7auJuhOVh6Ph2sqA3oOeM7hA9V7sGnbRgwdMxDDxw1GYnosyg+WgA16zzZ2/j12HB4r/3D1IdTVHw06/XjtPFS9H3u/Yhioc48a8fyLjluNvkN6Wefgpm0Z2HckwNfOQyXYd7gCVbWHg3LMydGqKhypKEfl7l3Bue4qRlVFBbifWtxFQGbIXXooGhE4rQSKdhZjQP8BeOD+B/Hhhx8hNiYWVUeqT2sMquzUCaSlpqHNO23w6COPYsjgIdiUvQn1dadenr55+ggcOXwEixctRot/tcC/XvgXpk+bgd27Sk5fAKrJLwK7du3G6FGj8fRTT+Od1u8gbOUqVB467FeZ+rIIiIAzBGSGnOGuWkXAFQRWrFiJv/zlr7jwwotwyy23YNiwYSgpUYPMFeI0EURtTS2GDx+OG2+8ERdccCEeeeQRLJi/AGxka3E/gfy8fLRt0xZXXnkVLv35pXj9tdcRHxfv/sAVoUUgKioKTz31NH72s5/jhhtuwCeffIK8vHzREQERMJCAzJCBoilkEbCDwP79+9G7d29cdNFFOOOMM3DuuefilVdeQWJiIqqrlR2yg3Ggyqirq8PWrVvx73//29KN+l1++eXo3r07tm/fDv5fi3sJ1NTUICwsDHfffTe+973vWeff7373O0ydOhV79wbfWB73KnFqkR04cMC6EXH11VfjW9/6Fs455xw8/fTTWL16NarUBerUoOpbIuAgAZkhB+GrahFwisDRo0etH+4nn3wSZ511ltUY44/673//e4wZMwYFBQVOhaZ6m0GAjbFJkybhjjvuwLe//W1Lvx/84Ad45plnsHDhQvD/WtxLYMeOHejcuTOuuOIKSzua2csuuwxt27bF+vXrUVsbfBOLuFeNk48sJibGuhFxwQUXHL923nTTTejbt691k+LkS9Q3REAEnCQgM+QkfdUtAg4R4N3nTp06WQ2w73znO8cbZMwSMduwZs0aZRcc0qY51W7atAnPPfccLrzwQuvONBvT1PGaa65Bx44dsXnz5uYUo20cIrBo0SIrK0QDS+24Mrtw1113WTcj9uzZ41BkqrYpApWVlejXrx+uv/7641k96vfjH/8YvLm0dOnSoJzcoCku+r8ImExAZshk9RS7CJwCAXaBS05Oxn333Xc8q+BpkDE7dOutt2LcuHEaO3QKbE/HV9gNZ968efj1r3993Ah59GOD+rHHHsOyZctw+LAGc58OPU62jvLycnz88cdW45nnm0c7/r344ovRqlUrpKen62bEyYI9TdtnZGRYNyJ4rnlrRy15M4JGadeuXacpGlUjAiJgBwGZITsoqgwRMIhAfn6+9YPt3UXH+0f9pz/9KV5//XVwgLDGDrlP2LS0NLz55ps4//zzGzTGPBped9116NatG5g90uIuAjyfmDl48MEHrUyeRzPPX3ZZ/dOf/oTx48ejtLTUXcErGlRUVGDEiBHWpCUezbz//uhHP7KM0vLly3Xt1PEiAgYRkBkySCyFKgJ2EOAgXw7cPu+888Af7x/+8IfWuCF22eF7NrKZHRo0aBB4F1uLewhwrNfo0aOtyRKoE8csfP/738fZZ59t6UYtf/KTn+D++++3skeaSME92jESnk+tW7e2ujfyXGPXKmrHyUuoJ/XjRBjsqsrsrRZ3EeCNCBpZnnfUjppRP56D1JPrtddea40Hk5l1l3aKRgS+iYDM0DfR0f9EIIgI1NfX4+DBg5gwYQIuueQSq0vHG2+8gaeeegpXXXUVHnjgAbz44ouWUWJ2gY22rKwsdddxyTFAY8MGFrtRMYPwxz/+EW+99RbuvfdeUC+OV+A4IhpZDubu378/NPbEJeIBoJHduHGjlflho5mTXbz00kuWVrfddpul3RNPPGFN08zs0Pz588FZ57S4gwC1WLBgAa688krr2knDymsnxw7xHHzhhResmxCcYe7555/Hhg0bdO10h3SKQgSaJCAz1CQibSACwUGAjbGdO3da44EefvhhaxrmvLw8zJ0717rbyWfWcFptTu/LRnaXLl0QHx+v7h4ukZ9jhXJycvDBBx/goYcewvTp00H9+HwTNqznzJmD2NhYDBkyxJoinX85axlNsBbnCRw6dMiamISNZt50iI6OtrI/7JLKGw+cajsiIsKa2ISfzZo1S9NsOy/b8Qg46QzPuccff9zK/NDYcuZG6skp7detW2e9f/vtt/Hf//7Xeq9uxsfx6YUIuJqAzJCr5VFwImAfATaKOaie02bzh7y4uNgqnN3m+AM/ZcoU7Nu3z1r5DJtt27ZZmQV1tbJPA39KopnllNmcKS4zMxN8ThSXwYMHWw0yzzNOmD3iNjRKbIBrcQcBTpfNbnLULjc318r6lJWVWdNpt2vXzvqcjefCwkLL9PL8VGPaHdoxCmrBm0mcQIF/uXCK7Zdfftk6B6kXZ5rjdXPLli3W+CJdO92jnyIRgW8iIDP0TXT0PxEIAQIc7MtMEWeQoxnSYhYBPtvk2WefBXVUFsgs7TjrWMuWLdGmTRtwPIoWswhERkaiRYsW1vOFioqKzApe0YqACBwnIDN0HIVeiEBoEvA2QxpjYt4x4G2GNMbELP2YTfCYodTUVLOCV7TwNkPM6GkRAREwk4DMkJm6KWoRsI2AzJBtKB0pSGbIEey2VCozZAtGxwqRGXIMvSoWAVsJyAzZilOFiYB5BGSGzNPMO2KZIW8aZr2WGTJLL99oZYZ8iei9CJhJQGbITN0UtQjYRkBmyDaUjhQkM+QIdlsqlRmyBaNjhcgMOYZeFYuArQRkhmzFqcJEwDwCMkPmaeYdscyQNw2zXssMmaWXb7QyQ75E9F4EzCQgM2SmbopaBGwjIDNkG0pHCpIZcgS7LZXKDNmC0bFCZIYcQ6+KRcBWAjJDtuJUYSJgHgGZIfM0845YZsibhlmvZYbM0ss3WpkhXyJ6LwJmEpAZMlM3RS0CthGQGbINpSMFyQw5gt2WSmWGbMHoWCEyQ46hV8UiYCsBmSFbcaowETCPgMyQeZp5Rywz5E3DrNcyQ2bp5RutzJAvEb0XATMJyAyZqZuiFgHbCMgM2YbSkYJkhhzBbkulMkO2YHSsEJkhx9CrYhGwlYDMkK04VZgImEdAZsg8zbwjlhnypmHWa5khs/TyjVZmyJeI3ouAmQRkhszUTVGLgG0EZIZsQ+lIQTJDjmC3pVKZIVswOlaIzJBj6FWxCNhKQGbIVpwqTATMIyAzZJ5m3hHLDHnTMOu1zJBZevlGKzPkS0TvRcBMAjJDZuqmqEXANgIyQ7ahdKQgmSFHsNtSqcyQLRgdK0RmyDH0qlgEbCUgM2QrThUmAuYRkBkyTzPviGWGvGmY9VpmyCy9fKOVGfIlovciYCYBmSEzdVPUImAbAZkh21A6UpDMkCPYbalUZsgWjI4VIjPkGHpVLAK2EpAZshWnChMB8wjIDJmnmXfEMkPeNMx6LTNkll6+0coM+RLRexEwk4DMkJm6KWoRsI2AzJBtKB0pSGbIEey2VCozZAtGxwqRGXIMvSoWAVsJyAzZilOFiYB5BGSGzNPMO2KZIW8aZr2WGTJLL99oZYZ8iei9CJhJQGbITN0UtQjYRkBmyDaUjhQkM+QIdlsqlRmyBaNjhcgMOYZeFYuArQRkhmzFqcJEwDwCMkPmaeYdscyQNw2zXssMmaWXb7QyQ75E9F4EzCQgM2SmbopaBGwjIDNkG0pHCpIZcgS7LZXKDNmC0bFCZIYcQ6+KRcBWAjJDtuJUYSJgHgGZIfM0845YZsibhlmvZYbM0ss3WpkhXyJ6LwJmEpAZMlM3RS0CthGQGbINpSMFyQw5gt2WSmWGbMHoWCEyQ46hV8UiYCsBmSFbcaowETCPgMyQeZp5Rywz5E3DrNcyQ2bp5RutzJAvEb0XATMJyAyZqZuiFgHbCMgM2YbSkYJkhhzBbkulMkO2YHSsEJkhx9CrYhGwlYDMkK04VZgImEdAZsg8zbwjlhnypmHWa5khs/TyjVZmyJeI3ouAmQRkhszUTVGLgG0EZIZsQ+lIQTJDjmC3pVKZIVswOlaIzJBj6FWxCNhKQGbIVpwqTATMIyAzZJ5m3hHLDHnTMOu1zJBZevlGKzPkS0TvRcBMAjJDZuqmqEXANgIyQ7ahdKQgmSFHsNtSqcyQLRgdK0RmyDH0qlgEbCUgM2QrThUmAuYRkBkyTzPviGWGvGmY9VpmyCy9fKOVGfIlovciYCYBmSEzdVPUImAbAZkh21A6UpDMkCPYbalUZsgWjI4VIjPkGHpVLAK2EpAZshWnChMB8wjIDJmnmXfEMkPeNMx6LTNkll6+0coM+RLRexEwk4DMkJm6KWoRsI2AzJBtKB0pSGbIEey2VCozZAtGxwqRGXIMvSoWAVsJyAzZilOFiYB5BGSGzNPMO2KZIW8aZr2WGTJLL99oZYZ8iei9CJhJQGbITN0UtQjYRkBmyDaUjhQkM+QIdlsqlRmyBaNjhcgMOYZeFYuArQRkhmzFqcJEwDwCMkPmaeYdscyQNw2zXssMmaWXb7QyQ75E9F4EzCQgM2SmbopaBGwjIDNkG0pHCpIZcgS7LZXKDNmC0bFCZIYcQ6+KRcBWAjJDtuJUYSJgHgGaoYceehjjxo3Dnj17zduBEI+YZuiZZ54FdaypqQ1xGmbtfnHxLrzdsiXeadMGqalpZgWvaBEZGYV/tWgBnoOFhTtFRAREwFACMkOGCqewRcAuAsuWr8QDDzyMMWPHY+/e/XYVq3JOE4HeffrhqaefBXWsra0/TbWqGjsIFO8qwZtvtUTr1m2RmrbBjiJVxmkksDoyGv98oQV4DhbuLD6NNasqERABOwnIDNlJU2WJgA0E6uvrUHe0CnU1lThqrYdwtMb+ta620op25bIv8fcnHsKE8SNQXsq7mzUBqc+zD3U1h1BXewT19cGZxeB+1dceDrh+qK8G6qowsF9PtHjhGaxc/iWOVO4FP/ewDsRf6ld/tAo8ToNvqUd9XQ3qajz62X/eeTQB6rGzYCvatnkT77/XCqnJ6y3t6o8eDph+vKZw5T6iPviMc319vXVsevbTw9ruv55rZ9TqFXjlpRcwsH9PFORtAXA0YNpxH45dOw+jvo7XzuDTL/iuJ9ojUwjIDJmilOIMGQI1h0tQsvlzFCQPQF5ib+Qn9kF+Yl/716S+KEgZhPjFbTFjyCOImv06cmO7oyClv/11WfFzP/ogL6EnijMmorIi66sf9eCSlvtVnDkRBUn9kB9A/QqS+6MguR/Cpr+E2SOeQPySttiR0Bv8PCDHi3UcUsPeKMudi6pDNM7B1SCjSdi3cy12po386rw7dswGgmdBykDkrO2GheOexZcTnsOG8PaWdgVJATjXvzr/8hJ6oTBlMPYWRKC2Kvi6xNYcLkP5ti9RmDoYeQmBv3YmL3sP80b93ToHc9Z2RUHKgICee9SvKGMcDpYkWzfMguvKqb0RAecIyAw5x141i0CjBA7v3YxtMR8hN/J15Me+h8KEjiiM7xCQtSC+PXaldMHezF4oTfsYOxM6gp8Fqr6dCZ2wdfUryI1822qQMUMUbMue/DDkRrXCtuiWKIj7MGD6USeuZRs+wZ7MnpaOhQkdAqcfj8O49ti8qgXy4rviUHlG0Jmho7WHsStzInIj38COta1AntYagPOP2hUldkLFxh4o39gdxcmdLe0Cdf7x3Mtb1wZbwv+D4o1jUHUw+Ma4HNm3DQVJvbA18g3kxbQN2LnH6yN12p3cBXsyeqIs/RNLy0Bpx/qo37aoN5Ab9TbKty7E0eoDwXbp1P6IgGMEZIYcQ6+KRaBxApV7cpCf2ANl2aNQUxqO+n0JqNu7PqBr/b441O8LbB11e+OAA8nYmzsJ+fFdsG/nGqu7XOMUzP2UZqgg4RPs3zYdRyvWBlw/6kb9An6M7E9A3Z5YlGwYgJ2pA3GoPDPoulodra3E7uwpKErtjcqCeagj1wCzPT3n3nrr3KsqXori5O7YnT01KM3Q4X1bUZQ+DKUZQ1G1axnq9ycG/rw4bdfOJOzfNg07k3uiYvtSmSFzfyIUuQsJyAy5UBSFFNoEaIYKEnuiImc86vbEAIc2AAdTg2BNA45kYf/26ShI6PaVGTocdGLvyQtDYWIPHMybDexPDB79KjcAB1JQmjkUO1MHB6cZqqEZmoritP44UrwYOJR2bA2G8+9wJmpKI1Cc0jv4zVDWSNSUrQYqNwbBdZPX/jTgcAYO5c9GUUrvr8yQJrsJuh8P7ZBjBGSGHEOvikWgcQL/M0PjcLRiHXAw3WqEsiFq9poKHM607m6GhBna8bmVFQoa/Q6lA/uTUZoxJATMUD8cLlr8v4a08edeClCZgeqScBSn9Ap+M5Q5AtWlEcduRASDdgdSLWN3MO9zmaHGfzb1qQj4RUBmyC98+rII2E+goRlae+yu4IFkq5sLu5mZu6ZYdzfZ1SN0zFB88OjHLMn+pBAyQ4uAgynHVqPPu6+uGZUbUV0psLZDAAAgAElEQVSyKoTMUDhAAx8M2tHQVW6AzJD9v7cqUQRIQGZIx4EIuIyAzJDLBDnJcI53k7MyQzJDJ4nP0c05lf2xbnLMDMkMOSrGKVR+fMyQlRmSGToFhPqKCIQkAZmhkJRdO+1mAjJDblan6dhkhppm5NYtZIbcqkzz4pIZah4nbSUCItCQgMxQQx56JwKOE5AZclwCvwKQGfILn6NflhlyFL/flcsM+Y1QBYhASBKQGQpJ2bXTbiYgM+RmdZqOTWaoaUZu3UJmyK3KNC8umaHmcdJWIiACDQnIDDXkoXci4DgBmSHHJfArAJkhv/A5+mWZIUfx+125zJDfCFWACIQkAZmhkJRdO+1mAjJDblan6dhkhppm5NYtZIbcqkzz4pIZah4nbSUCItCQgMxQQx56JwKOE5AZclwCvwKQGfILn6NflhlyFL/flcsM+Y1QBYhASBKQGQpJ2bXTbiYgM+RmdZqOTWaoaUZu3UJmyK3KNC8umaHmcdJWIiACDQnIDDXkoXci4DgBmSHHJfArAJkhv/A5+mWZIUfx+125zJDfCFWACIQkAZmhkJRdO+1mAjJDblan6dhkhppm5NYtZIbcqkzz4pIZah4nbSUCItCQgMxQQx56JwKOE5AZclwCvwKQGfILn6NflhlyFL/flcsM+Y1QBYhASBKQGQpJ2bXTbiYgM+RmdZqOTWaoaUZu3UJmyK3KNC8umaHmcdJWIiACDQnIDDXkoXci4DgBmSHHJfArAJkhv/A5+mWZIUfx+125zJDfCFWACIQkAZmhkJRdO+1mAjJDblan6dhkhppm5NYtZIbcqkzz4pIZah4nbSUCItCQgMxQQx56JwKOE5AZclwCvwKQGfILn6NflhlyFL/flcsM+Y1QBYhASBKQGQpJ2bXTbiYgM+RmdZqOTWaoaUZu3UJmyK3KNC8umaHmcdJWIiACDQnIDDXkoXci4DgBmSHHJfArAJkhv/A5+mWZIUfx+125zJDfCFWACIQkAZmhkJRdO+1mAjJDblan6dhkhppm5NYtZIbcqkzz4pIZah4nbSUCItCQgMxQQx56JwKOE5AZclwCvwKQGfILn6NflhlyFL/flcsM+Y1QBYhASBKQGQpJ2bXTbiYgM+RmdZqOTWaoaUZu3UJmyK3KNC8umaHmcdJWIiACDQnIDDXkoXci4DgBmSHHJfArAJkhv/A5+mWZIUfx+125zJDfCFWACIQkAZmhkJRdO+1mAjJDblan6dhkhppm5NYtZIbcqkzz4pIZah4nbSUCItCQgMxQQx56JwKOE5AZclwCvwKQGfILn6NflhlyFL/flcsM+Y1QBYhASBKQGQpJ2bXTbiYgM+RmdZqOTWaoaUZu3UJmyK3KNC8umaHmcdJWIiACDQnIDDXkoXci4DgBmSHHJfArAJkhv/A5+mWZIUfx+125zJDfCFWACIQkAZmhkJRdO+1mAjJDblan6dhkhppm5NYtZIbcqkzz4pIZah4nbSUCItCQgMxQQx56JwKOE5AZclwCvwKQGfILn6NflhlyFL/flcsM+Y1QBYhASBKQGQpJ2bXTbiYgM+RmdZqOTWaoaUZu3UJmyK3KNC8umaHmcdJWIiACDQnIDDXkoXci4DgBmSHHJfArAJkhv/A5+mWZIUfx+125zJDfCFWACIQkAZmhkJRdO+1mAjJDblan6dhkhppm5NYtZIbcqkzz4pIZah4nbSUCItCQgMxQQx56JwKOE5AZclwCvwKQGfILn6NflhlyFL/flcsM+Y1QBYhASBKQGQpJ2bXTbiYgM+RmdZqOTWaoaUZu3UJmyK3KNC8umaHmcdJWIiACDQnIDDXkoXci4DgBmSHHJfArAJkhv/A5+mWZIUfx+125zJDfCFWACIQkAZmhkJRdO+1mAjJDblan6dhkhppm5NYtZIbcqkzz4pIZah4nbSUCItCQgMxQQx56JwKOE5AZclwCvwKQGfILn6NflhlyFL/flcsM+Y1QBYhASBKQGQpJ2bXTbiYgM+RmdZqOTWaoaUZu3UJmyK3KNC8umaHmcdJWIiACDQnIDDXkoXci4DgBmSHHJfArAJkhv/A5+mWZIUfx+125zJDfCFWACIQkAZmhkJRdO+1mAjJDblan6dhkhppm5NYtZIbcqkzz4pIZah4nbSUCItCQgMxQQx56JwKOE5AZclwCvwKQGfILn6NflhlyFL/flcsM+Y1QBYhASBKQGQpJ2bXTbiYgM+RmdZqOTWaoaUZu3UJmyK3KNC8umaHmcdJWIiACDQnIDDXkoXci4DgBmSHHJfArAJkhv/A5+mWZIUfx+125zJDfCFWACIQkAZmhkJRdO+1mAjJDblan6dhkhppm5NYtZIbcqkzz4pIZah4nbSUCItCQgMxQQx56JwKOE5AZclwCvwKQGfILn6NflhlyFL/flcsM+Y1QBYhASBKQGQpJ2bXTbiYgM+RmdZqOTWaoaUZu3UJmyK3KNC8umaHmcdJWIiACDQnIDDXkoXci4DgBmSHHJfArAJkhv/A5+mWZIUfx+125zJDfCFWACIQkAZmhkJRdO+1mAjJDblan6dhkhppm5NYtZIbcqkzz4pIZah4nbSUCItCQgMxQQx56JwKOE5AZclwCvwKQGfILn6NflhlyFL/flcsM+Y1QBYhASBKQGQpJ2bXTbibQ0AytAw6mAwdSgmBNBY5kYv+26ShI6IZ9O9egrvawm6U4pdj+Z4Zmo35fQvDodygd2J+M0owh2Jk6GIfKM4H6+lNi5NYvNTRDi4GDqcfWYDj/KjNQXRKO4pRe2J09FVUHd7pVhlOOq6EZigAObQiC6yav/alA5UYczJuNopTeqNi+FEer958yJ31RBESgIQGZoYY89E4EHCfgMUN7Nk9A3d5Y60cQh9Jg/poOVGXjwPYZoWGG8uYAB5KCR7/DGy1jUJY5LPjNUHp/HCleClSmH1uD4fw7koWa0tXYldo76M1QWdYo1JRHAoczguC6yWt/unUj6VD+HBSl9JEZcvxXWgEEGwGZoWBTVPtjPAGaofyEj1GycSAqdy5EdckqVO1eEZh11wpUl6xEbWkYakpWBqaO47GvRE1ZBMqzhiNvfQfsK4xGXe0R4/Xy3QFmhvLjOqNi01gcKV4SWP12r0BNSZilH3UM2HGyewWqS1ehatdyFKd0R2Fyfxwqzwi+zFBtJXZlTUZh0sfYt3Uqqsg0UFx57lE/nnulYajeHVj9akojcDDvcxTGd7L2MVgzQzvTBmNXWl8czJ+N6tLwwJ0TDa6d1G8FqnYF6Dq9eyVqSsOxZ9MYFCR0RcW2xThafcD30qP3IiACp0hAZugUwelrIhAoAuzqsWN9R2wO/w9yo17HtjWtsG1NS/vX6GNl7ljXGvmxbZC37h1sZ11ffR6IOll+TtgLyI1qib2FUag7WhUojI6Vu7cgArnRrbEl4hVsi3oz4PpRt/yYNtixtvWxYyRg+rXCtqi3sWnlc8iP/+RYNzkEVze5uqOHsStrCrasfh1bIl62/5zzPo+jW2L72lbIi/lKvzWB1Y/nXu7qV7B51YsozhiP6oNFjp0jgar4yP4dKEjuZ517uatfDfi5Z107Y766dq4N/LVz86oW1rWzfNsiHK05GCiMKlcEQo6AzFDISa4ddjuB2uq9llEo3TwbuzfNOLbmzMRum9eSnJmo2DEfWTHD8eXUd5C0qh+Ks6ahLHe27XUdi/2rfdk0DRU7lqPqQB7q62vdLsdJx1d1IB978pajJOfzgOpXtuVzVGydg9il3bF0xnuWjiWbZ4Gf232sWOV9dSzyuNlXtAY1R8pOmo3bv8Dj8VD5RpRv/RK7czzH64yA8CzfNhc7Mz5D+Nz2WD2/E7YmjUf51tkg38DpNx1lufNwsDQNR2sOuV2Ok46vtno/9hevR2nuvICee9a1c/s8bIobhRWz2mH9sh4o2DgF5VvnBEa748fidJTvWIrDe3NRX1dz0nz0BREQgcYJyAw1zkWfikBIEKiurcOSJcvwTpu2mDL1MxQUFIbEfgfLTlbs2YvRo8egXbsPsXz5CuzZszdYdi3o94M5tezsHPTo0RM9e/VGXHwCqqrUwDVF+OqjdQiPWI0OHTpZ52DO5i1Blic1RQnFKQL+E5AZ8p+hShABYwlszMjE2y1b4YYbbsRzzz2PhV98if0H1P3CBEHr6uqxZOkyPPnk33HTTTfjv+++h9jY9aitPWpC+CEfY3nFHowaNRp/+vNfcM8996Jfv/7YsiU35LmYAiA7exM++qg97vjdnXjiiScxdepnKCuvMCV8xSkCIuBFQGbIC4ZeikCoEZgxYwauv/56nHXWWbjssl+gS5cu2LFjR6hhMHJ/Dx48iI4dO+HSyy7DmWd+D3fccQcmTvwUe/fuM3J/Qi3ojIwM/OMfz+HCCy/Eued+H08++STCwlaBJleL+wksWLAA99xzD77//fPws5/9DK1bv4PMzCz3B64IRUAEvkZAZuhrSPSBCAQ/gbq6OuTn5+O9997DD37wA5xxxhn47ne/i6eeegorV67E/v16hoWbj4KamhrExcXh8ccfx5lnnmnp95Of/ATvvvsuUlJSwP9rcS+BAwcOgDcibrrpJnzrW9+y9PvNb36DIUOGoKCgAPVB9vwm9ypxapEVFhaiW7duuOyyyyztvvOd7+C+++7D3LlzsXevuqqeGlV9SwScIyAz5Bx71SwCjhGorq7GtGnT8Pvf//54Y5qG6LrrrsPHH3+M7Oxsx2JTxU0TKCkpwSeffIJrrrnmeGP67LPPxp///GeMHz8epaWlTReiLRwjkJaWhpdffhmXXHKJ1ZjmuXfBBRfgn//8J5YuXYqqquCbZdEx2DZXTKM6f/58PPjgg8dvJFG/q6666vjNCJurVHEiIAIBJiAzFGDAKl4E3EaAP+ZFRUV45ZVXrB9zz51p/qCfe+65eOSRR7B48WLQMGlxJwFmhf74xz/inHPOOd6Ypo4//elP8eabb1rZIWUX3KldbW0tJk2aZBlZdk/leceV2YVrr70WvXr1ss5Pd0avqMrLy/H+++9bRpbZdI9+PBfZbY43mXTt1HEiAmYRkBkySy9FKwJ+E2AXOJqd22+//fgPuecHnX+ZbejZsye2bNmi7jp+07a/AGZ9hg0bZo1T8NaNr9mgvvfeezF16lSw0abFXQTYPTUnJwctW7ZsYGQ9OrLL6vPPP4/w8HAcORJ8DyR2lxonHw1NDrW5//77rXPNo5vn76WXXooPPvgAWVlZunaePF59QwQcIyAz5Bh6VSwCzhDgwO233noLF1988fE70swqsCHNvz/+8Y/xxBNPWP3fDx0KvmeROEPdvlo5puuhhx7Ceeedh29/+9vWSt34mhr+8pe/tLJDsbGx9lWqkmwhwPNp9OjRuOWWW6xJS6iXt4bMFN18883o3r07tm/fbkudKsQ+AhzP1a5dO/zqV7+yxlh6tPP8Pf/88/HXv/4VkydPhq6d9nFXSSIQaAIyQ4EmrPJFwEUE2EXniy++wP/93//hhz/8oTWTHPu68/Xll19uZYU4MxK763BmuZ07d7ooeoXCbEGPHj3ARtfPf/5zcNA9/9LAXnnllfj1r39tvb/zzjutrljqruOuY4YD7//xj39YRpbnHcfoXXTRRdaNCWrHRvYvfvELa2KM6OhodwWvaLBu3Trcdttt1gyAvIZSQ84GyHOQGXVeQ6lhq1atrAlqhEwERMAMAjJDZuikKEXAbwLsolNWVoYRI0bgiiuuwAMPPICJEyeiQ4cOuPXWW61swoABA/Dqq69aEyuwK09ycjKOHtVza/yGb0MBNLJ5eXl4/fXXrcbzG2+8gQkTJuCFF17A3Xffjfbt21vdG5955hncdddd1uvi4mJ117GBvR1F/H97d8JkSVG+ffj9An4Tw1BDI4zQEBUVEFdAFBBxB2RTcUGQRXQYEQQXhFFQRDYFFRABQQFxGZVN1FFEcEFEdgQUVFzyH1e9kRNFTfdMAzlTnTN3RZw+dc6pyuX3ZFY+dz5Z1YRpvdeL4+xBJZ4epx9uv/32wwMxDj744GEJ1tZbbz08be7hhx9ukXXSaECALU4//fRhIkn0h+3Ya6uttiq77bZbOeqoo8r+++8/XDstdWRrfTZbCITA8icQMbT8bZQShkATAsTQnXfeWc4///wh6uOJSBy0yy67bJiJdlO3x22vXr26nHDCCcNSjzVr1uQxzU3oP/lE2IoYOumkk8qhhx46OFueOnbMMceUXXfdtVx66aXD7xdffPHgqHnMr8heHqTw5Nm3SIEzff3115cVK1YM9vH/vCy72m+//YalV9dcc025+eaby1lnnVWOP/744d6UPOK+Bfk2abDFJZdcMjxS++yzzy733XdfufLKK4enAh577LHlpptuKjfccMPQPy2F9MTARGbbsE8qIbCxCUQMbWzCST8ElhEBgsgA/cgjj6ydteREe4KcKMMDDzxQ6jEc7cxsLh/jETWidJbKebGT7eijjy4777zzIIbYyzFsx871mOVTiy23JOzHPmxXH53tEen77LNPOeCAAwZHGh3/I8rv3iNkl097YYvptfOqq64qu++++9AHPaGzHlOvnbHf8rFfShIC6yMQMbQ+OvktBLYAAiIJ2223XVm1alX+YWCH9l65cmXZaaedCjtmSWNfBrzjjjuGJ8uJDokkZOuLwBVXXDEskdMHc39lX7ZLaUNgTCBiaEwj+yGwBRIYi6H7779/CyTQd5XHYkg0IVs/BNzT5d48YsgSumx9ERiLIQ/HyBYCIdAngYihPu2WUodAMwIRQ81QzpJQxNAs2JtkGjHUBONsiUQMzYY+GYdAUwIRQ01xJrEQ6I9AxFB/NhuXOGJoTKOv/Yihvuw1LW3E0JRIPodAnwQihvq0W0odAs0IRAw1QzlLQhFDs2BvkmnEUBOMsyUSMTQb+mQcAk0JRAw1xZnEQqA/AhFD/dlsXOKIoTGNvvYjhvqy17S0EUNTIvkcAn0SiBjq024pdQg0IxAx1AzlLAlFDM2CvUmmEUNNMM6WSMTQbOiTcQg0JRAx1BRnEguB/ghEDPVns3GJI4bGNPrajxjqy17T0kYMTYnkcwj0SSBiqE+7pdQh0IxAxFAzlLMkFDE0C/YmmUYMNcE4WyIRQ7OhT8Yh0JRAxFBTnEksBPojEDHUn83GJY4YGtPoaz9iqC97TUsbMTQlks8h0CeBiKE+7ZZSh0AzAhFDzVDOklDE0CzYm2QaMdQE42yJRAzNhj4Zh0BTAhFDTXEmsRDoj0DEUH82G5c4YmhMo6/9iKG+7DUtbcTQlEg+h0CfBCKG+rRbSh0CzQhEDDVDOUtCEUOzYG+SacRQE4yzJRIxNBv6ZBwCTQlEDDXFmcRCoD8CEUP92Wxc4oihMY2+9iOG+rLXtLQRQ1Mi+RwCfRKIGOrTbil1CDQjEDHUDOUsCUUMzYK9SaYRQ00wzpZIxNBs6JNxCDQlEDHUFGcSC4H+CEQM9WezcYkjhsY0+tqPGOrLXtPSRgxNieRzCPRJIGKoT7ul1CHQjEDEUDOUsyQUMTQL9iaZRgw1wThbIhFDs6FPxiHQlEDEUFOcSSwE+iMQMdSfzcYljhga0+hrP2KoL3tNSxsxNCWSzyHQJ4GIoT7tllKHQDMCEUPNUM6SUMTQLNibZBox1ATjbIlEDM2GPhmHQFMCEUNNcSaxEOiPQMRQfzYblzhiaEyjr/2Iob7sNS1txNCUSD6HQJ8EIob6tFtKHQLNCEQMNUM5S0IRQ7Ngb5JpxFATjLMlEjE0G/pkHAJNCUQMNcWZxEKgPwIRQ/3ZbFziiKExjb72I4b6ste0tBFDUyL5HAJ9EogY6tNuKXUINCMQMdQM5SwJRQzNgr1JphFDTTDOlkjE0Gzok3EINCUQMdQUZxILgf4IRAz1Z7NxiSOGxjT62o8Y6ste09JGDE2J5HMI9EkgYqhPu6XUIdCMQMRQM5SzJBQxNAv2JplGDDXBOFsiEUOzoU/GIdCUQMRQU5xJLAT6IxAx1J/NxiWOGBrT6Gs/Yqgve01LGzE0JZLPIdAngYihPu2WUodAMwIRQ81QzpJQxNAs2JtkGjHUBONsiUQMzYY+GYdAUwIRQ01xJrEQ6I9AxFB/NhuXOGJoTKOv/Yihvuw1LW3E0JRIPodAnwQihvq0W0odAs0IRAw1QzlLQhFDs2BvkmnEUBOMsyUSMTQb+mQcAk0JRAw1xZnEQqA/AhFD/dlsXOKIoTGNvvYjhvqy17S0EUNTIvkcAn0SiBjq024pdQg0IxAx1AzlLAlFDM2CvUmmEUNNMM6WSMTQbOiTcQg0JRAx1BRnEguB/ghEDPVns3GJI4bGNPrajxjqy17T0kYMTYnkcwj0SSBiqE+7pdQh0IxAxFAzlLMkFDE0C/YmmUYMNcE4WyIRQ7OhT8Yh0JRAxFBTnEksBPojEDHUn83GJY4YGtPoaz9iqC97TUsbMTQlks8h0CeBiKE+7ZZSh0AzAhFDzVDOklDE0CzYm2QaMdQE42yJRAzNhj4Zh0BTAhFDTXEmsRDoj0DEUH82G5c4YmhMo6/9iKG+7DUtbcTQlEg+h0CfBCKG+rRbSh0CzQhEDDVDOUtCEUOzYG+SacRQE4yzJRIxNBv6ZBwCTQlEDDXFmcRCoD8CEUP92Wxc4oihMY2+9iOG+rLXtLQRQ1Mi+RwCfRKIGOrTbil1CDQjEDHUDOUsCUUMzYK9SaYRQ00wzpZIxNBs6JNxCDQlEDHUFGcSC4H+CEQM9WezcYkjhsY0+tqPGOrLXtPSRgxNieRzCPRJIGKoT7ul1CHQjEDEUDOUsyQUMTQL9iaZRgw1wThbIhFDs6FPxiHQlEDEUFOcSSwE+iMQMdSfzcYljhga0+hrP2KoL3tNSxsxNCWSzyHQJ4GIoT7tllKHQDMCEUPNUM6SUMTQLNibZBox1ATjbIlEDM2GPhmHQFMCEUNNcSaxEOiPQMRQfzYblzhiaEyjr/2Iob7sNS1txNCUSD6HQJ8EIob6tFtKHQLNCEQMNUM5S0IRQ7Ngb5JpxFATjLMlEjE0G/pkHAJNCUQMNcWZxEKgPwIRQ/3ZbFziiKExjb72I4b6ste0tBFDUyL5HAJ9EogY6tNuKXUINCMQMdQM5SwJRQzNgr1JphFDTTDOlkjE0Gzok3EINCUQMdQUZxILgf4IRAz1Z7NxiSOGxjT62o8Y6ste09JGDE2J5HMI9EkgYqhPu6XUIdCMQMRQM5SzJBQxNAv2JplGDDXBOFsiEUOzoU/GIdCUQMRQU5xJLAT6IxAx1J/NxiWOGBrT6Gs/Yqgve01LGzE0JZLPIdAngYihPu2WUodAMwIRQ81QzpJQxNAs2JtkGjHUBONsiUQMzYY+GYdAUwIRQ01xJrEQ6I9AxFB/NhuXOGJoTKOv/Yihvuw1LW3E0JRIPodAnwQihvq0W0odAs0IRAw1QzlLQhFDs2BvkmnEUBOMsyUSMTQb+mQcAk0JRAw1xZnEQqA/AsTQtttuW1atWlXuv//+/iqwhZf4qKOOKjvuuGNhx0cffXQLp9FX9Ymhvfbaq+y7777l+uuv76vwKW0hhnbdddeiD952220hEgIh0CmBiKFODZdih0ArAhdddFHZZpttykknnRQx1ArqJkxnxYoVZYcddijsGDG0CcE3yOr2228ve+65Z9lnn33Kdddd1yDFJLEpCVx++eVll112KfpgxNCmJJ+8QqAtgYihtjyTWgh0R+B73/te2WOPPcoZZ5xRHnjgge7Kv6UX+MQTTyx77713YceIob5aw1133VUOOeSQcvjhh5c1a9b0VfiUtqxevboccMABRR+84447QiQEQqBTAhFDnRouxQ6BVgR++9vfltNOO61cffXV5ZFHHmmVbNLZRASuuuqqcvbZZxd2/M9//rOJck02LQg89NBD5YILLigXXnhhsWQuW18Efv/735dzzz236IMPPvhgX4VPaUMgBNYSiBhaiyI7IbBlEiCA7rzzzsIx++9//7tlQui41qJ5d9999yBk//e//3Vcky2v6MTrvffeO7z+9a9/bXkAOq/xP/7xj6Hv6YP//ve/O69Nih8CWy6BiKEt1/apeQiEQAiEQAiEQAiEQAhs0QQihrZo86fyIRACIRACIRACIRACIbDlEogY2nJtn5qHQAiEQAiEQAiEQAiEwBZNIGJoizZ/Kh8CIdArAfeb+L9QbtzOgxN6tWLKHQIhEAIhMDeBiKG5LZD8Q2CJBO67777ym9/8Znhq2F//+tclnjXfYRx05VTmG264IU9bamyKv/3tb+W73/1u+clPflL+/ve/N049yYXA5kPAhIHr0I033tjF/1LzIBT92xMif/7znxfX/mwhEAIbj0DE0MZjm5RDoAkBs/+/+MUvyje/+c3y5S9/uVx66aVdPIbX05U8Lvjiiy8un/nMZ8r5558/OCQG+WxPnoB2ceyxxw6PRc9jfZ88z6Sw+RHwhEwCyDXo1FNPHR5h/uc//3nZV5QY8pRBkx3+GfY3vvGN8stf/nKYXFr2hU8BQ6BDAhFDHRotRd78CRgMPfL6j3/8Y/n2t79dPvnJT5YjjjiifPaznx3+0d/0n6N6JLbogEiMQZSjzBF4+OGHi0f2LvbIbILFcWYeneedWFnfY2JFfOQlj3Feyuuffta8vCvnD3/4w3L00UeX97znPeX4448f/icHh8Txm9ujoNUZc2zuueeegSdWuPzzn/8cWOPtsxcR4+W3MTdsfO/Y8W9aPtvIg5O37777lo985CPlpptuGmzP/pjLczEbSs8xyuelrNKbHs822o724HflHdtdXspZy71ce2Wth7Kri5f6a7sYqzcmOHgtVifHSaP2lXo+LtOt5ikveeBXOWGKnbz87vxxP3CcRzY7hn3kox3od9M2Mz5P+aSnfPW8Wr9p+aSjTOojL/V3bD2v5jc9r5fP6uQa4x8Ru2Yedthh5bjjjmzHnNgAABtFSURBVBuuPbiON7xru6711z4wWd825s1G9dq5UHuo6bAh7srgHG0Ad23OebWNsKvjrr322uHa/4EPfGAo/2WXXVb+8Ic/DL+NbV/Tz3sIhMATIxAx9MS45awQ2GgEDJj+m/n3v//98qUvfamsXLlyEEInnHBCufLKK4f/azEeCO3fdttt5YorrijnnHPOECn4yle+MsyC+q7OKI7PUXiDvaUj3/rWt8rpp58+zJyeeeaZxYB7yy23DAPutJIG7N/97nfDjKV/9Kl88rrooosG0SM9TkEd1L3fddddQ5of+9jHyiGHHDIIIxGuH//4x8Nv6rs5bOpa7aB+n/vc54ZIntldS11+9KMfDTO8Invsy1kzY33eeecNv3NA2YhD63iRQP+Qc7rE0P+EsjTuC1/4QnnZy15W3vCGN5RTTjmlfP3rXx9e7Ol33Kcbx4uD9bWvfa18/vOfL6tWrRpsf/nllxf/QHLsAHLab7311iESSZD/7Gc/G+x+1llnlS9+8YuD3X/wgx8M9VifAzgtw6b+XOuhrJWpfoIfDqKu/uGwPqD9a5f+b9O4XXKutfvvfOc75Ywzzhj6ikiD9IhSzvR44yj/6U9/GpxvEVH90PmcX/aUr7ykx7mt3LWhal/9S1Tg5JNPHvqyJVNsp+z6G3tV7vIniC+55JKhbOyqftrWr371q3XKJ4/Vq1cPEy2uM+qvLtqR8/wTWOWq6Y/rtpz32Uzd2JCdPv7xj5fDDz98EBL6nd/G10F2MuHEDuyvT2AgEnPdddcNgmV8fK07e918881D32BH10H54b9Qe3CessmLQKvXaTbG3T9tZSdirF475Us0Od4k0qGHHjqMBdpdD/2ussp7CPRAIGKoByuljFsEgTr4ES8G4xUrVpT3ve995ROf+MQw6HJ+OD11sATFOQZ4TvOHP/zhIfqy3377lYMOOqh88IMfHF4GeI7S2LkzmHNuOVof+tCHygEHHFDe+c53Du8iUAZ4TqIZy7rJ9/bbbx+cBgOzSI+83v/+95eDDz64fPSjHx3O+/Wvf/0YJ8p5ys0R4MSJZDjXEi+OO+fBoD+uV82zl3dltySQ3fB861vfWt74xjeWd7zjHcOs9DHHHDNwetvb3jbUm9hUb8z23nvvQTRxntmImCSSpPOud71rELcc0+qUccIIEgyf8YxnlBe84AXDcWxSHaavfvWrg6Ad8+OIc6LMkO+///7lTW9602PKyEHjcFfHnO21EfZ6+9vfPrSv2lb22muvtVEpNuXELdeNkOHYfvrTnx7sod7K/+Y3v7mwh3521FFHDd/5Xn8jFIhTGw76D6b6Ru0r+ou2TzxMBSsBpv/oe2b19Q/7nGUiWb9mA/myiUiENqQvc8xFUrWd3XbbbbCT4wkckwm77LLLYBPCiK30reuvv34QQfq8Ou2xxx7Du/aj3o4Vaaib9qfvK4N2ZMJFGdlZ2z3wwAMH537c7uq5y/EdOwxde4gLIoht1Iuw02dMMoyvMfqayRt9SeRozz33HFirP24ECBGrP443AtE12oRHbQ/77LPPwFL/M1Ew5e18kxPnnnvuYDt8sX/ve987cD/yyCOH87SjsQDV59nNpIRJKvVyjnrVpXPKN762j8ua/RAIgaURiBhaGqccFQIblYDBjCNk4OZwVkfJbP+aNWvWOmbTQnCGzHhygjhKBnaRCA4WJ006Buhrrrlm7YBpgCVMOACWWZlplIaoEyf8U5/61CCmzEpzIqoTzpngHHC2DOYEmHN851gCjCNplpkzuNAmMsHBNiPKAeCIiRjVaEmvgzoxx1nmqLAF9iICRCWRusMOO5StttpqcHA5uxw34gRDjteJJ544ONwcIc47ZxUjzpbftAGz2DZ5ceK0jR133HFw4jlGZpe9OPJVYFYbcAI5U8rHSWQvTiPnnFPHFtqPtiBvm/xEsDjvW2+99VB+5VEvkSSz4dqBcznjy3XTpkTs1JO4YAtig23wYBdtGu/TTjtt6BeiA85xLoHoe/2SkBQlq+2ewMHTMlbturZ7vAnEGsEjsl7+8pcP9ufQsh2O+qtjtAfLpvQDApn40Q8dw7YccyKI+N15552HiI/rhfJxzJXr3e9+9yC0RZ2k41oiDaKc80woVKErP23Pb8Q0Z15kg119jw/RKK3l3iexFsmr7PQnbVLEmrjQzxba8MZH3dWXLQh73PQ5bdu107VUn6ybCSETOa5dBKprpvagXfjsOsjG+mi9dmoXIsNsxLbK5rqJtz6n77G7/lvbUM2vvrv+ug6wCREtf9cW/ViUuV4f6vF5D4EQWDqBiKGls8qRIbDRCHCcDKTbb799edWrXjUMpkTFeDZ3ocwN0mb03/KWtwyDMMeqDtwiDZwpgycHt86KcgI4PGZCiReD+3jjQHDuDLSOq86EmXKOwkte8pJhdpxQqmlKn1PAufb9eHZznHbdN7BbnmMJC+dU+TljnO8eN+KDYylawCnibNpEFYgQrLfddtthVng808zhZgPiaeysOpcTXpcvijJMmXKGOV4cOjZdbOOQsSFn/qUvfeng9Du3btpYtQVxzObjjV3VjUNvyU51urQb92NwGNWxtrvxuctlnwjgfHI6CQNLktiIgH3Na14zOJfKrx/6vd6HhY36E02ie84bb5xQ/VYUh5iaRsjkK0pgUuK5z33uwIpTrF0QGdo7R95xHF0OsTZEfEm7btqGiNQzn/nMwQkWKbCpg/7NySYA9N3xJpqsPspHvI6XThJvHHO21c7Gbcgys2222Wa4Di3mnI/zmXPfBIvyv+51ryuvfvWrB9sRFb5fbFMnkwb6JVHhulmFonPwFeEhiAgfSxxtonCucc7xPcEz3vRZ7UGUjeCpTOWnj7z2ta8d7GhyqnJlZ7/pd9rAtJ+P07ev7fz0pz8dbEMYE8lE+fQ6Pj0vn0MgBBYnEDG0OJv8EgKbjIAlVpbrmKU1e21m2mx7daoXKwjH1ABq5pjD5r4ig7DZZIOrGUviZOyocqw5e5xoTtZ0cywhJi0Dfj2G82afA2V5HGfBsg95We7GuRBx4kDWGdFp2vUzQcABUe5dd911GNDNxjq/x83sMWeXsJk6YYQHm3BYzeiOBZ/6OgdLgmrskPnMyePEmv2fOknaDDFEuI6d3Ck/The7cZye/vSnD3mJTplJ9+KIEdRm1EUv2L3mxY7sK4ro2LGQE6Gqs+gcxKkQmJZjzs/apFl4M/b6hc8EorqLTJpdt/meeCDSCR9cRZQ4v5gttLm/q0b39LVxJEV6HF92EoGYOs/j9Igkosmyutrn6u/sofyWsYlE1X5i+Z4+asmfPESciD6CXHlFOjzJUQSRY1+deukqFwGl/YzbpN+kr73gNb521PIsp3eCw1JAbZcwUF/XlnFbnZbXOZYJEieYa/+1L2gTtV2zmYka1zabZYOiSJhZejnur35nJ9dj4kQb0jbqpm3grS2JzMqzXjtNRvjdJNGGrp3GBHmL2IremUxiJ8I3WwiEwBMjEDH0xLjlrBBoSoADZfC2xI1TY1C33MqgzDExG7jY5lwDKYeboDLbKcK03XbbDQKJo8rxq4MsR8GAbJnQYg4Dp4mzwAk28NaNY8RJtKRE5MjyIhGPV77ylcOst8gBJ7nmVc+r7843aHMEiAOOBoHgPDPkNepQj+/lnQP6ohe9aBAaNVpWyy6ixq5YcrTHM7icqyqGOMpj58pn0TJRgoXEkHQ4zhyzcaSn5lvftR0297CFpzzlKUO74OhyokRFvJtRFzV6/etfP7QLTryNHTnYnDgO21ic29e2OGWc717EEOGjfto+x5cjSczbzPxXMSTKou8RQyYPTBAstGnPHGQOsImGsXio9/OYeCAyp0J5nJ5oBsEiOjSOCtVjCCT2Joa0Gxtn23WCEH/2s59dXvGKVwwOfrUrEcS2NSopWlw39VEv0b0awai/iYzsvvvuw2TFuD719+X0rr+5vrmGuCYpt4khEzWui2w9vR4Ruez+nOc8Z1h6iBtW+kJ9idBjRyzViFu1gaVtorrTvo4LYenaSiCLsNXNpATxqlz1Oi1fIk559aHxdbqeV9/ZgV2IeWMEISQqS8Tp/71eO2v98h4CcxKIGJqTfvIOgQkBM4ucYMvbiARLkwyUlvOMHZl6GiFkYDcYEhMGW06OWWRLrwyW0uGsV0fM8hiOuehTnWGu6Xk3qBI8nFyOIQfPZtaSk8bB4zw5xnINgzHh5H4SDoZo1ELijfPOiVAny7HMaFuCRHjVJSPjcvS0b+b4+c9//sCLHcYbZmyh3mwxnoXnSOOAC9uNOfjMqeKMb0gMbSgypE2ZBX/a0542pEnY1PtetA37vhONVL4a3RiLoSp0a92IXmKICNAGehBDRAtnUlsmhpRbZMikg8332ry2bIYfC/yJEGJloQ1b/Ux/sV+jao7liOtvIgH6m/QX2whWEwQEkXPGmzSVWxRVZLaKIcuytB8PTLA0i6jzKHs2rS/l1j71s7GwqWKISJvajtMtTSJuLNDHZVpu+65blutigInotaWF+lblVcvM9uyx0047Dce43mrfXmNuxAwBVO0mfQJSm2frqQAhjvRpExjsUSeSXA+1JRMjrp36tsic6J3IrzSJYJG8OhFRy+rduZZhEliiVdqsJwUqw9im43OyHwIhsHQCEUNLZ5UjQ2CTEeD8cIiIDIMqB8gAaJbebGcdhA2uBn7HjR1pBTXLyAk3k2zANaDavHOy3ZtgGdb0PM67wVw0wHE16mDZFieA4zx1kAgAZRBx4nzUCILjnCfCwcHknKiPfH0/dhw3GdyNkBFni6PCgeT4EoocLt+ru0ifhxBwesZiyeyy5YHOGS+pYRNCw6y/yBHnaTq7bZmcWWsOvrymGyeJcCVsCGFpif5Id6EZbecrG8e4ti/fcdDkQfhKr24cRKJbW+FEVpvX35fTO55EgigaAaTd6R/28fVuUz/9jGPKqeXEWsqk3Wr7U9GgfeuTlq/VPja1E9txvP2+GHd5y0/53N9DNHPECU554uzenqc+9alDH3OsTf93z5C2x0ba00IbB9xkythxNsnhHP22Ovv1XH3eU9Xc/9Lbpu3qf0Ss++RqtE002zXH7+ymPYtsE7pE5UIb++NWJ5LYQ2THBJXr3DSiph/6nThm8xoFNunkeBHimlbNz2dRfW2M+JSHrQorUXSRJNdWfdg1XaRqoQmnmmbeQyAEHh+BiKHHxytHh8AmI2Aw5KRwkg2sBFG9d6MOqAZjS2Dca2R202yvgdKso5lDgygHXASmDrLVWaizjJwps9KiAu5b4PTJi8iSVnWMzTC7n8nsNQfQrKff5emzGXX5cbbr7KbymXXntJvR5KAQc5zO9TmGmwxyo4w4mSIrhCfHWISM8+P+Bd9ZgmMpISd7HMXhzOLl/gL3PWDMCWYTzs8LX/jCgTlbTgUPZ96yII6Z392oz4acfmlaAladPw46h5/NpUt8cczY0Hlmw808E6mcRPUhIDjdyiyq5P4uAp1t/cbJF1UwA09QcK6Xo7glBjmjnH731hD5Im3sQOiZFPBwBG0VYw9ZsATJcjriEFN2JOKloY/Udi9i63v9cvzUMY6qPE0cEBTyEA0VtWBj4pHDPhaXzsFev7PUVTkIKM4vp15UyHI49hOhqJvrA1FTo60iSNqQMnp3XWBv9dFmbOquL0rTo92Vs14ftEltpT5lTzq9Od6uLdjWiRh90DUNgyra1RdrgogA1ufYlr1dD9kKI0JFpMymHxFO+ivx4nf9zTlY+2wJm4kf1+DaH9hIPvpffYIgro5hL+VwDiFV24R3IljZXT+1A+2WfWrkdihU/oRACDxpAhFDTxphEgiBjUuAYypaQ3RYVmEArY6xgZ3IMOPPYeLoET9mEDlgHACDr8F8PGNtoOUAmcHkeDneYEzoSM/gzDEw8NZNvhwA6cqL8OEoG6zrd5zy8Vp6s9rVIeN0cy450pvjRqByjAiE6sBwjHwmMDlQBKOIznjjNGPJWeLocpjw9Nm9PZ6SJVJgScx4M7vtPgM2dI53edTz2VCbqQ6Z8rE527kvQqSB3WtbYXcz0xw3zpa2xXn0T109xcz9RAST8kuLgDLrru1V8TCNMIzLO9e+/qMtq6dJA/fTEDHqoQ6idgSseoua6j+OITAskeI0c3axYReOqX4moiCKYx/XcZSA2OBMO4YNPYHxxS9+8XCPHPFhyaQ2USMHlQ2u8iKCiCE20SeVhahRB23LhELdMNc3CTZthnAlUJWLfaqdiV/93nVAu3BteN7znjeUbdy+CGD5PetZzxqWfirnWMDXfHt410fY1LWHwLNcsEb3CCZ9ykQTe2gH9TqGjesi1gTKOJqrPUlHX2Yfx+h3zvHZNZGIqaILJwKK7QhW79qYl+uD77QTfUskuU4SaXfsajKJSNZe5Z0tBEKgPYGIofZMk2IINCfAgeHI1GVMdaaWsDDLbFazPgWJo2dpluUVHCCO01SASM9gS6iY+XS8WU1LniwLEjEguMYCikMkL/kQZRxlA7ildBwGvxFdNS/niiJYcmMg55hs7htnlgPNyRaN4ySbARYNEFkRgcBivHFw2AFHT5XjCLMdZ1rkwswxtmOHzPn4cvQIMPzZ0KvaQ6SCs12dK+ewuePlYXme2WbRIOfUyGJ16rUx0QtRPw6xdqUu6qjMohPEmPO1GfVejjYmBglOfUH71mYJH/3JEigCXlvGyndsoT+J9Gnz+JkUUHfHYuclLUwcz8Eec3Y8dmwoP4z0L8ezlReHeuwwV5sSNwQJO7E/J15/xJvAJZLGkSHnyU/UgB1EgUSj5ClvkyGcc3WtUV79lO3Uw3HaaxU8+r32JrLpJUqyHEWuei9l00+0Zf3HtahGrZ3rWuX6SHBo47hhoj+wFfYioFMRwm4ElnZSbas9sCte2sP42ln7neuml/ykzzbO0TbZtF47lU2eyqyPj8u8lDrnmBAIgcdHIGLo8fHK0SEwKwEDLKerDrTeOaCcOC+ODEeH48OpNYhWB2ihgjvXcc5xg7XzLKUxKNc86nnyNUBzLKRrwOdkciLl6/vp8o1peWtam/O7OmPOCffOmeH8mEm2zKrOTI8ZsANHjRNcbceemHrHe8rW+dUmnCazyl7EFufLuQvZng3Z3LFmrNne+Rxq5ahOfW1bHGHOn9+d63cvbUTZfO+YhdrMuI5z7asHW2BIyNV6VjupgxdW6oWB+kz5+R5XkU/ctH3t3vfSGm/jdGqe3sevhfrLOA32rm3IscSt6J9/sKqNTDfHSl8UWfk419oe203bj2PVuZbN77WtyNdnnPwub/XpfWMj9ZjaSn3V1XUMMy/7roM4YDU9Bwvtnf3ZwrVTP9Kv1tcesJSm45zHVtIY86+cFytv/T3vIRAC7QhEDLVjmZRCYFkQeCKOi3MWcrY3VKEnkteG0uz5dw4SMSJK4h4aM/qiCZYdiQqZgef4LLY9GZ7Ofbzns/lCjt5i5cv3/58A4bCxuGlDnGURCdEoLxFGSylFhUSL6r0/i9mDXau4WeyYfL8uAf3n8V4HtYMn0o82VvtZt1b5JgRCYEMEIoY2RCi/h0AIhMASCZjltYzQ7L2HG7i53n0b9i1DI5Qer2BZYtY5bDMgwEEmdNwjYrmbBzOIBmlD7gWzJEtEQbQiWwiEQAiEQBsCEUNtOCaVEAiBEBiWUbk/yP+ccX+Hp1S58d4yOcuqIoTSSNZHgBiyrM1T+9yDIpooqqgduY/F8rfHG7lYX375LQRCIARCoJSIobSCEAiBEGhEgKPq/gM3o4sCuWfD/TjuQYkT2wjyZp6MdmIppXvLtCEv95MRSVn6tpkbP9ULgRCYhUDE0CzYk2kIhEAIhEAIhEAIhEAIhMDcBCKG5rZA8g+BEAiBEAiBEAiBEAiBEJiFQMTQLNiTaQiEQAiEQAiEQAiEQAiEwNwEIobmtkDyD4EQCIEQCIEQCIEQCIEQmIVAxNAs2JNpCIRACIRACIRACIRACITA3AQihua2QPIPgRAIgRAIgRAIgRAIgRCYhUDE0CzYk2kIhEAIhEAIhEAIhEAIhMDcBCKG5rZA8g+BEAiBEAiBEAiBEAiBEJiFwEYRQ7f/5Y7y6v0/Uf54622zVCqZhkAIhEAIhEAIhEAIhEAIhMD6CNx9z71L0iz/b32JjH8jgg478uhy4EFHlA8ctrIcdOiKYf+3t/x+fFj2QyAEQiAEQmBJBH5xy+3lrEuvXfD13at/s6Q0clAIhEAIhEAIjAlUzbL/gYes1Sx77//+csMv1owPW7u/JDEkCvSeg44ov7zl9+WRUta+fveXO8qhRx5dfnXjTWsTzE4IhEAIhEAILIXAW1ecVT53wepyxqXXrvN6/YdOLXfd99BSkskxIRACIRACITAQEA36wKEr1tEsdzzwYPnwyuPKNdfdsA6pDYqhRx99dBA8a269rTxQyjqvWx94sOx34CHFcdlCIARCIARCYKkE3rLirPKH+x4qfytlnZffIoaWSjLHhUAIhEAIIHDkyuPK1TfetI5eoWFolvcfuqL89YEHHwNrg2JIVOi9H/poue1fjy76Our4kxZUWo/JKR9CIARCIARCYESA4PnNfQ+Ve0pZ5/XmiKERqeyGQAiEQAhsiICo0L4HHrKoXqFljv/cqeV7P1j9mKQ2KIa+c8VV5ehVp5ar77p30denzzin7Lj3EcUTG/IKg7SBtIG0gbSBpbSBHQ/+YvnOn+8tVz/8z3VeOx92WsaTjKlpA2kDaQNpA0tuA6/Z92Plgx/71KJ6hZY55YKLy8mnnvn4xJD7gT74kWPK1Xfft+hr5Qknr6OyHpNLPoRACIRACITAhIDoz1V33F9+/s9H13nt8dEsk5vgyscQCIEQCIH1ELCa7d0Hf2RRvULLHHvKGeXiSy9/TCobjAw9/PAj5d0HHVHW3Ht/ufXf/1nn9btH/jGEpKbr7x6TSz6EQAiEQAiEwISAZXI33vdQubuUdV5ZJjeBlY8hEAIhEAIbJGCZ3A133rWOXqFhaJb3HbqieNrceNugGHLwj35yTVlx7GfKXx5+pPy1lLWvex59tHzm5NPKRROFNc4g+yEQAiEQAiGwEAFPk1t1wepy+qXXrvPK0+QWIpbvQiAEQiAE1kfAirYjVh63jmahX04589xy7nkXrnP6ksSQs9xs5H8Mnfyls8o5511YvnTmucPnaahpnRzyRQiEQAiEQAgsQMD/Elrs/wyde/nPyr/+/Z8FzspXIRACIRACIbA4gdU/uWbQKCeefNpjNMvZ55y34ElLFkPOthTOAxW+dt6Fw3o7T23IFgIhEAIhEAIhEAIhEAIhEALLhQDNIpBTNct0ady4nP8HpDigtiqEa68AAAAASUVORK5CYII=)"
      ],
      "metadata": {
        "id": "0bzSvDPArfWK"
      }
    },
    {
      "cell_type": "code",
      "source": [
        "len(de_vocab)"
      ],
      "metadata": {
        "colab": {
          "base_uri": "https://localhost:8080/"
        },
        "id": "r7lU0H2utLwp",
        "outputId": "85d20429-fa08-48e8-d079-6d3bb4c7647f"
      },
      "execution_count": 64,
      "outputs": [
        {
          "output_type": "execute_result",
          "data": {
            "text/plain": [
              "7853"
            ]
          },
          "metadata": {},
          "execution_count": 64
        }
      ]
    },
    {
      "cell_type": "code",
      "source": [
        "class Encoder(nn.Module):\n",
        "  def __init__(self,input_dim,embedding_dim,hidden_dim,n_layers,dropout):\n",
        "    super().__init__()\n",
        "    self.hidden_dim=hidden_dim\n",
        "    self.n_layers=n_layers\n",
        "    self.embedding=nn.Embedding(input_dim,embedding_dim)\n",
        "    self.lstm=nn.LSTM(embedding_dim,hidden_dim,n_layers,dropout=dropout)\n",
        "    self.dropout=nn.Dropout(dropout)\n",
        "\n",
        "  def forward(self, src):\n",
        "    #src=[src length,batch_size]\n",
        "    embedded=self.dropout(self.embedding(src))\n",
        "    #embedded=[src length ,batch size,embedding_dim]\n",
        "    outputs,(hidden,cell)=self.lstm(embedded)\n",
        "    #outputs=[src length ,batch size,hidden dim * n directions]\n",
        "    #hidden=[n layers * n directions ,batch size, hidden dim ]\n",
        "    #cell=[n layers * n directions,batch size, hidden dim  ]\n",
        "    return hidden,cell"
      ],
      "metadata": {
        "id": "VpgbZn4oo6Au"
      },
      "execution_count": 65,
      "outputs": []
    },
    {
      "cell_type": "markdown",
      "source": [
        "# **2. decoder**"
      ],
      "metadata": {
        "id": "SYlvEVt60SaP"
      }
    },
    {
      "cell_type": "markdown",
      "source": [
        "![image.png](data:image/png;base64,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)"
      ],
      "metadata": {
        "id": "GdLbif6w0XKW"
      }
    },
    {
      "cell_type": "code",
      "source": [
        "class Decoder(nn.Module):\n",
        "    def __init__(self, output_dim, embedding_dim, hidden_dim, n_layers, dropout):\n",
        "        super().__init__()\n",
        "        self.output_dim = output_dim\n",
        "        self.hidden_dim = hidden_dim\n",
        "        self.n_layers = n_layers\n",
        "        self.embedding = nn.Embedding(output_dim, embedding_dim)\n",
        "        self.lstm = nn.LSTM(embedding_dim, hidden_dim, n_layers, dropout=dropout)\n",
        "        self.fc_out = nn.Linear(hidden_dim, output_dim)\n",
        "        self.dropout = nn.Dropout(dropout)\n",
        "\n",
        "    def forward(self, input, hidden, cell):\n",
        "        # input = [batch size]\n",
        "        # hidden = [n layers, batch size, hidden dim]\n",
        "        # context = [n layers, batch size, hidden dim]\n",
        "        input = input.unsqueeze(0)\n",
        "        # input = [1, batch size]\n",
        "        embedded = self.dropout(self.embedding(input))\n",
        "        # embedded = [1, batch size, embedding dim]\n",
        "        output, (hidden, cell) = self.lstm(embedded, (hidden, cell))\n",
        "        # seq length and n directions will always be 1 in this decoder, therefore:\n",
        "        # output = [1, batch size, hidden dim]\n",
        "        # hidden = [n layers, batch size, hidden dim]\n",
        "        # cell = [n layers, batch size, hidden dim]\n",
        "        prediction = self.fc_out(output.squeeze(0))\n",
        "        # prediction = [batch size, output dim]\n",
        "        return prediction, hidden, cell\n"
      ],
      "metadata": {
        "id": "N3560Zdw0rp-"
      },
      "execution_count": 66,
      "outputs": []
    },
    {
      "cell_type": "markdown",
      "source": [
        "# **3. Seq2Seq model**"
      ],
      "metadata": {
        "id": "ZHfkwr7y-OMR"
      }
    },
    {
      "cell_type": "code",
      "source": [
        "len(en_vocab)"
      ],
      "metadata": {
        "colab": {
          "base_uri": "https://localhost:8080/"
        },
        "id": "MevUBZWA9xza",
        "outputId": "6541f9de-10ea-4048-ff04-a8f4b7a7dabb"
      },
      "execution_count": 67,
      "outputs": [
        {
          "output_type": "execute_result",
          "data": {
            "text/plain": [
              "5893"
            ]
          },
          "metadata": {},
          "execution_count": 67
        }
      ]
    },
    {
      "cell_type": "code",
      "source": [
        "class Seq2Seq(nn.Module):\n",
        "    def __init__(self, encoder, decoder, device):\n",
        "        super().__init__()\n",
        "        self.encoder = encoder\n",
        "        self.decoder = decoder\n",
        "        self.device = device\n",
        "        assert (\n",
        "            encoder.hidden_dim == decoder.hidden_dim\n",
        "        ), \"Hidden dimensions of encoder and decoder must be equal!\"\n",
        "        assert (\n",
        "            encoder.n_layers == decoder.n_layers\n",
        "        ), \"Encoder and decoder must have equal number of layers!\"\n",
        "\n",
        "    def forward(self, src, trg, teacher_forcing_ratio):\n",
        "        # src = [src length, batch size] #src sentence\n",
        "        # trg = [trg length, batch size] #target sentence\n",
        "        # teacher_forcing_ratio is probability to use teacher forcing\n",
        "        # e.g. if teacher_forcing_ratio is 0.5 we use ground-truth inputs 50% of the time\n",
        "        batch_size = trg.shape[1]\n",
        "        trg_length = trg.shape[0]\n",
        "        trg_vocab_size = self.decoder.output_dim\n",
        "        # tensor to store decoder outputs\n",
        "        outputs = torch.zeros(trg_length, batch_size, trg_vocab_size).to(self.device)\n",
        "        # last hidden state of the encoder is used as the initial hidden state of the decoder\n",
        "        hidden, cell = self.encoder(src)\n",
        "        # hidden = [n layers * n directions, batch size, hidden dim]\n",
        "        # cell = [n layers * n directions, batch size, hidden dim]\n",
        "        # first input to the decoder is the <sos> tokens\n",
        "        input = trg[0, :]\n",
        "        # input = [batch size]\n",
        "        for t in range(1, trg_length):\n",
        "            # insert input token embedding, previous hidden and previous cell states\n",
        "            # receive output tensor (predictions) and new hidden and cell states\n",
        "            output, hidden, cell = self.decoder(input, hidden, cell)\n",
        "            # output = [batch size, output dim]\n",
        "            # hidden = [n layers, batch size, hidden dim]\n",
        "            # cell = [n layers, batch size, hidden dim]\n",
        "            # place predictions in a tensor holding predictions for each token\n",
        "            outputs[t] = output\n",
        "            # decide if we are going to use teacher forcing or not\n",
        "            teacher_force = random.random() < teacher_forcing_ratio\n",
        "            # get the highest predicted token from our predictions\n",
        "            top1 = output.argmax(1)\n",
        "            # if teacher forcing, use actual next token as next input\n",
        "            # if not, use predicted token\n",
        "            input = trg[t] if teacher_force else top1\n",
        "            # input = [batch size]\n",
        "        return outputs"
      ],
      "metadata": {
        "id": "_qt53iZz-TAo"
      },
      "execution_count": 68,
      "outputs": []
    },
    {
      "cell_type": "code",
      "source": [
        "len(en_vocab)"
      ],
      "metadata": {
        "colab": {
          "base_uri": "https://localhost:8080/"
        },
        "id": "2qJ51Gmc0_2X",
        "outputId": "523ea281-d33a-48a6-c85c-8bd2e4515981"
      },
      "execution_count": 69,
      "outputs": [
        {
          "output_type": "execute_result",
          "data": {
            "text/plain": [
              "5893"
            ]
          },
          "metadata": {},
          "execution_count": 69
        }
      ]
    },
    {
      "cell_type": "code",
      "source": [
        "input_dim=len(de_vocab)\n",
        "output_dim=len(en_vocab)\n",
        "encoder_embedding_dim=256\n",
        "decoder_embedding_dim=256\n",
        "hidden_dim=512\n",
        "n_layers=2\n",
        "encoder_dropout=0.5\n",
        "decoder_dropout=0.5\n",
        "device=torch.device(\"cuda\" if torch.cuda.is_available() else \"cpu\")\n",
        "encoder=Encoder(input_dim,encoder_embedding_dim,hidden_dim,n_layers,encoder_dropout,)\n",
        "decoder=Decoder(output_dim,decoder_embedding_dim,hidden_dim,n_layers,decoder_dropout,)\n",
        "model=Seq2Seq(encoder,decoder,device).to(device)\n"
      ],
      "metadata": {
        "id": "h0Jcl349s8x-"
      },
      "execution_count": 70,
      "outputs": []
    },
    {
      "cell_type": "markdown",
      "source": [
        " **WEIGHT INITIALIZATION**"
      ],
      "metadata": {
        "id": "iAVQOBNJkHzj"
      }
    },
    {
      "cell_type": "markdown",
      "source": [
        "**UNIFORM DIsTRIBUTION (-0.08, +0.08)**"
      ],
      "metadata": {
        "id": "1QUkAaXekMS9"
      }
    },
    {
      "cell_type": "code",
      "source": [
        "def init_weights(m):\n",
        "  for name,param in m.named_parameters():\n",
        "    nn.init.uniform_(param.data, -0.08,0.08)\n",
        "model.apply(init_weights)"
      ],
      "metadata": {
        "id": "1QLTdzT-s8r3",
        "colab": {
          "base_uri": "https://localhost:8080/"
        },
        "outputId": "5e79c886-0b7d-4a35-bff4-aec1a21c4baf"
      },
      "execution_count": 71,
      "outputs": [
        {
          "output_type": "execute_result",
          "data": {
            "text/plain": [
              "Seq2Seq(\n",
              "  (encoder): Encoder(\n",
              "    (embedding): Embedding(7853, 256)\n",
              "    (lstm): LSTM(256, 512, num_layers=2, dropout=0.5)\n",
              "    (dropout): Dropout(p=0.5, inplace=False)\n",
              "  )\n",
              "  (decoder): Decoder(\n",
              "    (embedding): Embedding(5893, 256)\n",
              "    (lstm): LSTM(256, 512, num_layers=2, dropout=0.5)\n",
              "    (fc_out): Linear(in_features=512, out_features=5893, bias=True)\n",
              "    (dropout): Dropout(p=0.5, inplace=False)\n",
              "  )\n",
              ")"
            ]
          },
          "metadata": {},
          "execution_count": 71
        }
      ]
    },
    {
      "cell_type": "code",
      "source": [
        "def count_parameters(model):\n",
        "  return sum(p.numel() for p in model.parameters() if p.requires_grad)\n",
        "print(f\"The Model has {count_parameters(model):,} trainable parametersd\")\n"
      ],
      "metadata": {
        "id": "7SmnUfgKs8o5",
        "colab": {
          "base_uri": "https://localhost:8080/"
        },
        "outputId": "5ed66d77-c635-4f11-8496-20d6958d4812"
      },
      "execution_count": 72,
      "outputs": [
        {
          "output_type": "stream",
          "name": "stdout",
          "text": [
            "The Model has 13,898,501 trainable parametersd\n"
          ]
        }
      ]
    },
    {
      "cell_type": "markdown",
      "source": [
        "# **3.Pick a loss function and optimizer**"
      ],
      "metadata": {
        "id": "saVySOFcnNr9"
      }
    },
    {
      "cell_type": "code",
      "source": [
        "optimizer=optim.Adam(model.parameters())\n",
        "criterion=nn.CrossEntropyLoss(ignore_index=pad_index)"
      ],
      "metadata": {
        "id": "y38swb22s8ly"
      },
      "execution_count": 73,
      "outputs": []
    },
    {
      "cell_type": "markdown",
      "source": [
        "# **4. Training and evaluating function**"
      ],
      "metadata": {
        "id": "o1el60p1nspp"
      }
    },
    {
      "cell_type": "markdown",
      "source": [
        "# **traning Function**"
      ],
      "metadata": {
        "id": "AwFuNMhcnyQR"
      }
    },
    {
      "cell_type": "code",
      "source": [
        "train_data"
      ],
      "metadata": {
        "colab": {
          "base_uri": "https://localhost:8080/"
        },
        "id": "mHhGnotWqmk_",
        "outputId": "71a29c29-6555-47a2-f914-344be61a6df2"
      },
      "execution_count": 74,
      "outputs": [
        {
          "output_type": "execute_result",
          "data": {
            "text/plain": [
              "Dataset({\n",
              "    features: ['en', 'de', 'en_tokens', 'de_tokens', 'en_ids', 'de_ids'],\n",
              "    num_rows: 29000\n",
              "})"
            ]
          },
          "metadata": {},
          "execution_count": 74
        }
      ]
    },
    {
      "cell_type": "code",
      "source": [
        "len(train_data_loader)"
      ],
      "metadata": {
        "colab": {
          "base_uri": "https://localhost:8080/"
        },
        "id": "V-JraBg4qo70",
        "outputId": "dd55e3f1-c798-4aaa-d499-4361d00bbdef"
      },
      "execution_count": 75,
      "outputs": [
        {
          "output_type": "execute_result",
          "data": {
            "text/plain": [
              "227"
            ]
          },
          "metadata": {},
          "execution_count": 75
        }
      ]
    },
    {
      "cell_type": "code",
      "source": [
        "def train_fn(model,data_loader,optimizer,criterion,clip,teacher_forcing_ratio, device):\n",
        "  model.train()\n",
        "  epoch_loss=0\n",
        "  for i, batch in enumerate(data_loader):\n",
        "    src=batch[\"de_ids\"].to(device)\n",
        "    #src=[src length , batch size]\n",
        "    trg=batch[\"en_ids\"].to(device)\n",
        "    #trg=[trg length ,batch size]\n",
        "    optimizer.zero_grad()\n",
        "    output=model(src,trg,teacher_forcing_ratio)\n",
        "    #output=[trg length , batch size, trg vocab size]\n",
        "    output_dim=output.shape[-1]\n",
        "    output=output[1:].view(-1,output_dim)\n",
        "    #output=[(trg length -1) * batch size ,trg vocab size]\n",
        "    trg=trg[1:].view(-1)\n",
        "    loss=criterion(output,trg)\n",
        "    loss.backward()\n",
        "    torch.nn.utils.clip_grad_norm_(model.parameters(),clip)\n",
        "    optimizer.step()\n",
        "    epoch_loss +=loss.item()\n",
        "  return epoch_loss / len(data_loader)"
      ],
      "metadata": {
        "id": "upX50cE7s8jD"
      },
      "execution_count": 76,
      "outputs": []
    },
    {
      "cell_type": "markdown",
      "source": [
        "# **evaluate function**"
      ],
      "metadata": {
        "id": "YiJYOwu3KWrm"
      }
    },
    {
      "cell_type": "code",
      "source": [
        "def evaluate_fn(model,data_loader,criterion,device):\n",
        "  model.eval()\n",
        "  epoch_loss=0\n",
        "  with torch.no_grad():\n",
        "    for i,batch in enumerate(data_loader):\n",
        "      src=batch[\"de_ids\"].to(device)\n",
        "      trg=batch[\"en_ids\"].to(device)\n",
        "      output=model(src,trg,0)\n",
        "      output_dim=output.shape[-1]\n",
        "      output=output[1:].view(-1,output_dim)\n",
        "      trg=trg[1:].view(-1)\n",
        "      loss=criterion(output,trg)\n",
        "      epoch_loss+=loss.item()\n",
        "  return epoch_loss / len(data_loader)"
      ],
      "metadata": {
        "id": "CifCmMUwKWSP"
      },
      "execution_count": 77,
      "outputs": []
    },
    {
      "cell_type": "code",
      "source": [
        "n_epochs=10\n",
        "clip=1.0\n",
        "teacher_forcing_ratio= 0.5\n",
        "best_valid_loss=float(\"inf\")\n",
        "for epoch in tqdm.tqdm(range(n_epochs)):\n",
        "  train_loss=train_fn(model,train_data_loader,optimizer,criterion,clip,teacher_forcing_ratio,device)\n",
        "  valid_loss=evaluate_fn(model,valid_data_loader,criterion,device)\n",
        "  if valid_loss < best_valid_loss:\n",
        "    best_valid_loss=valid_loss\n",
        "    torch.save(model.state_dict(),\"tut1-model.pt\")\n",
        "  print(f\"\\tTrain Loss: {train_loss:7.3f} | Train PPL: {np.exp(train_loss):7.3f}\")\n",
        "  print(f\"\\tValid Loss: {valid_loss:7.3f} | Valid PPL: {np.exp(valid_loss):7.3f}\")"
      ],
      "metadata": {
        "id": "yfQnLJYTs8gA",
        "colab": {
          "base_uri": "https://localhost:8080/"
        },
        "outputId": "5c293158-22a1-446b-af40-a5ac3c1e02b7"
      },
      "execution_count": 79,
      "outputs": [
        {
          "output_type": "stream",
          "name": "stderr",
          "text": [
            " 10%|█         | 1/10 [00:49<07:22, 49.13s/it]"
          ]
        },
        {
          "output_type": "stream",
          "name": "stdout",
          "text": [
            "\tTrain Loss:   4.476 | Train PPL:  87.920\n",
            "\tValid Loss:   4.777 | Valid PPL: 118.723\n"
          ]
        },
        {
          "output_type": "stream",
          "name": "stderr",
          "text": [
            "\r 20%|██        | 2/10 [01:37<06:27, 48.46s/it]"
          ]
        },
        {
          "output_type": "stream",
          "name": "stdout",
          "text": [
            "\tTrain Loss:   4.148 | Train PPL:  63.288\n",
            "\tValid Loss:   4.591 | Valid PPL:  98.628\n"
          ]
        },
        {
          "output_type": "stream",
          "name": "stderr",
          "text": [
            "\r 30%|███       | 3/10 [02:23<05:33, 47.66s/it]"
          ]
        },
        {
          "output_type": "stream",
          "name": "stdout",
          "text": [
            "\tTrain Loss:   3.942 | Train PPL:  51.525\n",
            "\tValid Loss:   4.414 | Valid PPL:  82.613\n"
          ]
        },
        {
          "output_type": "stream",
          "name": "stderr",
          "text": [
            "\r 40%|████      | 4/10 [03:11<04:45, 47.60s/it]"
          ]
        },
        {
          "output_type": "stream",
          "name": "stdout",
          "text": [
            "\tTrain Loss:   3.759 | Train PPL:  42.922\n",
            "\tValid Loss:   4.281 | Valid PPL:  72.337\n"
          ]
        },
        {
          "output_type": "stream",
          "name": "stderr",
          "text": [
            "\r 50%|█████     | 5/10 [03:58<03:56, 47.34s/it]"
          ]
        },
        {
          "output_type": "stream",
          "name": "stdout",
          "text": [
            "\tTrain Loss:   3.617 | Train PPL:  37.243\n",
            "\tValid Loss:   4.254 | Valid PPL:  70.370\n"
          ]
        },
        {
          "output_type": "stream",
          "name": "stderr",
          "text": [
            "\r 60%|██████    | 6/10 [04:45<03:09, 47.26s/it]"
          ]
        },
        {
          "output_type": "stream",
          "name": "stdout",
          "text": [
            "\tTrain Loss:   3.444 | Train PPL:  31.301\n",
            "\tValid Loss:   4.070 | Valid PPL:  58.569\n"
          ]
        },
        {
          "output_type": "stream",
          "name": "stderr",
          "text": [
            "\r 70%|███████   | 7/10 [05:32<02:21, 47.13s/it]"
          ]
        },
        {
          "output_type": "stream",
          "name": "stdout",
          "text": [
            "\tTrain Loss:   3.290 | Train PPL:  26.835\n",
            "\tValid Loss:   3.933 | Valid PPL:  51.071\n"
          ]
        },
        {
          "output_type": "stream",
          "name": "stderr",
          "text": [
            "\r 80%|████████  | 8/10 [06:19<01:34, 47.27s/it]"
          ]
        },
        {
          "output_type": "stream",
          "name": "stdout",
          "text": [
            "\tTrain Loss:   3.143 | Train PPL:  23.173\n",
            "\tValid Loss:   3.901 | Valid PPL:  49.445\n"
          ]
        },
        {
          "output_type": "stream",
          "name": "stderr",
          "text": [
            "\r 90%|█████████ | 9/10 [07:06<00:47, 47.20s/it]"
          ]
        },
        {
          "output_type": "stream",
          "name": "stdout",
          "text": [
            "\tTrain Loss:   2.994 | Train PPL:  19.968\n",
            "\tValid Loss:   3.793 | Valid PPL:  44.399\n"
          ]
        },
        {
          "output_type": "stream",
          "name": "stderr",
          "text": [
            "100%|██████████| 10/10 [07:53<00:00, 47.40s/it]"
          ]
        },
        {
          "output_type": "stream",
          "name": "stdout",
          "text": [
            "\tTrain Loss:   2.891 | Train PPL:  18.007\n",
            "\tValid Loss:   3.767 | Valid PPL:  43.262\n"
          ]
        },
        {
          "output_type": "stream",
          "name": "stderr",
          "text": [
            "\n"
          ]
        }
      ]
    },
    {
      "cell_type": "markdown",
      "source": [
        "# **Testing Model**"
      ],
      "metadata": {
        "id": "FK8FW85hMDop"
      }
    },
    {
      "cell_type": "code",
      "source": [
        "model.load_state_dict(torch.load(\"tut1-model.pt\"))\n",
        "\n",
        "test_loss = evaluate_fn(model, test_data_loader, criterion, device)\n",
        "\n",
        "print(f\"| Test Loss: {test_loss:.3f} | Test PPL: {np.exp(test_loss):7.3f} |\")"
      ],
      "metadata": {
        "id": "OE2xV3zgs8dF",
        "colab": {
          "base_uri": "https://localhost:8080/"
        },
        "outputId": "9b7c7154-ee20-46b6-bb93-7b68bc51be28"
      },
      "execution_count": 80,
      "outputs": [
        {
          "output_type": "stream",
          "name": "stdout",
          "text": [
            "| Test Loss: 3.758 | Test PPL:  42.883 |\n"
          ]
        }
      ]
    },
    {
      "cell_type": "markdown",
      "source": [
        "# **Blue Score**"
      ],
      "metadata": {
        "id": "nq2AWe45ULzo"
      }
    },
    {
      "cell_type": "code",
      "source": [
        "def translate_sentence(\n",
        "    sentence,\n",
        "    model,\n",
        "    en_nlp,\n",
        "    de_nlp,\n",
        "    en_vocab,\n",
        "    de_vocab,\n",
        "    lower,\n",
        "    sos_token,\n",
        "    eos_token,\n",
        "    device,\n",
        "    max_output_length=25,\n",
        "):\n",
        "    model.eval()\n",
        "    with torch.no_grad():\n",
        "        if isinstance(sentence, str):\n",
        "            tokens = [token.text for token in de_nlp.tokenizer(sentence)]\n",
        "        else:\n",
        "            tokens = [token for token in sentence]\n",
        "        if lower:\n",
        "            tokens = [token.lower() for token in tokens]\n",
        "        tokens = [sos_token] + tokens + [eos_token]\n",
        "        ids = de_vocab.lookup_indices(tokens)\n",
        "        tensor = torch.LongTensor(ids).unsqueeze(-1).to(device)\n",
        "        hidden, cell = model.encoder(tensor)\n",
        "        inputs = en_vocab.lookup_indices([sos_token])\n",
        "        for _ in range(max_output_length):\n",
        "            inputs_tensor = torch.LongTensor([inputs[-1]]).to(device)\n",
        "            output, hidden, cell = model.decoder(inputs_tensor, hidden, cell)\n",
        "            predicted_token = output.argmax(-1).item()\n",
        "            inputs.append(predicted_token)\n",
        "            if predicted_token == en_vocab[eos_token]:\n",
        "                break\n",
        "        tokens = en_vocab.lookup_tokens(inputs)\n",
        "    return tokens"
      ],
      "metadata": {
        "id": "EsASU4CKRXWc"
      },
      "execution_count": 81,
      "outputs": []
    },
    {
      "cell_type": "code",
      "source": [
        "test_data[0][\"de\"]"
      ],
      "metadata": {
        "colab": {
          "base_uri": "https://localhost:8080/",
          "height": 36
        },
        "id": "kiGFVGMnVmCJ",
        "outputId": "4e3fb4cb-218e-42cb-c345-68e5909c6972"
      },
      "execution_count": 98,
      "outputs": [
        {
          "output_type": "execute_result",
          "data": {
            "text/plain": [
              "'Ein Mann mit einem orangefarbenen Hut, der etwas anstarrt.'"
            ],
            "application/vnd.google.colaboratory.intrinsic+json": {
              "type": "string"
            }
          },
          "metadata": {},
          "execution_count": 98
        }
      ]
    },
    {
      "cell_type": "code",
      "source": [
        "test_data[0][\"en\"]"
      ],
      "metadata": {
        "colab": {
          "base_uri": "https://localhost:8080/",
          "height": 36
        },
        "id": "g2ygk7m1VyLQ",
        "outputId": "ccc62b86-b4d8-41bd-f5eb-a5a1dd4da875"
      },
      "execution_count": 99,
      "outputs": [
        {
          "output_type": "execute_result",
          "data": {
            "text/plain": [
              "'A man in an orange hat starring at something.'"
            ],
            "application/vnd.google.colaboratory.intrinsic+json": {
              "type": "string"
            }
          },
          "metadata": {},
          "execution_count": 99
        }
      ]
    },
    {
      "cell_type": "code",
      "source": [
        "sentence = test_data[0][\"de\"]\n",
        "expected_translation = test_data[0][\"en\"]\n",
        "\n",
        "sentence, expected_translation"
      ],
      "metadata": {
        "colab": {
          "base_uri": "https://localhost:8080/"
        },
        "id": "Sd75JomCRclW",
        "outputId": "9435388b-8780-4edd-e23e-f8d93a0a530f"
      },
      "execution_count": 82,
      "outputs": [
        {
          "output_type": "execute_result",
          "data": {
            "text/plain": [
              "('Ein Mann mit einem orangefarbenen Hut, der etwas anstarrt.',\n",
              " 'A man in an orange hat starring at something.')"
            ]
          },
          "metadata": {},
          "execution_count": 82
        }
      ]
    },
    {
      "cell_type": "code",
      "source": [
        "translation = translate_sentence(\n",
        "    sentence,\n",
        "    model,\n",
        "    en_nlp,\n",
        "    de_nlp,\n",
        "    en_vocab,\n",
        "    de_vocab,\n",
        "    lower,\n",
        "    sos_token,\n",
        "    eos_token,\n",
        "    device,\n",
        ")"
      ],
      "metadata": {
        "id": "ulkryj5WRciJ"
      },
      "execution_count": 83,
      "outputs": []
    },
    {
      "cell_type": "code",
      "source": [
        "test_data[0][\"en\"]"
      ],
      "metadata": {
        "colab": {
          "base_uri": "https://localhost:8080/",
          "height": 36
        },
        "id": "E_bATWdHWLzM",
        "outputId": "5afc8942-81fd-4f32-859a-bfe6f21d4d9f"
      },
      "execution_count": 101,
      "outputs": [
        {
          "output_type": "execute_result",
          "data": {
            "text/plain": [
              "'A man in an orange hat starring at something.'"
            ],
            "application/vnd.google.colaboratory.intrinsic+json": {
              "type": "string"
            }
          },
          "metadata": {},
          "execution_count": 101
        }
      ]
    },
    {
      "cell_type": "code",
      "source": [
        "translation"
      ],
      "metadata": {
        "colab": {
          "base_uri": "https://localhost:8080/"
        },
        "id": "0ooMYrCbRcfc",
        "outputId": "cfed36cd-2b33-43af-8a7c-a487044421d5"
      },
      "execution_count": 84,
      "outputs": [
        {
          "output_type": "execute_result",
          "data": {
            "text/plain": [
              "['<sos>',\n",
              " 'a',\n",
              " 'man',\n",
              " 'in',\n",
              " 'a',\n",
              " 'orange',\n",
              " 'vest',\n",
              " 'is',\n",
              " 'working',\n",
              " 'on',\n",
              " 'his',\n",
              " '.',\n",
              " '.',\n",
              " '<eos>']"
            ]
          },
          "metadata": {},
          "execution_count": 84
        }
      ]
    },
    {
      "cell_type": "code",
      "source": [
        "sentence = \"Leute Reparieren das Dach eines Hauses.\""
      ],
      "metadata": {
        "id": "NOdpWFq3Rccq"
      },
      "execution_count": 115,
      "outputs": []
    },
    {
      "cell_type": "code",
      "source": [
        "translation = translate_sentence(\n",
        "    sentence,\n",
        "    model,\n",
        "    en_nlp,\n",
        "    de_nlp,\n",
        "    en_vocab,\n",
        "    de_vocab,\n",
        "    lower,\n",
        "    sos_token,\n",
        "    eos_token,\n",
        "    device,\n",
        ")"
      ],
      "metadata": {
        "id": "aclSLVDmRcaT"
      },
      "execution_count": 116,
      "outputs": []
    },
    {
      "cell_type": "code",
      "source": [
        "translation"
      ],
      "metadata": {
        "colab": {
          "base_uri": "https://localhost:8080/"
        },
        "id": "FWvpothFRcX_",
        "outputId": "bdb5ea20-ab8a-49a5-d0b4-52197efa9686"
      },
      "execution_count": 117,
      "outputs": [
        {
          "output_type": "execute_result",
          "data": {
            "text/plain": [
              "['<sos>', 'people', 'on', 'the', 'side', 'of', 'a', 'mountain', '.', '<eos>']"
            ]
          },
          "metadata": {},
          "execution_count": 117
        }
      ]
    },
    {
      "cell_type": "code",
      "source": [
        "translations = [\n",
        "    translate_sentence(\n",
        "        example[\"de\"],\n",
        "        model,\n",
        "        en_nlp,\n",
        "        de_nlp,\n",
        "        en_vocab,\n",
        "        de_vocab,\n",
        "        lower,\n",
        "        sos_token,\n",
        "        eos_token,\n",
        "        device,\n",
        "    )\n",
        "    for example in tqdm.tqdm(test_data)\n",
        "]"
      ],
      "metadata": {
        "colab": {
          "base_uri": "https://localhost:8080/"
        },
        "id": "adWiPPN-RcVj",
        "outputId": "421315b6-a05a-4f46-ce9c-50b2b2954a1d"
      },
      "execution_count": 111,
      "outputs": [
        {
          "output_type": "stream",
          "name": "stderr",
          "text": [
            "100%|██████████| 1000/1000 [00:10<00:00, 95.52it/s]\n"
          ]
        }
      ]
    },
    {
      "cell_type": "code",
      "source": [
        "bleu = evaluate.load(\"bleu\")"
      ],
      "metadata": {
        "colab": {
          "base_uri": "https://localhost:8080/",
          "height": 113,
          "referenced_widgets": [
            "4093e366f9d544fe83cc86a8cb307633",
            "43094d889e704eeb85674a8f59f12a11",
            "478a6c30b07a48ef94775345da8cd189",
            "6967a14693ba499b81ceb0d6f9ebe696",
            "eb98cfb99d824ecfb38120129a9443ff",
            "2e3e50a6086340c2baa82b00866271fa",
            "eb1597c53c1a4f46b15954a23c2b13b5",
            "b71023aac9d84c5c996de23755062c5b",
            "7d5d9f5796684a65bbcc18eb51d858dc",
            "9c5df144c90d4e25883ecd130639316b",
            "efd25297995940139b7fc26f0e6302c6",
            "231262743e424067a657f848737e8572",
            "ed4afa71b1494a20927af6d74e780637",
            "62650a68681e413fb5108365c1edf626",
            "e94a6100f82f4eb587ef6cb999755d64",
            "c828b8dc4b2446bebc594b755f522315",
            "26464f50134c4473a0c35a9c53ea380c",
            "d1c506fd6f334f37b8c5e00cc09b6070",
            "3736981197424e68b9fc4fcd07996e68",
            "e4d103fbff484965a930122af33e762d",
            "beb229357dcc4fd99c2d50925f6c6366",
            "50104bf090df4b488715f7e907d8c6e6",
            "74e76200971f4e9880f30b6232dc4a28",
            "36aa2556d0f548e48d26cba4b065ca22",
            "be3b1d0dcb1245329bbc5b2c63a24320",
            "740dc9e0164b4d8681da432bccda0b0d",
            "1bff8ac4e25c4ad0b9a1ae260d47153a",
            "a326eb83faa04e45a796670409b8ec84",
            "d46d694d7d8d46a396b32dc4daa987c1",
            "fcdcb2fe67f140448ed605a164fc03aa",
            "cf8feba36021461fbc36633e94c34551",
            "55659d0834f747539f031e816e919136",
            "08e3fae6ab754dc79add4d5b52ea1b87"
          ]
        },
        "id": "GaqqINWtRcTF",
        "outputId": "bd01504e-1ade-45fe-fc2a-66235d864bb0"
      },
      "execution_count": 89,
      "outputs": [
        {
          "output_type": "display_data",
          "data": {
            "text/plain": [
              "Downloading builder script:   0%|          | 0.00/5.94k [00:00<?, ?B/s]"
            ],
            "application/vnd.jupyter.widget-view+json": {
              "version_major": 2,
              "version_minor": 0,
              "model_id": "4093e366f9d544fe83cc86a8cb307633"
            }
          },
          "metadata": {}
        },
        {
          "output_type": "display_data",
          "data": {
            "text/plain": [
              "Downloading extra modules:   0%|          | 0.00/1.55k [00:00<?, ?B/s]"
            ],
            "application/vnd.jupyter.widget-view+json": {
              "version_major": 2,
              "version_minor": 0,
              "model_id": "231262743e424067a657f848737e8572"
            }
          },
          "metadata": {}
        },
        {
          "output_type": "display_data",
          "data": {
            "text/plain": [
              "Downloading extra modules:   0%|          | 0.00/3.34k [00:00<?, ?B/s]"
            ],
            "application/vnd.jupyter.widget-view+json": {
              "version_major": 2,
              "version_minor": 0,
              "model_id": "74e76200971f4e9880f30b6232dc4a28"
            }
          },
          "metadata": {}
        }
      ]
    },
    {
      "cell_type": "code",
      "source": [
        "predictions = [\" \".join(translation[1:-1]) for translation in translations]\n",
        "\n",
        "references = [[example[\"en\"]] for example in test_data]"
      ],
      "metadata": {
        "id": "Lv6zQnx0RcQv"
      },
      "execution_count": 90,
      "outputs": []
    },
    {
      "cell_type": "code",
      "source": [
        "predictions[0], references[0]"
      ],
      "metadata": {
        "colab": {
          "base_uri": "https://localhost:8080/"
        },
        "id": "xvbPzLTLRcOF",
        "outputId": "9c486a68-04ec-48a3-b79f-fca7e978bfec"
      },
      "execution_count": 91,
      "outputs": [
        {
          "output_type": "execute_result",
          "data": {
            "text/plain": [
              "('a man in a orange vest is working on his . .',\n",
              " ['A man in an orange hat starring at something.'])"
            ]
          },
          "metadata": {},
          "execution_count": 91
        }
      ]
    },
    {
      "cell_type": "code",
      "source": [
        "def get_tokenizer_fn(nlp, lower):\n",
        "    def tokenizer_fn(s):\n",
        "        tokens = [token.text for token in nlp.tokenizer(s)]\n",
        "        if lower:\n",
        "            tokens = [token.lower() for token in tokens]\n",
        "        return tokens\n",
        "\n",
        "    return tokenizer_fn"
      ],
      "metadata": {
        "id": "Q2jXdFGyRcLc"
      },
      "execution_count": 92,
      "outputs": []
    },
    {
      "cell_type": "code",
      "source": [
        "tokenizer_fn = get_tokenizer_fn(en_nlp, lower)"
      ],
      "metadata": {
        "id": "ZRA96br7RcIw"
      },
      "execution_count": 93,
      "outputs": []
    },
    {
      "cell_type": "code",
      "source": [
        "tokenizer_fn(predictions[0]), tokenizer_fn(references[0][0])"
      ],
      "metadata": {
        "colab": {
          "base_uri": "https://localhost:8080/"
        },
        "id": "z2daW8gFRcDk",
        "outputId": "22bd873b-85fe-40e1-ccd3-57a253e242e3"
      },
      "execution_count": 94,
      "outputs": [
        {
          "output_type": "execute_result",
          "data": {
            "text/plain": [
              "(['a',\n",
              "  'man',\n",
              "  'in',\n",
              "  'a',\n",
              "  'orange',\n",
              "  'vest',\n",
              "  'is',\n",
              "  'working',\n",
              "  'on',\n",
              "  'his',\n",
              "  '.',\n",
              "  '.'],\n",
              " ['a', 'man', 'in', 'an', 'orange', 'hat', 'starring', 'at', 'something', '.'])"
            ]
          },
          "metadata": {},
          "execution_count": 94
        }
      ]
    },
    {
      "cell_type": "code",
      "source": [
        "results = bleu.compute(\n",
        "    predictions=predictions, references=references, tokenizer=tokenizer_fn\n",
        ")"
      ],
      "metadata": {
        "id": "okAGsCLhSC8k"
      },
      "execution_count": 95,
      "outputs": []
    },
    {
      "cell_type": "code",
      "source": [
        "results"
      ],
      "metadata": {
        "colab": {
          "base_uri": "https://localhost:8080/"
        },
        "id": "RHnJmw3qSFIR",
        "outputId": "ffa10911-eb42-4b8f-9155-f6acfc48b3a2"
      },
      "execution_count": 96,
      "outputs": [
        {
          "output_type": "execute_result",
          "data": {
            "text/plain": [
              "{'bleu': 0.1430313237741989,\n",
              " 'precisions': [0.5205307961942914,\n",
              "  0.21717355672919322,\n",
              "  0.10398717691845322,\n",
              "  0.05099087063014919],\n",
              " 'brevity_penalty': 0.9141127386231128,\n",
              " 'length_ratio': 0.9175984071067544,\n",
              " 'translation_length': 11982,\n",
              " 'reference_length': 13058}"
            ]
          },
          "metadata": {},
          "execution_count": 96
        }
      ]
    },
    {
      "cell_type": "code",
      "source": [],
      "metadata": {
        "id": "cJIdQHa2SIFL"
      },
      "execution_count": null,
      "outputs": []
    }
  ]
}